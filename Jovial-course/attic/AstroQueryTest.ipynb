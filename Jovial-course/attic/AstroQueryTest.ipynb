{
 "cells": [
  {
   "cell_type": "code",
   "execution_count": 13,
   "metadata": {
    "collapsed": false
   },
   "outputs": [],
   "source": [
    "from astroquery.alma import Alma\n",
    "\n",
    "data = Alma.query_object('')"
   ]
  },
  {
   "cell_type": "code",
   "execution_count": null,
   "metadata": {
    "collapsed": false
   },
   "outputs": [],
   "source": []
  },
  {
   "cell_type": "code",
   "execution_count": 43,
   "metadata": {
    "collapsed": false
   },
   "outputs": [
    {
     "data": {
      "text/plain": [
       "['Project code',\n",
       " 'Source name',\n",
       " 'RA',\n",
       " 'Dec',\n",
       " 'Band',\n",
       " 'Spatial resolution',\n",
       " 'Frequency resolution',\n",
       " 'Integration',\n",
       " 'Release date',\n",
       " 'Frequency support',\n",
       " 'Velocity resolution',\n",
       " 'Pol products',\n",
       " 'Observation date',\n",
       " 'PI name',\n",
       " 'PWV',\n",
       " 'Group ous id',\n",
       " 'Member ous id',\n",
       " 'Asdm uid',\n",
       " 'Project title',\n",
       " 'Project type',\n",
       " 'Scan intent',\n",
       " 'Largest angular scale',\n",
       " 'QA2 Status',\n",
       " 'Pub']"
      ]
     },
     "execution_count": 43,
     "metadata": {},
     "output_type": "execute_result"
    }
   ],
   "source": [
    "data.colnames"
   ]
  },
  {
   "cell_type": "code",
   "execution_count": 44,
   "metadata": {
    "collapsed": false
   },
   "outputs": [],
   "source": [
    "data.remove_column('Band')"
   ]
  },
  {
   "cell_type": "code",
   "execution_count": 50,
   "metadata": {
    "collapsed": false
   },
   "outputs": [
    {
     "data": {
      "text/html": [
       "&lt;Table masked=True length=3793&gt;\n",
       "<table id=\"table140593534158720\" class=\"table-striped table-bordered table-condensed\">\n",
       "<thead><tr><th>Project code</th><th>Source name</th><th>RA</th><th>Dec</th><th>Spatial resolution</th><th>Frequency resolution</th><th>Integration</th><th>Release date</th><th>Frequency support</th><th>Velocity resolution</th><th>Pol products</th><th>Observation date</th><th>PI name</th><th>PWV</th><th>Group ous id</th><th>Member ous id</th><th>Asdm uid</th><th>Project title</th><th>Project type</th><th>Scan intent</th><th>Largest angular scale</th><th>QA2 Status</th><th>Pub</th></tr></thead>\n",
       "<thead><tr><th></th><th></th><th>deg</th><th>deg</th><th></th><th>kHz</th><th>s</th><th></th><th>GHz</th><th>m / s</th><th></th><th></th><th></th><th>mm</th><th></th><th></th><th></th><th></th><th></th><th></th><th>arcs</th><th></th><th></th></tr></thead>\n",
       "<thead><tr><th>bytes16</th><th>bytes256</th><th>float64</th><th>float64</th><th>float64</th><th>float64</th><th>float64</th><th>object</th><th>bytes2700</th><th>float64</th><th>bytes64</th><th>object</th><th>bytes256</th><th>float32</th><th>bytes32</th><th>bytes32</th><th>bytes32</th><th>bytes256</th><th>bytes16</th><th>bytes256</th><th>float64</th><th>bytes1</th><th>int32</th></tr></thead>\n",
       "<tr><td>2011.0.00191.S</td><td>Fomalhaut b</td><td>344.41118749999993</td><td>-29.620171111111116</td><td>0.98707571416218709</td><td>976.5625</td><td>8709.1200000000008</td><td>2012-12-06</td><td>[343.06..344.94GHz,0.98kHz,null] U [344.94..346.81GHz,0.98kHz,null] U [355.06..356.94GHz,0.98kHz,null] U [356.94..358.81GHz,0.98kHz,null]</td><td>834.23992097073335</td><td>XX YY</td><td>2011-09-22 23:30:22</td><td>Boley, Aaron</td><td>0.59531623</td><td></td><td>uid://A001/X62/X2a</td><td>uid://A002/X2b8998/X192</td><td>Constraining the Formation Mechanisms of Wide-Orbit Planets: The Case of Fomalhaut b v0.6</td><td>S</td><td>TARGET WVR</td><td>91.078131333904992</td><td>Y</td><td>2</td></tr>\n",
       "<tr><td>2011.0.00101.S</td><td>GRB021004</td><td>6.7278333333333338</td><td>18.928222222222221</td><td>0.90895628248664539</td><td>31250.0</td><td>3749.7600000000002</td><td>2012-12-06</td><td>[336.99..338.99GHz,31.25kHz,null] U [338.93..340.93GHz,31.25kHz,null] U [348.99..350.99GHz,31.25kHz,null] U [350.99..352.99GHz,31.25kHz,null]</td><td>27158.000962855978</td><td>XX YY</td><td>2011-10-22 03:24:16</td><td>Wang, Wei-Hao</td><td>0.87676102</td><td></td><td>uid://A001/X74/X29</td><td>uid://A002/X2f146f/X6f</td><td>Shedding Light on Distant Starburst Galaxies Hosting Gamma-ray Bursts v9</td><td>S</td><td>TARGET WVR</td><td>11.280620819803762</td><td>Y</td><td>2</td></tr>\n",
       "<tr><td>2011.0.00131.S</td><td>R Scl</td><td>21.741996806085819</td><td>-32.543451060877032</td><td>1.3508617428304124</td><td>976.5625</td><td>738.31899999999996</td><td>2012-12-06</td><td>[330.23..332.11GHz,0.98kHz,null] U [332.09..333.96GHz,0.98kHz,null] U [342.36..344.23GHz,0.98kHz,null] U [344.21..346.09GHz,0.98kHz,null]</td><td>865.76223930047593</td><td>XX YY</td><td>2011-10-03 01:00:26</td><td>Maercker, Matthias</td><td>0.71522862</td><td></td><td>uid://A001/X6f/X10</td><td>uid://A002/X2cbea7/X5ce</td><td>Piecing the shell together: ALMA and the detached shell around R Scl</td><td>S</td><td>TARGET WVR</td><td>40.630659020282124</td><td>Y</td><td>4</td></tr>\n",
       "<tr><td>2011.0.00397.S</td><td>J030427.53-310838.3</td><td>46.114708333333333</td><td>-31.143972222222221</td><td>1.4246298118628431</td><td>31250.0</td><td>90.719999999999999</td><td>2012-12-20</td><td>[336.99..338.99GHz,31.25kHz,null] U [338.93..340.93GHz,31.25kHz,null] U [348.99..350.99GHz,31.25kHz,null] U [350.99..352.99GHz,31.25kHz,null]</td><td>27158.000962855978</td><td>XX YY</td><td>2011-11-16 04:33:13</td><td>Lonsdale, Carol</td><td>1.5070924</td><td></td><td>uid://A001/X74/X22d</td><td>uid://A002/X31d189/X44e</td><td>The most luminous heavily obscured, radio-intermediate, QSOs and the role of radio feedback in black hole and spheroid evolution</td><td>S</td><td>TARGET WVR</td><td>16.487492090734971</td><td>Y</td><td>3</td></tr>\n",
       "<tr><td>2011.0.00397.S</td><td>J030629.21-335331.5</td><td>46.621708333333331</td><td>-33.892083333333339</td><td>1.4248307945816765</td><td>31250.0</td><td>90.719999999999999</td><td>2012-12-20</td><td>[336.99..338.99GHz,31.25kHz,null] U [338.93..340.93GHz,31.25kHz,null] U [348.99..350.99GHz,31.25kHz,null] U [350.99..352.99GHz,31.25kHz,null]</td><td>27158.000962855978</td><td>XX YY</td><td>2011-11-16 04:33:13</td><td>Lonsdale, Carol</td><td>1.5070924</td><td></td><td>uid://A001/X74/X22d</td><td>uid://A002/X31d189/X44e</td><td>The most luminous heavily obscured, radio-intermediate, QSOs and the role of radio feedback in black hole and spheroid evolution</td><td>S</td><td>TARGET WVR</td><td>17.465704941410319</td><td>Y</td><td>3</td></tr>\n",
       "<tr><td>2011.0.00397.S</td><td>J035448.24-330827.2</td><td>58.701000000000001</td><td>-33.140888888888895</td><td>1.434794699313245</td><td>31250.0</td><td>90.719999999999999</td><td>2012-12-20</td><td>[336.99..338.99GHz,31.25kHz,null] U [338.93..340.93GHz,31.25kHz,null] U [348.99..350.99GHz,31.25kHz,null] U [350.99..352.99GHz,31.25kHz,null]</td><td>27158.000962855978</td><td>XX YY</td><td>2011-11-16 04:33:13</td><td>Lonsdale, Carol</td><td>1.5070924</td><td></td><td>uid://A001/X74/X22d</td><td>uid://A002/X31d189/X44e</td><td>The most luminous heavily obscured, radio-intermediate, QSOs and the role of radio feedback in black hole and spheroid evolution</td><td>S</td><td>TARGET WVR</td><td>16.366514140477889</td><td>Y</td><td>3</td></tr>\n",
       "<tr><td>2011.0.00397.S</td><td>J040403.61-243600.1</td><td>61.015041666666669</td><td>-24.600027777777782</td><td>1.426379170158165</td><td>31250.0</td><td>90.719999999999999</td><td>2012-12-20</td><td>[336.99..338.99GHz,31.25kHz,null] U [338.93..340.93GHz,31.25kHz,null] U [348.99..350.99GHz,31.25kHz,null] U [350.99..352.99GHz,31.25kHz,null]</td><td>27158.000962855978</td><td>XX YY</td><td>2011-11-16 04:33:13</td><td>Lonsdale, Carol</td><td>1.5070924</td><td></td><td>uid://A001/X74/X22d</td><td>uid://A002/X31d189/X44e</td><td>The most luminous heavily obscured, radio-intermediate, QSOs and the role of radio feedback in black hole and spheroid evolution</td><td>S</td><td>TARGET WVR</td><td>13.411218898354036</td><td>Y</td><td>3</td></tr>\n",
       "<tr><td>2011.0.00397.S</td><td>J040937.67-183757.9</td><td>62.406958333333328</td><td>-18.632750000000001</td><td>1.4241479744346319</td><td>31250.0</td><td>90.719999999999999</td><td>2012-12-20</td><td>[336.99..338.99GHz,31.25kHz,null] U [338.93..340.93GHz,31.25kHz,null] U [348.99..350.99GHz,31.25kHz,null] U [350.99..352.99GHz,31.25kHz,null]</td><td>27158.000962855978</td><td>XX YY</td><td>2011-11-16 04:33:13</td><td>Lonsdale, Carol</td><td>1.5070924</td><td></td><td>uid://A001/X74/X22d</td><td>uid://A002/X31d189/X44e</td><td>The most luminous heavily obscured, radio-intermediate, QSOs and the role of radio feedback in black hole and spheroid evolution</td><td>S</td><td>TARGET WVR</td><td>12.170442034964726</td><td>Y</td><td>3</td></tr>\n",
       "<tr><td>2011.0.00397.S</td><td>J041754.10-281655.9</td><td>64.475416666666675</td><td>-28.282194444444446</td><td>1.4305282751966448</td><td>31250.0</td><td>90.719999999999999</td><td>2012-12-20</td><td>[336.99..338.99GHz,31.25kHz,null] U [338.93..340.93GHz,31.25kHz,null] U [348.99..350.99GHz,31.25kHz,null] U [350.99..352.99GHz,31.25kHz,null]</td><td>27158.000962855978</td><td>XX YY</td><td>2011-11-16 04:33:13</td><td>Lonsdale, Carol</td><td>1.5070924</td><td></td><td>uid://A001/X74/X22d</td><td>uid://A002/X31d189/X44e</td><td>The most luminous heavily obscured, radio-intermediate, QSOs and the role of radio feedback in black hole and spheroid evolution</td><td>S</td><td>TARGET WVR</td><td>15.109675568456446</td><td>Y</td><td>3</td></tr>\n",
       "<tr><td>...</td><td>...</td><td>...</td><td>...</td><td>...</td><td>...</td><td>...</td><td>...</td><td>...</td><td>...</td><td>...</td><td>...</td><td>...</td><td>...</td><td>...</td><td>...</td><td>...</td><td>...</td><td>...</td><td>...</td><td>...</td><td>...</td><td>...</td></tr>\n",
       "<tr><td>2013.1.00327.S</td><td>G332.7673-00.0069</td><td>244.37970833333333</td><td>-50.54325</td><td>0.354191254914412</td><td>244.140625</td><td>514.08000000000004</td><td>2016-08-01</td><td>[241.64..241.75GHz,0.24kHz,null] U [242.96..243.19GHz,0.24kHz,null] U [244.90..245.13GHz,0.24kHz,null] U [256.27..256.50GHz,0.24kHz,null] U [257.09..257.33GHz,0.24kHz,null] U [257.25..257.72GHz,0.24kHz,null]</td><td>285.40963869658594</td><td>XX YY</td><td>2015-06-04 05:47:43</td><td>Klaassen, Pamela</td><td>1.3646543</td><td>uid://A001/X12f/X8a</td><td>uid://A001/X12f/X8b</td><td>uid://A002/Xa2300a/X15f4</td><td>The Evolution of Young HII regions</td><td>S</td><td>TARGET</td><td>12.857619593249041</td><td>Y</td><td>0</td></tr>\n",
       "<tr><td>2013.1.00327.S</td><td>G336.9842-00.1835</td><td>249.05175</td><td>-47.632638888888884</td><td>0.34511751994219053</td><td>244.140625</td><td>483.83999999999997</td><td>2016-08-01</td><td>[241.64..241.75GHz,0.24kHz,null] U [242.96..243.19GHz,0.24kHz,null] U [244.90..245.13GHz,0.24kHz,null] U [256.27..256.50GHz,0.24kHz,null] U [257.09..257.33GHz,0.24kHz,null] U [257.25..257.72GHz,0.24kHz,null]</td><td>285.40963869658594</td><td>XX YY</td><td>2015-06-04 05:47:43</td><td>Klaassen, Pamela</td><td>1.3646543</td><td>uid://A001/X12f/X8a</td><td>uid://A001/X12f/X8b</td><td>uid://A002/Xa2300a/X15f4</td><td>The Evolution of Young HII regions</td><td>S</td><td>TARGET</td><td>12.945464070230713</td><td>Y</td><td>0</td></tr>\n",
       "<tr><td>2013.1.00327.S</td><td>G337.6301-00.0781</td><td>249.57924999999997</td><td>-47.080750000000002</td><td>0.34364057483310928</td><td>244.140625</td><td>483.83999999999997</td><td>2016-08-01</td><td>[241.64..241.75GHz,0.24kHz,null] U [242.96..243.19GHz,0.24kHz,null] U [244.90..245.13GHz,0.24kHz,null] U [256.27..256.50GHz,0.24kHz,null] U [257.09..257.33GHz,0.24kHz,null] U [257.25..257.72GHz,0.24kHz,null]</td><td>285.40963869658594</td><td>XX YY</td><td>2015-06-04 05:47:43</td><td>Klaassen, Pamela</td><td>1.3646543</td><td>uid://A001/X12f/X8a</td><td>uid://A001/X12f/X8b</td><td>uid://A002/Xa2300a/X15f4</td><td>The Evolution of Young HII regions</td><td>S</td><td>TARGET</td><td>12.943396313388542</td><td>Y</td><td>0</td></tr>\n",
       "<tr><td>2013.1.00327.S</td><td>G337.8442-00.3748</td><td>250.11116666666666</td><td>-47.120305555555561</td><td>0.34367296006053705</td><td>244.140625</td><td>483.83999999999997</td><td>2016-08-01</td><td>[241.64..241.75GHz,0.24kHz,null] U [242.96..243.19GHz,0.24kHz,null] U [244.90..245.13GHz,0.24kHz,null] U [256.27..256.50GHz,0.24kHz,null] U [257.09..257.33GHz,0.24kHz,null] U [257.25..257.72GHz,0.24kHz,null]</td><td>285.40963869658594</td><td>XX YY</td><td>2015-06-04 05:47:43</td><td>Klaassen, Pamela</td><td>1.3646543</td><td>uid://A001/X12f/X8a</td><td>uid://A001/X12f/X8b</td><td>uid://A002/Xa2300a/X15f4</td><td>The Evolution of Young HII regions</td><td>S</td><td>TARGET</td><td>12.979145267054147</td><td>Y</td><td>0</td></tr>\n",
       "<tr><td>2013.1.00327.S</td><td>G339.1052+00.1490</td><td>251.24825000000001</td><td>-45.82877777777778</td><td>0.34042485360660446</td><td>244.140625</td><td>483.83999999999997</td><td>2016-08-01</td><td>[241.64..241.75GHz,0.24kHz,null] U [242.96..243.19GHz,0.24kHz,null] U [244.90..245.13GHz,0.24kHz,null] U [256.27..256.50GHz,0.24kHz,null] U [257.09..257.33GHz,0.24kHz,null] U [257.25..257.72GHz,0.24kHz,null]</td><td>285.40963869658594</td><td>XX YY</td><td>2015-06-04 05:47:43</td><td>Klaassen, Pamela</td><td>1.3646543</td><td>uid://A001/X12f/X8a</td><td>uid://A001/X12f/X8b</td><td>uid://A002/Xa2300a/X15f4</td><td>The Evolution of Young HII regions</td><td>S</td><td>TARGET</td><td>12.970447311779003</td><td>Y</td><td>0</td></tr>\n",
       "<tr><td>2013.1.00061.S</td><td>IRAS16293_A</td><td>248.09529166666667</td><td>-24.476777777777777</td><td>0.17259456316807753</td><td>488.28125</td><td>272.16000000000003</td><td>2016-08-01</td><td>[452.05..453.93GHz,15.62kHz,null] U [453.26..453.38GHz,0.49kHz,null] U [462.13..462.36GHz,0.49kHz,null] U [462.49..462.73GHz,0.49kHz,null] U [464.81..465.05GHz,0.49kHz,null] U [465.71..465.95GHz,0.49kHz,null]</td><td>316.40905637978221</td><td>XX YY</td><td>2015-06-07 07:02:24</td><td>Coutens, Audrey</td><td>0.48301873</td><td>uid://A001/X11f/Xb7</td><td>uid://A001/X11f/Xb8</td><td>uid://A002/Xa25bbf/X810c</td><td>Investigating the water deuteration in a young protostellar system</td><td>S</td><td>TARGET</td><td>6.3791166961946635</td><td>Y</td><td>0</td></tr>\n",
       "<tr><td>2013.1.00061.S</td><td>IRAS16293_A</td><td>248.09529166666667</td><td>-24.476777777777777</td><td>0.19906688578493972</td><td>488.28125</td><td>302.39999999999998</td><td>2016-08-01</td><td>[390.56..390.67GHz,0.49kHz,null] U [390.68..390.79GHz,0.49kHz,null] U [391.74..391.97GHz,0.49kHz,null] U [403.00..405.00GHz,31.25kHz,null] U [403.37..403.49GHz,0.49kHz,null] U [403.51..403.63GHz,0.49kHz,null]</td><td>373.58125012313855</td><td>XX YY</td><td>2015-06-06 02:33:20</td><td>Coutens, Audrey</td><td>0.52721739</td><td>uid://A001/X11f/Xb3</td><td>uid://A001/X11f/Xb4</td><td>uid://A002/Xa25bbf/X18cb</td><td>Investigating the water deuteration in a young protostellar system</td><td>S</td><td>TARGET</td><td>10.612321775412491</td><td>Y</td><td>0</td></tr>\n",
       "<tr><td>2013.1.00061.S</td><td>IRAS16293_B</td><td>248.09425000000002</td><td>-24.475666666666665</td><td>0.17259443347025358</td><td>488.28125</td><td>272.16000000000003</td><td>2016-08-01</td><td>[452.05..453.93GHz,15.62kHz,null] U [453.26..453.38GHz,0.49kHz,null] U [462.13..462.36GHz,0.49kHz,null] U [462.49..462.73GHz,0.49kHz,null] U [464.81..465.05GHz,0.49kHz,null] U [465.71..465.95GHz,0.49kHz,null]</td><td>316.40905637978221</td><td>XX YY</td><td>2015-06-07 07:02:24</td><td>Coutens, Audrey</td><td>0.48301873</td><td>uid://A001/X11f/Xb7</td><td>uid://A001/X11f/Xb8</td><td>uid://A002/Xa25bbf/X810c</td><td>Investigating the water deuteration in a young protostellar system</td><td>S</td><td>TARGET</td><td>6.3791377349947886</td><td>Y</td><td>0</td></tr>\n",
       "<tr><td>2013.1.00061.S</td><td>IRAS16293_B</td><td>248.09425000000002</td><td>-24.475666666666665</td><td>0.19906671953269875</td><td>488.28125</td><td>302.39999999999998</td><td>2016-08-01</td><td>[390.56..390.67GHz,0.49kHz,null] U [390.68..390.79GHz,0.49kHz,null] U [391.74..391.97GHz,0.49kHz,null] U [403.00..405.00GHz,31.25kHz,null] U [403.37..403.49GHz,0.49kHz,null] U [403.51..403.63GHz,0.49kHz,null]</td><td>373.58125012313855</td><td>XX YY</td><td>2015-06-06 02:33:20</td><td>Coutens, Audrey</td><td>0.52721739</td><td>uid://A001/X11f/Xb3</td><td>uid://A001/X11f/Xb4</td><td>uid://A002/Xa25bbf/X18cb</td><td>Investigating the water deuteration in a young protostellar system</td><td>S</td><td>TARGET</td><td>10.61204430337115</td><td>Y</td><td>0</td></tr>\n",
       "<tr><td>2013.1.00296.S</td><td>PKS1830-211</td><td>278.41633000000002</td><td>-21.06108</td><td>0.33685275109996066</td><td>1953.125</td><td>1088.6400000000001</td><td>2016-08-01</td><td>[326.09..327.97GHz,1.95kHz,null] U [336.13..338.01GHz,1.95kHz,null] U [338.01..339.89GHz,1.95kHz,null]</td><td>1737.1148808001597</td><td>XX YY</td><td>2015-05-19 10:00:22</td><td>Müller, Holger</td><td>0.26727548</td><td>uid://A001/X122/X538</td><td>uid://A001/X122/X539</td><td>uid://A002/Xa0f8da/X2573</td><td>A search for extragalactic argonium, ArH+, a probe of the very atomic diffuse interstellar medium</td><td>S</td><td>TARGET</td><td>9.166467643204447</td><td>Y</td><td>1</td></tr>\n",
       "</table>"
      ],
      "text/plain": [
       "<Table masked=True length=3793>\n",
       " Project code      Source name             RA         ... QA2 Status  Pub \n",
       "                                          deg         ...                 \n",
       "   bytes16           bytes256           float64       ...   bytes1   int32\n",
       "-------------- ------------------- ------------------ ... ---------- -----\n",
       "2011.0.00191.S         Fomalhaut b 344.41118749999993 ...          Y     2\n",
       "2011.0.00101.S           GRB021004 6.7278333333333338 ...          Y     2\n",
       "2011.0.00131.S               R Scl 21.741996806085819 ...          Y     4\n",
       "2011.0.00397.S J030427.53-310838.3 46.114708333333333 ...          Y     3\n",
       "2011.0.00397.S J030629.21-335331.5 46.621708333333331 ...          Y     3\n",
       "2011.0.00397.S J035448.24-330827.2 58.701000000000001 ...          Y     3\n",
       "2011.0.00397.S J040403.61-243600.1 61.015041666666669 ...          Y     3\n",
       "2011.0.00397.S J040937.67-183757.9 62.406958333333328 ...          Y     3\n",
       "2011.0.00397.S J041754.10-281655.9 64.475416666666675 ...          Y     3\n",
       "           ...                 ...                ... ...        ...   ...\n",
       "2013.1.00327.S   G332.7673-00.0069 244.37970833333333 ...          Y     0\n",
       "2013.1.00327.S   G336.9842-00.1835          249.05175 ...          Y     0\n",
       "2013.1.00327.S   G337.6301-00.0781 249.57924999999997 ...          Y     0\n",
       "2013.1.00327.S   G337.8442-00.3748 250.11116666666666 ...          Y     0\n",
       "2013.1.00327.S   G339.1052+00.1490 251.24825000000001 ...          Y     0\n",
       "2013.1.00061.S         IRAS16293_A 248.09529166666667 ...          Y     0\n",
       "2013.1.00061.S         IRAS16293_A 248.09529166666667 ...          Y     0\n",
       "2013.1.00061.S         IRAS16293_B 248.09425000000002 ...          Y     0\n",
       "2013.1.00061.S         IRAS16293_B 248.09425000000002 ...          Y     0\n",
       "2013.1.00296.S         PKS1830-211 278.41633000000002 ...          Y     1"
      ]
     },
     "execution_count": 50,
     "metadata": {},
     "output_type": "execute_result"
    }
   ],
   "source": [
    "data"
   ]
  },
  {
   "cell_type": "code",
   "execution_count": 51,
   "metadata": {
    "collapsed": false
   },
   "outputs": [
    {
     "name": "stdout",
     "output_type": "stream",
     "text": [
      "INFO: Staging files... [astroquery.alma.core]\n",
      ".INFO: Downloading files of size 0.0 Gbyte... [astroquery.alma.core]\n",
      "Downloading URL https://almascience.nrao.edu/dataPortal/requests/anonymous/600694289/ALMA/uid___A002_Xa0f8da_X2573/uid___A002_Xa0f8da_X2573.asdm.sdm.tar to /home/mauricio/.astropy/cache/astroquery/Alma/uid___A002_Xa0f8da_X2573.asdm.sdm.tar ... [Failed]\n"
     ]
    },
    {
     "ename": "KeyboardInterrupt",
     "evalue": "",
     "output_type": "error",
     "traceback": [
      "\u001b[1;31m---------------------------------------------------------------------------\u001b[0m",
      "\u001b[1;31mKeyboardInterrupt\u001b[0m                         Traceback (most recent call last)",
      "\u001b[1;32m<ipython-input-51-6f0b664cea38>\u001b[0m in \u001b[0;36m<module>\u001b[1;34m()\u001b[0m\n\u001b[1;32m----> 1\u001b[1;33m \u001b[0mAlma\u001b[0m\u001b[1;33m.\u001b[0m\u001b[0mretrieve_data_from_uid\u001b[0m\u001b[1;33m(\u001b[0m\u001b[1;34m\"uid://A002/Xa0f8da/X2573\"\u001b[0m\u001b[1;33m)\u001b[0m\u001b[1;33m\u001b[0m\u001b[0m\n\u001b[0m",
      "\u001b[1;32m/usr/local/lib/python3.5/dist-packages/astroquery/alma/core.py\u001b[0m in \u001b[0;36mretrieve_data_from_uid\u001b[1;34m(self, uids, cache)\u001b[0m\n\u001b[0;32m    380\u001b[0m         \u001b[0mlog\u001b[0m\u001b[1;33m.\u001b[0m\u001b[0minfo\u001b[0m\u001b[1;33m(\u001b[0m\u001b[1;34m\"Downloading files of size {0}...\"\u001b[0m\u001b[1;33m.\u001b[0m\u001b[0mformat\u001b[0m\u001b[1;33m(\u001b[0m\u001b[0mtotalsize\u001b[0m\u001b[1;33m.\u001b[0m\u001b[0mto\u001b[0m\u001b[1;33m(\u001b[0m\u001b[0mu\u001b[0m\u001b[1;33m.\u001b[0m\u001b[0mGB\u001b[0m\u001b[1;33m)\u001b[0m\u001b[1;33m)\u001b[0m\u001b[1;33m)\u001b[0m\u001b[1;33m\u001b[0m\u001b[0m\n\u001b[0;32m    381\u001b[0m         \u001b[1;31m# TODO: Add cache=cache keyword here.  Currently would have no effect.\u001b[0m\u001b[1;33m\u001b[0m\u001b[1;33m\u001b[0m\u001b[0m\n\u001b[1;32m--> 382\u001b[1;33m         \u001b[0mdownloaded_files\u001b[0m \u001b[1;33m=\u001b[0m \u001b[0mself\u001b[0m\u001b[1;33m.\u001b[0m\u001b[0mdownload_files\u001b[0m\u001b[1;33m(\u001b[0m\u001b[0mfile_urls\u001b[0m\u001b[1;33m)\u001b[0m\u001b[1;33m\u001b[0m\u001b[0m\n\u001b[0m\u001b[0;32m    383\u001b[0m         \u001b[1;32mreturn\u001b[0m \u001b[0mdownloaded_files\u001b[0m\u001b[1;33m\u001b[0m\u001b[0m\n\u001b[0;32m    384\u001b[0m \u001b[1;33m\u001b[0m\u001b[0m\n",
      "\u001b[1;32m/usr/local/lib/python3.5/dist-packages/astroquery/alma/core.py\u001b[0m in \u001b[0;36mdownload_files\u001b[1;34m(self, files, cache)\u001b[0m\n\u001b[0;32m    346\u001b[0m         \u001b[1;32mfor\u001b[0m \u001b[0mfileLink\u001b[0m \u001b[1;32min\u001b[0m \u001b[0munique\u001b[0m\u001b[1;33m(\u001b[0m\u001b[0mfiles\u001b[0m\u001b[1;33m)\u001b[0m\u001b[1;33m:\u001b[0m\u001b[1;33m\u001b[0m\u001b[0m\n\u001b[0;32m    347\u001b[0m             filename = self._request(\"GET\", fileLink, save=True,\n\u001b[1;32m--> 348\u001b[1;33m                                      timeout=self.TIMEOUT, cache=cache)\n\u001b[0m\u001b[0;32m    349\u001b[0m             \u001b[0mdownloaded_files\u001b[0m\u001b[1;33m.\u001b[0m\u001b[0mappend\u001b[0m\u001b[1;33m(\u001b[0m\u001b[0mfilename\u001b[0m\u001b[1;33m)\u001b[0m\u001b[1;33m\u001b[0m\u001b[0m\n\u001b[0;32m    350\u001b[0m         \u001b[1;32mreturn\u001b[0m \u001b[0mdownloaded_files\u001b[0m\u001b[1;33m\u001b[0m\u001b[0m\n",
      "\u001b[1;32m/usr/local/lib/python3.5/dist-packages/astroquery/query.py\u001b[0m in \u001b[0;36m_request\u001b[1;34m(self, method, url, params, data, headers, files, save, savedir, timeout, cache, stream, auth)\u001b[0m\n\u001b[0;32m    160\u001b[0m             \u001b[1;31m# {0}...\".format(local_filename))\u001b[0m\u001b[1;33m\u001b[0m\u001b[1;33m\u001b[0m\u001b[0m\n\u001b[0;32m    161\u001b[0m             self._download_file(url, local_filepath, timeout=timeout,\n\u001b[1;32m--> 162\u001b[1;33m                                 auth=auth, cache=cache)\n\u001b[0m\u001b[0;32m    163\u001b[0m             \u001b[1;32mreturn\u001b[0m \u001b[0mlocal_filepath\u001b[0m\u001b[1;33m\u001b[0m\u001b[0m\n\u001b[0;32m    164\u001b[0m         \u001b[1;32melse\u001b[0m\u001b[1;33m:\u001b[0m\u001b[1;33m\u001b[0m\u001b[0m\n",
      "\u001b[1;32m/usr/local/lib/python3.5/dist-packages/astroquery/query.py\u001b[0m in \u001b[0;36m_download_file\u001b[1;34m(self, url, local_filepath, timeout, auth, cache)\u001b[0m\n\u001b[0;32m    221\u001b[0m                      .format(url, local_filepath))) as pb:\n\u001b[0;32m    222\u001b[0m             \u001b[1;32mwith\u001b[0m \u001b[0mopen\u001b[0m\u001b[1;33m(\u001b[0m\u001b[0mlocal_filepath\u001b[0m\u001b[1;33m,\u001b[0m \u001b[1;34m'wb'\u001b[0m\u001b[1;33m)\u001b[0m \u001b[1;32mas\u001b[0m \u001b[0mf\u001b[0m\u001b[1;33m:\u001b[0m\u001b[1;33m\u001b[0m\u001b[0m\n\u001b[1;32m--> 223\u001b[1;33m                 \u001b[1;32mfor\u001b[0m \u001b[0mblock\u001b[0m \u001b[1;32min\u001b[0m \u001b[0mresponse\u001b[0m\u001b[1;33m.\u001b[0m\u001b[0miter_content\u001b[0m\u001b[1;33m(\u001b[0m\u001b[0mblocksize\u001b[0m\u001b[1;33m)\u001b[0m\u001b[1;33m:\u001b[0m\u001b[1;33m\u001b[0m\u001b[0m\n\u001b[0m\u001b[0;32m    224\u001b[0m                     \u001b[0mf\u001b[0m\u001b[1;33m.\u001b[0m\u001b[0mwrite\u001b[0m\u001b[1;33m(\u001b[0m\u001b[0mblock\u001b[0m\u001b[1;33m)\u001b[0m\u001b[1;33m\u001b[0m\u001b[0m\n\u001b[0;32m    225\u001b[0m                     \u001b[0mbytes_read\u001b[0m \u001b[1;33m+=\u001b[0m \u001b[0mblocksize\u001b[0m\u001b[1;33m\u001b[0m\u001b[0m\n",
      "\u001b[1;32m/usr/lib/python3/dist-packages/requests/models.py\u001b[0m in \u001b[0;36mgenerate\u001b[1;34m()\u001b[0m\n\u001b[0;32m    658\u001b[0m             \u001b[1;32mif\u001b[0m \u001b[0mhasattr\u001b[0m\u001b[1;33m(\u001b[0m\u001b[0mself\u001b[0m\u001b[1;33m.\u001b[0m\u001b[0mraw\u001b[0m\u001b[1;33m,\u001b[0m \u001b[1;34m'stream'\u001b[0m\u001b[1;33m)\u001b[0m\u001b[1;33m:\u001b[0m\u001b[1;33m\u001b[0m\u001b[0m\n\u001b[0;32m    659\u001b[0m                 \u001b[1;32mtry\u001b[0m\u001b[1;33m:\u001b[0m\u001b[1;33m\u001b[0m\u001b[0m\n\u001b[1;32m--> 660\u001b[1;33m                     \u001b[1;32mfor\u001b[0m \u001b[0mchunk\u001b[0m \u001b[1;32min\u001b[0m \u001b[0mself\u001b[0m\u001b[1;33m.\u001b[0m\u001b[0mraw\u001b[0m\u001b[1;33m.\u001b[0m\u001b[0mstream\u001b[0m\u001b[1;33m(\u001b[0m\u001b[0mchunk_size\u001b[0m\u001b[1;33m,\u001b[0m \u001b[0mdecode_content\u001b[0m\u001b[1;33m=\u001b[0m\u001b[1;32mTrue\u001b[0m\u001b[1;33m)\u001b[0m\u001b[1;33m:\u001b[0m\u001b[1;33m\u001b[0m\u001b[0m\n\u001b[0m\u001b[0;32m    661\u001b[0m                         \u001b[1;32myield\u001b[0m \u001b[0mchunk\u001b[0m\u001b[1;33m\u001b[0m\u001b[0m\n\u001b[0;32m    662\u001b[0m                 \u001b[1;32mexcept\u001b[0m \u001b[0mProtocolError\u001b[0m \u001b[1;32mas\u001b[0m \u001b[0me\u001b[0m\u001b[1;33m:\u001b[0m\u001b[1;33m\u001b[0m\u001b[0m\n",
      "\u001b[1;32m/usr/lib/python3/dist-packages/urllib3/response.py\u001b[0m in \u001b[0;36mstream\u001b[1;34m(self, amt, decode_content)\u001b[0m\n\u001b[0;32m    338\u001b[0m         \"\"\"\n\u001b[0;32m    339\u001b[0m         \u001b[1;32mif\u001b[0m \u001b[0mself\u001b[0m\u001b[1;33m.\u001b[0m\u001b[0mchunked\u001b[0m\u001b[1;33m:\u001b[0m\u001b[1;33m\u001b[0m\u001b[0m\n\u001b[1;32m--> 340\u001b[1;33m             \u001b[1;32mfor\u001b[0m \u001b[0mline\u001b[0m \u001b[1;32min\u001b[0m \u001b[0mself\u001b[0m\u001b[1;33m.\u001b[0m\u001b[0mread_chunked\u001b[0m\u001b[1;33m(\u001b[0m\u001b[0mamt\u001b[0m\u001b[1;33m,\u001b[0m \u001b[0mdecode_content\u001b[0m\u001b[1;33m=\u001b[0m\u001b[0mdecode_content\u001b[0m\u001b[1;33m)\u001b[0m\u001b[1;33m:\u001b[0m\u001b[1;33m\u001b[0m\u001b[0m\n\u001b[0m\u001b[0;32m    341\u001b[0m                 \u001b[1;32myield\u001b[0m \u001b[0mline\u001b[0m\u001b[1;33m\u001b[0m\u001b[0m\n\u001b[0;32m    342\u001b[0m         \u001b[1;32melse\u001b[0m\u001b[1;33m:\u001b[0m\u001b[1;33m\u001b[0m\u001b[0m\n",
      "\u001b[1;32m/usr/lib/python3/dist-packages/urllib3/response.py\u001b[0m in \u001b[0;36mread_chunked\u001b[1;34m(self, amt, decode_content)\u001b[0m\n\u001b[0;32m    487\u001b[0m                 \u001b[1;32mif\u001b[0m \u001b[0mself\u001b[0m\u001b[1;33m.\u001b[0m\u001b[0mchunk_left\u001b[0m \u001b[1;33m==\u001b[0m \u001b[1;36m0\u001b[0m\u001b[1;33m:\u001b[0m\u001b[1;33m\u001b[0m\u001b[0m\n\u001b[0;32m    488\u001b[0m                     \u001b[1;32mbreak\u001b[0m\u001b[1;33m\u001b[0m\u001b[0m\n\u001b[1;32m--> 489\u001b[1;33m                 \u001b[0mchunk\u001b[0m \u001b[1;33m=\u001b[0m \u001b[0mself\u001b[0m\u001b[1;33m.\u001b[0m\u001b[0m_handle_chunk\u001b[0m\u001b[1;33m(\u001b[0m\u001b[0mamt\u001b[0m\u001b[1;33m)\u001b[0m\u001b[1;33m\u001b[0m\u001b[0m\n\u001b[0m\u001b[0;32m    490\u001b[0m                 decoded = self._decode(chunk, decode_content=decode_content,\n\u001b[0;32m    491\u001b[0m                                        flush_decoder=False)\n",
      "\u001b[1;32m/usr/lib/python3/dist-packages/urllib3/response.py\u001b[0m in \u001b[0;36m_handle_chunk\u001b[1;34m(self, amt)\u001b[0m\n\u001b[0;32m    456\u001b[0m             \u001b[0mreturned_chunk\u001b[0m \u001b[1;33m=\u001b[0m \u001b[0mvalue\u001b[0m\u001b[1;33m\u001b[0m\u001b[0m\n\u001b[0;32m    457\u001b[0m         \u001b[1;32melse\u001b[0m\u001b[1;33m:\u001b[0m  \u001b[1;31m# amt > self.chunk_left\u001b[0m\u001b[1;33m\u001b[0m\u001b[0m\n\u001b[1;32m--> 458\u001b[1;33m             \u001b[0mreturned_chunk\u001b[0m \u001b[1;33m=\u001b[0m \u001b[0mself\u001b[0m\u001b[1;33m.\u001b[0m\u001b[0m_fp\u001b[0m\u001b[1;33m.\u001b[0m\u001b[0m_safe_read\u001b[0m\u001b[1;33m(\u001b[0m\u001b[0mself\u001b[0m\u001b[1;33m.\u001b[0m\u001b[0mchunk_left\u001b[0m\u001b[1;33m)\u001b[0m\u001b[1;33m\u001b[0m\u001b[0m\n\u001b[0m\u001b[0;32m    459\u001b[0m             \u001b[0mself\u001b[0m\u001b[1;33m.\u001b[0m\u001b[0m_fp\u001b[0m\u001b[1;33m.\u001b[0m\u001b[0m_safe_read\u001b[0m\u001b[1;33m(\u001b[0m\u001b[1;36m2\u001b[0m\u001b[1;33m)\u001b[0m  \u001b[1;31m# Toss the CRLF at the end of the chunk.\u001b[0m\u001b[1;33m\u001b[0m\u001b[0m\n\u001b[0;32m    460\u001b[0m             \u001b[0mself\u001b[0m\u001b[1;33m.\u001b[0m\u001b[0mchunk_left\u001b[0m \u001b[1;33m=\u001b[0m \u001b[1;32mNone\u001b[0m\u001b[1;33m\u001b[0m\u001b[0m\n",
      "\u001b[1;32m/usr/lib/python3.5/http/client.py\u001b[0m in \u001b[0;36m_safe_read\u001b[1;34m(self, amt)\u001b[0m\n\u001b[0;32m    605\u001b[0m         \u001b[0ms\u001b[0m \u001b[1;33m=\u001b[0m \u001b[1;33m[\u001b[0m\u001b[1;33m]\u001b[0m\u001b[1;33m\u001b[0m\u001b[0m\n\u001b[0;32m    606\u001b[0m         \u001b[1;32mwhile\u001b[0m \u001b[0mamt\u001b[0m \u001b[1;33m>\u001b[0m \u001b[1;36m0\u001b[0m\u001b[1;33m:\u001b[0m\u001b[1;33m\u001b[0m\u001b[0m\n\u001b[1;32m--> 607\u001b[1;33m             \u001b[0mchunk\u001b[0m \u001b[1;33m=\u001b[0m \u001b[0mself\u001b[0m\u001b[1;33m.\u001b[0m\u001b[0mfp\u001b[0m\u001b[1;33m.\u001b[0m\u001b[0mread\u001b[0m\u001b[1;33m(\u001b[0m\u001b[0mmin\u001b[0m\u001b[1;33m(\u001b[0m\u001b[0mamt\u001b[0m\u001b[1;33m,\u001b[0m \u001b[0mMAXAMOUNT\u001b[0m\u001b[1;33m)\u001b[0m\u001b[1;33m)\u001b[0m\u001b[1;33m\u001b[0m\u001b[0m\n\u001b[0m\u001b[0;32m    608\u001b[0m             \u001b[1;32mif\u001b[0m \u001b[1;32mnot\u001b[0m \u001b[0mchunk\u001b[0m\u001b[1;33m:\u001b[0m\u001b[1;33m\u001b[0m\u001b[0m\n\u001b[0;32m    609\u001b[0m                 \u001b[1;32mraise\u001b[0m \u001b[0mIncompleteRead\u001b[0m\u001b[1;33m(\u001b[0m\u001b[1;34mb''\u001b[0m\u001b[1;33m.\u001b[0m\u001b[0mjoin\u001b[0m\u001b[1;33m(\u001b[0m\u001b[0ms\u001b[0m\u001b[1;33m)\u001b[0m\u001b[1;33m,\u001b[0m \u001b[0mamt\u001b[0m\u001b[1;33m)\u001b[0m\u001b[1;33m\u001b[0m\u001b[0m\n",
      "\u001b[1;32m/usr/lib/python3.5/socket.py\u001b[0m in \u001b[0;36mreadinto\u001b[1;34m(self, b)\u001b[0m\n\u001b[0;32m    573\u001b[0m         \u001b[1;32mwhile\u001b[0m \u001b[1;32mTrue\u001b[0m\u001b[1;33m:\u001b[0m\u001b[1;33m\u001b[0m\u001b[0m\n\u001b[0;32m    574\u001b[0m             \u001b[1;32mtry\u001b[0m\u001b[1;33m:\u001b[0m\u001b[1;33m\u001b[0m\u001b[0m\n\u001b[1;32m--> 575\u001b[1;33m                 \u001b[1;32mreturn\u001b[0m \u001b[0mself\u001b[0m\u001b[1;33m.\u001b[0m\u001b[0m_sock\u001b[0m\u001b[1;33m.\u001b[0m\u001b[0mrecv_into\u001b[0m\u001b[1;33m(\u001b[0m\u001b[0mb\u001b[0m\u001b[1;33m)\u001b[0m\u001b[1;33m\u001b[0m\u001b[0m\n\u001b[0m\u001b[0;32m    576\u001b[0m             \u001b[1;32mexcept\u001b[0m \u001b[0mtimeout\u001b[0m\u001b[1;33m:\u001b[0m\u001b[1;33m\u001b[0m\u001b[0m\n\u001b[0;32m    577\u001b[0m                 \u001b[0mself\u001b[0m\u001b[1;33m.\u001b[0m\u001b[0m_timeout_occurred\u001b[0m \u001b[1;33m=\u001b[0m \u001b[1;32mTrue\u001b[0m\u001b[1;33m\u001b[0m\u001b[0m\n",
      "\u001b[1;32m/usr/lib/python3.5/ssl.py\u001b[0m in \u001b[0;36mrecv_into\u001b[1;34m(self, buffer, nbytes, flags)\u001b[0m\n\u001b[0;32m    923\u001b[0m                   \u001b[1;34m\"non-zero flags not allowed in calls to recv_into() on %s\"\u001b[0m \u001b[1;33m%\u001b[0m\u001b[1;33m\u001b[0m\u001b[0m\n\u001b[0;32m    924\u001b[0m                   self.__class__)\n\u001b[1;32m--> 925\u001b[1;33m             \u001b[1;32mreturn\u001b[0m \u001b[0mself\u001b[0m\u001b[1;33m.\u001b[0m\u001b[0mread\u001b[0m\u001b[1;33m(\u001b[0m\u001b[0mnbytes\u001b[0m\u001b[1;33m,\u001b[0m \u001b[0mbuffer\u001b[0m\u001b[1;33m)\u001b[0m\u001b[1;33m\u001b[0m\u001b[0m\n\u001b[0m\u001b[0;32m    926\u001b[0m         \u001b[1;32melse\u001b[0m\u001b[1;33m:\u001b[0m\u001b[1;33m\u001b[0m\u001b[0m\n\u001b[0;32m    927\u001b[0m             \u001b[1;32mreturn\u001b[0m \u001b[0msocket\u001b[0m\u001b[1;33m.\u001b[0m\u001b[0mrecv_into\u001b[0m\u001b[1;33m(\u001b[0m\u001b[0mself\u001b[0m\u001b[1;33m,\u001b[0m \u001b[0mbuffer\u001b[0m\u001b[1;33m,\u001b[0m \u001b[0mnbytes\u001b[0m\u001b[1;33m,\u001b[0m \u001b[0mflags\u001b[0m\u001b[1;33m)\u001b[0m\u001b[1;33m\u001b[0m\u001b[0m\n",
      "\u001b[1;32m/usr/lib/python3.5/ssl.py\u001b[0m in \u001b[0;36mread\u001b[1;34m(self, len, buffer)\u001b[0m\n\u001b[0;32m    785\u001b[0m             \u001b[1;32mraise\u001b[0m \u001b[0mValueError\u001b[0m\u001b[1;33m(\u001b[0m\u001b[1;34m\"Read on closed or unwrapped SSL socket.\"\u001b[0m\u001b[1;33m)\u001b[0m\u001b[1;33m\u001b[0m\u001b[0m\n\u001b[0;32m    786\u001b[0m         \u001b[1;32mtry\u001b[0m\u001b[1;33m:\u001b[0m\u001b[1;33m\u001b[0m\u001b[0m\n\u001b[1;32m--> 787\u001b[1;33m             \u001b[1;32mreturn\u001b[0m \u001b[0mself\u001b[0m\u001b[1;33m.\u001b[0m\u001b[0m_sslobj\u001b[0m\u001b[1;33m.\u001b[0m\u001b[0mread\u001b[0m\u001b[1;33m(\u001b[0m\u001b[0mlen\u001b[0m\u001b[1;33m,\u001b[0m \u001b[0mbuffer\u001b[0m\u001b[1;33m)\u001b[0m\u001b[1;33m\u001b[0m\u001b[0m\n\u001b[0m\u001b[0;32m    788\u001b[0m         \u001b[1;32mexcept\u001b[0m \u001b[0mSSLError\u001b[0m \u001b[1;32mas\u001b[0m \u001b[0mx\u001b[0m\u001b[1;33m:\u001b[0m\u001b[1;33m\u001b[0m\u001b[0m\n\u001b[0;32m    789\u001b[0m             \u001b[1;32mif\u001b[0m \u001b[0mx\u001b[0m\u001b[1;33m.\u001b[0m\u001b[0margs\u001b[0m\u001b[1;33m[\u001b[0m\u001b[1;36m0\u001b[0m\u001b[1;33m]\u001b[0m \u001b[1;33m==\u001b[0m \u001b[0mSSL_ERROR_EOF\u001b[0m \u001b[1;32mand\u001b[0m \u001b[0mself\u001b[0m\u001b[1;33m.\u001b[0m\u001b[0msuppress_ragged_eofs\u001b[0m\u001b[1;33m:\u001b[0m\u001b[1;33m\u001b[0m\u001b[0m\n",
      "\u001b[1;32m/usr/lib/python3.5/ssl.py\u001b[0m in \u001b[0;36mread\u001b[1;34m(self, len, buffer)\u001b[0m\n\u001b[0;32m    569\u001b[0m         \"\"\"\n\u001b[0;32m    570\u001b[0m         \u001b[1;32mif\u001b[0m \u001b[0mbuffer\u001b[0m \u001b[1;32mis\u001b[0m \u001b[1;32mnot\u001b[0m \u001b[1;32mNone\u001b[0m\u001b[1;33m:\u001b[0m\u001b[1;33m\u001b[0m\u001b[0m\n\u001b[1;32m--> 571\u001b[1;33m             \u001b[0mv\u001b[0m \u001b[1;33m=\u001b[0m \u001b[0mself\u001b[0m\u001b[1;33m.\u001b[0m\u001b[0m_sslobj\u001b[0m\u001b[1;33m.\u001b[0m\u001b[0mread\u001b[0m\u001b[1;33m(\u001b[0m\u001b[0mlen\u001b[0m\u001b[1;33m,\u001b[0m \u001b[0mbuffer\u001b[0m\u001b[1;33m)\u001b[0m\u001b[1;33m\u001b[0m\u001b[0m\n\u001b[0m\u001b[0;32m    572\u001b[0m         \u001b[1;32melse\u001b[0m\u001b[1;33m:\u001b[0m\u001b[1;33m\u001b[0m\u001b[0m\n\u001b[0;32m    573\u001b[0m             \u001b[0mv\u001b[0m \u001b[1;33m=\u001b[0m \u001b[0mself\u001b[0m\u001b[1;33m.\u001b[0m\u001b[0m_sslobj\u001b[0m\u001b[1;33m.\u001b[0m\u001b[0mread\u001b[0m\u001b[1;33m(\u001b[0m\u001b[0mlen\u001b[0m\u001b[1;33m)\u001b[0m\u001b[1;33m\u001b[0m\u001b[0m\n",
      "\u001b[1;31mKeyboardInterrupt\u001b[0m: "
     ]
    }
   ],
   "source": [
    "Alma.retrieve_data_from_uid(\"uid://A002/Xa0f8da/X2573\")"
   ]
  },
  {
   "cell_type": "code",
   "execution_count": null,
   "metadata": {
    "collapsed": true
   },
   "outputs": [],
   "source": []
  }
 ],
 "metadata": {
  "anaconda-cloud": {},
  "kernelspec": {
   "display_name": "Python [default]",
   "language": "python",
   "name": "python3"
  },
  "language_info": {
   "codemirror_mode": {
    "name": "ipython",
    "version": 3
   },
   "file_extension": ".py",
   "mimetype": "text/x-python",
   "name": "python",
   "nbconvert_exporter": "python",
   "pygments_lexer": "ipython3",
   "version": "3.5.1"
  }
 },
 "nbformat": 4,
 "nbformat_minor": 0
}

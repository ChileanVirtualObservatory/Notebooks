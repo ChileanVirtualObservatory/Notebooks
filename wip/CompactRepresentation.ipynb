{
 "cells": [
  {
   "cell_type": "markdown",
   "metadata": {
    "collapsed": true
   },
   "source": [
    "# Homogeneous Representations of Spectroscopic Data Cubes \n",
    "# Part 1: REPRESENTATIONS\n",
    "## Astronomy and Computing Journal, 2017\n",
    "### Mauricio Araya (1), Diego Mardones (2), Marcelo Mendoza (1) and Mauricio Solar (1)\n",
    "\n",
    "(1) Universidad Técnica Federico Santa María <br>\n",
    "(2) Universidad de Chile\n",
    "\n",
    "# 1. Introduction\n",
    "\n",
    "This notebook contains the code for replicating the experiments presented in the paper \"Homogeneous Representations of Spectroscopic Data Cubes\". First, you need to download and install the development version of the library `acalib` from github. (part 1)\n",
    "\n",
    "> git clone acalib\n",
    "\n",
    "> python setup.py\n",
    "\n",
    "(The pip version is not useful).\n",
    "\n",
    "### Imports and Initialization"
   ]
  },
  {
   "cell_type": "code",
   "execution_count": 1,
   "metadata": {
    "collapsed": false
   },
   "outputs": [],
   "source": [
    "%matplotlib qt\n",
    "#%matplotlib inline\n",
    "\n",
    "import sys\n",
    "sys.path.append('../ACALIB')\n",
    "import acalib as aca\n",
    "from astropy.io import fits\n",
    "import numpy as np\n",
    "from astropy.table import Table,Column\n",
    "from astropy.units import u\n",
    "from astropy import log\n",
    "#log.disabled=True\n",
    "#np.seterr(all='ignore')"
   ]
  },
  {
   "cell_type": "markdown",
   "metadata": {},
   "source": [
    "### Downloading Data"
   ]
  },
  {
   "cell_type": "markdown",
   "metadata": {},
   "source": [
    "Our data set is composed by a few spectroscopic cubes from the \u001b[ALMA Science Verification Dataset](https://almascience.nrao.edu/alma-data/science-verification). The following code download, uncompress and rename the files for its use.\n"
   ]
  },
  {
   "cell_type": "code",
   "execution_count": 2,
   "metadata": {
    "collapsed": false
   },
   "outputs": [
    {
     "name": "stdout",
     "output_type": "stream",
     "text": [
      "File found, skipping download of https://almascience.nrao.edu/almadata/sciver/IRAS16293Band6/IRAS16293_Band6_ReferenceImages.tgz\n",
      "Directory ../experiments/data/IRAS16293_Band6_ReferenceImages found, not uncompressing\n",
      "File found, skipping download of https://almascience.nrao.edu/almadata/sciver/TWHya/TWHYA_BAND7_ReferenceImages.tgz\n",
      "Directory ../experiments/data/TWHYA_BAND7_ReferenceImages found, not uncompressing\n",
      "File found, skipping download of https://bulk.cv.nrao.edu/almadata/sciver/M100Band3_12m/M100_Band3_ReferenceImages_CASA3.3.tgz\n",
      "Directory ../experiments/data/M100_Band3_ReferenceImages found, not uncompressing\n",
      "File found, skipping download of https://almascience.nrao.edu/almadata/sciver/OrionKLBand6/OrionKL_Band6_ReferenceImages.tgz\n",
      "Directory ../experiments/data/OrionKL_Band6_ReferenceImages found, not uncompressing\n"
     ]
    }
   ],
   "source": [
    "import os\n",
    "import urllib.request\n",
    "import tarfile\n",
    "from shutil import copyfile\n",
    "\n",
    "DOWNLOADS_DIR = '../experiments/data/'\n",
    "\n",
    "# Data from ALMA science verification \n",
    "\n",
    "# URLs of the tarballs\n",
    "urls  = ['https://almascience.nrao.edu/almadata/sciver/OrionKLBand6/OrionKL_Band6_ReferenceImages.tgz',\n",
    "         'https://almascience.nrao.edu/almadata/sciver/TWHya/TWHYA_BAND7_ReferenceImages.tgz',\n",
    "         'https://bulk.cv.nrao.edu/almadata/sciver/M100Band3_12m/M100_Band3_ReferenceImages_CASA3.3.tgz',\n",
    "         #'https://bulk.cv.nrao.edu/almadata/sciver/AntennaeBand7/Antennae_Band7_ReferenceImages.tgz',\n",
    "         'https://almascience.nrao.edu/almadata/sciver/IRAS16293Band6/IRAS16293_Band6_ReferenceImages.tgz']\n",
    "\n",
    "# Fits names and their \"fantasy\" names \n",
    "flist  = [('Orion.methanol.cbc.contsub.image.fits',          'Orion-CH3OH'),\n",
    "          ('TWHydra_CO3_2line.image.fits',                   'TWHydra-CO3_2'),\n",
    "          ('M100line.image.fits',                            'M100-CO1_0'),\n",
    "          #('Antennae_North.CO3_2Line.Clean.pcal1.image.fits','AntennaeN-CO3_'),\n",
    "          ('I16293_220GHzcorrected.ms.selfcube.image.fits',  'IRAS16293-2422-HCOCH')]\n",
    "\n",
    "fits_map=dict(zip(urls, flist))\n",
    "\n",
    "for url,ffile in fits_map.items():\n",
    "    # Split on the rightmost / and take everything on the right side of that\n",
    "    name = url.rsplit('/', 1)[-1]\n",
    "    # Combine the name and the downloads directory to get the local filename\n",
    "    filename = os.path.join(DOWNLOADS_DIR, name)\n",
    "    if not os.path.isfile(filename):\n",
    "        print(\"Downloading \"+str(url))\n",
    "        urllib.request.urlretrieve(url, filename)\n",
    "    else:\n",
    "        print(\"File found, skipping download of \"+str(url))\n",
    "    sdir=filename.rsplit('ReferenceImages',1)[0]+\"ReferenceImages\"\n",
    "    #print(sdir)\n",
    "    if not os.path.isdir(sdir):\n",
    "        print(\"Uncompressing \"+str(filename))\n",
    "        tar = tarfile.open(filename)\n",
    "        tar.extractall(path=DOWNLOADS_DIR)\n",
    "        tar.close()\n",
    "    else:\n",
    "        print(\"Directory \"+str(sdir)+ \" found, not uncompressing\")\n",
    "    copyfile(sdir+\"/\"+ffile[0], DOWNLOADS_DIR+\"/\"+ffile[0])"
   ]
  },
  {
   "cell_type": "markdown",
   "metadata": {},
   "source": [
    "### Dataset Description\n",
    "\n",
    "The summary of the dimensions and resolutions of the downloaded cubes are obtained using the following extracting function from the FITS metadata."
   ]
  },
  {
   "cell_type": "code",
   "execution_count": 3,
   "metadata": {
    "collapsed": false
   },
   "outputs": [],
   "source": [
    "def extract_info(path,ffile):\n",
    "    # Load fits file  using astropy and convert the primary image into an NDArray\n",
    "    hdulist = fits.open(path+ffile[0])\n",
    "    cube    = aca.HDU_to_NDData(hdulist[0])\n",
    "    #target  = cube.meta['OBJECT']\n",
    "    \n",
    "    valid   = 100*(1.0- (cube.mask.sum()/float(cube.data.size)))\n",
    "    b_size  = cube.meta['BMIN']\n",
    "    s_res   = np.abs(cube.meta['CDELT3'])\n",
    "    a_res   = np.abs(cube.meta['CDELT1'])\n",
    "    return (ffile[1],cube.data.shape,cube.data.size,valid,a_res,b_size,s_res)"
   ]
  },
  {
   "cell_type": "markdown",
   "metadata": {},
   "source": [
    "Which are putted in a table for better visualization."
   ]
  },
  {
   "cell_type": "code",
   "execution_count": 4,
   "metadata": {
    "collapsed": false
   },
   "outputs": [],
   "source": [
    "summary=Table(names=('Name', \n",
    "                     '(RA, DEC, FREQ)',\n",
    "                     'Pixels',\n",
    "                     'Valid %',\n",
    "                     'Ang. Res',\n",
    "                     'Beam Size',\n",
    "                     'Spec. Res'),\n",
    "             dtype=('S100',tuple,int,float,float,float,float))\n",
    "\n",
    "for ffile in flist :\n",
    "    summary.add_row(vals=extract_info(DOWNLOADS_DIR,ffile))"
   ]
  },
  {
   "cell_type": "markdown",
   "metadata": {},
   "source": [
    "Show the table in the notebook and in latex format"
   ]
  },
  {
   "cell_type": "code",
   "execution_count": 5,
   "metadata": {
    "collapsed": false
   },
   "outputs": [
    {
     "data": {
      "text/html": [
       "&lt;Table length=4&gt;\n",
       "<table id=\"table139850814614720\" class=\"table-striped table-bordered table-condensed\">\n",
       "<thead><tr><th>Name</th><th>(RA, DEC, FREQ)</th><th>Pixels</th><th>Valid %</th><th>Ang. Res</th><th>Beam Size</th><th>Spec. Res</th></tr></thead>\n",
       "<thead><tr><th>bytes100</th><th>object</th><th>int64</th><th>float64</th><th>float64</th><th>float64</th><th>float64</th></tr></thead>\n",
       "<tr><td>Orion-CH3OH</td><td>(41, 100, 100)</td><td>410000</td><td>100.0</td><td>0.000111111111111</td><td>0.000382384558519</td><td>488336.120789</td></tr>\n",
       "<tr><td>TWHydra-CO3_2</td><td>(118, 100, 100)</td><td>1180000</td><td>100.0</td><td>8.33333333333e-05</td><td>0.000425537294812</td><td>138414.151856</td></tr>\n",
       "<tr><td>M100-CO1_0</td><td>(40, 600, 600)</td><td>14400000</td><td>57.7954722222</td><td>0.000138888888889</td><td>0.000689453085264</td><td>3906250.0</td></tr>\n",
       "<tr><td>IRAS16293-2422-HCOCH</td><td>(480, 220, 220)</td><td>23232000</td><td>53.7582644628</td><td>5.55555555556e-05</td><td>0.000275483561887</td><td>488311.0</td></tr>\n",
       "</table>"
      ],
      "text/plain": [
       "<Table length=4>\n",
       "        Name         (RA, DEC, FREQ) ...     Beam Size       Spec. Res  \n",
       "      bytes100            object     ...      float64         float64   \n",
       "-------------------- --------------- ... ----------------- -------------\n",
       "         Orion-CH3OH  (41, 100, 100) ... 0.000382384558519 488336.120789\n",
       "       TWHydra-CO3_2 (118, 100, 100) ... 0.000425537294812 138414.151856\n",
       "          M100-CO1_0  (40, 600, 600) ... 0.000689453085264     3906250.0\n",
       "IRAS16293-2422-HCOCH (480, 220, 220) ... 0.000275483561887      488311.0"
      ]
     },
     "execution_count": 5,
     "metadata": {},
     "output_type": "execute_result"
    }
   ],
   "source": [
    "summary"
   ]
  },
  {
   "cell_type": "code",
   "execution_count": 6,
   "metadata": {
    "collapsed": false
   },
   "outputs": [
    {
     "name": "stdout",
     "output_type": "stream",
     "text": [
      "\\begin{table}\n",
      "\\begin{tabular}{ccccccc}\n",
      "Name & (RA, DEC, FREQ) & Pixels & Valid % & Ang. Res & Beam Size & Spec. Res \\\\\n",
      "Orion-CH3OH & (41, 100, 100) & 410000 & 100.0 & 0.000111111111111 & 0.000382384558519 & 488336.120789 \\\\\n",
      "TWHydra-CO3_2 & (118, 100, 100) & 1180000 & 100.0 & 8.33333333333e-05 & 0.000425537294812 & 138414.151856 \\\\\n",
      "M100-CO1_0 & (40, 600, 600) & 14400000 & 57.7954722222 & 0.000138888888889 & 0.000689453085264 & 3906250.0 \\\\\n",
      "IRAS16293-2422-HCOCH & (480, 220, 220) & 23232000 & 53.7582644628 & 5.55555555556e-05 & 0.000275483561887 & 488311.0 \\\\\n",
      "\\end{tabular}\n",
      "\\end{table}\n"
     ]
    }
   ],
   "source": [
    "# Generating the latex table for the paper\n",
    "from astropy.io import ascii\n",
    "ascii.write(summary,format='latex') "
   ]
  },
  {
   "cell_type": "markdown",
   "metadata": {},
   "source": [
    "# 2. Signal-to-Noise-Ratio Estimation (SNR)\n",
    "\n",
    "In this section we show how the signal-to-noise estimation is done.  \n",
    "Before doing this we define here a function to plot the results.\n",
    "\n",
    "### The `plot_snr_estimation()` function\n",
    "This function plots the thresholded RMS w.r.t. the SNR, including and the selected SNR point. More details below."
   ]
  },
  {
   "cell_type": "code",
   "execution_count": 7,
   "metadata": {
    "collapsed": true
   },
   "outputs": [],
   "source": [
    "import matplotlib.pyplot as plt\n",
    "\n",
    "def plot_snr_estimation(target,snr_results):\n",
    "    fig = plt.figure(figsize=(10,4))\n",
    "    # Unpack results\n",
    "    (slimit,rms,x,y,v,n,p)=snr_results\n",
    "    # Plot \n",
    "    ax = fig.add_subplot(1,1,1)\n",
    "    ax.plot(x,y,color='b')\n",
    "    ax.plot(x,x,color='b',linestyle=\"--\")\n",
    "    ax.axvline(x=slimit,color='r',label=\"$\"+str(slimit)+\" \\sigma$\")\n",
    "    ax.legend(loc=7)\n",
    "    ax.set_title(target)\n",
    "    ax.set_xlabel(\"SNR ($ \\\\tau / \\sigma$)\")\n",
    "    ax.set_ylabel('RMS', color='b')\n",
    "    for tl in ax.get_yticklabels():\n",
    "        tl.set_color('b')\n",
    "    axp = ax.twinx()\n",
    "    axp.plot(x[:-1],v,color='grey')\n",
    "    axp.set_ylabel('$\\Delta$RMS', color='grey')\n",
    "    for tl in axp.get_yticklabels():\n",
    "        tl.set_color('grey')\n",
    "    plt.show()\n",
    "    "
   ]
  },
  {
   "cell_type": "markdown",
   "metadata": {},
   "source": [
    "### Compute, store and plot the estimations\n",
    "The fluxes of each cube are standardized in the $[0,1]$ range to ensure numerical stability using the function `aca.standarize`. Then, the parameter $\\sigma$ of the algorithm is estimated as the RMS of the cube and an estimation of the signal-to-noise ratio is performed to obtain the $\\tau$ parameter by using function `aca.snr_estimation()`. Then we plot the results using the previous function. At last, we compute the theoretical bound reported in the paper:\n",
    "\\begin{equation*}\n",
    "\\frac{F_\\tau - n_\\tau(\\tau - \\sigma)}{\\sigma}\n",
    "\\end{equation*}\n",
    "and store the results into a table."
   ]
  },
  {
   "cell_type": "code",
   "execution_count": 24,
   "metadata": {
    "collapsed": false,
    "scrolled": false
   },
   "outputs": [
    {
     "name": "stdout",
     "output_type": "stream",
     "text": [
      "INFO: overwriting Masked Objects's current mask with specified mask. [astropy.nddata.nddata]\n",
      "INFO: overwriting Masked Objects's current mask with specified mask. [astropy.nddata.nddata]\n"
     ]
    },
    {
     "name": "stderr",
     "output_type": "stream",
     "text": [
      "/home/mauricio/anaconda3/envs/astro3.5/lib/python3.5/site-packages/numpy/ma/core.py:852: RuntimeWarning: invalid value encountered in greater_equal\n",
      "  return umath.absolute(a) * self.tolerance >= umath.absolute(b)\n",
      "../ACALIB/acalib/core/analysis.py:40: RuntimeWarning: invalid value encountered in greater\n",
      "  sdata = data[data > noise]\n"
     ]
    },
    {
     "name": "stdout",
     "output_type": "stream",
     "text": [
      "INFO: overwriting Masked Objects's current mask with specified mask. [astropy.nddata.nddata]\n"
     ]
    },
    {
     "name": "stderr",
     "output_type": "stream",
     "text": [
      "/home/mauricio/anaconda3/envs/astro3.5/lib/python3.5/site-packages/ipykernel/__main__.py:23: RuntimeWarning: invalid value encountered in greater\n"
     ]
    },
    {
     "name": "stdout",
     "output_type": "stream",
     "text": [
      "INFO: overwriting Masked Objects's current mask with specified mask. [astropy.nddata.nddata]\n"
     ]
    }
   ],
   "source": [
    "# Define the snr_table elements\n",
    "snr_table=Table(names=('Name', \n",
    "                       'RMS',\n",
    "                       'SNR',\n",
    "                       'N_max'),\n",
    "             dtype=('S100',float,float,float))\n",
    "\n",
    "for ffile in flist:\n",
    "    \n",
    "    # Read file\n",
    "    hdulist = fits.open(DOWNLOADS_DIR+ffile[0])\n",
    "    cube    = aca.HDU_to_NDData(hdulist[0])\n",
    "    target  = ffile[1]\n",
    "    \n",
    "    # Process it\n",
    "    (cube,ym,yf)=aca.standarize(cube)\n",
    "    result=aca.snr_estimation(cube.data,mask=cube.mask,points=1000,full_output=True)\n",
    "    # Display it\n",
    "    plot_snr_estimation(target,result)\n",
    "    \n",
    "    # Unpack, and compute the theoretical maximum number of elements \n",
    "    (slimit,rms,x,y,v,n,p)=result\n",
    "    F=cube.data[cube.data>slimit*rms]\n",
    "    nt=F.shape[0]\n",
    "    Ft=F.sum()\n",
    "    nest=(Ft - nt*(slimit*rms - rms))/rms\n",
    "    snr_table.add_row(vals=(target,rms,slimit,nest))"
   ]
  },
  {
   "cell_type": "markdown",
   "metadata": {},
   "source": [
    "The blue lines correspond to the RMS computed after\n",
    "thresholding the cube using $\\tau$. The dotted line is the lowest value that the\n",
    "RMS can take, the grey line shows the slope of the RMS and the red line is the\n",
    "SNR selected by the heuristic.\n",
    "\n",
    "### Summary table"
   ]
  },
  {
   "cell_type": "code",
   "execution_count": 9,
   "metadata": {
    "collapsed": false,
    "scrolled": true
   },
   "outputs": [
    {
     "data": {
      "text/html": [
       "&lt;Table length=4&gt;\n",
       "<table id=\"table139850814748432\" class=\"table-striped table-bordered table-condensed\">\n",
       "<thead><tr><th>Name</th><th>RMS</th><th>SNR</th><th>N_max</th></tr></thead>\n",
       "<thead><tr><th>bytes100</th><th>float64</th><th>float64</th><th>float64</th></tr></thead>\n",
       "<tr><td>Orion-CH3OH</td><td>2.60771895779e-06</td><td>1.01</td><td>66983.2529307</td></tr>\n",
       "<tr><td>TWHydra-CO3_2</td><td>8.99479067679e-07</td><td>1.118</td><td>25850.2002163</td></tr>\n",
       "<tr><td>M100-CO1_0</td><td>9.18094227979e-08</td><td>1.592</td><td>103608.136824</td></tr>\n",
       "<tr><td>IRAS16293-2422-HCOCH</td><td>5.8952157086e-08</td><td>1.41</td><td>348146.148709</td></tr>\n",
       "</table>"
      ],
      "text/plain": [
       "<Table length=4>\n",
       "        Name                RMS          SNR       N_max    \n",
       "      bytes100            float64      float64    float64   \n",
       "-------------------- ----------------- ------- -------------\n",
       "         Orion-CH3OH 2.60771895779e-06    1.01 66983.2529307\n",
       "       TWHydra-CO3_2 8.99479067679e-07   1.118 25850.2002163\n",
       "          M100-CO1_0 9.18094227979e-08   1.592 103608.136824\n",
       "IRAS16293-2422-HCOCH  5.8952157086e-08    1.41 348146.148709"
      ]
     },
     "execution_count": 9,
     "metadata": {},
     "output_type": "execute_result"
    }
   ],
   "source": [
    "snr_table"
   ]
  },
  {
   "cell_type": "markdown",
   "metadata": {},
   "source": [
    "# 3. Pixel-based Homogeneous Representation (PHB)"
   ]
  },
  {
   "cell_type": "markdown",
   "metadata": {},
   "source": [
    "This section shows some graphical results for a pixel-based homogeneous representation.\n",
    "\n",
    "### Graphical layout\n",
    "To show these results we require some \"advanced\" matplotlib configurations to improve the visualization."
   ]
  },
  {
   "cell_type": "code",
   "execution_count": 10,
   "metadata": {
    "collapsed": true
   },
   "outputs": [],
   "source": [
    "import matplotlib.ticker as ticker\n",
    "import matplotlib as mpl\n",
    "from matplotlib import gridspec\n",
    "mpl.rcParams['axes.formatter.limits']=(-5,5)\n",
    "def fmt(x, pos):\n",
    "    return '{:.1e}'.format(x)"
   ]
  },
  {
   "cell_type": "markdown",
   "metadata": {},
   "source": [
    "For each file we will produce 4 plots:\n",
    "* The original zeroth moment of the cube (`orig2D`)\n",
    "* The signal (i.e. synthethic) zeroth moment of the cube (`syn2D`)\n",
    "* The residual (i.e. original - signal) zeroth moment of the cube (`res2D`)\n",
    "* The integrated spectrum of the these three cubes (`origSpec`,`synSpec`,`resSpec`)\n",
    "\n",
    "The following large function plots these elements starting from the `cube`, `syn` and `res` data. Most of the code is only for a proper visualization."
   ]
  },
  {
   "cell_type": "code",
   "execution_count": 11,
   "metadata": {
    "collapsed": false
   },
   "outputs": [],
   "source": [
    "\n",
    "def plot_algo_result(target,cube,syn,res):\n",
    "    ### Stylistic configurations ###\n",
    "    cmap=\"seismic\"\n",
    "    origin=\"lower\"\n",
    "  \n",
    "    # Relative sizes of the subfigure\n",
    "    fig = plt.figure(target,figsize=(10,5))\n",
    "    gs = gridspec.GridSpec(1, 4, width_ratios=[1, 1, 1 , 3], height_ratios=[1,1,1,1]) \n",
    "    ### END ###\n",
    "    \n",
    "    # Obtain the zeroth moments\n",
    "    orig2D=aca.moment0(cube)\n",
    "    syn2D=aca.moment0(syn,wcs=cube.wcs,mask=cube.mask,unit=cube.unit)\n",
    "    res2D=aca.moment0(res,wcs=cube.wcs,mask=cube.mask,unit=cube.unit)\n",
    "    \n",
    "    # Shared colormap minimum and maximum values\n",
    "    vmin=0\n",
    "    vmax=orig2D.data.max()\n",
    "    \n",
    "    # Obtain the spectra\n",
    "    origSpec=np.nansum(cube.data,axis=(1,2))\n",
    "    synSpec=syn.sum(axis=(1,2))\n",
    "    resSpec=res.sum(axis=(1,2))\n",
    "    \n",
    "    # First image with WCS and name\n",
    "    ax1  = plt.subplot(gs[0],projection=orig2D.wcs)\n",
    "    ob=ax1.imshow(orig2D.data,origin=origin,vmin=vmin,vmax=vmax,cmap=cmap)\n",
    "    ax1.set_title(\"Original\")\n",
    "    ax1.set_ylabel(target)\n",
    "   \n",
    "    # Second image without WCS\n",
    "    ax2  = plt.subplot(gs[1])\n",
    "    ax2.imshow(syn2D.data,origin=origin,vmin=vmin,vmax=vmax,cmap=cmap)\n",
    "    ax2.get_xaxis().set_visible(False)\n",
    "    ax2.get_yaxis().set_visible(False)\n",
    "    ax2.set_title(\"Signal\")\n",
    "    \n",
    "    # Third image without WCS\n",
    "    ax3  = plt.subplot(gs[2])\n",
    "    ax3.imshow(res2D.data,origin=origin,vmin=vmin,vmax=vmax,cmap=cmap)\n",
    "    ax3.get_xaxis().set_visible(False)\n",
    "    ax3.get_yaxis().set_visible(False)\n",
    "    ax3.set_title(\"Residual\")\n",
    "\n",
    "    # Add a colorbar\n",
    "    cb=fig.colorbar(ob,ax=[ax1,ax2,ax3], format=ticker.FuncFormatter(fmt))\n",
    "    cb.set_label(\"Flux\")\n",
    "    \n",
    "    # Plot the 3 spectra with proper velocity values (from cube's resfrq)\n",
    "    ax4  = plt.subplot(gs[3])\n",
    "    ranges = aca.extent(cube)\n",
    "    vel = np.linspace(ranges[0][0], ranges[1][0], cube.data.shape[0])\n",
    "    ax4.plot(vel,origSpec,color='k',label='Original')\n",
    "    ax4.plot(vel,resSpec,color='k',linestyle=\"--\",label='Residual')\n",
    "    ax4.set_xlabel(\"Velocity [km/s]\")\n",
    "    ax4.set_ylabel(\"Flux\")\n",
    "    for tl in ax4.get_yticklabels():\n",
    "        tl.set_color('k')\n",
    "    ax5=ax4.twinx()\n",
    "    ax5.plot(vel,synSpec,color='b',label='Signal',linewidth=2.0)\n",
    "    for tl in ax5.get_yticklabels():\n",
    "        tl.set_color('b')\n",
    "    ax4.legend(loc=2)\n",
    "    ax5.legend(loc=1)\n",
    "    plt.show()\n"
   ]
  },
  {
   "cell_type": "markdown",
   "metadata": {},
   "source": [
    "### PHB Representation Results\n",
    "\n",
    "**TODO**: need to create algorithms for this in acalib.algorithms rather than using core"
   ]
  },
  {
   "cell_type": "code",
   "execution_count": 12,
   "metadata": {
    "collapsed": false,
    "scrolled": false
   },
   "outputs": [
    {
     "name": "stdout",
     "output_type": "stream",
     "text": [
      "INFO: overwriting Masked Objects's current mask with specified mask. [astropy.nddata.nddata]\n",
      "INFO: overwriting Masked Objects's current mask with specified mask. [astropy.nddata.nddata]\n"
     ]
    },
    {
     "name": "stderr",
     "output_type": "stream",
     "text": [
      "/home/mauricio/anaconda3/envs/astro3.5/lib/python3.5/site-packages/numpy/ma/core.py:852: RuntimeWarning: invalid value encountered in greater_equal\n",
      "  return umath.absolute(a) * self.tolerance >= umath.absolute(b)\n",
      "../ACALIB/acalib/core/compact.py:99: RuntimeWarning: invalid value encountered in greater\n",
      "  ff=np.where(data>threshold)\n"
     ]
    },
    {
     "name": "stdout",
     "output_type": "stream",
     "text": [
      "INFO: overwriting Masked Objects's current mask with specified mask. [astropy.nddata.nddata]\n",
      "INFO: overwriting Masked Objects's current mask with specified mask. [astropy.nddata.nddata]\n"
     ]
    }
   ],
   "source": [
    "\n",
    "from acalib.core.compact import *\n",
    "from matplotlib import gridspec\n",
    "rep_size=[]\n",
    "bound=[]\n",
    "count=0\n",
    "for ffile in flist:\n",
    "    hdulist = fits.open(DOWNLOADS_DIR+ffile[0])\n",
    "    cube    = aca.HDU_to_NDData(hdulist[0])\n",
    "    target  = ffile[1]\n",
    "  \n",
    "    (cube,ym,yf)=aca.standarize(cube)\n",
    "    mynoise=snr_table['RMS'][count]\n",
    "    mythresh=mynoise*snr_table['SNR'][count]\n",
    "    (rep,syn,res)=scatpix_detect(cube.data,threshold=mythresh,noise=mynoise,full_output=True)\n",
    "\n",
    "    mmmask=(syn>0)\n",
    "    nnn=syn[mmmask].size\n",
    "    ft=np.nansum(syn[mmmask] + res[mmmask]) \n",
    "    \n",
    "    bound.append(int((ft -nnn*(mythresh - mynoise))/mynoise))\n",
    "    rep_size.append(rep.as_array().size)\n",
    "    \n",
    "    #plot_algo_result(target+\" PHR\",cube,syn,res)\n",
    "    \n",
    "    count+=1"
   ]
  },
  {
   "cell_type": "markdown",
   "metadata": {},
   "source": [
    "### PHR dimensions\n",
    "Here we present the number of points needed by a PHR solution given the computed SNR, and we compare it with respect to the theoretical bound and the number of valid pixels of the image. Also, the latex version of the table is printed."
   ]
  },
  {
   "cell_type": "code",
   "execution_count": 13,
   "metadata": {
    "collapsed": false
   },
   "outputs": [
    {
     "data": {
      "text/html": [
       "&lt;Table length=4&gt;\n",
       "<table id=\"table139850813523952\" class=\"table-striped table-bordered table-condensed\">\n",
       "<thead><tr><th>Name</th><th>RMS</th><th>SNR</th><th>Pts</th><th>Pts/Bound</th><th>Pts/Valid</th></tr></thead>\n",
       "<thead><tr><th>bytes100</th><th>float64</th><th>float64</th><th>int64</th><th>float64</th><th>float64</th></tr></thead>\n",
       "<tr><td>Orion-CH3OH</td><td>2.60771895779e-06</td><td>1.01</td><td>55964</td><td>0.835495573504</td><td>0.136497560976</td></tr>\n",
       "<tr><td>TWHydra-CO3_2</td><td>8.99479067679e-07</td><td>1.118</td><td>23796</td><td>0.920541586074</td><td>0.0201661016949</td></tr>\n",
       "<tr><td>M100-CO1_0</td><td>9.18094227979e-08</td><td>1.592</td><td>101890</td><td>0.98341826886</td><td>0.0122426449208</td></tr>\n",
       "<tr><td>IRAS16293-2422-HCOCH</td><td>5.8952157086e-08</td><td>1.41</td><td>328044</td><td>0.942259856497</td><td>0.0262663822591</td></tr>\n",
       "</table>"
      ],
      "text/plain": [
       "<Table length=4>\n",
       "        Name                RMS        ...   Pts/Bound       Pts/Valid   \n",
       "      bytes100            float64      ...    float64         float64    \n",
       "-------------------- ----------------- ... -------------- ---------------\n",
       "         Orion-CH3OH 2.60771895779e-06 ... 0.835495573504  0.136497560976\n",
       "       TWHydra-CO3_2 8.99479067679e-07 ... 0.920541586074 0.0201661016949\n",
       "          M100-CO1_0 9.18094227979e-08 ...  0.98341826886 0.0122426449208\n",
       "IRAS16293-2422-HCOCH  5.8952157086e-08 ... 0.942259856497 0.0262663822591"
      ]
     },
     "execution_count": 13,
     "metadata": {},
     "output_type": "execute_result"
    }
   ],
   "source": [
    "phr_table=snr_table.copy()\n",
    "rbound=Column((np.array(rep_size)*100/np.array(bound))/100.0,name=\"Pts/Bound\")\n",
    "elms=Column(rep_size,name=\"Pts\")\n",
    "pval=np.array(rep_size)/(summary['Pixels']*(summary['Valid %']/100.0))\n",
    "pval.name=\"Pts/Valid\"\n",
    "phr_table.remove_column('N_max')\n",
    "phr_table.add_columns((elms,rbound,pval))\n",
    "phr_table"
   ]
  },
  {
   "cell_type": "code",
   "execution_count": 14,
   "metadata": {
    "collapsed": false
   },
   "outputs": [
    {
     "name": "stdout",
     "output_type": "stream",
     "text": [
      "\\begin{table}\n",
      "\\begin{tabular}{cccccc}\n",
      "Name & RMS & SNR & Pts & Pts/Bound & Pts/Valid \\\\\n",
      "Orion-CH3OH & 2.60771895779e-06 & 1.01 & 55964 & 0.835495573504 & 0.136497560976 \\\\\n",
      "TWHydra-CO3_2 & 8.99479067679e-07 & 1.118 & 23796 & 0.920541586074 & 0.0201661016949 \\\\\n",
      "M100-CO1_0 & 9.18094227979e-08 & 1.592 & 101890 & 0.98341826886 & 0.0122426449208 \\\\\n",
      "IRAS16293-2422-HCOCH & 5.8952157086e-08 & 1.41 & 328044 & 0.942259856497 & 0.0262663822591 \\\\\n",
      "\\end{tabular}\n",
      "\\end{table}\n"
     ]
    }
   ],
   "source": [
    "ascii.write(phr_table,format='latex')"
   ]
  },
  {
   "cell_type": "code",
   "execution_count": null,
   "metadata": {
    "collapsed": false
   },
   "outputs": [],
   "source": []
  },
  {
   "cell_type": "markdown",
   "metadata": {},
   "source": [
    "## 4. Gaussian-based Homogeneous Representation (GHR)"
   ]
  },
  {
   "cell_type": "code",
   "execution_count": 15,
   "metadata": {
    "collapsed": false
   },
   "outputs": [],
   "source": [
    "def camera_ready_algo_result(target,cube,syn,res,synP,resP):\n",
    "    ### Stylistic configurations ###\n",
    "    cmap=\"seismic\"\n",
    "    origin=\"lower\"\n",
    "  \n",
    "    # Relative sizes of the subfigure\n",
    "    fig = plt.figure(target)#,figsize=(10,5))\n",
    "    gs = gridspec.GridSpec(1, 5)# width_ratios=[1, 1, 1 , 1,1], height_ratios=[1,1,1,1,1]) \n",
    "    ### END ###\n",
    "    \n",
    "    # Obtain the zeroth moments\n",
    "    orig2D=aca.moment0(cube)\n",
    "    syn2D=aca.moment0(syn,wcs=cube.wcs,mask=cube.mask,unit=cube.unit)\n",
    "    res2D=aca.moment0(res,wcs=cube.wcs,mask=cube.mask,unit=cube.unit)\n",
    "    \n",
    "    synP2D=aca.moment0(synP,wcs=cube.wcs,mask=cube.mask,unit=cube.unit)\n",
    "    resP2D=aca.moment0(resP,wcs=cube.wcs,mask=cube.mask,unit=cube.unit)\n",
    "    \n",
    "\n",
    "    # Shared colormap minimum and maximum values\n",
    "    vmin=0\n",
    "    vmax=orig2D.data.max()\n",
    "    \n",
    "    # Obtain the spectra\n",
    "    origSpec=np.nansum(cube.data,axis=(1,2))\n",
    "    synSpec=syn.sum(axis=(1,2))\n",
    "    resSpec=res.sum(axis=(1,2))\n",
    "    synPSpec=synP.sum(axis=(1,2))\n",
    "    resPSpec=resP.sum(axis=(1,2))\n",
    "    \n",
    "    \n",
    "    # First image with WCS and name\n",
    "    ax1  = plt.subplot(gs[0],projection=orig2D.wcs)\n",
    "    ob=ax1.imshow(orig2D.data,origin=origin,vmin=vmin,vmax=vmax,cmap=cmap)\n",
    "    ax1.set_title(\"Original\")\n",
    "    ax1.set_ylabel(target)\n",
    "   \n",
    "    # Second image without WCS\n",
    "    ax2  = plt.subplot(gs[1])\n",
    "    ax2.imshow(synP2D.data,origin=origin,vmin=vmin,vmax=vmax,cmap=cmap)\n",
    "    ax2.get_xaxis().set_visible(False)\n",
    "    ax2.get_yaxis().set_visible(False)\n",
    "    ax2.set_title(\"PHR Signal\")\n",
    "  \n",
    " \n",
    "    ax3  = plt.subplot(gs[2])\n",
    "    ax3.imshow(syn2D.data,origin=origin,vmin=vmin,vmax=vmax,cmap=cmap)\n",
    "    ax3.get_xaxis().set_visible(False)\n",
    "    ax3.get_yaxis().set_visible(False)\n",
    "    ax3.set_title(\"GHR Signal\")\n",
    "\n",
    "    ax4  = plt.subplot(gs[3])\n",
    "    ax4.imshow(resP2D.data,origin=origin,vmin=vmin,vmax=vmax,cmap=cmap)\n",
    "    ax4.get_xaxis().set_visible(False)\n",
    "    ax4.get_yaxis().set_visible(False)\n",
    "    ax4.set_title(\"PHR Residual\")\n",
    " \n",
    "    ax5  = plt.subplot(gs[4])\n",
    "    ax5.imshow(res2D.data,origin=origin,vmin=vmin,vmax=vmax,cmap=cmap)\n",
    "    ax5.get_xaxis().set_visible(False)\n",
    "    ax5.get_yaxis().set_visible(False)\n",
    "    ax5.set_title(\"GHR Residual\")\n",
    "\n",
    "    # Add a colorbar\n",
    "    cb=fig.colorbar(ob,ax=[ax1,ax2,ax3,ax4,ax5], format=ticker.FuncFormatter(fmt))\n",
    "    cb.set_label(\"Flux\")\n",
    "    plt.show()\n",
    "    plt.figure()    \n",
    "    # Plot the 3 spectra with proper velocity values (from cube's resfrq)\n",
    "    axn  = plt.subplot(1,1,1)\n",
    "    ranges = aca.extent(cube)\n",
    "    vel = np.linspace(ranges[0][0], ranges[1][0], cube.data.shape[0])\n",
    "    axn.plot(vel,origSpec,color='k',label='Original',linewidth=2.0)\n",
    "    axn.plot(vel,resPSpec,color='b',label='PHR Residual',linewidth=2.0)\n",
    "    axn.plot(vel,resSpec,color='r',label='GHR Residual',linewidth=2.0)\n",
    "    axn.set_xlabel(\"Velocity [km/s]\")\n",
    "    axn.set_ylabel(\"Flux\")\n",
    "    for tl in axn.get_yticklabels():\n",
    "        tl.set_color('k')\n",
    "    axnp=axn.twinx()\n",
    "    axnp.plot(vel,synPSpec,color='b',linestyle=\":\",label='PHR Signal',linewidth=2.0)\n",
    "    axnp.plot(vel,synSpec,color='r',linestyle=\":\",label='GHR Signal',linewidth=2.0)\n",
    "    for tl in axnp.get_yticklabels():\n",
    "        tl.set_color('Gray')\n",
    "    axn.legend(loc=2)\n",
    "    axnp.legend(loc=1)\n",
    "    plt.show()    \n",
    "    \n",
    "    #axn  = plt.subplot(2,1,2)\n",
    "    #ranges = aca.extent(cube)\n",
    "    #vel = np.linspace(ranges[0][0], ranges[1][0], cube.data.shape[0])\n",
    "    #axn.plot(vel,origSpec,color='k',label='Original')\n",
    "    #axn.plot(vel,resSpec,color='k',linestyle=\"--\",label='Residual')\n",
    "    #axn.set_xlabel(\"Velocity [km/s]\")\n",
    "    #axn.set_ylabel(\"Flux\")\n",
    "    #for tl in axn.get_yticklabels():\n",
    "    #    tl.set_color('k')\n",
    "    #axnp=axn.twinx()\n",
    "    #axnp.plot(vel,synSpec,color='b',label='Signal',linewidth=2.0)\n",
    "    #for tl in axnp.get_yticklabels():\n",
    "    #    tl.set_color('b')\n",
    "    #axn.legend(loc=2)\n",
    "    #axnp.legend(loc=1)\n"
   ]
  },
  {
   "cell_type": "code",
   "execution_count": 17,
   "metadata": {
    "collapsed": false,
    "scrolled": false
   },
   "outputs": [
    {
     "name": "stdout",
     "output_type": "stream",
     "text": [
      "INFO: overwriting Masked Objects's current mask with specified mask. [astropy.nddata.nddata]\n",
      "CPU times: user 352 ms, sys: 4 ms, total: 356 ms\n",
      "Wall time: 355 ms\n",
      "2.63379614737e-06 2.60771895779e-06 [1, 2.0, 2.0]\n",
      "INFO: Iteration: 1000 [acalib.core.compact]\n",
      "INFO: Maximum energy E = 7.13003e-06 SNR = 2.73419997015 [acalib.core.compact]\n",
      "INFO: Iteration: 2000 [acalib.core.compact]\n",
      "INFO: Maximum energy E = 5.40358e-06 SNR = 2.07214969954 [acalib.core.compact]\n",
      "INFO: Iteration: 3000 [acalib.core.compact]\n",
      "INFO: Maximum energy E = 4.28533e-06 SNR = 1.64332678015 [acalib.core.compact]\n",
      "INFO: Iteration: 4000 [acalib.core.compact]\n",
      "INFO: Maximum energy E = 3.49839e-06 SNR = 1.34155178209 [acalib.core.compact]\n",
      "INFO: Iteration: 5000 [acalib.core.compact]\n",
      "INFO: Maximum energy E = 3.02502e-06 SNR = 1.16002612755 [acalib.core.compact]\n",
      "INFO: Iteration: 6000 [acalib.core.compact]\n",
      "INFO: Maximum energy E = 2.77492e-06 SNR = 1.06411763172 [acalib.core.compact]\n",
      "INFO: Iteration: 7000 [acalib.core.compact]\n",
      "INFO: Maximum energy E = 2.63736e-06 SNR = 1.01136509038 [acalib.core.compact]\n",
      "INFO: Criterion Met: SNR=1.00996800409<1.01 [acalib.core.compact]\n",
      "CPU times: user 36.5 s, sys: 8 ms, total: 36.5 s\n",
      "Wall time: 36.4 s\n",
      "INFO: overwriting Masked Objects's current mask with specified mask. [astropy.nddata.nddata]\n",
      "CPU times: user 88 ms, sys: 0 ns, total: 88 ms\n",
      "Wall time: 89.2 ms\n",
      "1.00561759766e-06 8.99479067679e-07 [1, 3.0, 3.0]\n"
     ]
    },
    {
     "ename": "KeyboardInterrupt",
     "evalue": "",
     "output_type": "error",
     "traceback": [
      "\u001b[0;31m---------------------------------------------------------------------------\u001b[0m",
      "\u001b[0;31mKeyboardInterrupt\u001b[0m                         Traceback (most recent call last)",
      "\u001b[0;32m<ipython-input-17-3bb9d18e40bb>\u001b[0m in \u001b[0;36m<module>\u001b[0;34m()\u001b[0m\n\u001b[1;32m     23\u001b[0m     \u001b[0;31m# Create representation\u001b[0m\u001b[0;34m\u001b[0m\u001b[0;34m\u001b[0m\u001b[0m\n\u001b[1;32m     24\u001b[0m     \u001b[0mget_ipython\u001b[0m\u001b[0;34m(\u001b[0m\u001b[0;34m)\u001b[0m\u001b[0;34m.\u001b[0m\u001b[0mmagic\u001b[0m\u001b[0;34m(\u001b[0m\u001b[0;34m'time (repP,synP,resP)=scatpix_detect(cube.data,threshold=mythresh,noise=mynoise,full_output=True)'\u001b[0m\u001b[0;34m)\u001b[0m\u001b[0;34m\u001b[0m\u001b[0m\n\u001b[0;32m---> 25\u001b[0;31m     \u001b[0mget_ipython\u001b[0m\u001b[0;34m(\u001b[0m\u001b[0;34m)\u001b[0m\u001b[0;34m.\u001b[0m\u001b[0mmagic\u001b[0m\u001b[0;34m(\u001b[0m\u001b[0;34m'time (rep,syn,res,ener,elist)=bubble_detect(cube.data,meta=cube.meta,threshold=mythresh,noise=mynoise,full_output=True,verbose=True)'\u001b[0m\u001b[0;34m)\u001b[0m\u001b[0;34m\u001b[0m\u001b[0m\n\u001b[0m\u001b[1;32m     26\u001b[0m \u001b[0;34m\u001b[0m\u001b[0m\n\u001b[1;32m     27\u001b[0m     \u001b[0mcamera_ready_algo_result\u001b[0m\u001b[0;34m(\u001b[0m\u001b[0mtarget\u001b[0m\u001b[0;34m,\u001b[0m\u001b[0mcube\u001b[0m\u001b[0;34m,\u001b[0m\u001b[0msyn\u001b[0m\u001b[0;34m,\u001b[0m\u001b[0mres\u001b[0m\u001b[0;34m,\u001b[0m\u001b[0msynP\u001b[0m\u001b[0;34m,\u001b[0m\u001b[0mresP\u001b[0m\u001b[0;34m)\u001b[0m\u001b[0;34m\u001b[0m\u001b[0m\n",
      "\u001b[0;32m/home/mauricio/anaconda3/envs/astro3.5/lib/python3.5/site-packages/IPython/core/interactiveshell.py\u001b[0m in \u001b[0;36mmagic\u001b[0;34m(self, arg_s)\u001b[0m\n\u001b[1;32m   2156\u001b[0m         \u001b[0mmagic_name\u001b[0m\u001b[0;34m,\u001b[0m \u001b[0m_\u001b[0m\u001b[0;34m,\u001b[0m \u001b[0mmagic_arg_s\u001b[0m \u001b[0;34m=\u001b[0m \u001b[0marg_s\u001b[0m\u001b[0;34m.\u001b[0m\u001b[0mpartition\u001b[0m\u001b[0;34m(\u001b[0m\u001b[0;34m' '\u001b[0m\u001b[0;34m)\u001b[0m\u001b[0;34m\u001b[0m\u001b[0m\n\u001b[1;32m   2157\u001b[0m         \u001b[0mmagic_name\u001b[0m \u001b[0;34m=\u001b[0m \u001b[0mmagic_name\u001b[0m\u001b[0;34m.\u001b[0m\u001b[0mlstrip\u001b[0m\u001b[0;34m(\u001b[0m\u001b[0mprefilter\u001b[0m\u001b[0;34m.\u001b[0m\u001b[0mESC_MAGIC\u001b[0m\u001b[0;34m)\u001b[0m\u001b[0;34m\u001b[0m\u001b[0m\n\u001b[0;32m-> 2158\u001b[0;31m         \u001b[0;32mreturn\u001b[0m \u001b[0mself\u001b[0m\u001b[0;34m.\u001b[0m\u001b[0mrun_line_magic\u001b[0m\u001b[0;34m(\u001b[0m\u001b[0mmagic_name\u001b[0m\u001b[0;34m,\u001b[0m \u001b[0mmagic_arg_s\u001b[0m\u001b[0;34m)\u001b[0m\u001b[0;34m\u001b[0m\u001b[0m\n\u001b[0m\u001b[1;32m   2159\u001b[0m \u001b[0;34m\u001b[0m\u001b[0m\n\u001b[1;32m   2160\u001b[0m     \u001b[0;31m#-------------------------------------------------------------------------\u001b[0m\u001b[0;34m\u001b[0m\u001b[0;34m\u001b[0m\u001b[0m\n",
      "\u001b[0;32m/home/mauricio/anaconda3/envs/astro3.5/lib/python3.5/site-packages/IPython/core/interactiveshell.py\u001b[0m in \u001b[0;36mrun_line_magic\u001b[0;34m(self, magic_name, line)\u001b[0m\n\u001b[1;32m   2077\u001b[0m                 \u001b[0mkwargs\u001b[0m\u001b[0;34m[\u001b[0m\u001b[0;34m'local_ns'\u001b[0m\u001b[0;34m]\u001b[0m \u001b[0;34m=\u001b[0m \u001b[0msys\u001b[0m\u001b[0;34m.\u001b[0m\u001b[0m_getframe\u001b[0m\u001b[0;34m(\u001b[0m\u001b[0mstack_depth\u001b[0m\u001b[0;34m)\u001b[0m\u001b[0;34m.\u001b[0m\u001b[0mf_locals\u001b[0m\u001b[0;34m\u001b[0m\u001b[0m\n\u001b[1;32m   2078\u001b[0m             \u001b[0;32mwith\u001b[0m \u001b[0mself\u001b[0m\u001b[0;34m.\u001b[0m\u001b[0mbuiltin_trap\u001b[0m\u001b[0;34m:\u001b[0m\u001b[0;34m\u001b[0m\u001b[0m\n\u001b[0;32m-> 2079\u001b[0;31m                 \u001b[0mresult\u001b[0m \u001b[0;34m=\u001b[0m \u001b[0mfn\u001b[0m\u001b[0;34m(\u001b[0m\u001b[0;34m*\u001b[0m\u001b[0margs\u001b[0m\u001b[0;34m,\u001b[0m\u001b[0;34m**\u001b[0m\u001b[0mkwargs\u001b[0m\u001b[0;34m)\u001b[0m\u001b[0;34m\u001b[0m\u001b[0m\n\u001b[0m\u001b[1;32m   2080\u001b[0m             \u001b[0;32mreturn\u001b[0m \u001b[0mresult\u001b[0m\u001b[0;34m\u001b[0m\u001b[0m\n\u001b[1;32m   2081\u001b[0m \u001b[0;34m\u001b[0m\u001b[0m\n",
      "\u001b[0;32m<decorator-gen-59>\u001b[0m in \u001b[0;36mtime\u001b[0;34m(self, line, cell, local_ns)\u001b[0m\n",
      "\u001b[0;32m/home/mauricio/anaconda3/envs/astro3.5/lib/python3.5/site-packages/IPython/core/magic.py\u001b[0m in \u001b[0;36m<lambda>\u001b[0;34m(f, *a, **k)\u001b[0m\n\u001b[1;32m    186\u001b[0m     \u001b[0;31m# but it's overkill for just that one bit of state.\u001b[0m\u001b[0;34m\u001b[0m\u001b[0;34m\u001b[0m\u001b[0m\n\u001b[1;32m    187\u001b[0m     \u001b[0;32mdef\u001b[0m \u001b[0mmagic_deco\u001b[0m\u001b[0;34m(\u001b[0m\u001b[0marg\u001b[0m\u001b[0;34m)\u001b[0m\u001b[0;34m:\u001b[0m\u001b[0;34m\u001b[0m\u001b[0m\n\u001b[0;32m--> 188\u001b[0;31m         \u001b[0mcall\u001b[0m \u001b[0;34m=\u001b[0m \u001b[0;32mlambda\u001b[0m \u001b[0mf\u001b[0m\u001b[0;34m,\u001b[0m \u001b[0;34m*\u001b[0m\u001b[0ma\u001b[0m\u001b[0;34m,\u001b[0m \u001b[0;34m**\u001b[0m\u001b[0mk\u001b[0m\u001b[0;34m:\u001b[0m \u001b[0mf\u001b[0m\u001b[0;34m(\u001b[0m\u001b[0;34m*\u001b[0m\u001b[0ma\u001b[0m\u001b[0;34m,\u001b[0m \u001b[0;34m**\u001b[0m\u001b[0mk\u001b[0m\u001b[0;34m)\u001b[0m\u001b[0;34m\u001b[0m\u001b[0m\n\u001b[0m\u001b[1;32m    189\u001b[0m \u001b[0;34m\u001b[0m\u001b[0m\n\u001b[1;32m    190\u001b[0m         \u001b[0;32mif\u001b[0m \u001b[0mcallable\u001b[0m\u001b[0;34m(\u001b[0m\u001b[0marg\u001b[0m\u001b[0;34m)\u001b[0m\u001b[0;34m:\u001b[0m\u001b[0;34m\u001b[0m\u001b[0m\n",
      "\u001b[0;32m/home/mauricio/anaconda3/envs/astro3.5/lib/python3.5/site-packages/IPython/core/magics/execution.py\u001b[0m in \u001b[0;36mtime\u001b[0;34m(self, line, cell, local_ns)\u001b[0m\n\u001b[1;32m   1178\u001b[0m         \u001b[0;32melse\u001b[0m\u001b[0;34m:\u001b[0m\u001b[0;34m\u001b[0m\u001b[0m\n\u001b[1;32m   1179\u001b[0m             \u001b[0mst\u001b[0m \u001b[0;34m=\u001b[0m \u001b[0mclock2\u001b[0m\u001b[0;34m(\u001b[0m\u001b[0;34m)\u001b[0m\u001b[0;34m\u001b[0m\u001b[0m\n\u001b[0;32m-> 1180\u001b[0;31m             \u001b[0mexec\u001b[0m\u001b[0;34m(\u001b[0m\u001b[0mcode\u001b[0m\u001b[0;34m,\u001b[0m \u001b[0mglob\u001b[0m\u001b[0;34m,\u001b[0m \u001b[0mlocal_ns\u001b[0m\u001b[0;34m)\u001b[0m\u001b[0;34m\u001b[0m\u001b[0m\n\u001b[0m\u001b[1;32m   1181\u001b[0m             \u001b[0mend\u001b[0m \u001b[0;34m=\u001b[0m \u001b[0mclock2\u001b[0m\u001b[0;34m(\u001b[0m\u001b[0;34m)\u001b[0m\u001b[0;34m\u001b[0m\u001b[0m\n\u001b[1;32m   1182\u001b[0m             \u001b[0mout\u001b[0m \u001b[0;34m=\u001b[0m \u001b[0;32mNone\u001b[0m\u001b[0;34m\u001b[0m\u001b[0m\n",
      "\u001b[0;32m<timed exec>\u001b[0m in \u001b[0;36m<module>\u001b[0;34m()\u001b[0m\n",
      "\u001b[0;32m/home/mauricio/papers/ac2016/ACALIB/acalib/core/compact.py\u001b[0m in \u001b[0;36mbubble_detect\u001b[0;34m(data, meta, noise, threshold, delta, gamma, full_output, verbose)\u001b[0m\n\u001b[1;32m    177\u001b[0m             \u001b[0madd\u001b[0m\u001b[0;34m(\u001b[0m\u001b[0msynthetic\u001b[0m\u001b[0;34m,\u001b[0m\u001b[0mnoise\u001b[0m\u001b[0;34m*\u001b[0m\u001b[0mmould\u001b[0m\u001b[0;34m,\u001b[0m\u001b[0mlb\u001b[0m\u001b[0;34m,\u001b[0m\u001b[0mub\u001b[0m\u001b[0;34m)\u001b[0m\u001b[0;34m\u001b[0m\u001b[0m\n\u001b[1;32m    178\u001b[0m             \u001b[0melist\u001b[0m\u001b[0;34m.\u001b[0m\u001b[0mappend\u001b[0m\u001b[0;34m(\u001b[0m\u001b[0mmax_ener\u001b[0m\u001b[0;34m)\u001b[0m\u001b[0;34m\u001b[0m\u001b[0m\n\u001b[0;32m--> 179\u001b[0;31m         \u001b[0m_update_energies_sym\u001b[0m\u001b[0;34m(\u001b[0m\u001b[0mresidual\u001b[0m\u001b[0;34m,\u001b[0m\u001b[0menergy\u001b[0m\u001b[0;34m,\u001b[0m\u001b[0mev\u001b[0m\u001b[0;34m,\u001b[0m\u001b[0mef\u001b[0m\u001b[0;34m,\u001b[0m\u001b[0mlb\u001b[0m\u001b[0;34m,\u001b[0m\u001b[0mub\u001b[0m\u001b[0;34m)\u001b[0m\u001b[0;34m\u001b[0m\u001b[0m\n\u001b[0m\u001b[1;32m    180\u001b[0m         \u001b[0mpositions\u001b[0m\u001b[0;34m.\u001b[0m\u001b[0mappend\u001b[0m\u001b[0;34m(\u001b[0m\u001b[0midx\u001b[0m\u001b[0;34m)\u001b[0m\u001b[0;34m\u001b[0m\u001b[0m\n\u001b[1;32m    181\u001b[0m     \u001b[0mpositions\u001b[0m\u001b[0;34m=\u001b[0m\u001b[0mnp\u001b[0m\u001b[0;34m.\u001b[0m\u001b[0marray\u001b[0m\u001b[0;34m(\u001b[0m\u001b[0mpositions\u001b[0m\u001b[0;34m)\u001b[0m\u001b[0;34m\u001b[0m\u001b[0m\n",
      "\u001b[0;32m/home/mauricio/papers/ac2016/ACALIB/acalib/core/compact.py\u001b[0m in \u001b[0;36m_update_energies_sym\u001b[0;34m(residual, energy, ev, ef, lb, ub)\u001b[0m\n\u001b[1;32m     65\u001b[0m          \u001b[0mdset\u001b[0m\u001b[0;34m=\u001b[0m\u001b[0mnp\u001b[0m\u001b[0;34m.\u001b[0m\u001b[0mvstack\u001b[0m\u001b[0;34m(\u001b[0m\u001b[0;34m{\u001b[0m\u001b[0mtuple\u001b[0m\u001b[0;34m(\u001b[0m\u001b[0mrow\u001b[0m\u001b[0;34m)\u001b[0m \u001b[0;32mfor\u001b[0m \u001b[0mrow\u001b[0m \u001b[0;32min\u001b[0m \u001b[0mdset\u001b[0m\u001b[0;34m}\u001b[0m\u001b[0;34m)\u001b[0m\u001b[0;34m\u001b[0m\u001b[0m\n\u001b[1;32m     66\u001b[0m          \u001b[0;32mfor\u001b[0m \u001b[0mdelta\u001b[0m \u001b[0;32min\u001b[0m \u001b[0mdset\u001b[0m\u001b[0;34m:\u001b[0m\u001b[0;34m\u001b[0m\u001b[0m\n\u001b[0;32m---> 67\u001b[0;31m              \u001b[0m_update_min_energy\u001b[0m\u001b[0;34m(\u001b[0m\u001b[0menergy\u001b[0m\u001b[0;34m,\u001b[0m\u001b[0mmat\u001b[0m\u001b[0;34m,\u001b[0m\u001b[0mub\u001b[0m\u001b[0;34m,\u001b[0m\u001b[0mlb\u001b[0m\u001b[0;34m,\u001b[0m\u001b[0mdelta\u001b[0m\u001b[0;34m)\u001b[0m\u001b[0;34m\u001b[0m\u001b[0m\n\u001b[0m\u001b[1;32m     68\u001b[0m \u001b[0;34m\u001b[0m\u001b[0m\n\u001b[1;32m     69\u001b[0m \u001b[0;32mdef\u001b[0m \u001b[0m_precision_from_delta\u001b[0m\u001b[0;34m(\u001b[0m\u001b[0mdelta\u001b[0m\u001b[0;34m,\u001b[0m\u001b[0mclev\u001b[0m\u001b[0;34m)\u001b[0m\u001b[0;34m:\u001b[0m\u001b[0;34m\u001b[0m\u001b[0m\n",
      "\u001b[0;32m/home/mauricio/papers/ac2016/ACALIB/acalib/core/compact.py\u001b[0m in \u001b[0;36m_update_min_energy\u001b[0;34m(energy, mat, ub, lb, delta)\u001b[0m\n\u001b[1;32m     13\u001b[0m     \u001b[0mub\u001b[0m\u001b[0;34m=\u001b[0m\u001b[0mnp\u001b[0m\u001b[0;34m.\u001b[0m\u001b[0marray\u001b[0m\u001b[0;34m(\u001b[0m\u001b[0mub\u001b[0m\u001b[0;34m)\u001b[0m\u001b[0;34m\u001b[0m\u001b[0m\n\u001b[1;32m     14\u001b[0m     \u001b[0mlb\u001b[0m\u001b[0;34m=\u001b[0m\u001b[0mnp\u001b[0m\u001b[0;34m.\u001b[0m\u001b[0marray\u001b[0m\u001b[0;34m(\u001b[0m\u001b[0mlb\u001b[0m\u001b[0;34m)\u001b[0m\u001b[0;34m\u001b[0m\u001b[0m\n\u001b[0;32m---> 15\u001b[0;31m     \u001b[0mdelta\u001b[0m\u001b[0;34m=\u001b[0m\u001b[0mnp\u001b[0m\u001b[0;34m.\u001b[0m\u001b[0marray\u001b[0m\u001b[0;34m(\u001b[0m\u001b[0mdelta\u001b[0m\u001b[0;34m,\u001b[0m\u001b[0mdtype\u001b[0m\u001b[0;34m=\u001b[0m\u001b[0mint\u001b[0m\u001b[0;34m)\u001b[0m\u001b[0;34m\u001b[0m\u001b[0m\n\u001b[0m\u001b[1;32m     16\u001b[0m     \u001b[0;31m# Create energy (e) and mat (m) indices\u001b[0m\u001b[0;34m\u001b[0m\u001b[0;34m\u001b[0m\u001b[0m\n\u001b[1;32m     17\u001b[0m     \u001b[0meub\u001b[0m\u001b[0;34m=\u001b[0m\u001b[0mub\u001b[0m \u001b[0;34m+\u001b[0m \u001b[0mdelta\u001b[0m\u001b[0;34m\u001b[0m\u001b[0m\n",
      "\u001b[0;31mKeyboardInterrupt\u001b[0m: "
     ]
    }
   ],
   "source": [
    "from acalib.core.compact import *\n",
    "from acalib.core.models import *\n",
    "count=0\n",
    "results=[]\n",
    "syn_list=[]\n",
    "ener_list =[]\n",
    "resi_list=[]\n",
    "for ffile in flist:\n",
    "    # Preparing data\n",
    "    hdulist = fits.open(DOWNLOADS_DIR+ffile[0])\n",
    "    cube    = aca.HDU_to_NDData(hdulist[0])\n",
    "    target  = ffile[1]\n",
    "    (cube,ym,yf)=aca.standarize(cube)\n",
    "    mynoise=snr_table['RMS'][count]\n",
    "    mythresh=mynoise*snr_table['SNR'][count]\n",
    "    \n",
    "    # Compute mould\n",
    "    #spa=np.ceil((np.abs(cube.meta['BMIN']/cube.meta['CDELT1']) - 1)/2.0)\n",
    "    #delta=[1,spa,spa]\n",
    "    #P=precision_from_delta(delta,0.1)\n",
    "    #mould=create_mould(P,delta)\n",
    "    \n",
    "    # Create representation\n",
    "    %time (repP,synP,resP)=scatpix_detect(cube.data,threshold=mythresh,noise=mynoise,full_output=True)\n",
    "    %time (rep,syn,res,ener,elist)=bubble_detect(cube.data,meta=cube.meta,threshold=mythresh,noise=mynoise,full_output=True,verbose=True)\n",
    "    \n",
    "    camera_ready_algo_result(target,cube,syn,res,synP,resP)\n",
    "    results.append(rep)\n",
    "    syn_list.append(syn)\n",
    "    ener_list.append(elist)\n",
    "    resi_list.append(res)\n",
    "    count+=1"
   ]
  },
  {
   "cell_type": "markdown",
   "metadata": {},
   "source": [
    "### Summary table"
   ]
  },
  {
   "cell_type": "code",
   "execution_count": null,
   "metadata": {
    "collapsed": false
   },
   "outputs": [],
   "source": [
    "ghr_table=phr_table.copy()\n",
    "rep_size=[]\n",
    "for rep in results:\n",
    "    rep_size.append(rep.as_array().size)\n",
    "    #rep_size.append(res.size)\n",
    "print(rep_size)\n",
    "rbound=Column((np.array(rep_size)*100/np.array(bound))/100.0,name=\"Pts/Bound\")\n",
    "elms=Column(rep_size,name=\"Pts\")\n",
    "pval=np.array(rep_size)/(summary['Pixels']*(summary['Valid %']/100.0))\n",
    "pval.name=\"Pts/Valid\"\n",
    "pthr=np.array(rep_size)/phr_table[\"Pts\"]\n",
    "pthr.name=\"Pts/Phr\"\n",
    "ghr_table.remove_column('Pts')\n",
    "ghr_table.remove_column('Pts/Valid')\n",
    "ghr_table.remove_column('Pts/Bound')\n",
    "ghr_table.add_columns((elms,rbound,pthr,pval))\n",
    "ghr_table"
   ]
  },
  {
   "cell_type": "code",
   "execution_count": null,
   "metadata": {
    "collapsed": false
   },
   "outputs": [],
   "source": [
    "ascii.write(ghr_table,format='latex')"
   ]
  },
  {
   "cell_type": "markdown",
   "metadata": {},
   "source": [
    "## Save the results!"
   ]
  },
  {
   "cell_type": "code",
   "execution_count": null,
   "metadata": {
    "collapsed": false
   },
   "outputs": [],
   "source": [
    "from astropy.nddata import NDData\n",
    "ascii.write(ghr_table, 'GHR-Summary.dat')\n",
    "ascii.write(phr_table, 'PHR-Summary.dat')\n",
    "ascii.write(summary,'Data-Summary.dat')\n",
    "ascii.write(snr_table,'SNR-Summary.dat')\n",
    "for i in range(len(flist)):\n",
    "    # Convert Results to savable table\n",
    "    rep=results[i]['center'].data\n",
    "    ffile=flist[i]\n",
    "    name=ffile[1]\n",
    "    hdulist = fits.open(DOWNLOADS_DIR+ffile[0])\n",
    "    cube    = aca.HDU_to_NDData(hdulist[0])\n",
    "    ascii.write(rep,\"REP-\"+name+\".dat\")\n",
    "    img=syn_list[i]\n",
    "    hdu=aca.NDData_to_HDU(NDData(img,wcs=cube.wcs,meta=cube.meta,mask=cube.mask),primary=True)\n",
    "    hdu.writeto(\"SYN-\"+name+\".fits\",clobber=True)\n",
    "    img=resi_list[i]\n",
    "    hdu=aca.NDData_to_HDU(NDData(img,wcs=cube.wcs,meta=cube.meta,mask=cube.mask),primary=True)\n",
    "    hdu.writeto(\"RES-\"+name+\".fits\",clobber=True)"
   ]
  },
  {
   "cell_type": "markdown",
   "metadata": {},
   "source": [
    "### Differences between representations"
   ]
  },
  {
   "cell_type": "code",
   "execution_count": null,
   "metadata": {
    "collapsed": false,
    "scrolled": false
   },
   "outputs": [],
   "source": [
    "\n",
    "cmap=\"seismic\"\n",
    "origin=\"lower\"\n",
    "\n",
    "for ite in range(len(results)):\n",
    "    (filename,target)=flist[ite]\n",
    "    hdulist = fits.open(DOWNLOADS_DIR+filename)\n",
    "    cube    = aca.HDU_to_NDData(hdulist[0])\n",
    "    target  = ffile[1]\n",
    "    (cube,ym,yf)=aca.standarize(cube)\n",
    "    mynoise=snr_table['RMS'][ite]\n",
    "    mythresh=mynoise*snr_table['SNR'][ite]\n",
    "    resBub=resi_list[ite]\n",
    "    (repPhb,synPhb,resPhb)=scatpix_detect(cube.data,threshold=mythresh,noise=mynoise,full_output=True)\n",
    "    #resPhb2D= np.sum(resPhb.data,axis=(0))\n",
    "    resPhb2D=aca.moment0(resPhb,wcs=cube.wcs).data\n",
    "    #resBub2D= np.sum(resBub.data,axis=(0))\n",
    "    resBub2D=aca.moment0(resBub,wcs=cube.wcs).data\n",
    "    #phbmean=resPhb2D[resPhb2D>0].mean()\n",
    "    #bubmean=resBub2D[resBub2D>0].mean()\n",
    "    fig=plt.figure(figsize=(10,5))\n",
    "    vmax=np.nanmax(resBub2D)\n",
    "    vmin=0.0\n",
    "    ax1=plt.subplot(1,2,1)\n",
    "    ax1.get_xaxis().set_visible(False)\n",
    "    ax1.get_yaxis().set_visible(False)\n",
    "    ax1.set_title(\"PHR Residual\")\n",
    "    ob=ax1.imshow(resPhb2D,vmax=vmax,vmin=vmin,origin=origin,cmap=cmap)\n",
    "    ax2=plt.subplot(1,2,2)\n",
    "    ax2.imshow(resBub2D,vmax=vmax,vmin=vmin,origin=origin,cmap=cmap)\n",
    "    ax2.get_xaxis().set_visible(False)\n",
    "    ax2.get_yaxis().set_visible(False)\n",
    "    ax2.set_title(\"GHR Residual\")\n",
    "    cb=fig.colorbar(ob,ax=[ax1,ax2], format=ticker.FuncFormatter(fmt))\n",
    "    cb.set_label(\"Flux\")\n",
    "    plt.show()"
   ]
  },
  {
   "cell_type": "code",
   "execution_count": null,
   "metadata": {
    "collapsed": true
   },
   "outputs": [],
   "source": []
  },
  {
   "cell_type": "code",
   "execution_count": 23,
   "metadata": {
    "collapsed": false
   },
   "outputs": [
    {
     "data": {
      "text/plain": [
       "0.3474576271186441"
      ]
     },
     "execution_count": 23,
     "metadata": {},
     "output_type": "execute_result"
    }
   ],
   "source": [
    "410000/1180000"
   ]
  },
  {
   "cell_type": "code",
   "execution_count": 21,
   "metadata": {
    "collapsed": false
   },
   "outputs": [
    {
     "data": {
      "text/plain": [
       "4.532903225806452"
      ]
     },
     "execution_count": 21,
     "metadata": {},
     "output_type": "execute_result"
    }
   ],
   "source": [
    "7026/1550"
   ]
  },
  {
   "cell_type": "code",
   "execution_count": 22,
   "metadata": {
    "collapsed": false
   },
   "outputs": [
    {
     "data": {
      "text/plain": [
       "2.466666666666667"
      ]
     },
     "execution_count": 22,
     "metadata": {},
     "output_type": "execute_result"
    }
   ],
   "source": [
    "37/15"
   ]
  },
  {
   "cell_type": "code",
   "execution_count": 19,
   "metadata": {
    "collapsed": false
   },
   "outputs": [
    {
     "data": {
      "text/plain": [
       "2.3518238359388133"
      ]
     },
     "execution_count": 19,
     "metadata": {},
     "output_type": "execute_result"
    }
   ],
   "source": [
    "55964/23796"
   ]
  },
  {
   "cell_type": "code",
   "execution_count": 20,
   "metadata": {
    "collapsed": false
   },
   "outputs": [
    {
     "data": {
      "text/plain": [
       "3.2727272727272725"
      ]
     },
     "execution_count": 20,
     "metadata": {},
     "output_type": "execute_result"
    }
   ],
   "source": [
    "0.36/0.11"
   ]
  },
  {
   "cell_type": "code",
   "execution_count": null,
   "metadata": {
    "collapsed": true
   },
   "outputs": [],
   "source": []
  },
  {
   "cell_type": "code",
   "execution_count": null,
   "metadata": {
    "collapsed": true
   },
   "outputs": [],
   "source": []
  },
  {
   "cell_type": "code",
   "execution_count": null,
   "metadata": {
    "collapsed": true
   },
   "outputs": [],
   "source": []
  }
 ],
 "metadata": {
  "anaconda-cloud": {},
  "kernelspec": {
   "display_name": "Python [conda env:astro3.5]",
   "language": "python",
   "name": "conda-env-astro3.5-py"
  },
  "language_info": {
   "codemirror_mode": {
    "name": "ipython",
    "version": 3
   },
   "file_extension": ".py",
   "mimetype": "text/x-python",
   "name": "python",
   "nbconvert_exporter": "python",
   "pygments_lexer": "ipython3",
   "version": "3.5.1"
  }
 },
 "nbformat": 4,
 "nbformat_minor": 0
}

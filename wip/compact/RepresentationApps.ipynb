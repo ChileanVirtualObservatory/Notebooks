{
 "cells": [
  {
   "cell_type": "markdown",
   "metadata": {},
   "source": [
    "# Homogeneous Representations of Spectroscopic Data Cubes \n",
    "# Part 2: APPlications\n",
    "## Astronomy and Computing Journal, 2017\n",
    "### Mauricio Araya (1), Diego Mardones (2), Marcelo Mendoza (1) and Mauricio Solar (1)\n",
    "\n",
    "(1) Universidad Técnica Federico Santa María <br>\n",
    "(2) Universidad de Chile\n",
    "\n",
    "# 1. Introduction\n",
    "\n",
    "This notebook contains the code for replicating the experiments presented in the paper \"Homogeneous Representations of Spectroscopic Data Cubes\". First, you need to download and install the development version of the library `acalib` from github. (part 2)\n",
    "\n",
    "> git clone acalib\n",
    "\n",
    "> python setup.py\n",
    "\n",
    "(The pip version is not useful).\n",
    "\n",
    "### Imports and Initialization"
   ]
  },
  {
   "cell_type": "code",
   "execution_count": 1,
   "metadata": {
    "collapsed": true
   },
   "outputs": [
    {
     "name": "stderr",
     "output_type": "stream",
     "text": [
      "WARNING: AstropyDeprecationWarning: The astropy.vo.samp module has now been moved to astropy.samp [astropy.vo.samp]\n"
     ]
    }
   ],
   "source": [
    "#matplotlib qt\n",
    "%matplotlib inline\n",
    "\n",
    "import acalib"
   ]
  },
  {
   "cell_type": "markdown",
   "metadata": {},
   "source": [
    "### Downloading Data\n",
    "Our data set is composed by a few spectroscopic cubes from the \u001b[ALMA Science Verification Dataset](https://almascience.nrao.edu/alma-data/science-verification). The following code download, uncompress and rename the files for its use.\n",
    "Please note that this code does not download de data again if it is found (was downloaded for example en part 1)"
   ]
  },
  {
   "cell_type": "code",
   "execution_count": 2,
   "metadata": {},
   "outputs": [
    {
     "name": "stdout",
     "output_type": "stream",
     "text": [
      "File found, skipping download of https://almascience.nrao.edu/almadata/sciver/OrionKLBand6/OrionKL_Band6_ReferenceImages.tgz\n",
      "Directory data/OrionKL_Band6_ReferenceImages found, not uncompressing\n",
      "File found, skipping download of https://almascience.nrao.edu/almadata/sciver/TWHya/TWHYA_BAND7_ReferenceImages.tgz\n",
      "Directory data/TWHYA_BAND7_ReferenceImages found, not uncompressing\n",
      "File found, skipping download of https://bulk.cv.nrao.edu/almadata/sciver/M100Band3_12m/M100_Band3_ReferenceImages_CASA3.3.tgz\n",
      "Directory data/M100_Band3_ReferenceImages found, not uncompressing\n",
      "File found, skipping download of https://almascience.nrao.edu/almadata/sciver/IRAS16293Band6/IRAS16293_Band6_ReferenceImages.tgz\n",
      "Directory data/IRAS16293_Band6_ReferenceImages found, not uncompressing\n"
     ]
    }
   ],
   "source": [
    "import os\n",
    "import urllib.request\n",
    "import tarfile\n",
    "from shutil import copyfile\n",
    "\n",
    "DOWNLOADS_DIR = 'data/'\n",
    "\n",
    "# Data from ALMA science verification \n",
    "\n",
    "# URLs of the tarballs\n",
    "urls  = ['https://almascience.nrao.edu/almadata/sciver/OrionKLBand6/OrionKL_Band6_ReferenceImages.tgz',\n",
    "         'https://almascience.nrao.edu/almadata/sciver/TWHya/TWHYA_BAND7_ReferenceImages.tgz',\n",
    "         'https://bulk.cv.nrao.edu/almadata/sciver/M100Band3_12m/M100_Band3_ReferenceImages_CASA3.3.tgz',\n",
    "         #'https://bulk.cv.nrao.edu/almadata/sciver/AntennaeBand7/Antennae_Band7_ReferenceImages.tgz',\n",
    "         'https://almascience.nrao.edu/almadata/sciver/IRAS16293Band6/IRAS16293_Band6_ReferenceImages.tgz']\n",
    "\n",
    "# Fits names and their \"fantasy\" names \n",
    "flist  = [('Orion.methanol.cbc.contsub.image.fits',          'Orion-CH3OH'),\n",
    "          ('TWHydra_CO3_2line.image.fits',                   'TWHydra-CO3_2'),\n",
    "          ('M100line.image.fits',                            'M100-CO1_0'),\n",
    "          #('Antennae_North.CO3_2Line.Clean.pcal1.image.fits','AntennaeN-CO3_'),\n",
    "          ('I16293_220GHzcorrected.ms.selfcube.image.fits',  'IRAS16293-2422-HCOCH')]\n",
    "\n",
    "fits_map=dict(zip(urls, flist))\n",
    "\n",
    "for url,ffile in fits_map.items():\n",
    "    # Split on the rightmost / and take everything on the right side of that\n",
    "    name = url.rsplit('/', 1)[-1]\n",
    "    # Combine the name and the downloads directory to get the local filename\n",
    "    filename = os.path.join(DOWNLOADS_DIR, name)\n",
    "    if not os.path.isfile(filename):\n",
    "        print(\"Downloading \"+str(url))\n",
    "        urllib.request.urlretrieve(url, filename)\n",
    "    else:\n",
    "        print(\"File found, skipping download of \"+str(url))\n",
    "    sdir=filename.rsplit('ReferenceImages',1)[0]+\"ReferenceImages\"\n",
    "    #print(sdir)\n",
    "    if not os.path.isdir(sdir):\n",
    "        print(\"Uncompressing \"+str(filename))\n",
    "        tar = tarfile.open(filename)\n",
    "        tar.extractall(path=DOWNLOADS_DIR)\n",
    "        tar.close()\n",
    "    else:\n",
    "        print(\"Directory \"+str(sdir)+ \" found, not uncompressing\")\n",
    "    copyfile(sdir+\"/\"+ffile[0], DOWNLOADS_DIR+\"/\"+ffile[0])\n",
    "    "
   ]
  },
  {
   "cell_type": "markdown",
   "metadata": {},
   "source": [
    "### Load Data from part 1"
   ]
  },
  {
   "cell_type": "code",
   "execution_count": 3,
   "metadata": {},
   "outputs": [
    {
     "name": "stdout",
     "output_type": "stream",
     "text": [
      "INFO: Processing PrimaryHDU Object 0 [acalib.io.fits]\n",
      "INFO: Processing PrimaryHDU Object 0 [acalib.io.fits]\n",
      "INFO: Processing PrimaryHDU Object 0 [acalib.io.fits]\n",
      "INFO: Processing PrimaryHDU Object 0 [acalib.io.fits]\n",
      "INFO: Processing PrimaryHDU Object 0 [acalib.io.fits]\n",
      "INFO: Processing PrimaryHDU Object 0 [acalib.io.fits]\n",
      "INFO: Processing PrimaryHDU Object 0 [acalib.io.fits]\n",
      "INFO: Processing PrimaryHDU Object 0 [acalib.io.fits]\n"
     ]
    }
   ],
   "source": [
    "\n",
    "from astropy.nddata import NDData\n",
    "from astropy.io import ascii,fits\n",
    "ghr_table=ascii.read(\"GHR-Summary.dat\")\n",
    "phr_table=ascii.read(\"PHR-Summary.dat\")\n",
    "snr_table=ascii.read(\"SNR-Summary.dat\")\n",
    "summary=ascii.read(\"Data-Summary.dat\")\n",
    "rep_list=[]\n",
    "syn_list=[]\n",
    "resi_list=[]\n",
    "for i in range(len(flist)):\n",
    "    ffile=flist[i]\n",
    "    name=ffile[1]\n",
    "    rep_list.append(ascii.read(\"REP-\"+name+\".dat\"))\n",
    "    cube=acalib.load(\"SYN-\"+name+\".fits\")    \n",
    "    syn_list.append(cube.data)\n",
    "    cube=acalib.load(\"RES-\"+name+\".fits\")    \n",
    "    resi_list.append(cube.data)"
   ]
  },
  {
   "cell_type": "code",
   "execution_count": 4,
   "metadata": {},
   "outputs": [
    {
     "data": {
      "text/html": [
       "&lt;Table length=4&gt;\n",
       "<table id=\"table4386657336\" class=\"table-striped table-bordered table-condensed\">\n",
       "<thead><tr><th>Name</th><th>RMS</th><th>SNR</th><th>Pts</th><th>Pts/Bound</th><th>Pts/Phr</th><th>Pts/Valid</th></tr></thead>\n",
       "<thead><tr><th>str20</th><th>float64</th><th>float64</th><th>int64</th><th>float64</th><th>float64</th><th>float64</th></tr></thead>\n",
       "<tr><td>Orion-CH3OH</td><td>2.607718957793632e-06</td><td>1.01</td><td>7026</td><td>0.1048922861024439</td><td>0.04184833106997356</td><td>0.01713658536585366</td></tr>\n",
       "<tr><td>TWHydra-CO3_2</td><td>8.994790676787981e-07</td><td>1.1179999999999999</td><td>1550</td><td>0.059961315280464215</td><td>0.021712332604919594</td><td>0.0013135593220338984</td></tr>\n",
       "<tr><td>M100-CO1_0</td><td>9.180942279785339e-08</td><td>1.592</td><td>12098</td><td>0.1167670450158289</td><td>0.039578630549285176</td><td>0.001453641360794795</td></tr>\n",
       "<tr><td>IRAS16293-2422-HCOCH</td><td>5.8952157086025623e-08</td><td>1.41</td><td>34511</td><td>0.09912795206608722</td><td>0.035067450301382336</td><td>0.0027632851634062294</td></tr>\n",
       "</table>"
      ],
      "text/plain": [
       "<Table length=4>\n",
       "        Name                  RMS           ...       Pts/Valid      \n",
       "       str20                float64         ...        float64       \n",
       "-------------------- ---------------------- ... ---------------------\n",
       "         Orion-CH3OH  2.607718957793632e-06 ...   0.01713658536585366\n",
       "       TWHydra-CO3_2  8.994790676787981e-07 ... 0.0013135593220338984\n",
       "          M100-CO1_0  9.180942279785339e-08 ...  0.001453641360794795\n",
       "IRAS16293-2422-HCOCH 5.8952157086025623e-08 ... 0.0027632851634062294"
      ]
     },
     "execution_count": 4,
     "metadata": {},
     "output_type": "execute_result"
    }
   ],
   "source": [
    "ghr_table"
   ]
  },
  {
   "cell_type": "code",
   "execution_count": 5,
   "metadata": {
    "collapsed": true
   },
   "outputs": [],
   "source": [
    "import matplotlib.pyplot as plt\n",
    "import matplotlib.ticker as ticker\n",
    "import matplotlib as mpl\n",
    "from matplotlib import gridspec\n",
    "mpl.rcParams['axes.formatter.limits']=(-5,5)\n",
    "def fmt(x, pos):\n",
    "    return '{:.1e}'.format(x)\n",
    "import numpy as np"
   ]
  },
  {
   "cell_type": "markdown",
   "metadata": {},
   "source": [
    "# 5. Applications of the representation\n",
    "# 5.1 Orion-KL\n",
    "Load Orion-KL example, and compute $\\sigma$, $\\Delta$ and the mould Gaussian. Also arange the GHR as a `numpy.ndarray` and computes the moment0 of the cube (for visualization purposes)"
   ]
  },
  {
   "cell_type": "code",
   "execution_count": 6,
   "metadata": {},
   "outputs": [
    {
     "name": "stdout",
     "output_type": "stream",
     "text": [
      "INFO: Processing PrimaryHDU Object 0 [acalib.io.fits]\n",
      "INFO: Removing superfluous dimension STOKES (kept in the metadata) [acalib.io.fits]\n",
      "INFO: overwriting Masked Objects's current mask with specified mask. [astropy.nddata.nddata]\n"
     ]
    }
   ],
   "source": [
    "from acalib.core import synthesize_bubbles, precision_from_delta, create_mould\n",
    "ffile        = flist[0]\n",
    "orig         = acalib.load(DOWNLOADS_DIR+ffile[0])\n",
    "target       = ffile[1]\n",
    "(orig,ym,yf) = acalib.standarize(orig)\n",
    "orig2D       = acalib.moment0(orig)\n",
    "noise        = snr_table['RMS'][0]\n",
    "spa          = np.ceil((np.abs(orig.meta['BMIN']/orig.meta['CDELT1']) - 1)/2.0)\n",
    "delta        = [1,spa,spa]\n",
    "P            = precision_from_delta(delta,0.1)\n",
    "mould        = create_mould(P,delta)\n",
    "rep_t        = rep_list[0]\n",
    "rep          = np.array([rep_t[c] for c in rep_t.columns])\n",
    "rep          = rep.T\n"
   ]
  },
  {
   "cell_type": "markdown",
   "metadata": {},
   "source": [
    "### Vertical Flux Decomposition function"
   ]
  },
  {
   "cell_type": "code",
   "execution_count": 7,
   "metadata": {
    "collapsed": true
   },
   "outputs": [],
   "source": [
    "def vertical_flux_decomposition(rep,m,shape,mould,noise,delta):\n",
    "    n_rep=len(rep)/m\n",
    "    img_list=[]\n",
    "    vmax=0\n",
    "    for i in range(m):\n",
    "        synNew=np.zeros(shape)\n",
    "        ini=n_rep*i\n",
    "        end=n_rep*(i+1) - 1\n",
    "        p_rep=rep[ini:end]\n",
    "        synthesize_bubbles(synNew,p_rep,mould,noise,delta)\n",
    "        img=synNew.sum(axis=(0))\n",
    "        vmax=max(vmax,img.max())\n",
    "        img_list.append(img)\n",
    "    return img_list,vmax"
   ]
  },
  {
   "cell_type": "markdown",
   "metadata": {},
   "source": [
    "### Grid Visualization function"
   ]
  },
  {
   "cell_type": "code",
   "execution_count": 8,
   "metadata": {
    "collapsed": true
   },
   "outputs": [],
   "source": [
    "\n",
    "def show_decomposition_grid(img_list,side,vmax):\n",
    "    cmap=\"jet\"\n",
    "    origin=\"lower\"\n",
    "\n",
    "    plt.figure()\n",
    "    gs = gridspec.GridSpec(side, side,wspace=0.0, hspace=0.0)\n",
    "    for i in range(side*side):\n",
    "        ax  = plt.subplot(gs[i])\n",
    "        ax.imshow(img_list[i],origin=origin,vmax=vmax,vmin=0,cmap=cmap)\n",
    "        ax.get_xaxis().set_visible(False)\n",
    "        ax.get_yaxis().set_visible(False)\n",
    "    plt.show()"
   ]
  },
  {
   "cell_type": "code",
   "execution_count": 9,
   "metadata": {},
   "outputs": [
    {
     "ename": "TypeError",
     "evalue": "slice indices must be integers or None or have an __index__ method",
     "output_type": "error",
     "traceback": [
      "\u001b[0;31m---------------------------------------------------------------------------\u001b[0m",
      "\u001b[0;31mTypeError\u001b[0m                                 Traceback (most recent call last)",
      "\u001b[0;32m<ipython-input-9-e24c692d41b1>\u001b[0m in \u001b[0;36m<module>\u001b[0;34m()\u001b[0m\n\u001b[1;32m      1\u001b[0m \u001b[0mside\u001b[0m\u001b[0;34m=\u001b[0m\u001b[0;36m5\u001b[0m\u001b[0;34m\u001b[0m\u001b[0m\n\u001b[0;32m----> 2\u001b[0;31m \u001b[0mimg_list\u001b[0m\u001b[0;34m,\u001b[0m\u001b[0mvmax\u001b[0m\u001b[0;34m=\u001b[0m\u001b[0mvertical_flux_decomposition\u001b[0m\u001b[0;34m(\u001b[0m\u001b[0mrep\u001b[0m\u001b[0;34m,\u001b[0m\u001b[0mside\u001b[0m\u001b[0;34m*\u001b[0m\u001b[0mside\u001b[0m\u001b[0;34m,\u001b[0m\u001b[0morig\u001b[0m\u001b[0;34m.\u001b[0m\u001b[0mdata\u001b[0m\u001b[0;34m.\u001b[0m\u001b[0mshape\u001b[0m\u001b[0;34m,\u001b[0m\u001b[0mmould\u001b[0m\u001b[0;34m,\u001b[0m\u001b[0mnoise\u001b[0m\u001b[0;34m,\u001b[0m\u001b[0mdelta\u001b[0m\u001b[0;34m)\u001b[0m\u001b[0;34m\u001b[0m\u001b[0m\n\u001b[0m\u001b[1;32m      3\u001b[0m \u001b[0mshow_decomposition_grid\u001b[0m\u001b[0;34m(\u001b[0m\u001b[0mimg_list\u001b[0m\u001b[0;34m,\u001b[0m\u001b[0mside\u001b[0m\u001b[0;34m,\u001b[0m\u001b[0mvmax\u001b[0m\u001b[0;34m)\u001b[0m\u001b[0;34m\u001b[0m\u001b[0m\n",
      "\u001b[0;32m<ipython-input-7-aa6efe0c8964>\u001b[0m in \u001b[0;36mvertical_flux_decomposition\u001b[0;34m(rep, m, shape, mould, noise, delta)\u001b[0m\n\u001b[1;32m      7\u001b[0m         \u001b[0mini\u001b[0m\u001b[0;34m=\u001b[0m\u001b[0mn_rep\u001b[0m\u001b[0;34m*\u001b[0m\u001b[0mi\u001b[0m\u001b[0;34m\u001b[0m\u001b[0m\n\u001b[1;32m      8\u001b[0m         \u001b[0mend\u001b[0m\u001b[0;34m=\u001b[0m\u001b[0mn_rep\u001b[0m\u001b[0;34m*\u001b[0m\u001b[0;34m(\u001b[0m\u001b[0mi\u001b[0m\u001b[0;34m+\u001b[0m\u001b[0;36m1\u001b[0m\u001b[0;34m)\u001b[0m \u001b[0;34m-\u001b[0m \u001b[0;36m1\u001b[0m\u001b[0;34m\u001b[0m\u001b[0m\n\u001b[0;32m----> 9\u001b[0;31m         \u001b[0mp_rep\u001b[0m\u001b[0;34m=\u001b[0m\u001b[0mrep\u001b[0m\u001b[0;34m[\u001b[0m\u001b[0mini\u001b[0m\u001b[0;34m:\u001b[0m\u001b[0mend\u001b[0m\u001b[0;34m]\u001b[0m\u001b[0;34m\u001b[0m\u001b[0m\n\u001b[0m\u001b[1;32m     10\u001b[0m         \u001b[0msynthesize_bubbles\u001b[0m\u001b[0;34m(\u001b[0m\u001b[0msynNew\u001b[0m\u001b[0;34m,\u001b[0m\u001b[0mp_rep\u001b[0m\u001b[0;34m,\u001b[0m\u001b[0mmould\u001b[0m\u001b[0;34m,\u001b[0m\u001b[0mnoise\u001b[0m\u001b[0;34m,\u001b[0m\u001b[0mdelta\u001b[0m\u001b[0;34m)\u001b[0m\u001b[0;34m\u001b[0m\u001b[0m\n\u001b[1;32m     11\u001b[0m         \u001b[0mimg\u001b[0m\u001b[0;34m=\u001b[0m\u001b[0msynNew\u001b[0m\u001b[0;34m.\u001b[0m\u001b[0msum\u001b[0m\u001b[0;34m(\u001b[0m\u001b[0maxis\u001b[0m\u001b[0;34m=\u001b[0m\u001b[0;34m(\u001b[0m\u001b[0;36m0\u001b[0m\u001b[0;34m)\u001b[0m\u001b[0;34m)\u001b[0m\u001b[0;34m\u001b[0m\u001b[0m\n",
      "\u001b[0;31mTypeError\u001b[0m: slice indices must be integers or None or have an __index__ method"
     ]
    }
   ],
   "source": [
    "side=5\n",
    "img_list,vmax=vertical_flux_decomposition(rep,side*side,orig.data.shape,mould,noise,delta)\n",
    "show_decomposition_grid(img_list,side,vmax)"
   ]
  },
  {
   "cell_type": "markdown",
   "metadata": {},
   "source": [
    "Threshold representation up to the 15th level and print it"
   ]
  },
  {
   "cell_type": "code",
   "execution_count": null,
   "metadata": {
    "collapsed": true
   },
   "outputs": [],
   "source": [
    "import matplotlib.pyplot as plt"
   ]
  },
  {
   "cell_type": "code",
   "execution_count": null,
   "metadata": {},
   "outputs": [],
   "source": [
    "\n",
    "limit  = 10*int(rep.shape[0]/(side*side))\n",
    "th_rep = rep[0:limit]\n",
    "synNew = np.zeros(orig.data.shape)\n",
    "synthesize_bubbles(synNew,th_rep,mould,noise,delta)\n",
    "#print(noise)\n",
    "img    = synNew.sum(axis=(0))\n",
    "plt.figure()\n",
    "acalib.visualize_image(orig2D.data*ym - yf,wcs=orig2D.wcs,unit=orig2D.unit,cmap=plt.cm.gray_r)\n",
    "plt.figure()\n",
    "acalib.visualize_image(img*ym-yf,wcs=orig2D.wcs,unit=orig2D.unit,cmap=plt.cm.gray_r)\n",
    "print(th_rep.size)"
   ]
  },
  {
   "cell_type": "code",
   "execution_count": null,
   "metadata": {
    "collapsed": true
   },
   "outputs": [],
   "source": [
    "def show_clusters(labels,sol,start,stop,shape,template,mould,noise,delta):\n",
    "    if start is None:\n",
    "        start=0\n",
    "    nclus=labels.max()+1\n",
    "    if stop is None:\n",
    "        stop=nclus+1\n",
    "    print(\"Number of Clusters = \"+str(nclus))\n",
    "    fig=plt.figure(figsize=(5,4))\n",
    "    \n",
    "    gs = gridspec.GridSpec(2, 2, width_ratios=[shape[2]/shape[0], 1], height_ratios=[shape[1]/shape[0],1])\n",
    "    \n",
    "    tempXY=template.sum(axis=(0))\n",
    "    #nax=fig.add_subplot(2,3,1)\n",
    "    nax=plt.subplot(gs[0])\n",
    "    nax.imshow(tempXY, origin='lower',cmap=plt.cm.gray_r)\n",
    "    nax.get_xaxis().set_visible(False)\n",
    "    nax.get_yaxis().set_visible(False)\n",
    " \n",
    "    tempXZ=template.sum(axis=(1))\n",
    "    #nax2=fig.add_subplot(2,3,4)\n",
    "    nax2=plt.subplot(gs[2])\n",
    "    nax2.imshow(tempXZ, origin='lower',cmap=plt.cm.gray_r)\n",
    "    nax2.get_xaxis().set_visible(False)\n",
    "    nax2.get_yaxis().set_visible(False)\n",
    "   \n",
    "    tempYZ=template.sum(axis=(2)).T\n",
    "    #nax3=fig.add_subplot(2,3,2)\n",
    "    nax3=plt.subplot(gs[1])\n",
    "    nax3.imshow(tempYZ, origin='lower',cmap=plt.cm.gray_r)\n",
    "    nax3.get_xaxis().set_visible(False)\n",
    "    nax3.get_yaxis().set_visible(False)\n",
    "    \n",
    "    mmask=(labels>-1)\n",
    "    labels=labels[mmask]\n",
    "    sol=sol[mmask]\n",
    "    bco=np.bincount(labels)\n",
    "    bco=bco.argsort()[::-1][start:stop]\n",
    "    color=plt.cm.rainbow(np.linspace(0,1,stop-start))\n",
    "    \n",
    "    i=0\n",
    "    for b in bco:\n",
    "        imask=(labels==b)\n",
    "        npos  = sol[imask]\n",
    "        newSyn=np.zeros(shape)\n",
    "        newSyn=synthesize_bubbles(newSyn,npos,mould,noise,delta)\n",
    "        nax.contour(newSyn.sum(axis=(0)),levels=[0.0],alpha=1.0,colors=[color[i]])\n",
    "        nax2.contour(newSyn.sum(axis=(1)),levels=[0.0],alpha=1.0,colors=[color[i]])\n",
    "        nax3.contour(newSyn.sum(axis=(2)).T,levels=[0.0],alpha=1.0,colors=[color[i]])\n",
    "        i+=1\n",
    "    plt.tight_layout()\n",
    "    plt.show()\n",
    "    plt.figure()\n",
    "    \n",
    "    #nax4=fig.add_subplot(1,3,3)\n",
    "    nax4=plt.subplot(111)\n",
    "    i=0\n",
    "    for b in bco:\n",
    "        imask=(labels==b)\n",
    "        npos  = sol[imask]\n",
    "        newSyn=np.zeros(shape)\n",
    "        newSyn=synthesize_bubbles(newSyn,npos,mould,noise,delta)\n",
    "        nax.contour(newSyn.sum(axis=(0)),levels=[0.0],alpha=1.0,colors=[color[i]])\n",
    "        nax2.contour(newSyn.sum(axis=(1)),levels=[0.0],alpha=1.0,colors=[color[i]])\n",
    "        nax3.contour(newSyn.sum(axis=(2)).T,levels=[0.0],alpha=1.0,colors=[color[i]])\n",
    "        nax4.plot(newSyn.sum(axis=(1,2)),color=color[i])\n",
    "        i+=1\n",
    "    plt.tight_layout()\n",
    "    plt.show()\n",
    "    return(bco)"
   ]
  },
  {
   "cell_type": "code",
   "execution_count": null,
   "metadata": {
    "collapsed": true
   },
   "outputs": [],
   "source": [
    "from sklearn.cluster import *\n",
    "#clust=AffinityPropagation(damping=0.878).fit(th_rep)\n",
    "#clust=MeanShift(bandwidth=).fit(th_rep)\n",
    "clust=SpectralClustering(n_clusters=5,gamma=0.5).fit(th_rep)"
   ]
  },
  {
   "cell_type": "code",
   "execution_count": null,
   "metadata": {},
   "outputs": [],
   "source": [
    "show_clusters(clust.labels_,th_rep,None,None,orig.data.shape,synNew,mould,noise,delta)"
   ]
  },
  {
   "cell_type": "markdown",
   "metadata": {},
   "source": [
    "## 5.2. TWHydra\n"
   ]
  },
  {
   "cell_type": "code",
   "execution_count": null,
   "metadata": {},
   "outputs": [],
   "source": [
    "ffile        = flist[1]\n",
    "orig         = acalib.load(DOWNLOADS_DIR+ffile[0])\n",
    "target       = ffile[1]\n",
    "(orig,ym,yf) = acalib.standarize(orig)\n",
    "orig2D       = acalib.moment0(orig)\n",
    "noise        = snr_table['RMS'][0]\n",
    "spa          = np.ceil((np.abs(orig.meta['BMIN']/orig.meta['CDELT1']) - 1)/2.0)\n",
    "delta        = [1,spa,spa]\n",
    "P            = precision_from_delta(delta,0.1)\n",
    "mould        = create_mould(P,delta)\n",
    "rep_t        = rep_list[1]\n",
    "rep          = np.array([rep_t[c] for c in rep_t.columns])\n",
    "rep          = rep.T"
   ]
  },
  {
   "cell_type": "code",
   "execution_count": null,
   "metadata": {
    "collapsed": true
   },
   "outputs": [],
   "source": [
    "clust=MeanShift().fit(rep)\n",
    "#imask=(clust.labels_==0)\n",
    "#rep_fp=rep[imask]\n",
    "#clust2=MeanShift().fit(rep_fp)"
   ]
  },
  {
   "cell_type": "code",
   "execution_count": null,
   "metadata": {},
   "outputs": [],
   "source": [
    "synNew = np.zeros(orig.data.shape)\n",
    "synthesize_bubbles(synNew,rep,mould,noise,delta)\n",
    "order=show_clusters(clust.labels_,rep,None,None,orig.data.shape,synNew,mould,noise,delta)"
   ]
  },
  {
   "cell_type": "code",
   "execution_count": null,
   "metadata": {
    "collapsed": true
   },
   "outputs": [],
   "source": [
    "newRep=np.ndarray((0,3))\n",
    "imask=(clust.labels_==order[0])\n",
    "newRep=np.vstack((newRep,rep[imask]))"
   ]
  },
  {
   "cell_type": "code",
   "execution_count": null,
   "metadata": {
    "collapsed": true
   },
   "outputs": [],
   "source": [
    "from mpl_toolkits.mplot3d import Axes3D\n",
    "\n",
    "def show_manifold(sm):\n",
    "    cbook=sm.codebook.matrix\n",
    "    fig=plt.figure()\n",
    "    ax = fig.add_subplot(111, projection='3d')\n",
    "    ax.scatter(cbook[:,0],cbook[:,1], cbook[:,2])#, c=c, marker=m)\n",
    "    for cb,dm_elm in zip(cbook,sm._distance_matrix):\n",
    "        #print(cb)\n",
    "        conn=(dm_elm==1).nonzero()\n",
    "        #print(conn[0])\n",
    "        for idx in conn[0]:\n",
    "            #print(idx)\n",
    "            ot=cbook[idx]\n",
    "            #print(ot)\n",
    "            ax.plot([cb[0],ot[0]],[cb[1],ot[1]],[cb[2],ot[2]],color = 'g')\n",
    "    plt.show()"
   ]
  },
  {
   "cell_type": "code",
   "execution_count": null,
   "metadata": {},
   "outputs": [],
   "source": [
    "\n",
    "from sompy.sompy import SOMFactory\n",
    "sm = SOMFactory().build(newRep, normalization = 'var', initialization='pca')\n",
    "sm.train(n_job=1, verbose=False, train_rough_len=30, train_finetune_len=30)\n"
   ]
  },
  {
   "cell_type": "code",
   "execution_count": null,
   "metadata": {},
   "outputs": [],
   "source": [
    "%matplotlib notebook\n",
    "show_manifold(sm)"
   ]
  },
  {
   "cell_type": "markdown",
   "metadata": {},
   "source": [
    "## 5.3. M100\n"
   ]
  },
  {
   "cell_type": "code",
   "execution_count": null,
   "metadata": {},
   "outputs": [],
   "source": [
    "%matplotlin inline\n",
    "ffile        = flist[2]\n",
    "orig         = acalib.load(DOWNLOADS_DIR+ffile[0])\n",
    "target       = ffile[1]\n",
    "(orig,ym,yf) = acalib.standarize(orig)\n",
    "orig2D       = acalib.moment0(orig)\n",
    "noise        = snr_table['RMS'][0]\n",
    "spa          = np.ceil((np.abs(orig.meta['BMIN']/orig.meta['CDELT1']) - 1)/2.0)\n",
    "delta        = [1,spa,spa]\n",
    "P            = precision_from_delta(delta,0.1)\n",
    "mould        = create_mould(P,delta)\n",
    "rep_t        = rep_list[2]\n",
    "rep          = np.array([rep_t[c] for c in rep_t.columns])\n",
    "rep          = rep.T"
   ]
  },
  {
   "cell_type": "code",
   "execution_count": null,
   "metadata": {},
   "outputs": [],
   "source": [
    "synNew = np.zeros(orig.data.shape)\n",
    "synthesize_bubbles(synNew,rep,mould,noise,delta)\n",
    "plt.figure()\n",
    "plt.imshow(synNew.sum(axis=(0)))"
   ]
  },
  {
   "cell_type": "code",
   "execution_count": null,
   "metadata": {},
   "outputs": [],
   "source": [
    "clust=DBSCAN(eps=7.0).fit(rep)\n",
    "order=show_clusters(clust.labels_,rep,None,None,orig.data.shape,synNew,mould,noise,delta)"
   ]
  },
  {
   "cell_type": "code",
   "execution_count": null,
   "metadata": {},
   "outputs": [],
   "source": [
    "ccut=10\n",
    "order=show_clusters(clust.labels_,rep,None,ccut,orig.data.shape,synNew,mould,noise,delta)\n",
    "newRep=np.ndarray((0,3))\n",
    "for i in range(ccut):\n",
    "    imask=(clust.labels_==order[i])\n",
    "    #print(newRep.shape,rep[imask].shape)\n",
    "    newRep=np.vstack((newRep,rep[imask]))"
   ]
  },
  {
   "cell_type": "code",
   "execution_count": null,
   "metadata": {},
   "outputs": [],
   "source": [
    "clust=KMeans(n_clusters=50).fit(newRep)\n",
    "show_clusters(clust.labels_,newRep,None,None,orig.data.shape,synNew,mould,noise,delta)"
   ]
  },
  {
   "cell_type": "code",
   "execution_count": null,
   "metadata": {
    "collapsed": true
   },
   "outputs": [],
   "source": [
    "def row_col_from_condensed_index(d,i):\n",
    "    b = 1 -2*d \n",
    "    x = np.floor((-b - np.sqrt(b**2 - 8*i))/2)\n",
    "    y = i + x*(b + x + 2)/2 + 1\n",
    "    return (x,y)  "
   ]
  },
  {
   "cell_type": "code",
   "execution_count": null,
   "metadata": {},
   "outputs": [],
   "source": [
    "ss=np.bincount(clust.labels_)\n",
    "ms=ss.max()\n",
    "from scipy.spatial.distance import pdist,squareform\n",
    "pps=clust.cluster_centers_\n",
    "dds=pdist(pps)\n",
    "dm=dds.max()\n",
    "fig=plt.figure()\n",
    "ax = fig.add_subplot(111)\n",
    "ax.imshow(synNew.sum(axis=(0)),origin='lower',cmap='seismic')\n",
    "ax.scatter(pps[:,2],pps[:,1],c=pps[:,0],s=ss)#, c=c, marker=m)\n",
    "k=0\n",
    "for con in dds:\n",
    "    (i,j)=row_col_from_condensed_index(pps.shape[0],k)\n",
    "    if i==j:\n",
    "        continue\n",
    "    cb=pps[i]\n",
    "    ot=pps[j]\n",
    "    d=con/dm\n",
    "    mi=ss[i]/ms\n",
    "    mj=ss[j]/ms\n",
    "    metr=mi*mj/(d*d)*0.05\n",
    "    ax.plot([cb[2],ot[2]],[cb[1],ot[1]], alpha = metr,color=\"w\")\n",
    "    k+=1"
   ]
  },
  {
   "cell_type": "markdown",
   "metadata": {},
   "source": [
    "## 5.4. IRAS"
   ]
  },
  {
   "cell_type": "code",
   "execution_count": null,
   "metadata": {},
   "outputs": [],
   "source": [
    "ffile        = flist[3]\n",
    "orig         = acalib.load(DOWNLOADS_DIR+ffile[0])\n",
    "target       = ffile[1]\n",
    "(orig,ym,yf) = acalib.standarize(orig)\n",
    "orig2D       = acalib.moment0(orig)\n",
    "noise        = snr_table['RMS'][0]\n",
    "spa          = np.ceil((np.abs(orig.meta['BMIN']/orig.meta['CDELT1']) - 1)/2.0)\n",
    "delta        = [1,spa,spa]\n",
    "P            = precision_from_delta(delta,0.1)\n",
    "mould        = create_mould(P,delta)\n",
    "rep_t        = rep_list[3]\n",
    "rep          = np.array([rep_t[c] for c in rep_t.columns])\n",
    "rep          = rep.T"
   ]
  },
  {
   "cell_type": "code",
   "execution_count": 10,
   "metadata": {
    "collapsed": true
   },
   "outputs": [],
   "source": [
    "def show_clusters2(labels,sol,start,stop,shape,template,mould,noise,delta):\n",
    "    if start is None:\n",
    "        start=0\n",
    "    nclus=labels.max()+1\n",
    "    if stop is None:\n",
    "        stop=nclus+1\n",
    "    print(\"Number of Clusters = \"+str(nclus))\n",
    "    fig=plt.figure(figsize=(5,4))\n",
    "    \n",
    "    gs = gridspec.GridSpec(2, 2, width_ratios=[shape[2]/shape[0], 1], height_ratios=[shape[1]/shape[0],1])\n",
    "    \n",
    "    tempXY=template.sum(axis=(0))\n",
    "    #nax=fig.add_subplot(2,3,1)\n",
    "    nax=plt.subplot(gs[0])\n",
    "    nax.imshow(tempXY, origin='lower',cmap=plt.cm.gray)\n",
    "    nax.get_xaxis().set_visible(False)\n",
    "    nax.get_yaxis().set_visible(False)\n",
    " \n",
    "    tempXZ=template.sum(axis=(1))\n",
    "    #nax2=fig.add_subplot(2,3,4)\n",
    "    nax2=plt.subplot(gs[2])\n",
    "    nax2.imshow(tempXZ, origin='lower',cmap=plt.cm.gray)\n",
    "    nax2.get_xaxis().set_visible(False)\n",
    "    nax2.get_yaxis().set_visible(False)\n",
    "   \n",
    "    tempYZ=template.sum(axis=(2)).T\n",
    "    #nax3=fig.add_subplot(2,3,2)\n",
    "    nax3=plt.subplot(gs[1])\n",
    "    nax3.imshow(tempYZ, origin='lower',cmap=plt.cm.gray)\n",
    "    nax3.get_xaxis().set_visible(False)\n",
    "    nax3.get_yaxis().set_visible(False)\n",
    "    \n",
    "    mmask=(labels>-1)\n",
    "    labels=labels[mmask]\n",
    "    sol=sol[mmask]\n",
    "    bco=np.bincount(labels)\n",
    "    bco=bco.argsort()[::-1][start:stop]\n",
    "    color=plt.cm.rainbow(np.linspace(0,1,stop-start))\n",
    "    \n",
    "    nax4=plt.subplot(gs[3])\n",
    "    \n",
    "    i=0\n",
    "    for b in bco:\n",
    "        imask=(labels==b)\n",
    "        npos  = sol[imask]\n",
    "        newSyn=np.zeros(shape)\n",
    "        newSyn=synthesize_bubbles(newSyn,npos,mould,noise,delta)\n",
    "        nax.contour(newSyn.sum(axis=(0)),levels=[0.0],alpha=1.0,colors=[color[i]])\n",
    "        nax2.contour(newSyn.sum(axis=(1)),levels=[0.0],alpha=1.0,colors=[color[i]])\n",
    "        nax3.contour(newSyn.sum(axis=(2)).T,levels=[0.0],alpha=1.0,colors=[color[i]])\n",
    "        nax4.plot(newSyn.sum(axis=(1,2)),color=color[i])\n",
    "        i+=1\n",
    "    plt.tight_layout()\n",
    "    plt.show()\n",
    "    return(bco)"
   ]
  },
  {
   "cell_type": "code",
   "execution_count": 11,
   "metadata": {},
   "outputs": [
    {
     "ename": "NameError",
     "evalue": "name 'DBSCAN' is not defined",
     "output_type": "error",
     "traceback": [
      "\u001b[0;31m---------------------------------------------------------------------------\u001b[0m",
      "\u001b[0;31mNameError\u001b[0m                                 Traceback (most recent call last)",
      "\u001b[0;32m<ipython-input-11-b694504726ac>\u001b[0m in \u001b[0;36m<module>\u001b[0;34m()\u001b[0m\n\u001b[1;32m      1\u001b[0m \u001b[0msynNew\u001b[0m \u001b[0;34m=\u001b[0m \u001b[0mnp\u001b[0m\u001b[0;34m.\u001b[0m\u001b[0mzeros\u001b[0m\u001b[0;34m(\u001b[0m\u001b[0morig\u001b[0m\u001b[0;34m.\u001b[0m\u001b[0mdata\u001b[0m\u001b[0;34m.\u001b[0m\u001b[0mshape\u001b[0m\u001b[0;34m)\u001b[0m\u001b[0;34m\u001b[0m\u001b[0m\n\u001b[1;32m      2\u001b[0m \u001b[0msynthesize_bubbles\u001b[0m\u001b[0;34m(\u001b[0m\u001b[0msynNew\u001b[0m\u001b[0;34m,\u001b[0m\u001b[0mrep\u001b[0m\u001b[0;34m,\u001b[0m\u001b[0mmould\u001b[0m\u001b[0;34m,\u001b[0m\u001b[0mnoise\u001b[0m\u001b[0;34m,\u001b[0m\u001b[0mdelta\u001b[0m\u001b[0;34m)\u001b[0m\u001b[0;34m\u001b[0m\u001b[0m\n\u001b[0;32m----> 3\u001b[0;31m \u001b[0mclust\u001b[0m\u001b[0;34m=\u001b[0m\u001b[0mDBSCAN\u001b[0m\u001b[0;34m(\u001b[0m\u001b[0meps\u001b[0m\u001b[0;34m=\u001b[0m\u001b[0;36m1.5\u001b[0m\u001b[0;34m)\u001b[0m\u001b[0;34m.\u001b[0m\u001b[0mfit\u001b[0m\u001b[0;34m(\u001b[0m\u001b[0mrep\u001b[0m\u001b[0;34m)\u001b[0m\u001b[0;34m\u001b[0m\u001b[0m\n\u001b[0m\u001b[1;32m      4\u001b[0m \u001b[0morder\u001b[0m\u001b[0;34m=\u001b[0m\u001b[0mshow_clusters2\u001b[0m\u001b[0;34m(\u001b[0m\u001b[0mclust\u001b[0m\u001b[0;34m.\u001b[0m\u001b[0mlabels_\u001b[0m\u001b[0;34m,\u001b[0m\u001b[0mrep\u001b[0m\u001b[0;34m,\u001b[0m\u001b[0;32mNone\u001b[0m\u001b[0;34m,\u001b[0m\u001b[0;32mNone\u001b[0m\u001b[0;34m,\u001b[0m\u001b[0morig\u001b[0m\u001b[0;34m.\u001b[0m\u001b[0mdata\u001b[0m\u001b[0;34m.\u001b[0m\u001b[0mshape\u001b[0m\u001b[0;34m,\u001b[0m\u001b[0msynNew\u001b[0m\u001b[0;34m,\u001b[0m\u001b[0mmould\u001b[0m\u001b[0;34m,\u001b[0m\u001b[0mnoise\u001b[0m\u001b[0;34m,\u001b[0m\u001b[0mdelta\u001b[0m\u001b[0;34m)\u001b[0m\u001b[0;34m\u001b[0m\u001b[0m\n",
      "\u001b[0;31mNameError\u001b[0m: name 'DBSCAN' is not defined"
     ]
    }
   ],
   "source": [
    "synNew = np.zeros(orig.data.shape)\n",
    "synthesize_bubbles(synNew,rep,mould,noise,delta)\n",
    "clust=DBSCAN(eps=1.5).fit(rep)\n",
    "order=show_clusters2(clust.labels_,rep,None,None,orig.data.shape,synNew,mould,noise,delta)"
   ]
  },
  {
   "cell_type": "code",
   "execution_count": null,
   "metadata": {},
   "outputs": [],
   "source": [
    "db_rep=rep[clust.labels_!=-1]\n",
    "print(rep.shape)\n",
    "print(db_rep.shape)"
   ]
  },
  {
   "cell_type": "code",
   "execution_count": null,
   "metadata": {},
   "outputs": [],
   "source": [
    "from sklearn.mixture import GaussianMixture\n",
    "from astropy import units as u\n",
    "ncomp=100\n",
    "model=GaussianMixture(n_components=ncomp).fit(db_rep)\n",
    "labels=model.predict(db_rep)\n",
    "order=show_clusters2(labels,db_rep,None,None,orig.data.shape,synNew,mould,noise,delta)\n"
   ]
  },
  {
   "cell_type": "code",
   "execution_count": null,
   "metadata": {
    "collapsed": true
   },
   "outputs": [],
   "source": [
    "def compute_gclumps_parameters(rep,P,cid):\n",
    "    fwhm_c=np.sqrt(8*np.log(2))\n",
    "    mu=rep.mean(axis=(0))\n",
    "    vec=(mu - rep)\n",
    "    c=rep.size\n",
    "    Sigma=np.linalg.inv(P)+np.dot(vec.T,vec)/c\n",
    "    A=np.linalg.inv(Sigma)\n",
    "    dv=np.sqrt(1./A[0,0])\n",
    "    ga=-A[2,0]/A[0,0]\n",
    "    gd=-A[1,0]/A[0,0]\n",
    "    b0=A[1,1]-(gd*gd)/(dv*dv)\n",
    "    b1=A[1,2]-(ga*gd)/(dv*dv)\n",
    "    b2=A[2,2]-(ga*ga)/(dv*dv)\n",
    "    B=np.linalg.inv(np.array([[b0,b1],[b1,b2]]))\n",
    "    (U,S,V)=np.linalg.svd(B)\n",
    "    de=np.sqrt(S)\n",
    "    return(cid,c,mu[2],mu[1],mu[0],fwhm_c*de[1],fwhm_c*de[0],(np.arcsin(-U[0,0])*u.rad).to(\"deg\").value,fwhm_c*dv,gd,ga)"
   ]
  },
  {
   "cell_type": "code",
   "execution_count": null,
   "metadata": {},
   "outputs": [],
   "source": [
    "from astropy.table import Table\n",
    "gclu=Table(names=('CLUST ID',\n",
    "                  'N', \n",
    "                  'RA',\n",
    "                  'DEC',\n",
    "                  'FREQ',\n",
    "                  'SEMIAXIS 1',\n",
    "                  'SEMIAXIS 2',\n",
    "                  'ANGLE',\n",
    "                  'LINE FWHM',\n",
    "                  'GRAD RA/FREQ',\n",
    "                  'GRAD DEC/FREQ'))\n",
    "\n",
    "for i in order:\n",
    "    imask=(labels==i)\n",
    "    rep_gm=db_rep[imask]\n",
    "    gclu.add_row(vals=compute_gclumps_parameters(rep_gm,P,i))\n",
    "gclu"
   ]
  },
  {
   "cell_type": "code",
   "execution_count": null,
   "metadata": {},
   "outputs": [],
   "source": [
    "ttab=gclu[gclu['LINE FWHM']>3]\n",
    "# Generating the latex table for the paper\n",
    "from astropy.io import ascii\n",
    "ascii.write(ttab,format='latex')"
   ]
  },
  {
   "cell_type": "code",
   "execution_count": null,
   "metadata": {
    "scrolled": true
   },
   "outputs": [],
   "source": [
    "elms=gclu[gclu['LINE FWHM']>3]['CLUST ID']\n",
    "newRep=np.ndarray((0,3))\n",
    "newLab=[]\n",
    "count=0\n",
    "for j in elms:\n",
    "    imask=(labels==j)\n",
    "    current=db_rep[imask]\n",
    "    newRep=np.vstack((newRep,current))\n",
    "    newLab.extend([count]*int(current.shape[0]))\n",
    "    count+=1\n",
    "print(len(newLab))\n",
    "print(newRep.shape)\n",
    "order=show_clusters2(np.array(newLab),newRep,None,None,orig.data.shape,synNew,mould,noise,delta)"
   ]
  },
  {
   "cell_type": "code",
   "execution_count": null,
   "metadata": {
    "collapsed": true
   },
   "outputs": [],
   "source": []
  },
  {
   "cell_type": "code",
   "execution_count": null,
   "metadata": {
    "collapsed": true
   },
   "outputs": [],
   "source": []
  },
  {
   "cell_type": "code",
   "execution_count": null,
   "metadata": {
    "collapsed": true
   },
   "outputs": [],
   "source": []
  },
  {
   "cell_type": "code",
   "execution_count": null,
   "metadata": {
    "collapsed": true
   },
   "outputs": [],
   "source": []
  },
  {
   "cell_type": "code",
   "execution_count": null,
   "metadata": {
    "collapsed": true
   },
   "outputs": [],
   "source": []
  },
  {
   "cell_type": "markdown",
   "metadata": {},
   "source": [
    "## 5.X. Antennae (REMOVED FROM PAPER)"
   ]
  },
  {
   "cell_type": "code",
   "execution_count": 40,
   "metadata": {},
   "outputs": [
    {
     "ename": "NameError",
     "evalue": "name 'aca' is not defined",
     "output_type": "error",
     "traceback": [
      "\u001b[0;31m---------------------------------------------------------------------------\u001b[0m",
      "\u001b[0;31mNameError\u001b[0m                                 Traceback (most recent call last)",
      "\u001b[0;32m<ipython-input-40-b239e608e672>\u001b[0m in \u001b[0;36m<module>\u001b[0;34m()\u001b[0m\n\u001b[1;32m      1\u001b[0m \u001b[0mffile\u001b[0m        \u001b[0;34m=\u001b[0m \u001b[0mflist\u001b[0m\u001b[0;34m[\u001b[0m\u001b[0;36m3\u001b[0m\u001b[0;34m]\u001b[0m\u001b[0;34m\u001b[0m\u001b[0m\n\u001b[1;32m      2\u001b[0m \u001b[0mhdulist\u001b[0m      \u001b[0;34m=\u001b[0m \u001b[0mfits\u001b[0m\u001b[0;34m.\u001b[0m\u001b[0mopen\u001b[0m\u001b[0;34m(\u001b[0m\u001b[0mDOWNLOADS_DIR\u001b[0m\u001b[0;34m+\u001b[0m\u001b[0mffile\u001b[0m\u001b[0;34m[\u001b[0m\u001b[0;36m0\u001b[0m\u001b[0;34m]\u001b[0m\u001b[0;34m)\u001b[0m\u001b[0;34m\u001b[0m\u001b[0m\n\u001b[0;32m----> 3\u001b[0;31m \u001b[0morig\u001b[0m         \u001b[0;34m=\u001b[0m \u001b[0maca\u001b[0m\u001b[0;34m.\u001b[0m\u001b[0mHDU_to_NDData\u001b[0m\u001b[0;34m(\u001b[0m\u001b[0mhdulist\u001b[0m\u001b[0;34m[\u001b[0m\u001b[0;36m0\u001b[0m\u001b[0;34m]\u001b[0m\u001b[0;34m)\u001b[0m\u001b[0;34m\u001b[0m\u001b[0m\n\u001b[0m\u001b[1;32m      4\u001b[0m \u001b[0mtarget\u001b[0m       \u001b[0;34m=\u001b[0m \u001b[0mffile\u001b[0m\u001b[0;34m[\u001b[0m\u001b[0;36m1\u001b[0m\u001b[0;34m]\u001b[0m\u001b[0;34m\u001b[0m\u001b[0m\n\u001b[1;32m      5\u001b[0m \u001b[0;34m(\u001b[0m\u001b[0morig\u001b[0m\u001b[0;34m,\u001b[0m\u001b[0mym\u001b[0m\u001b[0;34m,\u001b[0m\u001b[0myf\u001b[0m\u001b[0;34m)\u001b[0m \u001b[0;34m=\u001b[0m \u001b[0maca\u001b[0m\u001b[0;34m.\u001b[0m\u001b[0mstandarize\u001b[0m\u001b[0;34m(\u001b[0m\u001b[0morig\u001b[0m\u001b[0;34m)\u001b[0m\u001b[0;34m\u001b[0m\u001b[0m\n",
      "\u001b[0;31mNameError\u001b[0m: name 'aca' is not defined"
     ]
    }
   ],
   "source": [
    "ffile        = flist[3]\n",
    "hdulist      = fits.open(DOWNLOADS_DIR+ffile[0])\n",
    "orig         = aca.HDU_to_NDData(hdulist[0])\n",
    "target       = ffile[1]\n",
    "(orig,ym,yf) = aca.standarize(orig)\n",
    "orig2D       = aca.moment0(orig)\n",
    "noise        = snr_table['RMS'][0]\n",
    "spa          = np.ceil((np.abs(orig.meta['BMIN']/orig.meta['CDELT1']) - 1)/2.0)\n",
    "delta        = [1,spa,spa]\n",
    "P            = precision_from_delta(delta,0.1)\n",
    "mould        = create_mould(P,delta)\n",
    "rep_t        = rep_list[3]\n",
    "rep          = np.array([rep_t[c] for c in rep_t.columns])\n",
    "rep          = rep.T"
   ]
  },
  {
   "cell_type": "code",
   "execution_count": null,
   "metadata": {
    "collapsed": true
   },
   "outputs": [],
   "source": [
    "synNew = np.zeros(orig.data.shape)\n",
    "synthesize_bubbles(synNew,rep,mould,noise,delta)\n",
    "plt.figure()\n",
    "plt.imshow(synNew.sum(axis=(0)))"
   ]
  },
  {
   "cell_type": "code",
   "execution_count": null,
   "metadata": {
    "collapsed": true
   },
   "outputs": [],
   "source": [
    "clust=DBSCAN(eps=3.0).fit(rep)\n",
    "order=show_clusters(clust.labels_,rep,None,None,orig.data.shape,synNew,mould,noise,delta)"
   ]
  },
  {
   "cell_type": "code",
   "execution_count": null,
   "metadata": {
    "collapsed": true
   },
   "outputs": [],
   "source": [
    "ccut=10\n",
    "order=show_clusters(clust.labels_,rep,None,ccut,orig.data.shape,synNew,mould,noise,delta)\n",
    "newRep=np.ndarray((0,3))\n",
    "for i in range(ccut):\n",
    "    imask=(clust.labels_==order[i])\n",
    "    #print(newRep.shape,rep[imask].shape)\n",
    "    newRep=np.vstack((newRep,rep[imask]))"
   ]
  },
  {
   "cell_type": "code",
   "execution_count": null,
   "metadata": {
    "collapsed": true
   },
   "outputs": [],
   "source": [
    "clust=KMeans(n_clusters=50).fit(newRep)\n",
    "show_clusters(clust.labels_,newRep,None,None,orig.data.shape,synNew,mould,noise,delta)"
   ]
  },
  {
   "cell_type": "code",
   "execution_count": null,
   "metadata": {
    "collapsed": true
   },
   "outputs": [],
   "source": [
    "def row_col_from_condensed_index(d,i):\n",
    "    b = 1 -2*d \n",
    "    x = np.floor((-b - np.sqrt(b**2 - 8*i))/2)\n",
    "    y = i + x*(b + x + 2)/2 + 1\n",
    "    return (x,y)  "
   ]
  },
  {
   "cell_type": "code",
   "execution_count": null,
   "metadata": {
    "collapsed": true
   },
   "outputs": [],
   "source": [
    "ss=np.bincount(clust.labels_)\n",
    "ms=ss.max()\n",
    "from scipy.spatial.distance import pdist,squareform\n",
    "pps=clust.cluster_centers_\n",
    "dds=pdist(pps)\n",
    "dm=dds.max()\n",
    "fig=plt.figure()\n",
    "ax = fig.add_subplot(111)\n",
    "ax.imshow(synNew.sum(axis=(0)),origin='lower',cmap='seismic')\n",
    "k=0\n",
    "for con in dds:\n",
    "    (i,j)=row_col_from_condensed_index(pps.shape[0],k)\n",
    "    if i==j:\n",
    "        continue\n",
    "    cb=pps[i]\n",
    "    ot=pps[j]\n",
    "    d=con/dm\n",
    "    mi=ss[i]/ms\n",
    "    mj=ss[j]/ms\n",
    "    metr=mi*mj/(d*d)*0.02\n",
    "    ax.plot([cb[2],ot[2]],[cb[1],ot[1]], alpha = metr,color=\"w\")\n",
    "    k+=1\n",
    "ax.scatter(pps[:,2],pps[:,1],c=pps[:,0],s=ss/2.0)#, c=c, marker=m)"
   ]
  },
  {
   "cell_type": "code",
   "execution_count": null,
   "metadata": {
    "collapsed": true
   },
   "outputs": [],
   "source": []
  },
  {
   "cell_type": "code",
   "execution_count": null,
   "metadata": {
    "collapsed": true
   },
   "outputs": [],
   "source": []
  }
 ],
 "metadata": {
  "anaconda-cloud": {},
  "kernelspec": {
   "display_name": "Python 3",
   "language": "python",
   "name": "python3"
  },
  "language_info": {
   "codemirror_mode": {
    "name": "ipython",
    "version": 3
   },
   "file_extension": ".py",
   "mimetype": "text/x-python",
   "name": "python",
   "nbconvert_exporter": "python",
   "pygments_lexer": "ipython3",
   "version": "3.6.2"
  }
 },
 "nbformat": 4,
 "nbformat_minor": 2
}

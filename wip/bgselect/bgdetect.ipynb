{
 "cells": [
  {
   "cell_type": "markdown",
   "metadata": {},
   "source": [
    "Idea:\n",
    "\n",
    "$$ R_n = \\sqrt{ \\frac{1}{n} \\sum_{i=0}^n I_i^2 } $$\n"
   ]
  },
  {
   "cell_type": "markdown",
   "metadata": {},
   "source": [
    "\n",
    "$$ R_n^2 = \\frac{1}{n} \\frac{n-1}{n-1} \\left( I_n^2 + \\sum_{i=0}^{n-1} I_i^2 \\right) $$"
   ]
  },
  {
   "cell_type": "markdown",
   "metadata": {},
   "source": [
    "$$ R_n^2 \\frac{n}{n-1} = \\frac{1}{n-1} I_n^2 + \\sum_{i=0}^{n-1} \\frac{1}{n-1} I_i^2 $$"
   ]
  },
  {
   "cell_type": "markdown",
   "metadata": {},
   "source": [
    "$$ \\sqrt{R_n^2 \\frac{n}{n-1} - \\frac{1}{n-1} I_n^2} =  \\sqrt{\\sum_{i=0}^{n-1} \\frac{1}{n-1} I_i^2} = R_{n-1} $$"
   ]
  },
  {
   "cell_type": "markdown",
   "metadata": {},
   "source": [
    "$$ \\sqrt{\\frac{nR_n^2 - I_n^2}{n-1}} = R_{n-1} $$"
   ]
  },
  {
   "cell_type": "code",
   "execution_count": null,
   "metadata": {},
   "outputs": [],
   "source": []
  },
  {
   "cell_type": "code",
   "execution_count": null,
   "metadata": {},
   "outputs": [],
   "source": []
  },
  {
   "cell_type": "code",
   "execution_count": 1,
   "metadata": {},
   "outputs": [],
   "source": [
    "import matplotlib.pyplot as plt\n",
    "%matplotlib inline\n",
    "from functions import *"
   ]
  },
  {
   "cell_type": "code",
   "execution_count": 26,
   "metadata": {},
   "outputs": [
    {
     "name": "stdout",
     "output_type": "stream",
     "text": [
      "ALMA-OrionKL-band6-methanol.fits\n"
     ]
    },
    {
     "data": {
      "image/png": "[encoded data removed]",
      "text/plain": [
       "<matplotlib.figure.Figure at 0x1c0d6fd7b8>"
      ]
     },
     "metadata": {},
     "output_type": "display_data"
    },
    {
     "data": {
      "image/png": "[encoded data removed]",
      "text/plain": [
       "<matplotlib.figure.Figure at 0x1c0ef1cba8>"
      ]
     },
     "metadata": {},
     "output_type": "display_data"
    },
    {
     "data": {
      "image/png": "[encoded data removed]",
      "text/plain": [
       "<matplotlib.figure.Figure at 0x109b9e400>"
      ]
     },
     "metadata": {},
     "output_type": "display_data"
    }
   ],
   "source": [
    "\n",
    "\n",
    "from astropy.io import fits\n",
    "import glob\n",
    "from scipy.signal import argrelextrema\n",
    "flist = glob.glob(\"ALMA*.fits\")\n",
    "for ff in flist:\n",
    "    print(ff)\n",
    "    hdu = fits.open(ff)[0]\n",
    "    cube = hdu.data[0]\n",
    "    plt.figure()\n",
    "    (vcube,lst) = rms_curve(cube)\n",
    "    (hbins,_,_)=plt.hist(vcube, bins='auto')\n",
    "    pos=hbins.argmax()\n",
    "    v1=hbins[0:pos]\n",
    "    v2=hbins[pos+1:2*pos+1]\n",
    "    v2=v2[::-1]\n",
    "    v3=np.minimum(v1,v2)\n",
    "    noise_dist = np.hstack((v3,[hbins[pos]],v3[::-1]))\n",
    "    #print(noise_dist)\n",
    "    plt.figure()\n",
    "    plt.plot(range(0,2*pos+1),noise_dist)\n",
    "    dist_signal = noise_dist\n",
    "    dist_signal[0:2*pos+1]-=noise_dist\n",
    "    plt.figure()\n",
    "    plt.plot(range(0,dist_signal.size),dist_signal)\n",
    "    \n",
    "    #plt.figure()\n",
    "    \n",
    "    #plt.plot(vcube,lst)\n",
    "    #plt.plot(vcube,vcube,\"c--\")\n",
    "    #points=argrelextrema(lst-vcube,np.less,order=100)\n",
    "    #print(points[0].shape)\n",
    "    #fmin=points[0][0]\n",
    "    #vv = vcube[:fmin]\n",
    "    #vv = np.append(vv,vv)\n",
    "    #my_rms = np.sqrt(np.nansum(vv*vv/vv.size))\n",
    "    #mu = np.nansum(vv/vv.size)\n",
    "    #sigma2 = np.nansum((vv - mu)*(vv - mu)/vv.size)\n",
    "    #mrms = np.sqrt(mu*mu + sigma2)\n",
    "    #signal,residual = bayesian_separation(cube,mu,sigma2)\n",
    "    #plt.plot(vcube[fmin],lst[fmin],\"ro\")\n",
    "    #rr = np.array(range(int(vcube.max()/my_rms)+1))\n",
    "    #plt.plot(my_rms*rr,0*rr,\"mo\")\n",
    "    #plt.show()\n",
    "    #print(cube_rms(ncube))\n",
    "    #plt.imshow(np.nansum(cube,axis=(0)))\n",
    "    #plt.show()\n",
    "    #plt.figure()\n",
    "    #plt.imshow(np.nansum(ncube,axis=(0)))\n",
    "    #plt.show()\n",
    "    #plt.figure()\n",
    "    #plt.plot(vcube,lst)\n",
    "    #plt.plot(vcube[fmin],lst[fmin],\"ro\")\n",
    "    #plt.show()"
   ]
  },
  {
   "cell_type": "code",
   "execution_count": null,
   "metadata": {},
   "outputs": [],
   "source": [
    "import numpy as np\n",
    "neigh =np.array([[0,0,0],[0,0,1],[0,0,-1],[0,1,0],[0,-1,0],[1,0,0],[-1,0,0]])"
   ]
  },
  {
   "cell_type": "code",
   "execution_count": null,
   "metadata": {},
   "outputs": [],
   "source": [
    "v=np.array([13,2,4]) - neigh"
   ]
  },
  {
   "cell_type": "code",
   "execution_count": null,
   "metadata": {},
   "outputs": [],
   "source": [
    "a=[v[:,0] <= 13] * [v[:,0] >= 0]\n",
    "a"
   ]
  },
  {
   "cell_type": "code",
   "execution_count": null,
   "metadata": {},
   "outputs": [],
   "source": []
  }
 ],
 "metadata": {
  "kernelspec": {
   "display_name": "Python 3",
   "language": "python",
   "name": "python3"
  },
  "language_info": {
   "codemirror_mode": {
    "name": "ipython",
    "version": 3
   },
   "file_extension": ".py",
   "mimetype": "text/x-python",
   "name": "python",
   "nbconvert_exporter": "python",
   "pygments_lexer": "ipython3",
   "version": "3.6.2"
  }
 },
 "nbformat": 4,
 "nbformat_minor": 2
}

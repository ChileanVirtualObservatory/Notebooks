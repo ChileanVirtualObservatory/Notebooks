{
 "cells": [
  {
   "cell_type": "code",
   "execution_count": 1,
   "metadata": {
    "collapsed": false
   },
   "outputs": [],
   "source": [
    "import ipywidgets as widgets\n",
    "from astropy.table.jsviewer import JSViewer\n",
    "from astropy.table import conf\n",
    "\n",
    "class FloatingAstropyTable():\n",
    "    instance = None\n",
    "\n",
    "    def __init__(self, ipython,table):\n",
    "        \"\"\"Public constructor.\"\"\"\n",
    "        if FloatingAstropyTable.instance is not None:\n",
    "            raise Exception(\"\"\"Only one instance of the Floating AstropyTable can exist at a \n",
    "            time.  Call close() on the active instance before creating a new instance.\n",
    "            If you have lost the handle to the active instance, you can re-obtain it\n",
    "            via `FloatingAstropyTable.instance`.\"\"\")\n",
    "\n",
    "        FloatingAstropyTable.instance = self\n",
    "        self.closed = False\n",
    "        self.table = table\n",
    "        #self.namespace = NamespaceMagics()\n",
    "        #self.namespace.shell = ipython.kernel.shell\n",
    "\n",
    "        self._box = widgets.Box()\n",
    "        self._box._dom_classes = ['inspector']\n",
    "        self._box.background_color = '#fff'\n",
    "        self._box.border_color = '#ccc'\n",
    "        self._box.border_width = 1\n",
    "        self._box.border_radius = 5\n",
    "\n",
    "        self._modal_body = widgets.VBox()\n",
    "        self._modal_body.overflow_y = 'scroll'\n",
    "\n",
    "        self._modal_body_label = widgets.HTML(value = 'Not hooked')\n",
    "        self._modal_body.children = [self._modal_body_label]\n",
    "\n",
    "        self._box.children = [\n",
    "            self._modal_body, \n",
    "        ]\n",
    "\n",
    "        self._ipython = ipython\n",
    "        self._ipython.events.register('post_run_cell', self._fill)\n",
    "\n",
    "    def close(self):\n",
    "        \"\"\"Close and remove hooks.\"\"\"\n",
    "        if not self.closed:\n",
    "            self._ipython.events.unregister('post_run_cell', self._fill)\n",
    "            self._box.close()\n",
    "            self.closed = True\n",
    "            VariableInspectorWindow.instance = None\n",
    "\n",
    "    def _fill(self):\n",
    "        \"\"\"Fill self with variable information.\"\"\"\n",
    "        #values = self.namespace.who_ls()\n",
    "        \n",
    "        tableid = 'table{0}-{1}'.format(id(self),\n",
    "                                            np.random.randint(1, 1e6))\n",
    "        jsv = JSViewer(display_length=10)\n",
    "        table_class = conf.default_notebook_table_class\n",
    "        html = self.table._base_repr_(html=True, max_width=-1, tableid=tableid,\n",
    "                                         max_lines=-1, show_dtype=False,\n",
    "                                         tableclass=table_class)\n",
    "\n",
    "        html += jsv.ipynb(tableid, css=None)\n",
    "\n",
    "\n",
    "        self._modal_body_label.value = html\n",
    "        \n",
    "    def _ipython_display_(self):\n",
    "        \"\"\"Called when display() or pyout is used to display the Variable \n",
    "        Inspector.\"\"\"\n",
    "        self._box._ipython_display_()"
   ]
  },
  {
   "cell_type": "code",
   "execution_count": 2,
   "metadata": {
    "collapsed": false
   },
   "outputs": [],
   "source": [
    "import astropy.table as tab\n",
    "a=tab.Table()"
   ]
  },
  {
   "cell_type": "code",
   "execution_count": null,
   "metadata": {
    "collapsed": false
   },
   "outputs": [],
   "source": []
  },
  {
   "cell_type": "code",
   "execution_count": 3,
   "metadata": {
    "collapsed": false
   },
   "outputs": [],
   "source": [
    "import numpy as np\n",
    "a['donuts']=np.random.rand(100)"
   ]
  },
  {
   "cell_type": "code",
   "execution_count": 4,
   "metadata": {
    "collapsed": false
   },
   "outputs": [],
   "source": [
    "a['dina']=np.random.rand(100)"
   ]
  },
  {
   "cell_type": "code",
   "execution_count": 5,
   "metadata": {
    "collapsed": false
   },
   "outputs": [],
   "source": [
    "inspector=FloatingAstropyTable(get_ipython(),a)"
   ]
  },
  {
   "cell_type": "code",
   "execution_count": 6,
   "metadata": {
    "collapsed": false
   },
   "outputs": [],
   "source": [
    "inspector"
   ]
  },
  {
   "cell_type": "code",
   "execution_count": 7,
   "metadata": {
    "collapsed": false
   },
   "outputs": [
    {
     "data": {
      "application/javascript": [
       "$('div.inspector')\n",
       "    .detach()\n",
       "    .prependTo($('body'))\n",
       "    .css({\n",
       "        'z-index': 999, \n",
       "        position: 'fixed',\n",
       "        'box-shadow': '5px 5px 12px -3px black',\n",
       "        opacity: 0.9\n",
       "    })\n",
       "    .draggable();"
      ],
      "text/plain": [
       "<IPython.core.display.Javascript object>"
      ]
     },
     "metadata": {},
     "output_type": "display_data"
    }
   ],
   "source": [
    "%%javascript\n",
    "$('div.inspector')\n",
    "    .detach()\n",
    "    .prependTo($('body'))\n",
    "    .css({\n",
    "        'z-index': 999, \n",
    "        position: 'fixed',\n",
    "        'box-shadow': '5px 5px 12px -3px black',\n",
    "        opacity: 0.9\n",
    "    })\n",
    "    .draggable();"
   ]
  },
  {
   "cell_type": "code",
   "execution_count": null,
   "metadata": {
    "collapsed": true
   },
   "outputs": [],
   "source": []
  }
 ],
 "metadata": {
  "kernelspec": {
   "display_name": "Python [default]",
   "language": "python",
   "name": "python3"
  },
  "language_info": {
   "codemirror_mode": {
    "name": "ipython",
    "version": 3
   },
   "file_extension": ".py",
   "mimetype": "text/x-python",
   "name": "python",
   "nbconvert_exporter": "python",
   "pygments_lexer": "ipython3",
   "version": "3.5.1"
  }
 },
 "nbformat": 4,
 "nbformat_minor": 1
}

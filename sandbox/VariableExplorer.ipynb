{
 "cells": [
  {
   "cell_type": "code",
   "execution_count": 24,
   "metadata": {
    "collapsed": false
   },
   "outputs": [],
   "source": [
    "import ipywidgets as widgets # Loads the Widget framework.\n",
    "from IPython.core.magics.namespace import NamespaceMagics # Used to query namespace.\n",
    "\n",
    "# For this example, hide these names, just to avoid polluting the namespace further\n",
    "get_ipython().user_ns_hidden['widgets'] = widgets\n",
    "get_ipython().user_ns_hidden['NamespaceMagics'] = NamespaceMagics\n",
    "\n",
    "class VariableInspectorWindow():\n",
    "    instance = None\n",
    "\n",
    "    def __init__(self, ipython):\n",
    "        \"\"\"Public constructor.\"\"\"\n",
    "        if VariableInspectorWindow.instance is not None:\n",
    "            raise Exception(\"\"\"Only one instance of the Variable Inspector can exist at a \n",
    "            time.  Call close() on the active instance before creating a new instance.\n",
    "            If you have lost the handle to the active instance, you can re-obtain it\n",
    "            via `VariableInspectorWindow.instance`.\"\"\")\n",
    "\n",
    "        VariableInspectorWindow.instance = self\n",
    "        self.closed = False\n",
    "        self.namespace = NamespaceMagics()\n",
    "        self.namespace.shell = ipython.kernel.shell\n",
    "\n",
    "        self._box = widgets.Box()\n",
    "        self._box._dom_classes = ['inspector']\n",
    "        self._box.background_color = '#fff'\n",
    "        self._box.border_color = '#ccc'\n",
    "        self._box.border_width = 1\n",
    "        self._box.border_radius = 5\n",
    "\n",
    "        self._modal_body = widgets.VBox()\n",
    "        self._modal_body.overflow_y = 'scroll'\n",
    "\n",
    "        self._modal_body_label = widgets.HTML(value = 'Not hooked')\n",
    "        self._modal_body.children = [self._modal_body_label]\n",
    "\n",
    "        self._box.children = [\n",
    "            self._modal_body, \n",
    "        ]\n",
    "\n",
    "        self._ipython = ipython\n",
    "        self._ipython.events.register('post_run_cell', self._fill)\n",
    "\n",
    "    def close(self):\n",
    "        \"\"\"Close and remove hooks.\"\"\"\n",
    "        if not self.closed:\n",
    "            self._ipython.events.unregister('post_run_cell', self._fill)\n",
    "            self._box.close()\n",
    "            self.closed = True\n",
    "            VariableInspectorWindow.instance = None\n",
    "\n",
    "    def _fill(self):\n",
    "        \"\"\"Fill self with variable information.\"\"\"\n",
    "        values = self.namespace.who_ls()\n",
    "        self._modal_body_label.value = '<table class=\"table table-bordered table-striped\"><tr><th>Name</th><th>Type</th><th>Dims</th></tr><tr><td>' + \\\n",
    "            '</td></tr><tr><td>'.join(['{0}</td><td>{1}</td><td>{2}'.format(v, type(eval(v)).__name__,str(eval(v).shape) if 'shape' in dir(eval(v)) else '---') for v in values]) + \\\n",
    "            '</td></tr></table>'\n",
    "\n",
    "    def _ipython_display_(self):\n",
    "        \"\"\"Called when display() or pyout is used to display the Variable \n",
    "        Inspector.\"\"\"\n",
    "        self._box._ipython_display_()"
   ]
  },
  {
   "cell_type": "code",
   "execution_count": 25,
   "metadata": {
    "collapsed": false
   },
   "outputs": [],
   "source": [
    "inspector = VariableInspectorWindow(get_ipython())\n",
    "inspector"
   ]
  },
  {
   "cell_type": "code",
   "execution_count": 34,
   "metadata": {
    "collapsed": false
   },
   "outputs": [
    {
     "data": {
      "application/javascript": [
       "$('div.inspector')\n",
       "    .prependTo($('body'))\n",
       "    .css({\n",
       "        'z-index': 999, \n",
       "        position: 'fixed',\n",
       "        'box-shadow': '5px 5px 12px -3px black',\n",
       "        opacity: 0.9\n",
       "    })\n",
       "    .draggable();"
      ],
      "text/plain": [
       "<IPython.core.display.Javascript object>"
      ]
     },
     "metadata": {},
     "output_type": "display_data"
    }
   ],
   "source": [
    "%%javascript\n",
    "$('div.inspector')\n",
    "    .detach()\n",
    "    .prependTo($('body'))\n",
    "    .css({\n",
    "        'z-index': 999, \n",
    "        position: 'fixed',\n",
    "        'box-shadow': '5px 5px 12px -3px black',\n",
    "        opacity: 0.9\n",
    "    })\n",
    "    .draggable();"
   ]
  },
  {
   "cell_type": "code",
   "execution_count": 35,
   "metadata": {
    "collapsed": false
   },
   "outputs": [],
   "source": [
    "import numpy\n",
    "a=numpy.ndarray((10,10))"
   ]
  },
  {
   "cell_type": "code",
   "execution_count": 28,
   "metadata": {
    "collapsed": false
   },
   "outputs": [],
   "source": [
    "a=1\n",
    "b=10\n",
    "c=10\n",
    "d=3\n",
    "j=0\n",
    "k=1\n",
    "l=1\n",
    "m=10\n",
    "kk=1\n",
    "qq=1\n"
   ]
  },
  {
   "cell_type": "code",
   "execution_count": 29,
   "metadata": {
    "collapsed": true
   },
   "outputs": [],
   "source": [
    "qqq=10"
   ]
  },
  {
   "cell_type": "code",
   "execution_count": 30,
   "metadata": {
    "collapsed": true
   },
   "outputs": [],
   "source": [
    "qqqq=10"
   ]
  },
  {
   "cell_type": "code",
   "execution_count": 31,
   "metadata": {
    "collapsed": true
   },
   "outputs": [],
   "source": [
    "qqqqq=10\n"
   ]
  },
  {
   "cell_type": "code",
   "execution_count": 32,
   "metadata": {
    "collapsed": true
   },
   "outputs": [],
   "source": [
    "wwww=1\n",
    "qdkadfl=2\n",
    "dlfjj=1\n",
    "iuwfh=1\n",
    "IJD=2\n",
    "OLJF=1\n",
    "JKND=4\n",
    "JNF=3\n",
    "wknv=1\n",
    "LKDS=2\n",
    "nvdn=1\n"
   ]
  },
  {
   "cell_type": "code",
   "execution_count": 33,
   "metadata": {
    "collapsed": false
   },
   "outputs": [
    {
     "ename": "ImportError",
     "evalue": "No module named 'qgrid'",
     "output_type": "error",
     "traceback": [
      "\u001b[0;31m---------------------------------------------------------------------------\u001b[0m",
      "\u001b[0;31mImportError\u001b[0m                               Traceback (most recent call last)",
      "\u001b[0;32m<ipython-input-33-a4f5c542216e>\u001b[0m in \u001b[0;36m<module>\u001b[0;34m()\u001b[0m\n\u001b[0;32m----> 1\u001b[0;31m \u001b[0;32mimport\u001b[0m \u001b[0mqgrid\u001b[0m\u001b[0;34m\u001b[0m\u001b[0m\n\u001b[0m",
      "\u001b[0;31mImportError\u001b[0m: No module named 'qgrid'"
     ]
    }
   ],
   "source": [
    "import qgrid\n"
   ]
  },
  {
   "cell_type": "code",
   "execution_count": null,
   "metadata": {
    "collapsed": true
   },
   "outputs": [],
   "source": []
  }
 ],
 "metadata": {
  "kernelspec": {
   "display_name": "Python 3",
   "language": "python",
   "name": "python3"
  },
  "language_info": {
   "codemirror_mode": {
    "name": "ipython",
    "version": 3
   },
   "file_extension": ".py",
   "mimetype": "text/x-python",
   "name": "python",
   "nbconvert_exporter": "python",
   "pygments_lexer": "ipython3",
   "version": "3.5.1"
  },
  "widgets": {
   "state": {
    "38b5f2214ad347f6aaf07fc96f11a13e": {
     "views": [
      {
       "cell_index": 1
      }
     ]
    }
   },
   "version": "1.2.0"
  }
 },
 "nbformat": 4,
 "nbformat_minor": 1
}

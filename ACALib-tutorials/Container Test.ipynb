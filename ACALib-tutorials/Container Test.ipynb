{
 "cells": [
  {
   "cell_type": "markdown",
   "metadata": {},
   "source": [
    "# AContainer Example"
   ]
  },
  {
   "cell_type": "markdown",
   "metadata": {},
   "source": [
    "This notebook is an example of the use of the AContainer class.\n",
    "\n",
    "## 1. Importing ACALib core"
   ]
  },
  {
   "cell_type": "code",
   "execution_count": 2,
   "metadata": {},
   "outputs": [
    {
     "name": "stderr",
     "output_type": "stream",
     "text": [
      "/Users/mauricio/anaconda/envs/jupyter/lib/python3.5/site-packages/skimage/filter/__init__.py:6: skimage_deprecation: The `skimage.filter` module has been renamed to `skimage.filters`.  This placeholder module will be removed in v0.13.\n",
      "  warn(skimage_deprecation('The `skimage.filter` module has been renamed '\n"
     ]
    }
   ],
   "source": [
    "import sys\n",
    "sys.path.append('../ACALib')\n",
    "\n",
    "from acalib import *\n",
    "from os import walk\n",
    "from astropy import log\n"
   ]
  },
  {
   "cell_type": "markdown",
   "metadata": {},
   "source": [
    "##  2. Reading several files "
   ]
  },
  {
   "cell_type": "code",
   "execution_count": 6,
   "metadata": {},
   "outputs": [
    {
     "name": "stdout",
     "output_type": "stream",
     "text": [
      "../bindata/fits/cubes/Antennae_North.CO3_2Line.Clean.pcal1.image.fits\n",
      "INFO: Processing HDU 0 (Image) [acalib.io.fits]\n",
      "INFO: 4D data detected: assuming RA-DEC-FREQ-STOKES (like CASA-generated ones), and dropping STOKES [acalib.io.fits]\n",
      "../bindata/fits/cubes/Antennae_South.CO3_2Line.Clean.pcal1.image.fits\n",
      "INFO: Processing HDU 0 (Image) [acalib.io.fits]\n",
      "INFO: 4D data detected: assuming RA-DEC-FREQ-STOKES (like CASA-generated ones), and dropping STOKES [acalib.io.fits]\n",
      "../bindata/fits/cubes/Boom.cm.cln.fits\n",
      "INFO: Processing HDU 0 (Image) [acalib.io.fits]\n",
      "INFO: 4D data detected: assuming RA-DEC-FREQ-STOKES (like CASA-generated ones), and dropping STOKES [acalib.io.fits]\n",
      "../bindata/fits/cubes/CenA.CO2_1Line.Clean.image.fits\n",
      "INFO: Processing HDU 0 (Image) [acalib.io.fits]\n",
      "INFO: 4D data detected: assuming RA-DEC-FREQ-STOKES (like CASA-generated ones), and dropping STOKES [acalib.io.fits]\n",
      "../bindata/fits/cubes/M100cont.image.fits\n",
      "INFO: Processing HDU 0 (Image) [acalib.io.fits]\n",
      "INFO: 4D data detected: assuming RA-DEC-FREQ-STOKES (like CASA-generated ones), and dropping STOKES [acalib.io.fits]\n",
      "../bindata/fits/cubes/M100line.image.fits\n",
      "INFO: Processing HDU 0 (Image) [acalib.io.fits]\n",
      "INFO: 4D data detected: assuming RA-DEC-FREQ-STOKES (like CASA-generated ones), and dropping STOKES [acalib.io.fits]\n",
      "../bindata/fits/cubes/Orion.methanol.cbc.contsub.image.fits\n",
      "INFO: Processing HDU 0 (Image) [acalib.io.fits]\n",
      "INFO: 4D data detected: assuming RA-DEC-FREQ-STOKES (like CASA-generated ones), and dropping STOKES [acalib.io.fits]\n",
      "../bindata/fits/images/Boom.cln.fits\n",
      "INFO: Processing HDU 0 (Image) [acalib.io.fits]\n",
      "INFO: 4D data detected: assuming RA-DEC-FREQ-STOKES (like CASA-generated ones), and dropping STOKES [acalib.io.fits]\n",
      "../bindata/fits/images/M100-CO.mom0.fits\n",
      "INFO: Processing HDU 0 (Image) [acalib.io.fits]\n",
      "INFO: 4D data detected: assuming RA-DEC-FREQ-STOKES (like CASA-generated ones), and dropping STOKES [acalib.io.fits]\n",
      "../bindata/fits/images/M100-CO.mom1.fits\n",
      "INFO: Processing HDU 0 (Image) [acalib.io.fits]\n",
      "INFO: 4D data detected: assuming RA-DEC-FREQ-STOKES (like CASA-generated ones), and dropping STOKES [acalib.io.fits]\n",
      "../bindata/fits/images/NGC6240_continuum.fits\n",
      "INFO: Processing HDU 0 (Image) [acalib.io.fits]\n",
      "INFO: 4D data detected: assuming RA-DEC-FREQ-STOKES (like CASA-generated ones), and dropping STOKES [acalib.io.fits]\n",
      "../bindata/fits/images/Orion.cont.image.fits\n",
      "INFO: Processing HDU 0 (Image) [acalib.io.fits]\n",
      "INFO: 4D data detected: assuming RA-DEC-FREQ-STOKES (like CASA-generated ones), and dropping STOKES [acalib.io.fits]\n",
      "../bindata/fits/images/Orion.methanol.mom0.fits\n",
      "INFO: Processing HDU 0 (Image) [acalib.io.fits]\n",
      "INFO: 4D data detected: assuming RA-DEC-FREQ-STOKES (like CASA-generated ones), and dropping STOKES [acalib.io.fits]\n",
      "../bindata/fits/images/Orion.methanol.mom1.fits\n",
      "INFO: Processing HDU 0 (Image) [acalib.io.fits]\n",
      "INFO: 4D data detected: assuming RA-DEC-FREQ-STOKES (like CASA-generated ones), and dropping STOKES [acalib.io.fits]\n"
     ]
    }
   ],
   "source": [
    "binpath='../bindata/fits/'\n",
    "\n",
    "f = []\n",
    "for (dirpath, dirnames, filenames) in walk(binpath):\n",
    "    for filename in filenames:\n",
    "        f.append(dirpath+'/'+filename)\n",
    "cs =[]\n",
    "for fn in filter(lambda x: '.fits' in x, f):\n",
    "    print(fn)\n",
    "    c = Container()\n",
    "    c.load_fits(fn)\n",
    "    cs.append(c)"
   ]
  },
  {
   "cell_type": "code",
   "execution_count": 9,
   "metadata": {},
   "outputs": [],
   "source": [
    "# Test IO of container (save)\n"
   ]
  },
  {
   "cell_type": "code",
   "execution_count": null,
   "metadata": {
    "collapsed": true
   },
   "outputs": [],
   "source": []
  }
 ],
 "metadata": {
  "anaconda-cloud": {},
  "kernelspec": {
   "display_name": "Python [default]",
   "language": "python",
   "name": "python3"
  },
  "language_info": {
   "codemirror_mode": {
    "name": "ipython",
    "version": 3
   },
   "file_extension": ".py",
   "mimetype": "text/x-python",
   "name": "python",
   "nbconvert_exporter": "python",
   "pygments_lexer": "ipython3",
   "version": "3.5.1"
  }
 },
 "nbformat": 4,
 "nbformat_minor": 1
}

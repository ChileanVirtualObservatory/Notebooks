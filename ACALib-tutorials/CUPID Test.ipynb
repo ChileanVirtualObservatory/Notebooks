{
 "cells": [
  {
   "cell_type": "code",
   "execution_count": 1,
   "metadata": {
    "scrolled": true
   },
   "outputs": [],
   "source": [
    "%matplotlib inline\n",
    "\n",
    "import numpy as np\n",
    "import matplotlib.pyplot as plt\n",
    "\n",
    "import acalib"
   ]
  },
  {
   "cell_type": "markdown",
   "metadata": {},
   "source": [
    "## Loading Data"
   ]
  },
  {
   "cell_type": "code",
   "execution_count": 6,
   "metadata": {},
   "outputs": [
    {
     "name": "stdout",
     "output_type": "stream",
     "text": [
      "INFO: Processing HDU 0 (Image) [acalib.io.fits]\n",
      "INFO: 4D data detected: assuming RA-DEC-FREQ-STOKES (like CASA-generated ones), and dropping STOKES [acalib.io.fits]\n"
     ]
    }
   ],
   "source": [
    "binpath = '../../bindata/fits/cubes/'\n",
    "\n",
    "# Data from ALMA science verification \n",
    "orion_path = binpath + 'Orion.methanol.cbc.contsub.image.fits'\n",
    "container = acalib.load_fits(orion_path)\n",
    "orion = container.primary\n",
    "orion_stacked = acalib.moment0(orion)"
   ]
  },
  {
   "cell_type": "markdown",
   "metadata": {},
   "source": [
    "## Applying pycupid's ClumpFind"
   ]
  },
  {
   "cell_type": "code",
   "execution_count": 7,
   "metadata": {},
   "outputs": [],
   "source": [
    "cf = acalib.ClumpFind()"
   ]
  },
  {
   "cell_type": "code",
   "execution_count": 8,
   "metadata": {},
   "outputs": [],
   "source": [
    "res2D, clumps2D = cf.run(orion_stacked)"
   ]
  },
  {
   "cell_type": "code",
   "execution_count": 9,
   "metadata": {},
   "outputs": [
    {
     "name": "stdout",
     "output_type": "stream",
     "text": [
      "number of clumps detected: 4\n"
     ]
    }
   ],
   "source": [
    "print(\"number of clumps detected: {0}\".format(res2D.data.max()+1))"
   ]
  },
  {
   "cell_type": "code",
   "execution_count": 10,
   "metadata": {},
   "outputs": [
    {
     "name": "stdout",
     "output_type": "stream",
     "text": [
      "number of pixels of clump 0: 9432\n",
      "number of pixels of clump 1: 152\n",
      "number of pixels of clump 2: 367\n",
      "number of pixels of clump 3: 49\n"
     ]
    }
   ],
   "source": [
    "for clump in range(res2D.data.max()+1):\n",
    "    print(\"number of pixels of clump {0}: {1}\".format(clump, np.sum(res2D.data==clump)))"
   ]
  },
  {
   "cell_type": "code",
   "execution_count": 11,
   "metadata": {},
   "outputs": [
    {
     "data": {
      "image/png": "[encoded data removed]",
      "text/plain": [
       "<matplotlib.figure.Figure at 0x7f73c5b1cd30>"
      ]
     },
     "metadata": {},
     "output_type": "display_data"
    }
   ],
   "source": [
    "acalib.visualize(res2D)"
   ]
  },
  {
   "cell_type": "code",
   "execution_count": 16,
   "metadata": {},
   "outputs": [],
   "source": [
    "cf = acalib.ClumpFind()\n",
    "res3D, clumps3D = cf.run(orion)"
   ]
  },
  {
   "cell_type": "code",
   "execution_count": 17,
   "metadata": {},
   "outputs": [
    {
     "name": "stdout",
     "output_type": "stream",
     "text": [
      "number of clumps detected: 19\n"
     ]
    }
   ],
   "source": [
    "print(\"number of clumps detected: {0}\".format(res3D.data.max()+1))"
   ]
  },
  {
   "cell_type": "code",
   "execution_count": 18,
   "metadata": {},
   "outputs": [
    {
     "name": "stdout",
     "output_type": "stream",
     "text": [
      "number of pixels of clump 0: 396725\n",
      "number of pixels of clump 1: 1200\n",
      "number of pixels of clump 2: 898\n",
      "number of pixels of clump 3: 1904\n",
      "number of pixels of clump 4: 1951\n",
      "number of pixels of clump 5: 2461\n",
      "number of pixels of clump 6: 737\n",
      "number of pixels of clump 7: 883\n",
      "number of pixels of clump 8: 754\n",
      "number of pixels of clump 9: 1295\n",
      "number of pixels of clump 10: 314\n",
      "number of pixels of clump 11: 117\n",
      "number of pixels of clump 12: 124\n",
      "number of pixels of clump 13: 117\n",
      "number of pixels of clump 14: 125\n",
      "number of pixels of clump 15: 107\n",
      "number of pixels of clump 16: 160\n",
      "number of pixels of clump 17: 58\n",
      "number of pixels of clump 18: 70\n"
     ]
    }
   ],
   "source": [
    "for clump in range(res3D.data.max()+1):\n",
    "    print(\"number of pixels of clump {0}: {1}\".format(clump, np.sum(res3D.data==clump)))"
   ]
  },
  {
   "cell_type": "markdown",
   "metadata": {},
   "source": [
    "## Applying pycupid's FellWalker"
   ]
  },
  {
   "cell_type": "code",
   "execution_count": 19,
   "metadata": {
    "collapsed": true
   },
   "outputs": [],
   "source": [
    "fw = acalib.FellWalker()"
   ]
  },
  {
   "cell_type": "code",
   "execution_count": 20,
   "metadata": {},
   "outputs": [],
   "source": [
    "res2D, clumps2D = fw.run(orion_stacked)"
   ]
  },
  {
   "cell_type": "code",
   "execution_count": 21,
   "metadata": {},
   "outputs": [
    {
     "data": {
      "image/png": "[encoded data removed]",
      "text/plain": [
       "<matplotlib.figure.Figure at 0x7f73c5acf5f8>"
      ]
     },
     "metadata": {},
     "output_type": "display_data"
    }
   ],
   "source": [
    "acalib.visualize(res2D)"
   ]
  },
  {
   "cell_type": "code",
   "execution_count": 22,
   "metadata": {},
   "outputs": [],
   "source": [
    "res3D, clumps3D = fw.run(orion)"
   ]
  },
  {
   "cell_type": "code",
   "execution_count": 23,
   "metadata": {},
   "outputs": [
    {
     "name": "stdout",
     "output_type": "stream",
     "text": [
      "number of pixels of clump 0: 397784\n",
      "number of pixels of clump 1: 2811\n",
      "number of pixels of clump 2: 5539\n",
      "number of pixels of clump 3: 1488\n",
      "number of pixels of clump 4: 522\n",
      "number of pixels of clump 5: 1438\n",
      "number of pixels of clump 6: 63\n",
      "number of pixels of clump 7: 60\n",
      "number of pixels of clump 8: 227\n",
      "number of pixels of clump 9: 48\n",
      "number of pixels of clump 10: 20\n"
     ]
    }
   ],
   "source": [
    "for clump in range(res3D.data.max()+1):\n",
    "    print(\"number of pixels of clump {0}: {1}\".format(clump, np.sum(res3D.data==clump)))"
   ]
  },
  {
   "cell_type": "code",
   "execution_count": null,
   "metadata": {
    "collapsed": true
   },
   "outputs": [],
   "source": []
  }
 ],
 "metadata": {
  "anaconda-cloud": {},
  "kernelspec": {
   "display_name": "Python [default]",
   "language": "python",
   "name": "python3"
  },
  "language_info": {
   "codemirror_mode": {
    "name": "ipython",
    "version": 3
   },
   "file_extension": ".py",
   "mimetype": "text/x-python",
   "name": "python",
   "nbconvert_exporter": "python",
   "pygments_lexer": "ipython3",
   "version": "3.5.2"
  }
 },
 "nbformat": 4,
 "nbformat_minor": 1
}

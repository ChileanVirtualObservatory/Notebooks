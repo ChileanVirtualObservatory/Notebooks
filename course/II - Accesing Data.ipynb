{
 "cells": [
  {
   "cell_type": "markdown",
   "metadata": {},
   "source": [
    "<h1 align=\"center\"> Accessing Astronomical Data From Python </h1>\n",
    "<h2 align=\"center\"> Part 2: Accessing and Visualizing Astronomical Data </h2> "
   ]
  },
  {
   "cell_type": "markdown",
   "metadata": {},
   "source": [
    "## 0.- Installing necessary packages\n",
    "* ``conda install astropy``\n",
    "* ``conda install -c astropy aplpy astroquery``\n",
    "\n",
    "Before doing to data analysis, we need to find, load and pre-process data!"
   ]
  },
  {
   "cell_type": "markdown",
   "metadata": {},
   "source": [
    "## 1.- Astronomical Data from WebPages"
   ]
  },
  {
   "cell_type": "markdown",
   "metadata": {},
   "source": [
    "Function to retrieve the tarball and the fits file."
   ]
  },
  {
   "cell_type": "code",
   "execution_count": null,
   "metadata": {},
   "outputs": [],
   "source": [
    "import os\n",
    "import urllib.request\n",
    "import tarfile\n",
    "import sys\n",
    "\n",
    "global DOWNLOADS_DIR \n",
    "DOWNLOADS_DIR= '.'\n",
    "\n",
    "def download_and_extract(url):\n",
    "    # Obtain the filename\n",
    "    name = url.rsplit('/', 1)[-1]\n",
    "    filename = os.path.join(DOWNLOADS_DIR, name)\n",
    "    # Download the file if not found\n",
    "    if not os.path.isfile(filename):\n",
    "        urllib.request.urlretrieve(url, filename)\n",
    "    # Decompress (if needed) and copy the selected file to the DOWNLOADS_DIR\n",
    "    sdir=filename.rsplit('ReferenceImages',1)[0]+\"ReferenceImages\"\n",
    "    if not os.path.isdir(sdir):\n",
    "        tar = tarfile.open(filename)\n",
    "        tar.extractall(path=DOWNLOADS_DIR)\n",
    "        tar.close()"
   ]
  },
  {
   "cell_type": "code",
   "execution_count": null,
   "metadata": {},
   "outputs": [],
   "source": [
    "# Data from ALMA science verification \n",
    "twhydra_url = 'https://almascience.nrao.edu/almadata/sciver/TWHya/TWHYA_BAND7_ReferenceImages.tgz'\n",
    "download_and_extract(twhydra_url)\n",
    "\n",
    "!ls TWHYA_BAND7_ReferenceImages"
   ]
  },
  {
   "cell_type": "markdown",
   "metadata": {},
   "source": [
    "## 2.- Loading and a Quick Look at the Data"
   ]
  },
  {
   "cell_type": "code",
   "execution_count": null,
   "metadata": {},
   "outputs": [],
   "source": [
    "from astropy.io import fits\n",
    "import logging\n",
    "import warnings\n",
    "warnings.filterwarnings('ignore')\n",
    "\n",
    "# Load File\n",
    "hdulist = fits.open(\"TWHYA_BAND7_ReferenceImages/TWHydra_CO3_2line.image.mom0.fits\")\n",
    "twhydra = hdulist[0]"
   ]
  },
  {
   "cell_type": "markdown",
   "metadata": {},
   "source": [
    "### Show the header"
   ]
  },
  {
   "cell_type": "code",
   "execution_count": null,
   "metadata": {},
   "outputs": [],
   "source": [
    "twhydra.header"
   ]
  },
  {
   "cell_type": "markdown",
   "metadata": {},
   "source": [
    "### Quick Look\n",
    "We can use matplotlib"
   ]
  },
  {
   "cell_type": "code",
   "execution_count": null,
   "metadata": {},
   "outputs": [],
   "source": [
    "%matplotlib inline\n",
    "import matplotlib.pyplot as plt\n",
    "plt.imshow(twhydra.data.sum(axis=(0,1)))"
   ]
  },
  {
   "cell_type": "code",
   "execution_count": null,
   "metadata": {},
   "outputs": [],
   "source": [
    "import aplpy \n",
    "fig = aplpy.FITSFigure(twhydra)\n",
    "fig.show_grayscale()\n",
    "fig.show_grid()\n",
    "fig.show_contour()"
   ]
  },
  {
   "cell_type": "code",
   "execution_count": null,
   "metadata": {
    "scrolled": false
   },
   "outputs": [],
   "source": [
    "#Load Data Cube\n",
    "hdulist = fits.open(\"TWHYA_BAND7_ReferenceImages/TWHydra_CO3_2line.image.fits\")\n",
    "twhydra_cube = hdulist[0]\n",
    "\n",
    "def show_spectra(cube):\n",
    "    spec = cube.sum(axis=(0,2,3))\n",
    "    plt.plot(spec)\n",
    "    plt.ylabel('Flux')\n",
    "    plt.xlabel('Channel')\n",
    "\n",
    "show_spectra(twhydra_cube.data)\n",
    "plt.show()"
   ]
  },
  {
   "cell_type": "markdown",
   "metadata": {},
   "source": [
    "## Interactivity"
   ]
  },
  {
   "cell_type": "code",
   "execution_count": null,
   "metadata": {},
   "outputs": [],
   "source": [
    "from ipywidgets import interact\n",
    "\n",
    "def interactive_denoising(threshold=0.0):\n",
    "    cube=twhydra_cube.data.copy()\n",
    "    cube[cube<threshold] = 0\n",
    "    show_spectra(cube)\n",
    "    plt.show()\n",
    "\n",
    "mmax = twhydra_cube.data.max()\n",
    "mmin = twhydra_cube.data.min()\n",
    "print(mmax,mmin)\n",
    "res=interact(interactive_denoising,threshold=(mmin,mmax))"
   ]
  },
  {
   "cell_type": "code",
   "execution_count": null,
   "metadata": {},
   "outputs": [],
   "source": [
    "limits = res.widget.kwargs\n",
    "limits"
   ]
  },
  {
   "cell_type": "code",
   "execution_count": null,
   "metadata": {},
   "outputs": [],
   "source": [
    "cube=twhydra_cube.data[0]\n",
    "def explore_channels(chan=0):\n",
    "    plt.imshow(cube[chan])\n",
    "    plt.colorbar()\n",
    "    plt.show()\n",
    "\n",
    "interact(explore_channels,chan=(0,cube.shape[0]-1))"
   ]
  },
  {
   "cell_type": "markdown",
   "metadata": {},
   "source": [
    "## 3 Catalog Access"
   ]
  },
  {
   "cell_type": "code",
   "execution_count": null,
   "metadata": {},
   "outputs": [],
   "source": [
    "from astroquery.skyview import SkyView\n",
    "SkyView.list_surveys()"
   ]
  },
  {
   "cell_type": "code",
   "execution_count": null,
   "metadata": {},
   "outputs": [],
   "source": [
    "res=SkyView.get_image_list(position='M100',survey=['NVSS'])\n",
    "print(res)"
   ]
  },
  {
   "cell_type": "code",
   "execution_count": null,
   "metadata": {},
   "outputs": [],
   "source": [
    "urllib.request.urlretrieve(res[0],'opt.fits')\n",
    "hdulist = fits.open(\"opt.fits\")\n",
    "opt = hdulist[0] \n",
    "fig = aplpy.FITSFigure(opt)\n",
    "fig.show_grayscale()"
   ]
  },
  {
   "cell_type": "code",
   "execution_count": null,
   "metadata": {},
   "outputs": [],
   "source": [
    "\n",
    "from astropy.wcs import WCS\n",
    "from matplotlib.patches import Circle\n",
    "ra=opt.header['CRVAL1']\n",
    "dec=opt.header['CRVAL2']\n",
    "mywcs=WCS(opt.header)\n",
    "max_radius=0.09\n",
    "\n",
    "def select_radius(radius=max_radius):\n",
    "    ax=plt.subplot(111,projection=mywcs)\n",
    "    ax.imshow(opt.data,cmap=\"gray\",origin='lower')\n",
    "    cc=Circle((ra,dec),radius=radius,edgecolor=\"green\",facecolor=\"none\",transform=ax.get_transform('fk5'))\n",
    "    ax.add_patch(cc)\n",
    "    \n",
    "mycirc=interact(select_radius,radius=(0.0,max_radius,max_radius/1000))"
   ]
  },
  {
   "cell_type": "code",
   "execution_count": null,
   "metadata": {},
   "outputs": [],
   "source": [
    "limits = mycirc.widget.kwargs\n",
    "rad    = limits['radius']\n",
    "print(ra,dec)\n",
    "rad"
   ]
  },
  {
   "cell_type": "code",
   "execution_count": null,
   "metadata": {},
   "outputs": [],
   "source": [
    "from astroquery.vizier import Vizier\n",
    "catalog_list = Vizier.find_catalogs(keywords=['GAIA'])\n",
    "for key,item in catalog_list.items():\n",
    "    print(key+\" : \"+item.description)"
   ]
  },
  {
   "cell_type": "code",
   "execution_count": null,
   "metadata": {},
   "outputs": [],
   "source": [
    "from astropy.coordinates import SkyCoord\n",
    "import astropy.units as u\n",
    "\n",
    "c = SkyCoord(ra=ra*u.deg, dec=dec*u.deg)\n",
    "res=Vizier.query_region(c, radius=rad*u.deg, catalog='I/337')"
   ]
  },
  {
   "cell_type": "code",
   "execution_count": null,
   "metadata": {},
   "outputs": [],
   "source": [
    "restab=res[0]\n",
    "restab.show_in_notebook()\n",
    "#restab"
   ]
  },
  {
   "cell_type": "code",
   "execution_count": null,
   "metadata": {},
   "outputs": [],
   "source": [
    "fig = aplpy.FITSFigure(opt)\n",
    "fig.show_grayscale()\n",
    "#fig.show_markers(restab['ra'],restab['dec'])\n",
    "fig.show_markers(restab['RA_ICRS'],restab['DE_ICRS'])"
   ]
  },
  {
   "cell_type": "markdown",
   "metadata": {},
   "source": [
    "### With ALMA"
   ]
  },
  {
   "cell_type": "code",
   "execution_count": null,
   "metadata": {},
   "outputs": [],
   "source": [
    "res=SkyView.get_image_list(position='Galactic Center',survey=['NVSS'])\n",
    "res"
   ]
  },
  {
   "cell_type": "code",
   "execution_count": null,
   "metadata": {},
   "outputs": [],
   "source": [
    "%matplotlib inline\n",
    "urllib.request.urlretrieve(res[0],'opt.fits')\n",
    "hdulist = fits.open(\"opt.fits\")\n",
    "opt = hdulist[0] \n",
    "fig = aplpy.FITSFigure(opt)\n",
    "fig.show_grayscale()"
   ]
  },
  {
   "cell_type": "code",
   "execution_count": null,
   "metadata": {
    "scrolled": false
   },
   "outputs": [],
   "source": [
    "mycirc=interact(select_radius,radius=(0.0,1,1.0/1000))"
   ]
  },
  {
   "cell_type": "code",
   "execution_count": null,
   "metadata": {},
   "outputs": [],
   "source": [
    "limits = mycirc.widget.kwargs\n",
    "ra=opt.header['CRVAL1']\n",
    "dec=opt.header['CRVAL2']\n",
    "rad    = limits['radius']\n",
    "print(ra,dec)\n",
    "rad"
   ]
  },
  {
   "cell_type": "code",
   "execution_count": null,
   "metadata": {},
   "outputs": [],
   "source": [
    "from astropy.vo.client import vos_catalog\n",
    "catalog=vos_catalog.VOSCatalog.create(\"ChiVO ALMA\",\n",
    "                                      \"http://vo.chivo.cl/archive_alma/q/scs-archive-alma/scs.xml?\")\n",
    "catalog.dumps()"
   ]
  },
  {
   "cell_type": "code",
   "execution_count": null,
   "metadata": {},
   "outputs": [],
   "source": [
    "res=vos_catalog.call_vo_service('conesearch_good',\n",
    "                            catalog_db=catalog,\n",
    "                            kwargs={'RA': ra, 'DEC': dec,'SR': rad})"
   ]
  },
  {
   "cell_type": "code",
   "execution_count": null,
   "metadata": {},
   "outputs": [],
   "source": [
    "almatab=res.to_table()\n",
    "almatab.show_in_notebook()"
   ]
  },
  {
   "cell_type": "code",
   "execution_count": null,
   "metadata": {
    "scrolled": false
   },
   "outputs": [],
   "source": [
    "%matplotlib notebook\n",
    "fig = aplpy.FITSFigure(opt)\n",
    "fig.show_grayscale()\n",
    "fig.show_markers(almatab['s_ra'],almatab['s_dec'])"
   ]
  },
  {
   "cell_type": "code",
   "execution_count": null,
   "metadata": {
    "collapsed": true
   },
   "outputs": [],
   "source": [
    "# http://vo.chivo.cl:9000/tarball?asdm=uid://A002/Xa657ad/Xd3b&mous=uid://A001/X122/X2b"
   ]
  }
 ],
 "metadata": {
  "anaconda-cloud": {},
  "kernelspec": {
   "display_name": "Python 3",
   "language": "python",
   "name": "python3"
  },
  "language_info": {
   "codemirror_mode": {
    "name": "ipython",
    "version": 3
   },
   "file_extension": ".py",
   "mimetype": "text/x-python",
   "name": "python",
   "nbconvert_exporter": "python",
   "pygments_lexer": "ipython3",
   "version": "3.6.1"
  },
  "widgets": {
   "state": {
    "258b02d4a92242de8f9b18eb2272ca57": {
     "views": [
      {
       "cell_index": 16
      }
     ]
    },
    "8f3b3706f35748db9db5d504c43d136d": {
     "views": [
      {
       "cell_index": 30
      }
     ]
    },
    "afd5d498d68a4132bbf8624c491f7343": {
     "views": [
      {
       "cell_index": 14
      }
     ]
    },
    "d6508ddd6abc4e94b56f31863a125797": {
     "views": [
      {
       "cell_index": 21
      }
     ]
    }
   },
   "version": "1.2.0"
  }
 },
 "nbformat": 4,
 "nbformat_minor": 1
}

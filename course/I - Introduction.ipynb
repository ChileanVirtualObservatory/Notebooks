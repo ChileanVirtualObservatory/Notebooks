{
 "cells": [
  {
   "cell_type": "markdown",
   "metadata": {},
   "source": [
    "# I. - Quick Dive into Scientific Computing with Python and Jupyter\n",
    "\n",
    "First of all, we asume that you know at least a little bit of Python (sorry if not!)\n",
    "\n",
    "**Basic Python Facts**\n",
    "* Python is an interpreted programming language --> no need compilation\n",
    "* Python uses indentation blocks --> no brackets, good readability\n",
    "* Python is multi-paradigm --> imperative, object-oriented or functional programming\n",
    "\n",
    "**Basic Jupyter Facts**\n",
    "* IPython is an interactive Python console --> autocompletion, history, etc.\n",
    "* IPython Notebooks is the evolution of IPython --> embedded figures, markdown, latex code, etc.\n",
    "* Is the evolution of IPython Notebooks --> Web-based server\n",
    "\n",
    "## 1.- Required Packages\n",
    "\n",
    "* Install Anaconda Python Distribution\n",
    "    * You can download it from https://www.continuum.io (we recommend Python 3.5)\n",
    "* [Optional] Create an environment\n",
    "    * If you already have Anaconda, and you do not want to mess it up, you can create an environment\n",
    "    * ``> conda create --name sochias jupyter python=3.5``\n",
    "    * ``> source activate sochias``\n",
    "    * If you want to remove it later, run ``> conda remove --name flowers --all``\n",
    "* Update Conda\n",
    "    * ``> conda update --all``\n",
    "* Install Jupyter\n",
    "    * ``> conda install jupyter``\n",
    "* [Alternative] Using pip\n",
    "    * ``> pip install notebook``\n",
    "* Install packages\n",
    "    * ``> conda install numpy scipy matplotlib``\n",
    "    * ``> pip install [package]``\n",
    "* Start using Jupyter\n",
    "    * ``> jupyter notebook``\n",
    "    * [Alternative] ``> ipython notebook``"
   ]
  },
  {
   "cell_type": "markdown",
   "metadata": {},
   "source": [
    "## 2.- Jupyter markdown and code cells"
   ]
  },
  {
   "cell_type": "markdown",
   "metadata": {},
   "source": [
    "This is a markdown cell:\n",
    "* Bullets\n",
    "* Latex formulas: $\\int_a^b x dx$\n",
    "* [Links](http://www.google.cl)\n",
    "* Code: ``python setup.py``\n",
    "* Tables\n",
    "\n",
    "| **X** | **Y** |\n",
    "|-------|-------|\n",
    "| 3.145 | 2.34  |\n",
    "| 0.32  | 3     |"
   ]
  },
  {
   "cell_type": "code",
   "execution_count": null,
   "metadata": {
    "collapsed": false
   },
   "outputs": [],
   "source": [
    "# This is a code cell (python code)\n",
    "import math\n",
    "a = [1,2,3,4,5]\n",
    "b = []\n",
    "for i in a:\n",
    "    b.append(i*i)\n",
    "print(a)\n",
    "# The last line is returned as output of the cell\n",
    "b"
   ]
  },
  {
   "cell_type": "markdown",
   "metadata": {},
   "source": [
    "## 3.- Composite Python types"
   ]
  },
  {
   "cell_type": "markdown",
   "metadata": {},
   "source": [
    "#### Lists\n",
    "A collection of elements in an array __of any type__!"
   ]
  },
  {
   "cell_type": "code",
   "execution_count": null,
   "metadata": {
    "collapsed": false
   },
   "outputs": [],
   "source": [
    "lst = [42,42.0,\"42\"]\n",
    "lst"
   ]
  },
  {
   "cell_type": "markdown",
   "metadata": {},
   "source": [
    "#### Tuples\n",
    "like lists, but inmutables (i.e., cannot be changed). Any operation over tuples __creates a new tuple__"
   ]
  },
  {
   "cell_type": "code",
   "execution_count": null,
   "metadata": {
    "collapsed": false
   },
   "outputs": [],
   "source": [
    "tup = (42,42.0,'42')\n",
    "tup"
   ]
  },
  {
   "cell_type": "code",
   "execution_count": null,
   "metadata": {
    "collapsed": false
   },
   "outputs": [],
   "source": [
    "lst[0]=32\n",
    "lst"
   ]
  },
  {
   "cell_type": "code",
   "execution_count": null,
   "metadata": {
    "collapsed": false,
    "scrolled": true
   },
   "outputs": [],
   "source": [
    "tup[0]=32\n",
    "tup"
   ]
  },
  {
   "cell_type": "markdown",
   "metadata": {},
   "source": [
    "#### Dictionaries\n",
    "Also known as keymaps, hashmaps, associative arrays or similar. Is a list, where every element has a __key__ associated with it"
   ]
  },
  {
   "cell_type": "code",
   "execution_count": null,
   "metadata": {
    "collapsed": false
   },
   "outputs": [],
   "source": [
    "dt ={'uno':1,'dos':2,'dos y medio':2.5,'tres':3}\n",
    "print(dt['uno'])\n",
    "print(dt['dos y medio'])"
   ]
  },
  {
   "cell_type": "markdown",
   "metadata": {},
   "source": [
    "## 4.- Imports\n",
    "Imports do not import the code of a library, but the namespace of it and a few initialization."
   ]
  },
  {
   "cell_type": "code",
   "execution_count": null,
   "metadata": {
    "collapsed": false
   },
   "outputs": [],
   "source": [
    "# Original Namespace Import\n",
    "import numpy\n",
    "a = numpy.array([1,2,3,4])\n",
    "\n",
    "# Renaming Namespace Import\n",
    "import numpy as np\n",
    "b = np.array([1,2,3,4])\n",
    "\n",
    "# Namespace Inclusion Import\n",
    "from numpy import *\n",
    "c = array([1,2,3,4])\n",
    "\n",
    "print(np.array_equal(a,b))\n",
    "np.array_equal(a,c)\n"
   ]
  },
  {
   "cell_type": "markdown",
   "metadata": {
    "collapsed": false
   },
   "source": [
    "## 5.- Scientific computing with Python\n",
    "\n",
    "Python have a lot of packages for scientific computing that builds on top of each other\n",
    "* ``numpy``: vectorized computations \n",
    "* ``scipy``: scientific algorithms and tools\n",
    "* ``matplotlib``: plotting and visualization\n",
    "* ``scikit-learn``: machine and statistical learning\n",
    "* ``pandas``: data management\n",
    "* ``numba``: \"automatic\" parallel computing\n",
    "* etc...\n",
    "\n",
    "### Numpy \n",
    "\n",
    "<a href=\"http://www.numpy.org\">NumPy</a> is the main Python package for working with N-dimensional arrays. Any list of numbers can be recast as a NumPy array.\n",
    "\n",
    "#### Example"
   ]
  },
  {
   "cell_type": "code",
   "execution_count": null,
   "metadata": {
    "collapsed": false
   },
   "outputs": [],
   "source": [
    "import numpy as np\n",
    "x = np.array([1, 5, 3, 4, 2])\n",
    "x"
   ]
  },
  {
   "cell_type": "code",
   "execution_count": null,
   "metadata": {
    "collapsed": false
   },
   "outputs": [],
   "source": [
    "print(x.min(), x.max(), x.sum(), x.argmin(), x.argmax() )"
   ]
  },
  {
   "cell_type": "code",
   "execution_count": null,
   "metadata": {
    "collapsed": false
   },
   "outputs": [],
   "source": [
    "%%timeit\n",
    "list_1 = list(range(5000000))\n",
    "list_2 = list(range(5000000))"
   ]
  },
  {
   "cell_type": "code",
   "execution_count": null,
   "metadata": {
    "collapsed": false
   },
   "outputs": [],
   "source": [
    "%%timeit\n",
    "narray_1 = np.arange(5000000)\n",
    "narray_2 = np.arange(5000000)"
   ]
  },
  {
   "cell_type": "markdown",
   "metadata": {},
   "source": [
    "### SciPy \n",
    "<a href=\"http://www.scipy.org\">SciPy</a> provides a number of subpackages that deal with common operations in scientific computing, such as numerical integration, optimization, interpolation, Fourier transforms and linear algebra.\n",
    "#### Example\n",
    "$$f(x)=\\int_0^{\\pi} x^3dx$$"
   ]
  },
  {
   "cell_type": "code",
   "execution_count": null,
   "metadata": {
    "collapsed": false
   },
   "outputs": [],
   "source": [
    "import scipy as sc\n",
    "import scipy.integrate as integrate\n",
    "\n",
    "def f(x):\n",
    "    return x**3\n",
    "\n",
    "ans, err = integrate.quad(f,0,np.pi)\n",
    "print(ans,' +-',err)"
   ]
  },
  {
   "cell_type": "markdown",
   "metadata": {},
   "source": [
    "### Matplotlib Example"
   ]
  },
  {
   "cell_type": "code",
   "execution_count": null,
   "metadata": {
    "collapsed": false
   },
   "outputs": [],
   "source": [
    "%matplotlib inline\n",
    "import matplotlib.pyplot as plt\n",
    "\n",
    "x = np.arange(0, 2*np.pi, 0.01)\n",
    "y = np.sin(x)\n",
    "z = np.cos(x)\n",
    "ax = plt.plot(x,np.matrix([y, z]).T)"
   ]
  },
  {
   "cell_type": "markdown",
   "metadata": {
    "collapsed": true
   },
   "source": [
    "### Scikit-learn\n",
    "\n",
    "<a href=\"http://scikit-learn.org\">scikit-learn</a> provides algorithms for machine learning tasks, such as classification, regression, and clustering, as well as associated operations, such as cross-validation and feature normalization. These topics will be covered in greater depth in Guillermo Cabrera's talks <a href=\"\">here</a>. A related module is <a href=\"http://www.astroml.org\">astroML</a> which is a wrapper around a lot of the scikit-learn routines but also offers some additional functionality and faster/alternate implementations of some methods."
   ]
  },
  {
   "cell_type": "markdown",
   "metadata": {},
   "source": [
    "### Pandas\n",
    "<a href=\"http://pandas.pydata.org/index.html\">pandas</a> offers data structures, particularly data frames, and operations for manipulating numerical tables and time series, such as fancy indexing, reshaping and pivoting, and merging, as well as a number of analysis tools. Although similar functionality already exists in numpy, pandas is highly optimized for performance and large data sets.  Some of these topics will be covered in greater depth in Mauricio San Martin's talk <a href=\"placeholder\">here</a>."
   ]
  }
 ],
 "metadata": {
  "anaconda-cloud": {},
  "kernelspec": {
   "display_name": "Python 3",
   "language": "python",
   "name": "python3"
  },
  "language_info": {
   "codemirror_mode": {
    "name": "ipython",
    "version": 3
   },
   "file_extension": ".py",
   "mimetype": "text/x-python",
   "name": "python",
   "nbconvert_exporter": "python",
   "pygments_lexer": "ipython3",
   "version": "3.5.1"
  }
 },
 "nbformat": 4,
 "nbformat_minor": 1
}

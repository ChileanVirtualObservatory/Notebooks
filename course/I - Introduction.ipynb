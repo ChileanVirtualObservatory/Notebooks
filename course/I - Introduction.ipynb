{
 "cells": [
  {
   "cell_type": "markdown",
   "metadata": {},
   "source": [
    "# Basic Concepts and Tools\n",
    "\n",
    "## 1.- What is JOVIAL\n",
    "\n",
    "Jovial is a webapp for programming-oriented astronomical data analysis:\n",
    "* It is basically a cloud environment based on Jupyter Notebooks (python)\n",
    "* No installation required! (for the on-line version)\n",
    "* Brings computations where the data is (data centers)\n",
    "\n",
    "The current JOVIAL status is alpha, but we are moving to beta today! \n",
    "* Not all the planned functionalities are available\n",
    "* The service might be unstable due to heavy development\n",
    "* We need to improve connectivity to archives or replicate more data\n",
    "\n",
    "## 2.- How it works and how I use it\n",
    "\n",
    "Jovial is a user-based service:\n",
    "* Jovial allocates a special workspace for the user, and runs a light-weighted virtual machine dedicated to the user.\n",
    "* You can run console and python scripts, but we strongly recommend using Notebooks!\n",
    "* Parallel computations are possible right now using the computing nodes of the data center, but there is no easy-to-use interface yet (WIP).\n",
    "\n",
    "Jovial Beta Version:\n",
    "* Enter to ``http://jovial.chivo.cl`` and login.\n",
    "* Go to ``new`` and run a terminal\n",
    "* Now, create a new notebook\n",
    "\n",
    "\n",
    "## 3.- Quick Dive into Python and Jupyter\n",
    "\n",
    "First of all, we asume that you know at least a little bit of Python (sorry if not!)\n",
    "\n",
    "**Basic Python Facts**\n",
    "* Python is an interpreted programming language --> no need compilation\n",
    "* Python uses indentation blocks --> no brackets, good readability\n",
    "* Python is multi-paradigm --> imperative, object-oriented or functional programming\n",
    "\n",
    "**Basic Jupyter Facts**\n",
    "* IPython is an interactive Python console --> autocompletion, history, etc.\n",
    "* IPython Notebooks is the evolution of IPython --> embedded figures, markdown, latex code, etc.\n",
    "* Is the evolution of IPython Notebooks --> Web-based server\n",
    "\n",
    "### 3.1.- Jupyter markdown and code cells"
   ]
  },
  {
   "cell_type": "markdown",
   "metadata": {},
   "source": [
    "This is a markdown cell:\n",
    "* Bullets\n",
    "* Latex formulas: $\\int_a^b x dx$\n",
    "* [Links](http://www.google.cl)\n",
    "* Code: ``python setup.py``\n",
    "* Tables\n",
    "\n",
    "| **X** | **Y** |\n",
    "|-------|-------|\n",
    "| 3.145 | 2.34  |\n",
    "| 0.32  | 3     |"
   ]
  },
  {
   "cell_type": "code",
   "execution_count": 1,
   "metadata": {
    "collapsed": false
   },
   "outputs": [
    {
     "name": "stdout",
     "output_type": "stream",
     "text": [
      "[1, 2, 3, 4, 5]\n"
     ]
    },
    {
     "data": {
      "text/plain": [
       "[1, 4, 9, 16, 25]"
      ]
     },
     "execution_count": 1,
     "metadata": {},
     "output_type": "execute_result"
    }
   ],
   "source": [
    "# This is a code cell (python code)\n",
    "import math\n",
    "a = [1,2,3,4,5]\n",
    "b = []\n",
    "for i in a:\n",
    "    b.append(i*i)\n",
    "print(a)\n",
    "# The last line is returned as output of the cell\n",
    "b"
   ]
  },
  {
   "cell_type": "markdown",
   "metadata": {},
   "source": [
    "### 3.2.- Composite Python types"
   ]
  },
  {
   "cell_type": "markdown",
   "metadata": {},
   "source": [
    "#### Lists\n",
    "A collection of elements in an array __of any type__!"
   ]
  },
  {
   "cell_type": "code",
   "execution_count": 2,
   "metadata": {
    "collapsed": false
   },
   "outputs": [
    {
     "data": {
      "text/plain": [
       "[42, 42.0, '42']"
      ]
     },
     "execution_count": 2,
     "metadata": {},
     "output_type": "execute_result"
    }
   ],
   "source": [
    "lst = [42,42.0,\"42\"]\n",
    "lst"
   ]
  },
  {
   "cell_type": "markdown",
   "metadata": {},
   "source": [
    "#### Tuples\n",
    "like lists, but inmutables (i.e., cannot be changed). Any operation over tuples __creates a new tuple__"
   ]
  },
  {
   "cell_type": "code",
   "execution_count": 3,
   "metadata": {
    "collapsed": false
   },
   "outputs": [
    {
     "data": {
      "text/plain": [
       "(42, 42.0, '42')"
      ]
     },
     "execution_count": 3,
     "metadata": {},
     "output_type": "execute_result"
    }
   ],
   "source": [
    "tup = (42,42.0,'42')\n",
    "tup"
   ]
  },
  {
   "cell_type": "code",
   "execution_count": 4,
   "metadata": {
    "collapsed": false
   },
   "outputs": [
    {
     "data": {
      "text/plain": [
       "[32, 42.0, '42']"
      ]
     },
     "execution_count": 4,
     "metadata": {},
     "output_type": "execute_result"
    }
   ],
   "source": [
    "lst[0]=32\n",
    "lst"
   ]
  },
  {
   "cell_type": "code",
   "execution_count": 5,
   "metadata": {
    "collapsed": false,
    "scrolled": true
   },
   "outputs": [
    {
     "ename": "TypeError",
     "evalue": "'tuple' object does not support item assignment",
     "output_type": "error",
     "traceback": [
      "\u001b[0;31m---------------------------------------------------------------------------\u001b[0m",
      "\u001b[0;31mTypeError\u001b[0m                                 Traceback (most recent call last)",
      "\u001b[0;32m<ipython-input-5-d3aaf690ddc6>\u001b[0m in \u001b[0;36m<module>\u001b[0;34m()\u001b[0m\n\u001b[0;32m----> 1\u001b[0;31m \u001b[0mtup\u001b[0m\u001b[0;34m[\u001b[0m\u001b[0;36m0\u001b[0m\u001b[0;34m]\u001b[0m\u001b[0;34m=\u001b[0m\u001b[0;36m32\u001b[0m\u001b[0;34m\u001b[0m\u001b[0m\n\u001b[0m\u001b[1;32m      2\u001b[0m \u001b[0mtup\u001b[0m\u001b[0;34m\u001b[0m\u001b[0m\n",
      "\u001b[0;31mTypeError\u001b[0m: 'tuple' object does not support item assignment"
     ]
    }
   ],
   "source": [
    "tup[0]=32\n",
    "tup"
   ]
  },
  {
   "cell_type": "markdown",
   "metadata": {},
   "source": [
    "#### Dictionaries\n",
    "Also known as keymaps, hashmaps, associative arrays or similar. Is a list, where every element has a __key__ associated with it"
   ]
  },
  {
   "cell_type": "code",
   "execution_count": 6,
   "metadata": {
    "collapsed": false
   },
   "outputs": [
    {
     "name": "stdout",
     "output_type": "stream",
     "text": [
      "1\n",
      "2.5\n"
     ]
    }
   ],
   "source": [
    "dt ={'uno':1,'dos':2,'dos y medio':2.5,'tres':3}\n",
    "print(dt['uno'])\n",
    "print(dt['dos y medio'])"
   ]
  },
  {
   "cell_type": "markdown",
   "metadata": {},
   "source": [
    "### 3.3.- Imports\n",
    "Imports do not import the code of a library, but the namespace of it and a few initialization."
   ]
  },
  {
   "cell_type": "code",
   "execution_count": 7,
   "metadata": {
    "collapsed": false
   },
   "outputs": [
    {
     "name": "stdout",
     "output_type": "stream",
     "text": [
      "True\n"
     ]
    },
    {
     "data": {
      "text/plain": [
       "True"
      ]
     },
     "execution_count": 7,
     "metadata": {},
     "output_type": "execute_result"
    }
   ],
   "source": [
    "# Original Namespace Import\n",
    "import numpy\n",
    "a = numpy.array([1,2,3,4])\n",
    "\n",
    "# Renaming Namespace Import\n",
    "import numpy as np\n",
    "b = np.array([1,2,3,4])\n",
    "\n",
    "# Namespace Inclusion Import\n",
    "from numpy import *\n",
    "c = array([1,2,3,4])\n",
    "\n",
    "print(np.array_equal(a,b))\n",
    "np.array_equal(a,c)\n"
   ]
  },
  {
   "cell_type": "markdown",
   "metadata": {
    "collapsed": false
   },
   "source": [
    "### 3.4.- Scientific computing with Python\n",
    "\n",
    "Python have a lot of packages for scientific computing that builds on top of each other\n",
    "* ``numpy``: vectorized computations \n",
    "* ``pandas``: data management\n",
    "* ``matplotlib``: plotting and visualization\n",
    "* ``scipy``: scientific algorithms and tools\n",
    "* ``numba``: \"automatic\" parallel computing\n",
    "* ``scikit-learn``: machine and statistical learning\n",
    "\n",
    "### Numpy Example"
   ]
  },
  {
   "cell_type": "code",
   "execution_count": 8,
   "metadata": {
    "collapsed": false
   },
   "outputs": [
    {
     "name": "stdout",
     "output_type": "stream",
     "text": [
      "10 loops, best of 3: 237 ms per loop\n"
     ]
    }
   ],
   "source": [
    "%%timeit\n",
    "list_1 = list(range(5000000))\n",
    "list_2 = list(range(5000000))"
   ]
  },
  {
   "cell_type": "code",
   "execution_count": 9,
   "metadata": {
    "collapsed": false
   },
   "outputs": [
    {
     "name": "stdout",
     "output_type": "stream",
     "text": [
      "100 loops, best of 3: 15.6 ms per loop\n"
     ]
    }
   ],
   "source": [
    "%%timeit\n",
    "narray_1 = np.arange(5000000)\n",
    "narray_2 = np.arange(5000000)"
   ]
  },
  {
   "cell_type": "markdown",
   "metadata": {},
   "source": [
    "### SciPy Example\n",
    "$$f(x)=\\int_0^{\\pi} x^3dx$$"
   ]
  },
  {
   "cell_type": "code",
   "execution_count": 10,
   "metadata": {
    "collapsed": false
   },
   "outputs": [
    {
     "name": "stdout",
     "output_type": "stream",
     "text": [
      "24.35227275850061  +- 2.7036453918439354e-13\n"
     ]
    }
   ],
   "source": [
    "import scipy as sc\n",
    "import scipy.integrate as integrate\n",
    "\n",
    "def f(x):\n",
    "    return x**3\n",
    "\n",
    "ans, err = integrate.quad(f,0,np.pi)\n",
    "print(ans,' +-',err)"
   ]
  },
  {
   "cell_type": "markdown",
   "metadata": {},
   "source": [
    "### Matplotlib Example"
   ]
  },
  {
   "cell_type": "code",
   "execution_count": 11,
   "metadata": {
    "collapsed": false
   },
   "outputs": [
    {
     "data": {
      "image/png": "[encoded data removed]",
      "text/plain": [
       "<matplotlib.figure.Figure at 0x7f2beebc1518>"
      ]
     },
     "metadata": {},
     "output_type": "display_data"
    }
   ],
   "source": [
    "%matplotlib inline\n",
    "import matplotlib.pyplot as plt\n",
    "\n",
    "x = np.arange(0, 2*np.pi, 0.01)\n",
    "y = np.sin(x)\n",
    "z = np.cos(x)\n",
    "ax = plt.plot(x,np.matrix([y, z]).T)"
   ]
  },
  {
   "cell_type": "markdown",
   "metadata": {},
   "source": [
    "### 3.5 AstroPython\n",
    "\n",
    "There are plenty astronomy packages for python out there:\n",
    "* astropy\n",
    "* astroquery\n",
    "* casapy\n",
    "* aplpy\n",
    "* dendrofind\n",
    "* etc...\n"
   ]
  },
  {
   "cell_type": "code",
   "execution_count": null,
   "metadata": {
    "collapsed": true
   },
   "outputs": [],
   "source": []
  }
 ],
 "metadata": {
  "anaconda-cloud": {},
  "kernelspec": {
   "display_name": "Python [conda env:astro3.5]",
   "language": "python",
   "name": "conda-env-astro3.5-py"
  },
  "language_info": {
   "codemirror_mode": {
    "name": "ipython",
    "version": 3
   },
   "file_extension": ".py",
   "mimetype": "text/x-python",
   "name": "python",
   "nbconvert_exporter": "python",
   "pygments_lexer": "ipython3",
   "version": "3.5.1"
  }
 },
 "nbformat": 4,
 "nbformat_minor": 1
}

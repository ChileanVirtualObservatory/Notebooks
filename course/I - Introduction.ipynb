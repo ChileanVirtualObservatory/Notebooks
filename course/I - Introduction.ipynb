{
 "cells": [
  {
   "cell_type": "markdown",
   "metadata": {},
   "source": [
    "<h1 align=\"center\"> Quick Dive into Scientific Computing with Python and Jupyter </h1>\n",
    "<h2 align=\"center\"> Part 1: Basics of Scientific Computing </h2> "
   ]
  },
  {
   "cell_type": "markdown",
   "metadata": {},
   "source": [
    "First of all, we asume that you know at least a little bit of Python (sorry if not!)\n",
    "\n",
    "**Basic Python Facts**\n",
    "* Python is an interpreted programming language --> no need compilation\n",
    "* Python uses indentation blocks --> no brackets, good readability\n",
    "* Python is multi-paradigm --> imperative, object-oriented, scripting or functional programming\n",
    "\n",
    "**Basic Jupyter Facts**\n",
    "* IPython is an interactive Python console --> autocompletion, history, etc.\n",
    "* IPython Notebooks is the evolution of IPython --> embedded figures, markdown, latex code, etc.\n",
    "* Is the evolution of IPython Notebooks --> Web-based server\n",
    "\n",
    "## 1.- Required Packages\n",
    "\n",
    "* Install Anaconda Python Distribution\n",
    "    * You can download it from https://www.continuum.io (we recommend Python 3.5)\n",
    "* [Optional] Create an environment\n",
    "    * If you already have Anaconda, and you do not want to mess it up, you can create an environment\n",
    "    * ``> conda create --name sochias jupyter python=3.5``\n",
    "    * ``> source activate sochias``\n",
    "    * If you want to remove it later, run ``> conda remove --name flowers --all``\n",
    "* Update Conda\n",
    "    * ``> conda update --all``\n",
    "* Install Jupyter\n",
    "    * ``> conda install jupyter``\n",
    "* [Alternative] Using pip\n",
    "    * ``> pip install notebook``\n",
    "* Install packages\n",
    "    * ``> conda install numpy scipy matplotlib``\n",
    "    * ``> pip install [package]``\n",
    "* Start using Jupyter\n",
    "    * ``> jupyter notebook``\n",
    "    * [Alternative] ``> ipython notebook``"
   ]
  },
  {
   "cell_type": "markdown",
   "metadata": {},
   "source": [
    "## 2.- Jupyter markdown and code cells"
   ]
  },
  {
   "cell_type": "markdown",
   "metadata": {},
   "source": [
    "This is a markdown cell:\n",
    "* Bullets\n",
    "* Latex formulas: $\\int_a^b x dx$\n",
    "* [Links](http://www.google.cl)\n",
    "* Code: ``python setup.py``\n",
    "```Python\n",
    "for i in range(10):\n",
    "    print(i**2)\n",
    "```\n",
    "* Tables\n",
    "\n",
    "| **X** | **Y** |\n",
    "|-------|-------|\n",
    "| 3.145 | 2.34  |\n",
    "| 0.32  | 3     |\n",
    "* Images\n",
    "<img src=\"data/doge.jpg\" width=\"400\">"
   ]
  },
  {
   "cell_type": "code",
   "execution_count": 1,
   "metadata": {},
   "outputs": [
    {
     "name": "stdout",
     "output_type": "stream",
     "text": [
      "[1, 2, 3, 4, 5]\n"
     ]
    },
    {
     "data": {
      "text/plain": [
       "[1, 4, 9, 16, 25]"
      ]
     },
     "execution_count": 1,
     "metadata": {},
     "output_type": "execute_result"
    }
   ],
   "source": [
    "# This is a code cell (python code)\n",
    "import math\n",
    "a = [1,2,3,4,5]\n",
    "b = []\n",
    "for i in a:\n",
    "    b.append(i*i)\n",
    "print(a)\n",
    "# The last line is returned as output of the cell\n",
    "b"
   ]
  },
  {
   "cell_type": "markdown",
   "metadata": {},
   "source": [
    "## 3.- Composite Python types\n",
    "\n",
    "<font color='red'>HANDS ON SECTION!</font>"
   ]
  },
  {
   "cell_type": "markdown",
   "metadata": {},
   "source": [
    "#### Lists\n",
    "A collection of elements in an array __of any type__!"
   ]
  },
  {
   "cell_type": "code",
   "execution_count": 2,
   "metadata": {},
   "outputs": [
    {
     "data": {
      "text/plain": [
       "[42, 42.0, '42']"
      ]
     },
     "execution_count": 2,
     "metadata": {},
     "output_type": "execute_result"
    }
   ],
   "source": [
    "lst = [42,42.0,\"42\"]\n",
    "lst"
   ]
  },
  {
   "cell_type": "markdown",
   "metadata": {},
   "source": [
    "#### Tuples\n",
    "like lists, but inmutables (i.e., cannot be changed). Any operation over tuples __creates a new tuple__"
   ]
  },
  {
   "cell_type": "code",
   "execution_count": 3,
   "metadata": {},
   "outputs": [
    {
     "data": {
      "text/plain": [
       "(42, 42.0, '42')"
      ]
     },
     "execution_count": 3,
     "metadata": {},
     "output_type": "execute_result"
    }
   ],
   "source": [
    "tup = (42,42.0,'42')\n",
    "tup"
   ]
  },
  {
   "cell_type": "code",
   "execution_count": 4,
   "metadata": {},
   "outputs": [
    {
     "data": {
      "text/plain": [
       "[32, 42.0, '42']"
      ]
     },
     "execution_count": 4,
     "metadata": {},
     "output_type": "execute_result"
    }
   ],
   "source": [
    "lst[0]=32\n",
    "lst"
   ]
  },
  {
   "cell_type": "code",
   "execution_count": 5,
   "metadata": {
    "scrolled": true
   },
   "outputs": [
    {
     "ename": "TypeError",
     "evalue": "'tuple' object does not support item assignment",
     "output_type": "error",
     "traceback": [
      "\u001b[0;31m---------------------------------------------------------------------------\u001b[0m",
      "\u001b[0;31mTypeError\u001b[0m                                 Traceback (most recent call last)",
      "\u001b[0;32m<ipython-input-5-d3aaf690ddc6>\u001b[0m in \u001b[0;36m<module>\u001b[0;34m()\u001b[0m\n\u001b[0;32m----> 1\u001b[0;31m \u001b[0mtup\u001b[0m\u001b[0;34m[\u001b[0m\u001b[0;36m0\u001b[0m\u001b[0;34m]\u001b[0m\u001b[0;34m=\u001b[0m\u001b[0;36m32\u001b[0m\u001b[0;34m\u001b[0m\u001b[0m\n\u001b[0m\u001b[1;32m      2\u001b[0m \u001b[0mtup\u001b[0m\u001b[0;34m\u001b[0m\u001b[0m\n",
      "\u001b[0;31mTypeError\u001b[0m: 'tuple' object does not support item assignment"
     ]
    }
   ],
   "source": [
    "tup[0]=32\n",
    "tup"
   ]
  },
  {
   "cell_type": "markdown",
   "metadata": {},
   "source": [
    "#### Dictionaries\n",
    "Also known as keymaps, hashmaps, associative arrays or similar. Is a list, where every element has a __key__ associated with it"
   ]
  },
  {
   "cell_type": "code",
   "execution_count": 6,
   "metadata": {},
   "outputs": [
    {
     "name": "stdout",
     "output_type": "stream",
     "text": [
      "1\n",
      "2.5\n"
     ]
    }
   ],
   "source": [
    "dt ={'uno':1,'dos':2,'dos y medio':2.5,'tres':3}\n",
    "print(dt['uno'])\n",
    "print(dt['dos y medio'])"
   ]
  },
  {
   "cell_type": "markdown",
   "metadata": {},
   "source": [
    "## 4.- Imports\n",
    "<font color='red'>HANDS ON SECTION!</font>\n",
    "\n",
    "Imports do not import the code of a library, but the namespace of it and a few initialization."
   ]
  },
  {
   "cell_type": "code",
   "execution_count": 7,
   "metadata": {},
   "outputs": [
    {
     "name": "stdout",
     "output_type": "stream",
     "text": [
      "True\n"
     ]
    }
   ],
   "source": [
    "# Original Namespace Import\n",
    "import numpy\n",
    "a = numpy.array([1,2,3,4])\n",
    "\n",
    "# Renaming Namespace Import\n",
    "import numpy as np\n",
    "b = np.array([1,2,3,4])\n",
    "\n",
    "# Namespace Inclusion Import\n",
    "from numpy import *\n",
    "c = array([1,2,3,4])\n",
    "\n",
    "print(np.array_equal(a,b))\n",
    "np.array_equal(a,c);\n"
   ]
  },
  {
   "cell_type": "markdown",
   "metadata": {},
   "source": [
    "## 5.- IPython Magics\n",
    "<font color='red'>HANDS ON SECTION!</font>\n",
    "\n",
    "`IPython magics` are custom commands that let you interact with your `OS` and filesystem. There are line magics `%` (which just affect the behavior of such line) and cell magics `%%` (which affect the whole cell). "
   ]
  },
  {
   "cell_type": "code",
   "execution_count": 8,
   "metadata": {},
   "outputs": [
    {
     "data": {
      "application/json": {
       "cell": {
        "!": "OSMagics",
        "HTML": "Other",
        "SVG": "Other",
        "bash": "Other",
        "capture": "ExecutionMagics",
        "debug": "ExecutionMagics",
        "file": "Other",
        "html": "DisplayMagics",
        "javascript": "DisplayMagics",
        "js": "DisplayMagics",
        "latex": "DisplayMagics",
        "perl": "Other",
        "prun": "ExecutionMagics",
        "pypy": "Other",
        "python": "Other",
        "python2": "Other",
        "python3": "Other",
        "ruby": "Other",
        "script": "ScriptMagics",
        "sh": "Other",
        "svg": "DisplayMagics",
        "sx": "OSMagics",
        "system": "OSMagics",
        "time": "ExecutionMagics",
        "timeit": "ExecutionMagics",
        "writefile": "OSMagics"
       },
       "line": {
        "alias": "OSMagics",
        "alias_magic": "BasicMagics",
        "autocall": "AutoMagics",
        "automagic": "AutoMagics",
        "autosave": "KernelMagics",
        "bookmark": "OSMagics",
        "cat": "Other",
        "cd": "OSMagics",
        "clear": "KernelMagics",
        "colors": "BasicMagics",
        "config": "ConfigMagics",
        "connect_info": "KernelMagics",
        "cp": "Other",
        "debug": "ExecutionMagics",
        "dhist": "OSMagics",
        "dirs": "OSMagics",
        "doctest_mode": "BasicMagics",
        "ed": "Other",
        "edit": "KernelMagics",
        "env": "OSMagics",
        "gui": "BasicMagics",
        "hist": "Other",
        "history": "HistoryMagics",
        "killbgscripts": "ScriptMagics",
        "ldir": "Other",
        "less": "KernelMagics",
        "lf": "Other",
        "lk": "Other",
        "ll": "Other",
        "load": "CodeMagics",
        "load_ext": "ExtensionMagics",
        "loadpy": "CodeMagics",
        "logoff": "LoggingMagics",
        "logon": "LoggingMagics",
        "logstart": "LoggingMagics",
        "logstate": "LoggingMagics",
        "logstop": "LoggingMagics",
        "ls": "Other",
        "lsmagic": "BasicMagics",
        "lx": "Other",
        "macro": "ExecutionMagics",
        "magic": "BasicMagics",
        "man": "KernelMagics",
        "matplotlib": "PylabMagics",
        "mkdir": "Other",
        "more": "KernelMagics",
        "mv": "Other",
        "notebook": "BasicMagics",
        "page": "BasicMagics",
        "pastebin": "CodeMagics",
        "pdb": "ExecutionMagics",
        "pdef": "NamespaceMagics",
        "pdoc": "NamespaceMagics",
        "pfile": "NamespaceMagics",
        "pinfo": "NamespaceMagics",
        "pinfo2": "NamespaceMagics",
        "popd": "OSMagics",
        "pprint": "BasicMagics",
        "precision": "BasicMagics",
        "profile": "BasicMagics",
        "prun": "ExecutionMagics",
        "psearch": "NamespaceMagics",
        "psource": "NamespaceMagics",
        "pushd": "OSMagics",
        "pwd": "OSMagics",
        "pycat": "OSMagics",
        "pylab": "PylabMagics",
        "qtconsole": "KernelMagics",
        "quickref": "BasicMagics",
        "recall": "HistoryMagics",
        "rehashx": "OSMagics",
        "reload_ext": "ExtensionMagics",
        "rep": "Other",
        "rerun": "HistoryMagics",
        "reset": "NamespaceMagics",
        "reset_selective": "NamespaceMagics",
        "rm": "Other",
        "rmdir": "Other",
        "run": "ExecutionMagics",
        "save": "CodeMagics",
        "sc": "OSMagics",
        "set_env": "OSMagics",
        "store": "StoreMagics",
        "sx": "OSMagics",
        "system": "OSMagics",
        "tb": "ExecutionMagics",
        "time": "ExecutionMagics",
        "timeit": "ExecutionMagics",
        "unalias": "OSMagics",
        "unload_ext": "ExtensionMagics",
        "who": "NamespaceMagics",
        "who_ls": "NamespaceMagics",
        "whos": "NamespaceMagics",
        "xdel": "NamespaceMagics",
        "xmode": "BasicMagics"
       }
      },
      "text/plain": [
       "Available line magics:\n",
       "%alias  %alias_magic  %autocall  %automagic  %autosave  %bookmark  %cat  %cd  %clear  %colors  %config  %connect_info  %cp  %debug  %dhist  %dirs  %doctest_mode  %ed  %edit  %env  %gui  %hist  %history  %killbgscripts  %ldir  %less  %lf  %lk  %ll  %load  %load_ext  %loadpy  %logoff  %logon  %logstart  %logstate  %logstop  %ls  %lsmagic  %lx  %macro  %magic  %man  %matplotlib  %mkdir  %more  %mv  %notebook  %page  %pastebin  %pdb  %pdef  %pdoc  %pfile  %pinfo  %pinfo2  %popd  %pprint  %precision  %profile  %prun  %psearch  %psource  %pushd  %pwd  %pycat  %pylab  %qtconsole  %quickref  %recall  %rehashx  %reload_ext  %rep  %rerun  %reset  %reset_selective  %rm  %rmdir  %run  %save  %sc  %set_env  %store  %sx  %system  %tb  %time  %timeit  %unalias  %unload_ext  %who  %who_ls  %whos  %xdel  %xmode\n",
       "\n",
       "Available cell magics:\n",
       "%%!  %%HTML  %%SVG  %%bash  %%capture  %%debug  %%file  %%html  %%javascript  %%js  %%latex  %%perl  %%prun  %%pypy  %%python  %%python2  %%python3  %%ruby  %%script  %%sh  %%svg  %%sx  %%system  %%time  %%timeit  %%writefile\n",
       "\n",
       "Automagic is ON, % prefix IS NOT needed for line magics."
      ]
     },
     "execution_count": 8,
     "metadata": {},
     "output_type": "execute_result"
    }
   ],
   "source": [
    "# this will list all magic commands\n",
    "%lsmagic"
   ]
  },
  {
   "cell_type": "code",
   "execution_count": 9,
   "metadata": {},
   "outputs": [
    {
     "data": {
      "text/plain": [
       "'/Users/martin/Repositories/notebooks/course'"
      ]
     },
     "execution_count": 9,
     "metadata": {},
     "output_type": "execute_result"
    }
   ],
   "source": [
    "# also work in ls, cd, mkdir, etc\n",
    "%pwd"
   ]
  },
  {
   "cell_type": "code",
   "execution_count": 13,
   "metadata": {
    "scrolled": true
   },
   "outputs": [
    {
     "name": "stdout",
     "output_type": "stream",
     "text": [
      "# this will list all magic commands\n",
      "%lsmagic\n",
      "# also work in ls, cd, mkdir, etc\n",
      "%pwd\n",
      "%history\n",
      "%history?\n",
      "%history -l 10\n"
     ]
    }
   ],
   "source": [
    "%history -l 5"
   ]
  },
  {
   "cell_type": "code",
   "execution_count": 20,
   "metadata": {},
   "outputs": [
    {
     "name": "stdout",
     "output_type": "stream",
     "text": [
      "1000 loops, best of 3: 473 µs per loop\n"
     ]
    }
   ],
   "source": [
    "%timeit [i for i in range(10000)]"
   ]
  },
  {
   "cell_type": "code",
   "execution_count": 21,
   "metadata": {},
   "outputs": [
    {
     "name": "stdout",
     "output_type": "stream",
     "text": [
      "ACALib Tests\n",
      "README.md\n",
      "course\n",
      "images\n",
      "sandbox\n",
      "wip\n"
     ]
    }
   ],
   "source": [
    "%%bash\n",
    "cd ..\n",
    "ls"
   ]
  },
  {
   "cell_type": "code",
   "execution_count": 17,
   "metadata": {},
   "outputs": [
    {
     "name": "stdout",
     "output_type": "stream",
     "text": [
      "Writing test.txt\n"
     ]
    }
   ],
   "source": [
    "%%writefile test.txt\n",
    "hello world!!!"
   ]
  },
  {
   "cell_type": "code",
   "execution_count": 19,
   "metadata": {},
   "outputs": [
    {
     "name": "stdout",
     "output_type": "stream",
     "text": [
      "hello world!!!"
     ]
    }
   ],
   "source": [
    "%%bash\n",
    "cat test.txt\n",
    "rm test.txt"
   ]
  },
  {
   "cell_type": "markdown",
   "metadata": {},
   "source": [
    "## 6.- Scientific Computing: `NumPy`\n",
    "\n",
    "<a href=\"http://www.numpy.org\">NumPy</a> is the main Python package for working with N-dimensional arrays. Any list of numbers can be recast as a NumPy array.\n",
    "\n",
    "The reasons of why you should use NumPy instead of any other __iterable object_ in Python are:\n",
    "* NumPy provides an ndarray structure for storing numerical data __in a contiguous way__.\n",
    "* Also implements fast __mathematical operations__ on ndarrays, that exploit this contiguity.\n",
    "* __Brevity of the syntax for array operations__. A language like C or Java would require us to write a loop for a matrix operation as simple as C=A+B."
   ]
  },
  {
   "cell_type": "markdown",
   "metadata": {},
   "source": [
    "### The `numpy.ndarray` structure\n",
    "\n",
    "The `ndarray` is the NumPy object that let us create __$N$-dimensional arrays__. It is essentially defined by:\n",
    "1. A number of __dimensions__\n",
    "2. a __shape__\n",
    "3. __strides__\n",
    "4. __data type__ or __dtpe__\n",
    "5. The __data buffer__.\n",
    "\n",
    "<img src='data/ndarray.png' style=\"width: 500px;\">"
   ]
  },
  {
   "cell_type": "markdown",
   "metadata": {},
   "source": [
    "### How an `ndarray` is stored in memory?\n",
    "\n",
    "When there is more than one dimension, there are two ways of storing the elements in the memory block:\n",
    "1. Elements can be stored in __row-major order__ (also known as __C-order__) or,\n",
    "2. In __column-major order__ (also known as __Fortran-order__).\n",
    "\n",
    "<img src='data/ndarray_storage.png' style=\"width: 800px;\">"
   ]
  },
  {
   "cell_type": "markdown",
   "metadata": {},
   "source": [
    "### Creating Arrays\n",
    "<font color='red'>HANDS ON SECTION!</font>\n",
    "\n",
    "There are several NumPy functions for creating common types of arrays. Below is a list of the most common used:"
   ]
  },
  {
   "cell_type": "code",
   "execution_count": 27,
   "metadata": {},
   "outputs": [
    {
     "name": "stdout",
     "output_type": "stream",
     "text": [
      "Zeros:\n",
      "[[ 0.  0.  0.]\n",
      " [ 0.  0.  0.]\n",
      " [ 0.  0.  0.]]\n",
      "\n",
      "Ones:\n",
      "[[ 1.  1.  1.]\n",
      " [ 1.  1.  1.]\n",
      " [ 1.  1.  1.]]\n",
      "\n",
      "Empty:\n",
      "[[ 1.  1.  1.]\n",
      " [ 1.  1.  1.]\n",
      " [ 1.  1.  1.]]\n",
      "\n",
      "Range:\n",
      "[ 0.  1.  2.  3.  4.  5.  6.  7.  8.  9.]\n",
      "\n",
      "Regular grid:\n",
      "[ 0.     0.125  0.25   0.375  0.5    0.625  0.75   0.875  1.   ]\n",
      "\n",
      "Array constructor\n",
      "[ 2  3  5 10 -1]\n"
     ]
    }
   ],
   "source": [
    "# Arrays of zeros: np.zeros(shape)\n",
    "print(\"Zeros:\")\n",
    "print( np.zeros((3,3)) )\n",
    "\n",
    "# Arrays of ones: np.ones(shape)\n",
    "print(\"\\nOnes:\")\n",
    "print( np.ones((3,3)) )\n",
    "\n",
    "# Empty array: np.empty(shape)\n",
    "print(\"\\nEmpty:\")\n",
    "print( np.empty((3,3)) )\n",
    "\n",
    "# Range of values: np.range(start, stop, step)\n",
    "print(\"\\nRange:\")\n",
    "print( np.arange(0., 10., 1.) )\n",
    "\n",
    "# Regular grid: np.linspace(start, end, n_values)\n",
    "print(\"\\nRegular grid:\")\n",
    "print( np.linspace(0., 1., 9) )\n",
    "\n",
    "# Array constructor: np.array( python_iterable )\n",
    "print(\"\\nArray constructor\")\n",
    "print( np.array([2, 3, 5, 10, -1]) )"
   ]
  },
  {
   "cell_type": "markdown",
   "metadata": {},
   "source": [
    "Also `NumPy` provides useful functions to create matrices filled with random values, from different random distributions:"
   ]
  },
  {
   "cell_type": "code",
   "execution_count": 9,
   "metadata": {},
   "outputs": [
    {
     "name": "stdout",
     "output_type": "stream",
     "text": [
      "\n",
      "Random sequences: Uniform distribution\n",
      "[ 6.76059385  9.3595452   8.27168374  6.00237325  8.26527413  8.52658322]\n",
      "\n",
      "Random sequences: Normal (0,1) distribution\n",
      "[ 0.5453444   0.29310484 -0.25943227 -1.0602502  -1.02491846 -0.46468018]\n"
     ]
    }
   ],
   "source": [
    "# Random secuences: np.random\n",
    "print(\"\\nRandom sequences: Uniform distribution\")\n",
    "print( np.random.uniform(10, size=6) )\n",
    "\n",
    "# Random secuences: np.random\n",
    "print(\"\\nRandom sequences: Normal (0,1) distribution\")\n",
    "print( np.random.randn((6)) )"
   ]
  },
  {
   "cell_type": "markdown",
   "metadata": {},
   "source": [
    "For a full list of all the available random distributions see [here](https://docs.scipy.org/doc/numpy-1.12.0/reference/routines.random.html)."
   ]
  },
  {
   "cell_type": "markdown",
   "metadata": {},
   "source": [
    "### Basic Mathematical operations\n",
    "<font color='red'>HANDS ON SECTION!</font>\n",
    "\n",
    "Most of the operations performed in NumPy are handled __element-wise__, i.e, computing C = A + B will translates into $C[i,j] = A[i,j] + B[i,j]$. (The only exception is __broadcasting__, and will be explained soon).\n",
    "\n",
    "Below is a list with the most common used mathematical operations. For a comprehensive list see here: [NumPy mathematical functions](https://docs.scipy.org/doc/numpy/reference/routines.math.html)."
   ]
  },
  {
   "cell_type": "code",
   "execution_count": 28,
   "metadata": {
    "collapsed": true
   },
   "outputs": [],
   "source": [
    "# first we create two random arrays:\n",
    "A = 5*np.ones((5,5))\n",
    "B = -3*np.ones((5,5))"
   ]
  },
  {
   "cell_type": "code",
   "execution_count": 29,
   "metadata": {},
   "outputs": [
    {
     "name": "stdout",
     "output_type": "stream",
     "text": [
      "Sum:\n",
      "[[ 2.  2.  2.  2.  2.]\n",
      " [ 2.  2.  2.  2.  2.]\n",
      " [ 2.  2.  2.  2.  2.]\n",
      " [ 2.  2.  2.  2.  2.]\n",
      " [ 2.  2.  2.  2.  2.]]\n",
      "\n",
      "Subtraction\n",
      "[[ 8.  8.  8.  8.  8.]\n",
      " [ 8.  8.  8.  8.  8.]\n",
      " [ 8.  8.  8.  8.  8.]\n",
      " [ 8.  8.  8.  8.  8.]\n",
      " [ 8.  8.  8.  8.  8.]]\n",
      "\n",
      "Product\n",
      "[[-15. -15. -15. -15. -15.]\n",
      " [-15. -15. -15. -15. -15.]\n",
      " [-15. -15. -15. -15. -15.]\n",
      " [-15. -15. -15. -15. -15.]\n",
      " [-15. -15. -15. -15. -15.]]\n",
      "\n",
      "Matricial Product\n",
      "[[-75. -75. -75. -75. -75.]\n",
      " [-75. -75. -75. -75. -75.]\n",
      " [-75. -75. -75. -75. -75.]\n",
      " [-75. -75. -75. -75. -75.]\n",
      " [-75. -75. -75. -75. -75.]]\n",
      "\n",
      " Power\n",
      "[[ 25.  25.  25.  25.  25.]\n",
      " [ 25.  25.  25.  25.  25.]\n",
      " [ 25.  25.  25.  25.  25.]\n",
      " [ 25.  25.  25.  25.  25.]\n",
      " [ 25.  25.  25.  25.  25.]]\n",
      "\n",
      " np.exp()\n",
      "[[ 148.4131591  148.4131591  148.4131591  148.4131591  148.4131591]\n",
      " [ 148.4131591  148.4131591  148.4131591  148.4131591  148.4131591]\n",
      " [ 148.4131591  148.4131591  148.4131591  148.4131591  148.4131591]\n",
      " [ 148.4131591  148.4131591  148.4131591  148.4131591  148.4131591]\n",
      " [ 148.4131591  148.4131591  148.4131591  148.4131591  148.4131591]]\n",
      "\n",
      " np.sin()\n",
      "[[-0.95892427 -0.95892427 -0.95892427 -0.95892427 -0.95892427]\n",
      " [-0.95892427 -0.95892427 -0.95892427 -0.95892427 -0.95892427]\n",
      " [-0.95892427 -0.95892427 -0.95892427 -0.95892427 -0.95892427]\n",
      " [-0.95892427 -0.95892427 -0.95892427 -0.95892427 -0.95892427]\n",
      " [-0.95892427 -0.95892427 -0.95892427 -0.95892427 -0.95892427]]\n"
     ]
    }
   ],
   "source": [
    "# sum\n",
    "print(\"Sum:\")\n",
    "print( A+B )\n",
    "\n",
    "# subtraction\n",
    "print(\"\\nSubtraction\")\n",
    "print( A-B )\n",
    "\n",
    "# product\n",
    "print(\"\\nProduct\")\n",
    "print( A*B )\n",
    "\n",
    "# matricial product\n",
    "print(\"\\nMatricial Product\")\n",
    "print( np.dot(A,B) )\n",
    "\n",
    "# power\n",
    "print(\"\\n Power\")\n",
    "print( A**2 )\n",
    "\n",
    "# Some common mathematical functions\n",
    "print(\"\\n np.exp()\")\n",
    "print( np.exp(A) )\n",
    "print(\"\\n np.sin()\")\n",
    "print( np.sin(A) )"
   ]
  },
  {
   "cell_type": "markdown",
   "metadata": {},
   "source": [
    "### Boolean operations\n",
    "<font color='red'>HANDS ON SECTION!</font>\n",
    "\n",
    "Comparisons in `NumPy` work exaclty the same way as mathematical operations, i.e, __element wise!__. Let's see some examples. \n",
    "\n",
    "Arrays to compare:"
   ]
  },
  {
   "cell_type": "code",
   "execution_count": 11,
   "metadata": {},
   "outputs": [
    {
     "name": "stdout",
     "output_type": "stream",
     "text": [
      "A:\n",
      "[[1 2 3]\n",
      " [2 3 5]\n",
      " [1 9 6]] \n",
      "\n",
      "B:\n",
      "[[1 2 3]\n",
      " [3 5 5]\n",
      " [0 8 5]]\n"
     ]
    }
   ],
   "source": [
    "# Creating two 2d-arrays\n",
    "A = np.array( [[1, 2, 3], [2, 3, 5], [1, 9, 6]] )\n",
    "B = np.array( [[1, 2, 3], [3, 5, 5], [0, 8, 5]] )\n",
    "print(\"A:\"); print(A, '\\n')\n",
    "print(\"B:\"); print(B)"
   ]
  },
  {
   "cell_type": "code",
   "execution_count": 12,
   "metadata": {},
   "outputs": [
    {
     "name": "stdout",
     "output_type": "stream",
     "text": [
      "A > B:\n",
      "[[False False False]\n",
      " [False False False]\n",
      " [ True  True  True]]\n",
      "\n",
      "A =< B:\n",
      "[[ True  True  True]\n",
      " [ True  True  True]\n",
      " [False False False]]\n",
      "\n",
      " A==B:\n",
      "[[ True  True  True]\n",
      " [False False  True]\n",
      " [False False False]]\n",
      "\n",
      " A!=B:\n",
      "[[False False False]\n",
      " [ True  True False]\n",
      " [ True  True  True]]\n"
     ]
    }
   ],
   "source": [
    "print(\"A > B:\")\n",
    "print( A > B )\n",
    "\n",
    "print(\"\\nA =< B:\")\n",
    "print( A <= B )\n",
    "\n",
    "print(\"\\n A==B:\")\n",
    "print( A==B )\n",
    "\n",
    "print(\"\\n A!=B:\")\n",
    "print( A!=B )"
   ]
  },
  {
   "cell_type": "markdown",
   "metadata": {},
   "source": [
    "Now we create to boolean arrays and perform some logical operations over them:"
   ]
  },
  {
   "cell_type": "code",
   "execution_count": 13,
   "metadata": {},
   "outputs": [
    {
     "name": "stdout",
     "output_type": "stream",
     "text": [
      "C:\n",
      "[[ True  True  True]\n",
      " [False False  True]\n",
      " [False False False]] \n",
      "\n",
      "D:\n",
      "[[ True  True  True]\n",
      " [False False  True]\n",
      " [ True  True  True]]\n"
     ]
    }
   ],
   "source": [
    "# Creating two 2d boolean arrays\n",
    "C = A==B; print('C:'); print(C,'\\n')\n",
    "D = A>=B; print('D:'); print(D)"
   ]
  },
  {
   "cell_type": "code",
   "execution_count": 14,
   "metadata": {},
   "outputs": [
    {
     "name": "stdout",
     "output_type": "stream",
     "text": [
      "\n",
      " A and B:\n",
      "[[ True  True  True]\n",
      " [False False  True]\n",
      " [False False False]]\n",
      "[[ True  True  True]\n",
      " [False False  True]\n",
      " [False False False]]\n",
      "\n",
      " A or B:\n",
      "[[ True  True  True]\n",
      " [False False  True]\n",
      " [ True  True  True]]\n",
      "[[ True  True  True]\n",
      " [False False  True]\n",
      " [ True  True  True]]\n",
      "\n",
      " not A:\n",
      "[[False False False]\n",
      " [ True  True False]\n",
      " [ True  True  True]]\n",
      "[[False False False]\n",
      " [ True  True False]\n",
      " [ True  True  True]]\n"
     ]
    }
   ],
   "source": [
    "print(\"\\n A and B:\")\n",
    "print( C & D)\n",
    "print( np.logical_and(C,D) )\n",
    "\n",
    "print(\"\\n A or B:\")\n",
    "print( C | D)\n",
    "print( np.logical_or(C,D) )\n",
    "\n",
    "print(\"\\n not A:\")\n",
    "print( ~C )\n",
    "print( np.logical_not(C))"
   ]
  },
  {
   "cell_type": "markdown",
   "metadata": {},
   "source": [
    "### Some _important_ matricial operations\n",
    "<font color='red'>HANDS ON SECTION!</font>"
   ]
  },
  {
   "cell_type": "markdown",
   "metadata": {},
   "source": [
    "__Solving a linear system of equations__: $A x = b$"
   ]
  },
  {
   "cell_type": "code",
   "execution_count": 25,
   "metadata": {},
   "outputs": [],
   "source": [
    "A = np.random.random((10,10))\n",
    "b = np.random.random(10)"
   ]
  },
  {
   "cell_type": "code",
   "execution_count": 26,
   "metadata": {},
   "outputs": [
    {
     "name": "stdout",
     "output_type": "stream",
     "text": [
      "Solution: [-2.08716546 -0.65464238  1.1377679  -4.19934891 -0.88063218  1.62976879\n",
      " -2.27949468  2.63822321  4.36579445  1.57532871]\n"
     ]
    }
   ],
   "source": [
    "x = np.linalg.solve(A,b)\n",
    "print('Solution:', x)"
   ]
  },
  {
   "cell_type": "markdown",
   "metadata": {},
   "source": [
    "__Matricial norm__"
   ]
  },
  {
   "cell_type": "code",
   "execution_count": 52,
   "metadata": {},
   "outputs": [
    {
     "data": {
      "text/plain": [
       "4.9064878325646113"
      ]
     },
     "execution_count": 52,
     "metadata": {},
     "output_type": "execute_result"
    }
   ],
   "source": [
    "## norm-2\n",
    "np.linalg.norm(A, ord=2)"
   ]
  },
  {
   "cell_type": "markdown",
   "metadata": {},
   "source": [
    "__Determinant of a matrix__"
   ]
  },
  {
   "cell_type": "code",
   "execution_count": 47,
   "metadata": {},
   "outputs": [
    {
     "data": {
      "text/plain": [
       "0.027602455079755176"
      ]
     },
     "execution_count": 47,
     "metadata": {},
     "output_type": "execute_result"
    }
   ],
   "source": [
    "np.linalg.det(A)"
   ]
  },
  {
   "cell_type": "markdown",
   "metadata": {},
   "source": [
    "__SVD decomposition__"
   ]
  },
  {
   "cell_type": "code",
   "execution_count": 49,
   "metadata": {},
   "outputs": [],
   "source": [
    "S,V,D = np.linalg.svd(A)"
   ]
  },
  {
   "cell_type": "markdown",
   "metadata": {},
   "source": [
    "### The beneficts of using NumPy instead of Python"
   ]
  },
  {
   "cell_type": "code",
   "execution_count": 15,
   "metadata": {
    "collapsed": true
   },
   "outputs": [],
   "source": [
    "#Python Lists implementation\n",
    "def norm_square_list(vector):\n",
    "    norm = 0\n",
    "    for v in vector:\n",
    "        norm += v*v\n",
    "    return norm\n",
    "\n",
    "#Vectorized NumPy implementation\n",
    "def norm_square_numpy(vector):\n",
    "    return np.sum(vector * vector)\n",
    "\n",
    "#Vector to use - dimension 10^6\n",
    "vector = list(range(1000000))\n",
    "npvector = np.array(vector)"
   ]
  },
  {
   "cell_type": "code",
   "execution_count": 16,
   "metadata": {},
   "outputs": [
    {
     "name": "stdout",
     "output_type": "stream",
     "text": [
      "10 loops, best of 3: 119 ms per loop\n"
     ]
    }
   ],
   "source": [
    "%timeit norm_square_list(vector)"
   ]
  },
  {
   "cell_type": "code",
   "execution_count": 17,
   "metadata": {},
   "outputs": [
    {
     "name": "stdout",
     "output_type": "stream",
     "text": [
      "100 loops, best of 3: 4.6 ms per loop\n"
     ]
    }
   ],
   "source": [
    "%timeit norm_square_numpy(npvector)"
   ]
  },
  {
   "cell_type": "markdown",
   "metadata": {},
   "source": [
    "## 6.- Scientific Computing: `SciPy` \n",
    "<a href=\"http://www.scipy.org\">SciPy</a> provides a number of subpackages that deal with common operations in scientific computing, such as numerical integration, optimization, interpolation, Fourier transforms and linear algebra.\n",
    "#### Example 1: Numerical integration\n",
    "$$f(x)=\\int_0^{\\pi} x^3dx$$"
   ]
  },
  {
   "cell_type": "code",
   "execution_count": 53,
   "metadata": {},
   "outputs": [
    {
     "name": "stdout",
     "output_type": "stream",
     "text": [
      "24.35227275850061  +- 2.7036453918439354e-13\n"
     ]
    }
   ],
   "source": [
    "import scipy as sp\n",
    "import scipy.integrate as integrate\n",
    "\n",
    "def f(x):\n",
    "    return x**3\n",
    "\n",
    "ans, err = integrate.quad(f,0,np.pi)\n",
    "print(ans,' +-',err)"
   ]
  },
  {
   "cell_type": "markdown",
   "metadata": {},
   "source": [
    "#### Example 2: Solving an ODE numerically\n",
    "\n",
    "$$\n",
    "\\frac{dy}{dt} = f(y) = y^2 \\cdot \\sin(y) \\ \\ \\text{with} \\ \\ y(0) = y_0\n",
    "$$"
   ]
  },
  {
   "cell_type": "code",
   "execution_count": 74,
   "metadata": {},
   "outputs": [],
   "source": [
    "def f(y, t):\n",
    "    return y**2 * np.sin(y)\n",
    "\n",
    "ic = 1.\n",
    "times = np.linspace(0., 10., 100)\n",
    "sol = integrate.odeint(f, ic, time)"
   ]
  },
  {
   "cell_type": "code",
   "execution_count": 75,
   "metadata": {},
   "outputs": [
    {
     "data": {
      "image/png": "[encoded data removed]",
      "text/plain": [
       "<matplotlib.figure.Figure at 0x111af7d68>"
      ]
     },
     "metadata": {},
     "output_type": "display_data"
    }
   ],
   "source": [
    "plt.figure(figsize=(10,4))\n",
    "plt.plot(times, sol, 'ro-')\n",
    "plt.title('ODE evolution')\n",
    "plt.show()"
   ]
  },
  {
   "cell_type": "markdown",
   "metadata": {},
   "source": [
    "## 6.-  Matplotlib\n",
    "\n",
    "In the next section we will see how to do some of the most common tasks in __data visualization__, with `Matplotlib`.\n",
    "\n",
    "__The Matplotlib Philosophy:__ \n",
    "1. Configure the object to visualize through the `matplotlib.pyplot` API.\n",
    "2. Display the canvas and the created object with the `matplotlib.pyplot.show()` function.\n",
    "3. After the call to the `show()` function, `matplotlib.pyplot` reset the state of the _canvas_ to `None`."
   ]
  },
  {
   "cell_type": "code",
   "execution_count": 81,
   "metadata": {
    "collapsed": true
   },
   "outputs": [],
   "source": [
    "import matplotlib.pyplot as plt"
   ]
  },
  {
   "cell_type": "markdown",
   "metadata": {},
   "source": [
    "There are different ways to display a plot in the Jupyter Notebook, by changing the backend that handles the plot. But __changing between backends in the same session doesn't work properly right now__, so it is recommended to restart the kernel every time you change the backend."
   ]
  },
  {
   "cell_type": "code",
   "execution_count": 78,
   "metadata": {
    "collapsed": true
   },
   "outputs": [],
   "source": [
    "%matplotlib inline"
   ]
  },
  {
   "cell_type": "markdown",
   "metadata": {},
   "source": [
    "__Inline Mode:__ Figures created in this mode are converted to PNG images stored within the notebook .ipynb  les. This is convenient when sharing notebooks because the plots are viewable by other users. "
   ]
  },
  {
   "cell_type": "code",
   "execution_count": 79,
   "metadata": {},
   "outputs": [
    {
     "name": "stdout",
     "output_type": "stream",
     "text": [
      "Available matplotlib backends: ['tk', 'gtk', 'gtk3', 'wx', 'qt', 'qt4', 'qt5', 'osx', 'nbagg', 'notebook', 'agg', 'inline', 'ipympl']\n"
     ]
    }
   ],
   "source": [
    "%matplotlib --list"
   ]
  },
  {
   "cell_type": "markdown",
   "metadata": {},
   "source": [
    "### Simple plots\n",
    "<font color='red'>HANDS ON SECTION!</font>"
   ]
  },
  {
   "cell_type": "code",
   "execution_count": 85,
   "metadata": {},
   "outputs": [
    {
     "data": {
      "image/png": "[encoded data removed]",
      "text/plain": [
       "<matplotlib.figure.Figure at 0x116e70be0>"
      ]
     },
     "metadata": {},
     "output_type": "display_data"
    }
   ],
   "source": [
    "x = np.arange(0, 2*np.pi, 0.1)\n",
    "y = np.sin(x)\n",
    "z = np.cos(x)\n",
    "plt.plot(x,y)\n",
    "plt.plot(x,z)\n",
    "plt.show()"
   ]
  },
  {
   "cell_type": "code",
   "execution_count": 93,
   "metadata": {},
   "outputs": [
    {
     "data": {
      "image/png": "[encoded data removed]",
      "text/plain": [
       "<matplotlib.figure.Figure at 0x117e2d208>"
      ]
     },
     "metadata": {},
     "output_type": "display_data"
    }
   ],
   "source": [
    "plt.figure(figsize=(15,5))\n",
    "plt.plot(x, y, 'o--', lw=4, color='green', mfc='red', ms=7)\n",
    "plt.title(\"Example plot\")\n",
    "plt.xlabel(\"x\")\n",
    "plt.ylabel(\"y(x)\")\n",
    "plt.grid()\n",
    "plt.show()"
   ]
  },
  {
   "cell_type": "markdown",
   "metadata": {},
   "source": [
    "### Scatter plot"
   ]
  },
  {
   "cell_type": "code",
   "execution_count": 95,
   "metadata": {},
   "outputs": [
    {
     "data": {
      "image/png": "[encoded data removed]",
      "text/plain": [
       "<matplotlib.figure.Figure at 0x114baadd8>"
      ]
     },
     "metadata": {},
     "output_type": "display_data"
    }
   ],
   "source": [
    "x = np.random.randn(100)\n",
    "y = np.random.randn(100)\n",
    "\n",
    "plt.scatter(x, y, marker='o', s=25)\n",
    "plt.grid()\n",
    "plt.xlabel('x coordinate')\n",
    "plt.ylabel('y coordinate')\n",
    "plt.title('Scatter plot')\n",
    "plt.xlim(-3,3)\n",
    "plt.ylim(-3,3)\n",
    "plt.show()"
   ]
  },
  {
   "cell_type": "markdown",
   "metadata": {},
   "source": [
    "### Histogram plot"
   ]
  },
  {
   "cell_type": "code",
   "execution_count": 97,
   "metadata": {},
   "outputs": [
    {
     "data": {
      "image/png": "[encoded data removed]",
      "text/plain": [
       "<matplotlib.figure.Figure at 0x117579940>"
      ]
     },
     "metadata": {},
     "output_type": "display_data"
    }
   ],
   "source": [
    "n_samples = 25000\n",
    "#x = np.random.rand(n_samples)\n",
    "x = np.random.randn(n_samples)\n",
    "\n",
    "plt.figure(figsize=(6,6))\n",
    "plt.hist(x, bins=50, facecolor='seagreen', edgecolor='black', lw=2)\n",
    "plt.title(\"Empirical Standard Distribution\")\n",
    "plt.xlabel(\"x random variable\")\n",
    "plt.ylabel(\"frequency\")\n",
    "plt.show()"
   ]
  },
  {
   "cell_type": "markdown",
   "metadata": {},
   "source": [
    "### Image visualization\n",
    "<font color='red'>HANDS ON SECTION!</font>"
   ]
  },
  {
   "cell_type": "code",
   "execution_count": 102,
   "metadata": {
    "scrolled": true
   },
   "outputs": [
    {
     "name": "stdout",
     "output_type": "stream",
     "text": [
      "(521, 750, 3)\n"
     ]
    }
   ],
   "source": [
    "# we first load the image\n",
    "import matplotlib.image as mpimg\n",
    "\n",
    "img = mpimg.imread('data/cat.jpg')\n",
    "print(img.shape)"
   ]
  },
  {
   "cell_type": "code",
   "execution_count": 103,
   "metadata": {},
   "outputs": [
    {
     "data": {
      "image/png": "[encoded data removed]",
      "text/plain": [
       "<matplotlib.figure.Figure at 0x114c11c88>"
      ]
     },
     "metadata": {},
     "output_type": "display_data"
    }
   ],
   "source": [
    "plt.figure(figsize=(7,7))\n",
    "plt.imshow(img)\n",
    "plt.axis('off')\n",
    "plt.show()"
   ]
  },
  {
   "cell_type": "markdown",
   "metadata": {},
   "source": [
    "## 7.- Interactive Visualization with `interact` IPython widget\n",
    "\n",
    "The `interact` function (`ipywidgets.interact`) automatically creates a user interface (UI) controls for exploring code and data interactively. It is the __easiest way__ to get started using IPython’s widgets."
   ]
  },
  {
   "cell_type": "code",
   "execution_count": 20,
   "metadata": {
    "collapsed": true
   },
   "outputs": [],
   "source": [
    "from ipywidgets import interact, IntSlider, FloatSlider"
   ]
  },
  {
   "cell_type": "markdown",
   "metadata": {},
   "source": [
    "At the most basic level, `interact` autogenerates UI controls for function arguments, and then __calls the function__ with those arguments when you manipulate the controls interactively. To use `interact`\n",
    ", you __need to define a function that you want to explore__. Here is a function that prints its only argument x."
   ]
  },
  {
   "cell_type": "code",
   "execution_count": 21,
   "metadata": {
    "collapsed": true
   },
   "outputs": [],
   "source": [
    "def f(x):\n",
    "    return x"
   ]
  },
  {
   "cell_type": "markdown",
   "metadata": {},
   "source": [
    "* __Checkbox:__ If you pass True or False, interact will generate a checkbox:"
   ]
  },
  {
   "cell_type": "code",
   "execution_count": 22,
   "metadata": {},
   "outputs": [
    {
     "data": {
      "application/vnd.jupyter.widget-view+json": {
       "model_id": "18cf7871160e43aeb1f397d496463ec5"
      }
     },
     "metadata": {},
     "output_type": "display_data"
    }
   ],
   "source": [
    "interact(f, x=True);"
   ]
  },
  {
   "cell_type": "markdown",
   "metadata": {},
   "source": [
    "* __Textbox:__  If you pass a string, `interact` will generate a text area box:"
   ]
  },
  {
   "cell_type": "code",
   "execution_count": 23,
   "metadata": {},
   "outputs": [
    {
     "data": {
      "application/vnd.jupyter.widget-view+json": {
       "model_id": "5fcbabae1978424b815fb93a9426bebc"
      }
     },
     "metadata": {},
     "output_type": "display_data"
    }
   ],
   "source": [
    "interact(f, x='hi there!');"
   ]
  },
  {
   "cell_type": "markdown",
   "metadata": {},
   "source": [
    "* __IntSlider__: When you pass an integer-valued keyword argument of 10 (x=10) to interact, it generates an integer-valued slider control with a range of [-10,+3*10]."
   ]
  },
  {
   "cell_type": "code",
   "execution_count": 24,
   "metadata": {},
   "outputs": [
    {
     "data": {
      "application/vnd.jupyter.widget-view+json": {
       "model_id": "63c9ff2c375b443e98ec05949ce66631"
      }
     },
     "metadata": {},
     "output_type": "display_data"
    }
   ],
   "source": [
    "interact(f, x=10);"
   ]
  },
  {
   "cell_type": "markdown",
   "metadata": {},
   "source": [
    "In this case, 10 is an abbreviation for an actual slider widget:"
   ]
  },
  {
   "cell_type": "code",
   "execution_count": 25,
   "metadata": {},
   "outputs": [
    {
     "data": {
      "application/vnd.jupyter.widget-view+json": {
       "model_id": "7662a40db66141a791438445d5b659f4"
      }
     },
     "metadata": {},
     "output_type": "display_data"
    }
   ],
   "source": [
    "IntSlider(min=-10,max=30,step=1,value=10)"
   ]
  },
  {
   "cell_type": "code",
   "execution_count": 26,
   "metadata": {},
   "outputs": [
    {
     "data": {
      "application/vnd.jupyter.widget-view+json": {
       "model_id": "3976b20782d94dc289ef87c82ef909d4"
      }
     },
     "metadata": {},
     "output_type": "display_data"
    }
   ],
   "source": [
    "interact(f, x=IntSlider(min=-10,max=30,step=1,value=10));"
   ]
  },
  {
   "cell_type": "markdown",
   "metadata": {},
   "source": [
    "but you can also use this abbreviation in order to avoid instantiating `IntSlider` by yourself:"
   ]
  },
  {
   "cell_type": "code",
   "execution_count": 27,
   "metadata": {},
   "outputs": [
    {
     "data": {
      "application/vnd.jupyter.widget-view+json": {
       "model_id": "2d1f2efc055a4314b33c8c5b1c7f2ce4"
      }
     },
     "metadata": {},
     "output_type": "display_data"
    }
   ],
   "source": [
    "interact(f, x=(-50,50,2));"
   ]
  },
  {
   "cell_type": "markdown",
   "metadata": {},
   "source": [
    "* __FloatSlider__: The same applies also for float arguments with the sliders:"
   ]
  },
  {
   "cell_type": "code",
   "execution_count": 28,
   "metadata": {},
   "outputs": [
    {
     "data": {
      "application/vnd.jupyter.widget-view+json": {
       "model_id": "f6735cdb37104a8ca38060589e1bd4f1"
      }
     },
     "metadata": {},
     "output_type": "display_data"
    }
   ],
   "source": [
    "interact(f, x=FloatSlider(min=-2., max=7., step=0.1, value=0.));"
   ]
  },
  {
   "cell_type": "code",
   "execution_count": 29,
   "metadata": {},
   "outputs": [
    {
     "data": {
      "application/vnd.jupyter.widget-view+json": {
       "model_id": "a54f7af3da274faf9f7a43b6e1e5e253"
      }
     },
     "metadata": {},
     "output_type": "display_data"
    }
   ],
   "source": [
    "interact(f, x=(-2., 7., 0.1));"
   ]
  },
  {
   "cell_type": "markdown",
   "metadata": {},
   "source": [
    "* __Dropdown:__ If you pass a list or a dictionary, then it will generate a dropdown widget:"
   ]
  },
  {
   "cell_type": "code",
   "execution_count": 30,
   "metadata": {},
   "outputs": [
    {
     "data": {
      "application/vnd.jupyter.widget-view+json": {
       "model_id": "e4afe4d179884ce79ff21a454bf7ec7a"
      }
     },
     "metadata": {},
     "output_type": "display_data"
    }
   ],
   "source": [
    "interact(f, x=['orange', 'apple']);"
   ]
  },
  {
   "cell_type": "code",
   "execution_count": 31,
   "metadata": {},
   "outputs": [
    {
     "data": {
      "application/vnd.jupyter.widget-view+json": {
       "model_id": "42936a858a674cb4a557ab9f258be156"
      }
     },
     "metadata": {},
     "output_type": "display_data"
    }
   ],
   "source": [
    "interact(f, x={1:'orange', 2:'apple'});"
   ]
  },
  {
   "cell_type": "markdown",
   "metadata": {},
   "source": [
    "### Fixing arguments using `fixed`\n",
    "\n",
    "There are times when you may want to explore a function using interact, but fix one or more of its arguments to specific values. This can be accomplished by wrapping values with the `fixed` function."
   ]
  },
  {
   "cell_type": "code",
   "execution_count": 32,
   "metadata": {
    "collapsed": true
   },
   "outputs": [],
   "source": [
    "from ipywidgets import fixed"
   ]
  },
  {
   "cell_type": "code",
   "execution_count": 33,
   "metadata": {
    "collapsed": true
   },
   "outputs": [],
   "source": [
    "def h(p, q):\n",
    "    return (p, q)"
   ]
  },
  {
   "cell_type": "code",
   "execution_count": 34,
   "metadata": {},
   "outputs": [
    {
     "data": {
      "application/vnd.jupyter.widget-view+json": {
       "model_id": "8de347c041a14e09a093f75dfe284423"
      }
     },
     "metadata": {},
     "output_type": "display_data"
    }
   ],
   "source": [
    "interact(h, p=5, q=1);"
   ]
  },
  {
   "cell_type": "code",
   "execution_count": 35,
   "metadata": {},
   "outputs": [
    {
     "data": {
      "application/vnd.jupyter.widget-view+json": {
       "model_id": "aa6237c6f82b451aaa449a5eef930b8a"
      }
     },
     "metadata": {},
     "output_type": "display_data"
    }
   ],
   "source": [
    "interact(h, p=5, q=fixed(10));"
   ]
  },
  {
   "cell_type": "markdown",
   "metadata": {},
   "source": [
    "### Using `interact` for visualization\n",
    "\n",
    "Now with all your knowledge of __`matplotlib`__ and __`interact`__ you have all what you need to perform __interactive visualization__!\n",
    "\n",
    "In this section we will use this tools to perform interactive data visualization over a __3D spectroscopic data line cube__ of  __Orion Nebulae__. We first load the data:"
   ]
  },
  {
   "cell_type": "code",
   "execution_count": 31,
   "metadata": {},
   "outputs": [
    {
     "name": "stdout",
     "output_type": "stream",
     "text": [
      "--2017-06-14 18:07:20--  http://alumnos.inf.utfsm.cl/~mavillan/press/orion.npy\n",
      "Resolving alumnos.inf.utfsm.cl... 204.87.169.27\n",
      "Connecting to alumnos.inf.utfsm.cl|204.87.169.27|:80... connected.\n",
      "HTTP request sent, awaiting response... 200 OK\n",
      "Length: 1640080 (1.6M)\n",
      "Saving to: ‘orion.npy.1’\n",
      "\n",
      "orion.npy.1         100%[===================>]   1.56M  1.79MB/s    in 0.9s    \n",
      "\n",
      "2017-06-14 18:07:20 (1.79 MB/s) - ‘orion.npy.1’ saved [1640080/1640080]\n",
      "\n"
     ]
    }
   ],
   "source": [
    "!wget http://alumnos.inf.utfsm.cl/~mavillan/press/orion.npy"
   ]
  },
  {
   "cell_type": "code",
   "execution_count": 32,
   "metadata": {},
   "outputs": [
    {
     "name": "stdout",
     "output_type": "stream",
     "text": [
      "Shape: (41, 100, 100)\n",
      "Data type: >f4\n"
     ]
    }
   ],
   "source": [
    "data = np.load(\"orion.npy\")\n",
    "print('Shape:', data.shape)\n",
    "print('Data type:', data.dtype)"
   ]
  },
  {
   "cell_type": "markdown",
   "metadata": {},
   "source": [
    "The `axis0` is for frequency and the other two are for spatial coordinates. We want to see images of the slices in the frequency axis, in a interactive way.\n",
    "\n",
    "For that we need to define the corresponding function to pass to `interact`:"
   ]
  },
  {
   "cell_type": "code",
   "execution_count": 37,
   "metadata": {
    "collapsed": true
   },
   "outputs": [],
   "source": [
    "def slice_show(data, i):\n",
    "    plt.figure(figsize=(8,8))\n",
    "    plt.imshow(data[i,:,:], cmap='afmhot', vmin=0., vmax=1.)\n",
    "    plt.grid()\n",
    "    plt.xlabel('x coordinate')\n",
    "    plt.ylabel('y coordinate')\n",
    "    plt.show()"
   ]
  },
  {
   "cell_type": "code",
   "execution_count": 38,
   "metadata": {},
   "outputs": [
    {
     "name": "stderr",
     "output_type": "stream",
     "text": [
      "/Users/mavillan/anaconda3/lib/python3.6/site-packages/traitlets/traitlets.py:567: FutureWarning: comparison to `None` will result in an elementwise object comparison in the future.\n",
      "  silent = bool(old_value == new_value)\n"
     ]
    },
    {
     "data": {
      "application/vnd.jupyter.widget-view+json": {
       "model_id": "cd93b583198d493893d1dac957403623"
      }
     },
     "metadata": {},
     "output_type": "display_data"
    }
   ],
   "source": [
    "interact(slice_show, data=fixed(data), i=(0,40));"
   ]
  },
  {
   "cell_type": "markdown",
   "metadata": {},
   "source": [
    "__Let's improve the interactivity!__"
   ]
  },
  {
   "cell_type": "code",
   "execution_count": 39,
   "metadata": {
    "collapsed": true
   },
   "outputs": [],
   "source": [
    "def slice_show2(data, i, title='', show_colorbar=False, colormap='afmthot'):\n",
    "    plt.figure(figsize=(8,8))\n",
    "    plt.imshow(data[i,:,:], cmap=colormap, vmin=0., vmax=1.)\n",
    "    plt.grid()\n",
    "    plt.title(title)\n",
    "    plt.xlabel('x coordinate')\n",
    "    plt.ylabel('y coordinate')\n",
    "    if show_colorbar: plt.colorbar()\n",
    "    plt.show()"
   ]
  },
  {
   "cell_type": "code",
   "execution_count": 40,
   "metadata": {},
   "outputs": [
    {
     "name": "stderr",
     "output_type": "stream",
     "text": [
      "/Users/mavillan/anaconda3/lib/python3.6/site-packages/traitlets/traitlets.py:567: FutureWarning: comparison to `None` will result in an elementwise object comparison in the future.\n",
      "  silent = bool(old_value == new_value)\n"
     ]
    },
    {
     "data": {
      "application/vnd.jupyter.widget-view+json": {
       "model_id": "061e7a9af11d413ab614fca1941d28f5"
      }
     },
     "metadata": {},
     "output_type": "display_data"
    }
   ],
   "source": [
    "# full list of available colormaps:\n",
    "# https://matplotlib.org/examples/color/colormaps_reference.html\n",
    "colormap_list = ['afmhot','gray','plasma','inferno','copper','gist_heat','jet',]\n",
    "\n",
    "interact(slice_show2, data=fixed(data), i=(0,40), title='Orion Nebulae', \\\n",
    "         show_colorbar=False, colormap=colormap_list);"
   ]
  },
  {
   "cell_type": "markdown",
   "metadata": {},
   "source": [
    "Finally we will use the _Scikit-image_ library to extend our interactive visualization, by adding image processing over each slice of the cube, applying different filters/kernels to the image:"
   ]
  },
  {
   "cell_type": "code",
   "execution_count": 41,
   "metadata": {
    "collapsed": true
   },
   "outputs": [],
   "source": [
    "def slice_show3(data, i, title='', show_colorbar=False, colormap='afmthot', img_filter=None):\n",
    "    if img_filter is not None:\n",
    "        _data = np.empty(data.shape)\n",
    "        for j in range(data.shape[0]):\n",
    "            _data[i,:,:] = img_filter(data[i,:,:])\n",
    "        data = _data\n",
    "        \n",
    "    plt.figure(figsize=(8,8))\n",
    "    plt.imshow(data[i,:,:], cmap=colormap, vmin=data.min(), vmax=data.max())\n",
    "    plt.grid()\n",
    "    plt.title(title)\n",
    "    plt.xlabel('x coordinate')\n",
    "    plt.ylabel('y coordinate')\n",
    "    if show_colorbar: plt.colorbar()\n",
    "    plt.show()"
   ]
  },
  {
   "cell_type": "code",
   "execution_count": 42,
   "metadata": {
    "collapsed": true
   },
   "outputs": [],
   "source": [
    "from skimage import filters\n",
    "\n",
    "# dictionary with the kernel to be used\n",
    "filters = {'none':None, 'gaussian':filters.gaussian, 'hessian':filters.hessian, 'laplace':filters.laplace, \\\n",
    "           'sobel':filters.sobel, 'frangi':filters.frangi, 'median':filters.median, 'prewitt':filters.prewitt}\n",
    "\n",
    "# full list of available filters:\n",
    "# http://scikit-image.org/docs/dev/api/skimage.filters.html"
   ]
  },
  {
   "cell_type": "code",
   "execution_count": 43,
   "metadata": {},
   "outputs": [
    {
     "name": "stderr",
     "output_type": "stream",
     "text": [
      "/Users/mavillan/anaconda3/lib/python3.6/site-packages/traitlets/traitlets.py:567: FutureWarning: comparison to `None` will result in an elementwise object comparison in the future.\n",
      "  silent = bool(old_value == new_value)\n"
     ]
    },
    {
     "data": {
      "application/vnd.jupyter.widget-view+json": {
       "model_id": "818490bee23e490e9019cef2773fb447"
      }
     },
     "metadata": {},
     "output_type": "display_data"
    }
   ],
   "source": [
    "interact(slice_show3, data=fixed(data), i=(0,40), title='Orion Nebulae', \\\n",
    "         show_colorbar=False, colormap=colormap_list, img_filter=filters);"
   ]
  },
  {
   "cell_type": "markdown",
   "metadata": {
    "collapsed": true
   },
   "source": [
    "## Additional Advanded Libraries\n",
    "\n",
    "### Scikit-learn\n",
    "\n",
    "<a href=\"http://scikit-learn.org\">scikit-learn</a> provides algorithms for machine learning tasks, such as classification, regression, and clustering, as well as associated operations, such as cross-validation and feature normalization. These topics will be covered in greater depth in Guillermo Cabrera's talks <a href=\"\">here</a>. A related module is <a href=\"http://www.astroml.org\">astroML</a> which is a wrapper around a lot of the scikit-learn routines but also offers some additional functionality and faster/alternate implementations of some methods.\n",
    "\n",
    "### Cython \n",
    "__Cython__ is both a __Superset of Python__ and a __Python Library__ that lets you combine C and Python in various ways. There are two main use-cases: Optimizing your Python code by statically compiling it to C, and Wrapping a C/C++ library in Python.\n",
    "\n",
    "### Numba\n",
    "Numba gives you the power to speed up your applications with high performance functions written directly in Python. With a few annotations, array-oriented and math-heavy Python code can be just-in-time compiled to native machine instructions, similar in performance to C, C++ and Fortran, without having to switch languages or Python interpreters (__Just in Time Compilation__).\n",
    "\n",
    "\n",
    "### Pandas\n",
    "<a href=\"http://pandas.pydata.org/index.html\">Pandas</a> offers data structures, particularly data frames, and operations for manipulating numerical tables and time series, such as fancy indexing, reshaping and pivoting, and merging, as well as a number of analysis tools. Although similar functionality already exists in numpy, pandas is highly optimized for performance and large data sets.  Some of these topics will be covered in greater depth in Mauricio San Martin's talk <a href=\"placeholder\">here</a>."
   ]
  }
 ],
 "metadata": {
  "anaconda-cloud": {},
  "kernelspec": {
   "display_name": "Python 3",
   "language": "python",
   "name": "python3"
  },
  "language_info": {
   "codemirror_mode": {
    "name": "ipython",
    "version": 3
   },
   "file_extension": ".py",
   "mimetype": "text/x-python",
   "name": "python",
   "nbconvert_exporter": "python",
   "pygments_lexer": "ipython3",
   "version": "3.6.1"
  }
 },
 "nbformat": 4,
 "nbformat_minor": 1
}

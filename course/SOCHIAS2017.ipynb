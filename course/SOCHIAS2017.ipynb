{
 "cells": [
  {
   "cell_type": "markdown",
   "metadata": {},
   "source": [
    "# JOVIAL, the ChiVO Cloud Service\n",
    "## SOCHIAS 2017\n",
    "### Amelia Bayo, Mauricio Araya and Mauricio Solar\n",
    "This notebook presents a simple example of what can be done with JOVIAL\n",
    "### Initialiization (imports)"
   ]
  },
  {
   "cell_type": "code",
   "execution_count": 1,
   "metadata": {
    "collapsed": false
   },
   "outputs": [],
   "source": [
    "import os\n",
    "import urllib.request\n",
    "import tarfile\n",
    "from shutil import copyfile\n",
    "import sys\n",
    "sys.path.append('../ACALIB')\n",
    "from astropy.io import fits\n",
    "import matplotlib.pyplot as plt\n",
    "import acalib as aca\n",
    "import numpy as np"
   ]
  },
  {
   "cell_type": "markdown",
   "metadata": {},
   "source": [
    "## 1.- Downloading and Decompressing ALMA (SV) Data"
   ]
  },
  {
   "cell_type": "code",
   "execution_count": 2,
   "metadata": {
    "collapsed": false
   },
   "outputs": [],
   "source": [
    "global DOWNLOADS_DIR \n",
    "DOWNLOADS_DIR= '.'\n",
    "# Data from ALMA science verification \n",
    "\n",
    "# URLs of the tarballs\n",
    "twhydra_url  = 'https://almascience.nrao.edu/almadata/sciver/TWHya/TWHYA_BAND7_ReferenceImages.tgz'\n",
    "m100_url     = 'https://bulk.cv.nrao.edu/almadata/sciver/M100Band3_12m/M100_Band3_ReferenceImages_CASA3.3.tgz'\n",
    "iras_url     = 'https://almascience.nrao.edu/almadata/sciver/IRAS16293Band6/IRAS16293_Band6_ReferenceImages.tgz'\n",
    "\n",
    "# Fits names and their \"fantasy\" names \n",
    "twhydra_file = 'TWHydra_CO3_2line.image.fits'\n",
    "m100_file    = 'M100line.image.fits'\n",
    "iras_file    = 'I16293_220GHzcorrected.ms.selfcube.image.fits'"
   ]
  },
  {
   "cell_type": "markdown",
   "metadata": {},
   "source": [
    "Function to retrieve the tarball and the fits file."
   ]
  },
  {
   "cell_type": "code",
   "execution_count": 3,
   "metadata": {
    "collapsed": false
   },
   "outputs": [],
   "source": [
    "def download_extract_and_move(url,ffile):\n",
    "    # Obtain the filename\n",
    "    name = url.rsplit('/', 1)[-1]\n",
    "    filename = os.path.join(DOWNLOADS_DIR, name)\n",
    "    # Download the file if not found\n",
    "    if not os.path.isfile(filename):\n",
    "        urllib.request.urlretrieve(url, filename)\n",
    "    # Decompress (if needed) and copy the selected file to the DOWNLOADS_DIR\n",
    "    sdir=filename.rsplit('ReferenceImages',1)[0]+\"ReferenceImages\"\n",
    "    if not os.path.isdir(sdir):\n",
    "        tar = tarfile.open(filename)\n",
    "        tar.extractall(path=DOWNLOADS_DIR)\n",
    "        tar.close()\n",
    "    copyfile(sdir+\"/\"+ffile, DOWNLOADS_DIR+\"/\"+ffile)"
   ]
  },
  {
   "cell_type": "markdown",
   "metadata": {},
   "source": [
    "## 2.- Loading and a Quick Look at the Data"
   ]
  },
  {
   "cell_type": "code",
   "execution_count": 4,
   "metadata": {
    "collapsed": false
   },
   "outputs": [
    {
     "name": "stdout",
     "output_type": "stream",
     "text": [
      "INFO: 4D data detected: assuming RA-DEC-FREQ-STOKES (like CASA-generated ones), and dropping STOKES [acalib.io.fits]\n"
     ]
    }
   ],
   "source": [
    "# Extract File\n",
    "download_extract_and_move(twhydra_url,twhydra_file)\n",
    "# Load File\n",
    "hdulist = fits.open(DOWNLOADS_DIR+'/'+twhydra_file)\n",
    "twhydra_cube    = aca.HDU_to_NDData(hdulist[0])"
   ]
  },
  {
   "cell_type": "markdown",
   "metadata": {},
   "source": [
    "### Show the header"
   ]
  },
  {
   "cell_type": "code",
   "execution_count": 5,
   "metadata": {
    "collapsed": false
   },
   "outputs": [
    {
     "data": {
      "text/plain": [
       "SIMPLE  =                    T /Standard FITS                                   \n",
       "BITPIX  =                  -32 /Floating point (32 bit)                         \n",
       "NAXIS   =                    4                                                  \n",
       "NAXIS1  =                  100                                                  \n",
       "NAXIS2  =                  100                                                  \n",
       "NAXIS3  =                  118                                                  \n",
       "NAXIS4  =                    1                                                  \n",
       "BSCALE  =   1.000000000000E+00 /PHYSICAL = PIXEL*BSCALE + BZERO                 \n",
       "BZERO   =   0.000000000000E+00                                                  \n",
       "BMAJ    =   4.668472210566E-04                                                  \n",
       "BMIN    =   4.255372948117E-04                                                  \n",
       "BPA     =   2.230152130127E+01                                                  \n",
       "BTYPE   = 'Intensity'                                                           \n",
       "OBJECT  = 'TW Hya  '                                                            \n",
       "                                                                                \n",
       "BUNIT   = 'JY/BEAM '           /Brightness (pixel) unit                         \n",
       "EQUINOX =   2.000000000000E+03                                                  \n",
       "LONPOLE =   1.800000000000E+02                                                  \n",
       "LATPOLE =  -3.470476691248E+01                                                  \n",
       "CTYPE1  = 'RA---SIN'                                                            \n",
       "CRVAL1  =   1.654660207616E+02                                                  \n",
       "CDELT1  =  -8.333333333333E-05                                                  \n",
       "CRPIX1  =   5.100000000000E+01                                                  \n",
       "CUNIT1  = 'deg     '                                                            \n",
       "CTYPE2  = 'DEC--SIN'                                                            \n",
       "CRVAL2  =  -3.470476691248E+01                                                  \n",
       "CDELT2  =   8.333333333333E-05                                                  \n",
       "CRPIX2  =   5.100000000000E+01                                                  \n",
       "CUNIT2  = 'deg     '                                                            \n",
       "CTYPE3  = 'FREQ    '                                                            \n",
       "CRVAL3  =   3.458006038050E+11                                                  \n",
       "CDELT3  =  -1.384141518555E+05                                                  \n",
       "CRPIX3  =   1.000000000000E+00                                                  \n",
       "CUNIT3  = 'HZ      '                                                            \n",
       "CTYPE4  = 'STOKES  '                                                            \n",
       "CRVAL4  =   1.000000000000E+00                                                  \n",
       "CDELT4  =   1.000000000000E+00                                                  \n",
       "CRPIX4  =   1.000000000000E+00                                                  \n",
       "CUNIT4  = '        '                                                            \n",
       "PV2_1   =   0.000000000000E+00                                                  \n",
       "PV2_2   =   0.000000000000E+00                                                  \n",
       "RESTFRQ =   3.457959900000E+11 /Rest Frequency (Hz)                             \n",
       "SPECSYS = 'LSRK    '           /Spectral reference frame                        \n",
       "ALTRVAL =  -3.999999947043E+03 /Alternate frequency reference value             \n",
       "ALTRPIX =   1.000000000000E+00 /Alternate frequency reference pixel             \n",
       "VELREF  =                  257 /1 LSR, 2 HEL, 3 OBS, +256 Radio                 \n",
       "COMMENT casacore non-standard usage: 4 LSD, 5 GEO, 6 SOU, 7 GAL                 \n",
       "TELESCOP= 'ALMA    '                                                            \n",
       "OBSERVER= 'Unknown '                                                            \n",
       "DATE-OBS= '2011-04-22T00:15:41.760000'                                          \n",
       "TIMESYS = 'UTC     '                                                            \n",
       "OBSRA   =   1.654660207616E+02                                                  \n",
       "OBSDEC  =  -3.470476691248E+01                                                  \n",
       "OBSGEO-X=   2.225142180269E+06                                                  \n",
       "OBSGEO-Y=  -5.440307370349E+06                                                  \n",
       "OBSGEO-Z=  -2.481029851874E+06                                                  \n",
       "DATE    = '2011-05-30T22:09:42.083000' /Date FITS file was written              \n",
       "ORIGIN  = 'CASA casacore alma-evla '                                            \n",
       "HISTORY CASA START LOGTABLE                                                     \n",
       "HISTORY 2011-05-27T17:37:11 INFO SRCCODE='imager::clean()'                      \n",
       "HISTORY 2011-05-27T17:37:11 INFO SRCCODE='imager::clean()'                      \n",
       "HISTORY Tue May 24 20:37:43 2011  HISTORY calibrater::setdata [Beginning selectv\n",
       "HISTORY >is--(MSSelection version)-------, chanmode=none nchan=1 start=0 step=1 \n",
       "HISTORY >Start='0km/s' mStep='0km/s' msSelect='']                               \n",
       "HISTORY Tue May 24 20:38:01 2011  HISTORY calibrater::correct [] Beginning corre\n",
       "HISTORY >ct---------------------------                                          \n",
       "HISTORY Tue May 24 20:38:04 2011  HISTORY applycal [] taskname = applycal       \n",
       "HISTORY Tue May 24 20:38:04 2011  HISTORY applycal [] vis         = \"X3c1.ms\"   \n",
       "HISTORY Tue May 24 20:38:04 2011  HISTORY applycal [] msselect    = \"\"          \n",
       "HISTORY Tue May 24 20:38:04 2011  HISTORY applycal [] gaintable   = \"['X3c1.tsys\n",
       "HISTORY >.fdm', 'wvr_X3c1.cal']\"                                                \n",
       "HISTORY Tue May 24 20:38:04 2011  HISTORY applycal [] gainfield   = \"['0']\"     \n",
       "HISTORY Tue May 24 20:38:04 2011  HISTORY applycal [] interp      = \"['nearest',\n",
       "HISTORY > 'nearest']\"                                                           \n",
       "HISTORY Tue May 24 20:38:04 2011  HISTORY applycal [] spwmap      = []          \n",
       "HISTORY Tue May 24 20:38:04 2011  HISTORY applycal [] calwt       = True        \n",
       "HISTORY Tue May 24 20:38:04 2011  HISTORY applycal [] gaincurve   = False       \n",
       "HISTORY Tue May 24 20:38:04 2011  HISTORY applycal [] opacity     = 0.0         \n",
       "HISTORY Tue May 24 20:38:05 2011  HISTORY calibrater::setdata [Beginning selectv\n",
       "HISTORY >is--(MSSelection version)-------, chanmode=none nchan=1 start=0 step=1 \n",
       "HISTORY >Start='0km/s' mStep='0km/s' msSelect='']                               \n",
       "HISTORY Tue May 24 20:38:21 2011  HISTORY calibrater::correct [] Beginning corre\n",
       "HISTORY >ct---------------------------                                          \n",
       "HISTORY Tue May 24 20:38:24 2011  HISTORY applycal [] taskname = applycal       \n",
       "HISTORY Tue May 24 20:38:24 2011  HISTORY applycal [] vis         = \"X3c1.ms\"   \n",
       "HISTORY Tue May 24 20:38:24 2011  HISTORY applycal [] msselect    = \"\"          \n",
       "HISTORY Tue May 24 20:38:24 2011  HISTORY applycal [] gaintable   = \"['X3c1.tsys\n",
       "HISTORY >.fdm', 'wvr_X3c1.cal']\"                                                \n",
       "HISTORY Tue May 24 20:38:24 2011  HISTORY applycal [] gainfield   = \"['1']\"     \n",
       "HISTORY Tue May 24 20:38:24 2011  HISTORY applycal [] interp      = \"['nearest',\n",
       "HISTORY > 'nearest']\"                                                           \n",
       "HISTORY Tue May 24 20:38:24 2011  HISTORY applycal [] spwmap      = []          \n",
       "HISTORY Tue May 24 20:38:24 2011  HISTORY applycal [] calwt       = True        \n",
       "HISTORY Tue May 24 20:38:25 2011  HISTORY applycal [] gaincurve   = False       \n",
       "HISTORY Tue May 24 20:38:25 2011  HISTORY applycal [] opacity     = 0.0         \n",
       "HISTORY Tue May 24 20:38:25 2011  HISTORY calibrater::setdata [Beginning selectv\n",
       "HISTORY >is--(MSSelection version)-------, chanmode=none nchan=1 start=0 step=1 \n",
       "HISTORY >Start='0km/s' mStep='0km/s' msSelect='']                               \n",
       "HISTORY Tue May 24 20:38:42 2011  HISTORY calibrater::correct [] Beginning corre\n",
       "HISTORY >ct---------------------------                                          \n",
       "HISTORY Tue May 24 20:39:46 2011  HISTORY applycal [] taskname = applycal       \n",
       "HISTORY Tue May 24 20:39:46 2011  HISTORY applycal [] vis         = \"X3c1.ms\"   \n",
       "HISTORY Tue May 24 20:39:46 2011  HISTORY applycal [] msselect    = \"\"          \n",
       "HISTORY Tue May 24 20:39:46 2011  HISTORY applycal [] gaintable   = \"['X3c1.tsys\n",
       "HISTORY >.fdm', 'wvr_X3c1.cal']\"                                                \n",
       "HISTORY Tue May 24 20:39:46 2011  HISTORY applycal [] gainfield   = \"['2']\"     \n",
       "HISTORY Tue May 24 20:39:46 2011  HISTORY applycal [] interp      = \"['nearest',\n",
       "HISTORY > 'nearest']\"                                                           \n",
       "HISTORY Tue May 24 20:39:46 2011  HISTORY applycal [] spwmap      = []          \n",
       "HISTORY Tue May 24 20:39:46 2011  HISTORY applycal [] calwt       = True        \n",
       "HISTORY Tue May 24 20:39:46 2011  HISTORY applycal [] gaincurve   = False       \n",
       "HISTORY Tue May 24 20:39:46 2011  HISTORY applycal [] opacity     = 0.0         \n",
       "HISTORY Tue May 24 20:39:47 2011  HISTORY calibrater::setdata [Beginning selectv\n",
       "HISTORY >is--(MSSelection version)-------, chanmode=none nchan=1 start=0 step=1 \n",
       "HISTORY >Start='0km/s' mStep='0km/s' msSelect='']                               \n",
       "HISTORY Tue May 24 20:40:04 2011  HISTORY calibrater::correct [] Beginning corre\n",
       "HISTORY >ct---------------------------                                          \n",
       "HISTORY Tue May 24 20:40:27 2011  HISTORY applycal [] taskname = applycal       \n",
       "HISTORY Tue May 24 20:40:27 2011  HISTORY applycal [] vis         = \"X3c1.ms\"   \n",
       "HISTORY Tue May 24 20:40:27 2011  HISTORY applycal [] msselect    = \"\"          \n",
       "HISTORY Tue May 24 20:40:27 2011  HISTORY applycal [] gaintable   = \"['X3c1.tsys\n",
       "HISTORY >.fdm', 'wvr_X3c1.cal']\"                                                \n",
       "HISTORY Tue May 24 20:40:27 2011  HISTORY applycal [] gainfield   = \"['4']\"     \n",
       "HISTORY Tue May 24 20:40:27 2011  HISTORY applycal [] interp      = \"['nearest',\n",
       "HISTORY > 'nearest']\"                                                           \n",
       "HISTORY Tue May 24 20:40:27 2011  HISTORY applycal [] spwmap      = []          \n",
       "HISTORY Tue May 24 20:40:27 2011  HISTORY applycal [] calwt       = True        \n",
       "HISTORY Tue May 24 20:40:27 2011  HISTORY applycal [] gaincurve   = False       \n",
       "HISTORY Tue May 24 20:40:27 2011  HISTORY applycal [] opacity     = 0.0         \n",
       "HISTORY Tue May 24 20:51:12 2011  HISTORY calibrater::setdata [Beginning selectv\n",
       "HISTORY >is--(MSSelection version)-------, chanmode=none nchan=1 start=0 step=1 \n",
       "HISTORY >Start='0km/s' mStep='0km/s' msSelect='']                               \n",
       "HISTORY Tue May 24 20:51:26 2011  HISTORY calibrater::correct [] Beginning corre\n",
       "HISTORY >ct---------------------------                                          \n",
       "HISTORY Tue May 24 20:51:37 2011  HISTORY applycal [] taskname = applycal       \n",
       "HISTORY Tue May 24 20:51:37 2011  HISTORY applycal [] vis         = \"X3c1.ms\"   \n",
       "HISTORY Tue May 24 20:51:37 2011  HISTORY applycal [] msselect    = \"\"          \n",
       "HISTORY Tue May 24 20:51:37 2011  HISTORY applycal [] gaintable   = \"['X3c1.tsys\n",
       "HISTORY >.fdm', 'wvr_X3c1.cal']\"                                                \n",
       "HISTORY Tue May 24 20:51:37 2011  HISTORY applycal [] gainfield   = \"['4', '3']\"\n",
       "HISTORY Tue May 24 20:51:37 2011  HISTORY applycal [] interp      = \"['nearest',\n",
       "HISTORY > 'nearest']\"                                                           \n",
       "HISTORY Tue May 24 20:51:37 2011  HISTORY applycal [] spwmap      = []          \n",
       "HISTORY Tue May 24 20:51:37 2011  HISTORY applycal [] calwt       = True        \n",
       "HISTORY Tue May 24 20:51:37 2011  HISTORY applycal [] gaincurve   = False       \n",
       "HISTORY Tue May 24 20:51:37 2011  HISTORY applycal [] opacity     = 0.0         \n",
       "HISTORY Tue May 24 20:56:25 2011  HISTORY ms::split() [fieldids= spwids=17,19,21\n",
       "HISTORY >,23 step=[1] which='corrected'] X3c1_wvrtsys.ms split from /export/data\n",
       "HISTORY >1/data_2/SV_data/test_TWHydra_may24/X3c1.ms                            \n",
       "HISTORY Tue May 24 20:56:25 2011  HISTORY split [] taskname=split               \n",
       "HISTORY Tue May 24 20:56:25 2011  HISTORY split [] vis         = \"X3c1.ms\"      \n",
       "HISTORY Tue May 24 20:56:25 2011  HISTORY split [] outputvis   = \"X3c1_wvrtsys.m\n",
       "HISTORY >s\"                                                                     \n",
       "HISTORY Tue May 24 20:56:25 2011  HISTORY split [] datacolumn  = \"corrected\"    \n",
       "HISTORY Tue May 24 20:56:25 2011  HISTORY split [] field       = \"\"             \n",
       "HISTORY Tue May 24 20:56:25 2011  HISTORY split [] spw         = \"17,19,21,23\"  \n",
       "HISTORY Tue May 24 20:56:25 2011  HISTORY split [] width       = 1              \n",
       "HISTORY Tue May 24 20:56:25 2011  HISTORY split [] antenna     = \"\"             \n",
       "HISTORY Tue May 24 20:56:25 2011  HISTORY split [] timebin     = \"0.0s\"         \n",
       "HISTORY Tue May 24 20:56:25 2011  HISTORY split [] timerange   = \"\"             \n",
       "HISTORY Tue May 24 20:56:25 2011  HISTORY split [] scan        = \"\"             \n",
       "HISTORY Tue May 24 20:56:25 2011  HISTORY split [] array       = \"\"             \n",
       "HISTORY Tue May 24 20:56:25 2011  HISTORY split [] uvrange     = \"\"             \n",
       "HISTORY Tue May 24 20:56:25 2011  HISTORY split [] correlation = \"\"             \n",
       "HISTORY Tue May 24 20:56:25 2011  HISTORY split [] combine     = \"\"             \n",
       "HISTORY Tue May 24 20:56:25 2011  HISTORY split [] keepflags   = True           \n",
       "HISTORY Tue May 24 22:01:42 2011  HISTORY flagdata [] taskname = flagdata       \n",
       "HISTORY Tue May 24 22:01:42 2011  HISTORY flagdata [] vis      = \"X3c1_wvrtsys.m\n",
       "HISTORY >s\"                                                                     \n",
       "HISTORY Tue May 24 22:01:42 2011  HISTORY flagdata [] mode     = \"manualflag\"   \n",
       "HISTORY Tue May 24 22:02:43 2011  HISTORY flagdata [] taskname = flagdata       \n",
       "HISTORY Tue May 24 22:02:43 2011  HISTORY flagdata [] vis      = \"X3c1_wvrtsys.m\n",
       "HISTORY >s\"                                                                     \n",
       "HISTORY Tue May 24 22:02:43 2011  HISTORY flagdata [] mode     = \"manualflag\"   \n",
       "HISTORY Wed May 25 14:40:38 2011  HISTORY flagdata [] taskname = flagdata       \n",
       "HISTORY Wed May 25 14:40:38 2011  HISTORY flagdata [] vis      = \"X3c1_wvrtsys.m\n",
       "HISTORY >s\"                                                                     \n",
       "HISTORY Wed May 25 14:40:38 2011  HISTORY flagdata [] mode     = \"manualflag\"   \n",
       "HISTORY Wed May 25 14:40:58 2011  HISTORY flagdata [] taskname = flagdata       \n",
       "HISTORY Wed May 25 14:40:58 2011  HISTORY flagdata [] vis      = \"X3c1_wvrtsys.m\n",
       "HISTORY >s\"                                                                     \n",
       "HISTORY Wed May 25 14:40:58 2011  HISTORY flagdata [] mode     = \"shadow\"       \n",
       "HISTORY Wed May 25 14:41:19 2011  HISTORY flagdata [] taskname = flagdata       \n",
       "HISTORY Wed May 25 14:41:19 2011  HISTORY flagdata [] vis      = \"X3c1_wvrtsys.m\n",
       "HISTORY >s\"                                                                     \n",
       "HISTORY Wed May 25 14:41:19 2011  HISTORY flagdata [] mode     = \"manualflag\"   \n",
       "HISTORY Wed May 25 22:02:19 2011  HISTORY concat [] taskname=concat             \n",
       "HISTORY Wed May 25 22:02:19 2011  HISTORY concat [] vis         = \"Band7multi_ap\n",
       "HISTORY >ril22.ms\"                                                              \n",
       "HISTORY Wed May 25 22:02:19 2011  HISTORY concat [] concatvis   = \"X5d8_wvrtsys.\n",
       "HISTORY >ms\"                                                                    \n",
       "HISTORY Wed May 25 22:02:19 2011  HISTORY concat [] freqtol     = \"\"            \n",
       "HISTORY Wed May 25 22:02:19 2011  HISTORY concat [] dirtol      = \"\"            \n",
       "HISTORY Wed May 25 22:05:04 2011  HISTORY concat [] taskname=concat             \n",
       "HISTORY Wed May 25 22:05:04 2011  HISTORY concat [] vis         = \"Band7multi_ap\n",
       "HISTORY >ril22.ms\"                                                              \n",
       "HISTORY Wed May 25 22:05:04 2011  HISTORY concat [] concatvis   = \"X7ef_wvrtsys.\n",
       "HISTORY >ms\"                                                                    \n",
       "HISTORY Wed May 25 22:05:04 2011  HISTORY concat [] freqtol     = \"\"            \n",
       "HISTORY Wed May 25 22:05:04 2011  HISTORY concat [] dirtol      = \"\"            \n",
       "HISTORY Wed May 25 22:34:09 2011  HISTORY im::calc_uvw() (file /var/rpmbuild/BUI\n",
       "HISTORY >LD/casapy/casapy-32.0.15111/code/synthesis/implement/Utilities/FixVis.c\n",
       "HISTORY >, line 435) [] UVWs calculated for fields [-1, 1, -1, -1, -1]          \n",
       "HISTORY Wed May 25 22:39:41 2011  HISTORY flagdata [] taskname = flagdata       \n",
       "HISTORY Wed May 25 22:39:41 2011  HISTORY flagdata [] vis      = \"Band7multi_apr\n",
       "HISTORY >il22.ms\"                                                               \n",
       "HISTORY Wed May 25 22:39:41 2011  HISTORY flagdata [] mode     = \"manualflag\"   \n",
       "HISTORY Wed May 25 22:40:40 2011  HISTORY flagdata [] taskname = flagdata       \n",
       "HISTORY Wed May 25 22:40:40 2011  HISTORY flagdata [] vis      = \"Band7multi_apr\n",
       "HISTORY >il22.ms\"                                                               \n",
       "HISTORY Wed May 25 22:40:40 2011  HISTORY flagdata [] mode     = \"manualflag\"   \n",
       "HISTORY Wed May 25 22:40:44 2011  HISTORY imager::data selection [mode=channel n\n",
       "HISTORY >chan=[0] start=[0] step=[1] mstart='Radialvelocity: 0' mstep='Radialvel\n",
       "HISTORY >city: 0' spectralwindowids=[0] fieldids=[1] msselect=]                 \n",
       "HISTORY Wed May 25 22:40:47 2011  HISTORY imager::data selection [mode=channel n\n",
       "HISTORY >chan=[0] start=[0] step=[1] mstart='Radialvelocity: 0' mstep='Radialvel\n",
       "HISTORY >city: 0' spectralwindowids=[1] fieldids=[1] msselect=]                 \n",
       "HISTORY Wed May 25 22:40:49 2011  HISTORY imager::data selection [mode=channel n\n",
       "HISTORY >chan=[0] start=[0] step=[1] mstart='Radialvelocity: 0' mstep='Radialvel\n",
       "HISTORY >city: 0' spectralwindowids=[2] fieldids=[1] msselect=]                 \n",
       "HISTORY Wed May 25 22:40:51 2011  HISTORY imager::data selection [mode=channel n\n",
       "HISTORY >chan=[0] start=[0] step=[1] mstart='Radialvelocity: 0' mstep='Radialvel\n",
       "HISTORY >city: 0' spectralwindowids=[3] fieldids=[1] msselect=]                 \n",
       "HISTORY Wed May 25 22:40:51 2011  HISTORY imager::data selection [] Selecting da\n",
       "HISTORY >ta                                                                     \n",
       "HISTORY Wed May 25 22:40:52 2011  HISTORY setjy::imager::data selection [] Selec\n",
       "HISTORY >ted 810 out of 188460 visibilities.                                    \n",
       "HISTORY Wed May 25 22:40:54 2011  HISTORY setjy [] taskname = setjy             \n",
       "HISTORY Wed May 25 22:40:54 2011  HISTORY setjy [] vis         = \"Band7multi_apr\n",
       "HISTORY >il22.ms\"                                                               \n",
       "HISTORY Wed May 25 22:40:54 2011  HISTORY setjy [] field       = \"1\"            \n",
       "HISTORY Wed May 25 22:40:54 2011  HISTORY setjy [] spw       =                  \n",
       "HISTORY Wed May 25 22:40:54 2011  HISTORY setjy [] modimage =                   \n",
       "HISTORY Wed May 25 22:40:54 2011  HISTORY setjy [] fluxdensity = -1             \n",
       "HISTORY Wed May 25 22:40:54 2011  HISTORY setjy [] standard    = \"Butler-JPL-Hor\n",
       "HISTORY >izons 2010\"                                                            \n",
       "HISTORY Wed May 25 22:43:43 2011  HISTORY calibrater::setdata [Beginning selectv\n",
       "HISTORY >is--(MSSelection version)-------, chanmode=none nchan=1 start=0 step=1 \n",
       "HISTORY >Start='0km/s' mStep='0km/s' msSelect='']                               \n",
       "HISTORY Wed May 25 22:43:44 2011  HISTORY calibrater::correct [] Beginning corre\n",
       "HISTORY >ct---------------------------                                          \n",
       "HISTORY Wed May 25 22:43:50 2011  HISTORY applycal [] taskname = applycal       \n",
       "HISTORY Wed May 25 22:43:50 2011  HISTORY applycal [] vis         = \"Band7multi_\n",
       "HISTORY >april22.ms\"                                                            \n",
       "HISTORY Wed May 25 22:43:50 2011  HISTORY applycal [] msselect    = \"\"          \n",
       "HISTORY Wed May 25 22:43:50 2011  HISTORY applycal [] gaintable   = \"['bandpass.\n",
       "HISTORY >bcal', 'intphase.gcal', 'flux.cal']\"                                   \n",
       "HISTORY Wed May 25 22:43:50 2011  HISTORY applycal [] gainfield   = \"['0', '0', \n",
       "HISTORY > '0']\"                                                                 \n",
       "HISTORY Wed May 25 22:43:50 2011  HISTORY applycal [] interp      = \"['nearest',\n",
       "HISTORY > 'nearest', 'nearest']\"                                                \n",
       "HISTORY Wed May 25 22:43:50 2011  HISTORY applycal [] spwmap      = []          \n",
       "HISTORY Wed May 25 22:43:50 2011  HISTORY applycal [] calwt       = True        \n",
       "HISTORY Wed May 25 22:43:50 2011  HISTORY applycal [] gaincurve   = False       \n",
       "HISTORY Wed May 25 22:43:50 2011  HISTORY applycal [] opacity     = 0.0         \n",
       "HISTORY Wed May 25 22:44:10 2011  HISTORY calibrater::setdata [Beginning selectv\n",
       "HISTORY >is--(MSSelection version)-------, chanmode=none nchan=1 start=0 step=1 \n",
       "HISTORY >Start='0km/s' mStep='0km/s' msSelect='']                               \n",
       "HISTORY Wed May 25 22:44:10 2011  HISTORY calibrater::correct [] Beginning corre\n",
       "HISTORY >ct---------------------------                                          \n",
       "HISTORY Wed May 25 22:44:15 2011  HISTORY applycal [] taskname = applycal       \n",
       "HISTORY Wed May 25 22:44:15 2011  HISTORY applycal [] vis         = \"Band7multi_\n",
       "HISTORY >april22.ms\"                                                            \n",
       "HISTORY Wed May 25 22:44:15 2011  HISTORY applycal [] msselect    = \"\"          \n",
       "HISTORY Wed May 25 22:44:15 2011  HISTORY applycal [] gaintable   = \"['bandpass.\n",
       "HISTORY >bcal', 'intphase.gcal', 'flux.cal']\"                                   \n",
       "HISTORY Wed May 25 22:44:15 2011  HISTORY applycal [] gainfield   = \"['0', '1', \n",
       "HISTORY > '1']\"                                                                 \n",
       "HISTORY Wed May 25 22:44:15 2011  HISTORY applycal [] interp      = \"['nearest',\n",
       "HISTORY > 'nearest', 'nearest']\"                                                \n",
       "HISTORY Wed May 25 22:44:15 2011  HISTORY applycal [] spwmap      = []          \n",
       "HISTORY Wed May 25 22:44:15 2011  HISTORY applycal [] calwt       = True        \n",
       "HISTORY Wed May 25 22:44:15 2011  HISTORY applycal [] gaincurve   = False       \n",
       "HISTORY Wed May 25 22:44:15 2011  HISTORY applycal [] opacity     = 0.0         \n",
       "HISTORY Wed May 25 22:44:44 2011  HISTORY calibrater::setdata [Beginning selectv\n",
       "HISTORY >is--(MSSelection version)-------, chanmode=none nchan=1 start=0 step=1 \n",
       "HISTORY >Start='0km/s' mStep='0km/s' msSelect='']                               \n",
       "HISTORY Wed May 25 22:44:44 2011  HISTORY calibrater::correct [] Beginning corre\n",
       "HISTORY >ct---------------------------                                          \n",
       "HISTORY Wed May 25 22:45:05 2011  HISTORY applycal [] taskname = applycal       \n",
       "HISTORY Wed May 25 22:45:05 2011  HISTORY applycal [] vis         = \"Band7multi_\n",
       "HISTORY >april22.ms\"                                                            \n",
       "HISTORY Wed May 25 22:45:05 2011  HISTORY applycal [] msselect    = \"\"          \n",
       "HISTORY Wed May 25 22:45:05 2011  HISTORY applycal [] gaintable   = \"['bandpass.\n",
       "HISTORY >bcal', 'intphase.gcal', 'flux.cal']\"                                   \n",
       "HISTORY Wed May 25 22:45:05 2011  HISTORY applycal [] gainfield   = \"['0', '3', \n",
       "HISTORY > '3']\"                                                                 \n",
       "HISTORY Wed May 25 22:45:05 2011  HISTORY applycal [] interp      = \"['nearest',\n",
       "HISTORY > 'nearest', 'nearest']\"                                                \n",
       "HISTORY Wed May 25 22:45:05 2011  HISTORY applycal [] spwmap      = []          \n",
       "HISTORY Wed May 25 22:45:05 2011  HISTORY applycal [] calwt       = True        \n",
       "HISTORY Wed May 25 22:45:05 2011  HISTORY applycal [] gaincurve   = False       \n",
       "HISTORY Wed May 25 22:45:05 2011  HISTORY applycal [] opacity     = 0.0         \n",
       "HISTORY Wed May 25 22:45:46 2011  HISTORY calibrater::setdata [Beginning selectv\n",
       "HISTORY >is--(MSSelection version)-------, chanmode=none nchan=1 start=0 step=1 \n",
       "HISTORY >Start='0km/s' mStep='0km/s' msSelect='']                               \n",
       "HISTORY Wed May 25 22:45:47 2011  HISTORY calibrater::correct [] Beginning corre\n",
       "HISTORY >ct---------------------------                                          \n",
       "HISTORY Wed May 25 22:46:56 2011  HISTORY applycal [] taskname = applycal       \n",
       "HISTORY Wed May 25 22:46:56 2011  HISTORY applycal [] vis         = \"Band7multi_\n",
       "HISTORY >april22.ms\"                                                            \n",
       "HISTORY Wed May 25 22:46:56 2011  HISTORY applycal [] msselect    = \"\"          \n",
       "HISTORY Wed May 25 22:46:56 2011  HISTORY applycal [] gaintable   = \"['bandpass.\n",
       "HISTORY >bcal', 'intphase.gcal', 'flux.cal']\"                                   \n",
       "HISTORY Wed May 25 22:46:56 2011  HISTORY applycal [] gainfield   = \"['0', '4', \n",
       "HISTORY > '4']\"                                                                 \n",
       "HISTORY Wed May 25 22:46:56 2011  HISTORY applycal [] interp      = \"['nearest',\n",
       "HISTORY > 'nearest', 'nearest']\"                                                \n",
       "HISTORY Wed May 25 22:46:56 2011  HISTORY applycal [] spwmap      = []          \n",
       "HISTORY Wed May 25 22:46:56 2011  HISTORY applycal [] calwt       = True        \n",
       "HISTORY Wed May 25 22:46:56 2011  HISTORY applycal [] gaincurve   = False       \n",
       "HISTORY Wed May 25 22:46:56 2011  HISTORY applycal [] opacity     = 0.0         \n",
       "HISTORY Wed May 25 22:47:14 2011  HISTORY calibrater::setdata [Beginning selectv\n",
       "HISTORY >is--(MSSelection version)-------, chanmode=none nchan=1 start=0 step=1 \n",
       "HISTORY >Start='0km/s' mStep='0km/s' msSelect='']                               \n",
       "HISTORY Wed May 25 22:47:15 2011  HISTORY calibrater::correct [] Beginning corre\n",
       "HISTORY >ct---------------------------                                          \n",
       "HISTORY Wed May 25 22:52:06 2011  HISTORY applycal [] taskname = applycal       \n",
       "HISTORY Wed May 25 22:52:06 2011  HISTORY applycal [] vis         = \"Band7multi_\n",
       "HISTORY >april22.ms\"                                                            \n",
       "HISTORY Wed May 25 22:52:06 2011  HISTORY applycal [] msselect    = \"\"          \n",
       "HISTORY Wed May 25 22:52:06 2011  HISTORY applycal [] gaintable   = \"['bandpass.\n",
       "HISTORY >bcal', 'scanphase.gcal', 'flux.cal']\"                                  \n",
       "HISTORY Wed May 25 22:52:06 2011  HISTORY applycal [] gainfield   = \"['0', '3,4'\n",
       "HISTORY >, '3,4']\"                                                              \n",
       "HISTORY Wed May 25 22:52:06 2011  HISTORY applycal [] interp      = \"['nearest',\n",
       "HISTORY > 'linear', 'linear']\"                                                  \n",
       "HISTORY Wed May 25 22:52:06 2011  HISTORY applycal [] spwmap      = []          \n",
       "HISTORY Wed May 25 22:52:06 2011  HISTORY applycal [] calwt       = True        \n",
       "HISTORY Wed May 25 22:52:06 2011  HISTORY applycal [] gaincurve   = False       \n",
       "HISTORY Wed May 25 22:52:06 2011  HISTORY applycal [] opacity     = 0.0         \n",
       "HISTORY Wed May 25 23:09:03 2011  HISTORY ms::split() [fieldids=2 spwids=* step=\n",
       "HISTORY >[1] which='corrected'] TWHydra_corrected.ms split from /export/data_1/d\n",
       "HISTORY >ta_2/SV_data/test_TWHydra_may24/Band7multi_april22.ms                  \n",
       "HISTORY Wed May 25 23:09:03 2011  HISTORY split [] taskname=split               \n",
       "HISTORY Wed May 25 23:09:03 2011  HISTORY split [] vis         = \"Band7multi_apr\n",
       "HISTORY >il22.ms\"                                                               \n",
       "HISTORY Wed May 25 23:09:03 2011  HISTORY split [] outputvis   = \"TWHydra_correc\n",
       "HISTORY >ted.ms\"                                                                \n",
       "HISTORY Wed May 25 23:09:03 2011  HISTORY split [] datacolumn  = \"corrected\"    \n",
       "HISTORY Wed May 25 23:09:03 2011  HISTORY split [] field       = \"2\"            \n",
       "HISTORY Wed May 25 23:09:03 2011  HISTORY split [] spw         = \"\"             \n",
       "HISTORY Wed May 25 23:09:03 2011  HISTORY split [] width       = 1              \n",
       "HISTORY Wed May 25 23:09:03 2011  HISTORY split [] antenna     = \"\"             \n",
       "HISTORY Wed May 25 23:09:03 2011  HISTORY split [] timebin     = \"0.0s\"         \n",
       "HISTORY Wed May 25 23:09:04 2011  HISTORY split [] timerange   = \"\"             \n",
       "HISTORY Wed May 25 23:09:04 2011  HISTORY split [] scan        = \"\"             \n",
       "HISTORY Wed May 25 23:09:04 2011  HISTORY split [] array       = \"\"             \n",
       "HISTORY Wed May 25 23:09:04 2011  HISTORY split [] uvrange     = \"\"             \n",
       "HISTORY Wed May 25 23:09:04 2011  HISTORY split [] correlation = \"\"             \n",
       "HISTORY Wed May 25 23:09:04 2011  HISTORY split [] combine     = \"\"             \n",
       "HISTORY Wed May 25 23:09:04 2011  HISTORY split [] keepflags   = True           \n",
       "HISTORY Thu May 26 18:08:07 2011  HISTORY calibrater::setdata [Beginning selectv\n",
       "HISTORY >is--(MSSelection version)-------, chanmode=none nchan=1 start=0 step=1 \n",
       "HISTORY >Start='0km/s' mStep='0km/s' msSelect='']                               \n",
       "HISTORY Thu May 26 18:08:08 2011  HISTORY calibrater::correct [] Beginning corre\n",
       "HISTORY >ct---------------------------                                          \n",
       "HISTORY Thu May 26 18:12:43 2011  HISTORY applycal [] taskname = applycal       \n",
       "HISTORY Thu May 26 18:12:43 2011  HISTORY applycal [] vis         = \"TWHydra_cor\n",
       "HISTORY >rected.ms\"                                                             \n",
       "HISTORY Thu May 26 18:12:43 2011  HISTORY applycal [] msselect    = \"\"          \n",
       "HISTORY Thu May 26 18:12:43 2011  HISTORY applycal [] gaintable   = \"['self_2.pc\n",
       "HISTORY >al', 'self_ap.cal']\"                                                   \n",
       "HISTORY Thu May 26 18:12:43 2011  HISTORY applycal [] gainfield   = \"['']\"      \n",
       "HISTORY Thu May 26 18:12:43 2011  HISTORY applycal [] interp      = \"['linear']\"\n",
       "HISTORY Thu May 26 18:12:43 2011  HISTORY applycal [] spwmap      = []          \n",
       "HISTORY Thu May 26 18:12:43 2011  HISTORY applycal [] calwt       = False       \n",
       "HISTORY Thu May 26 18:12:43 2011  HISTORY applycal [] gaincurve   = False       \n",
       "HISTORY Thu May 26 18:12:43 2011  HISTORY applycal [] opacity     = 0.0         \n",
       "HISTORY Thu May 26 21:55:23 2011  HISTORY calibrater::setdata [Beginning selectv\n",
       "HISTORY >is--(MSSelection version)-------, chanmode=none nchan=1 start=0 step=1 \n",
       "HISTORY >Start='0km/s' mStep='0km/s' msSelect='']                               \n",
       "HISTORY Thu May 26 21:55:24 2011  HISTORY calibrater::correct [] Beginning corre\n",
       "HISTORY >ct---------------------------                                          \n",
       "HISTORY Thu May 26 21:59:16 2011  HISTORY applycal [] taskname = applycal       \n",
       "HISTORY Thu May 26 21:59:16 2011  HISTORY applycal [] vis         = \"TWHydra_cor\n",
       "HISTORY >rected.ms\"                                                             \n",
       "HISTORY Thu May 26 21:59:16 2011  HISTORY applycal [] msselect    = \"\"          \n",
       "HISTORY Thu May 26 21:59:16 2011  HISTORY applycal [] gaintable   = \"['self_2.pc\n",
       "HISTORY >al', 'self_ap.cal']\"                                                   \n",
       "HISTORY Thu May 26 21:59:16 2011  HISTORY applycal [] gainfield   = \"['']\"      \n",
       "HISTORY Thu May 26 21:59:16 2011  HISTORY applycal [] interp      = \"['linear']\"\n",
       "HISTORY Thu May 26 21:59:16 2011  HISTORY applycal [] spwmap      = []          \n",
       "HISTORY Thu May 26 21:59:16 2011  HISTORY applycal [] calwt       = False       \n",
       "HISTORY Thu May 26 21:59:16 2011  HISTORY applycal [] gaincurve   = False       \n",
       "HISTORY Thu May 26 21:59:16 2011  HISTORY applycal [] opacity     = 0.0         \n",
       "HISTORY Fri May 27 14:46:25 2011  HISTORY calibrater::setdata [Beginning selectv\n",
       "HISTORY >is--(MSSelection version)-------, chanmode=none nchan=1 start=0 step=1 \n",
       "HISTORY >Start='0km/s' mStep='0km/s' msSelect='']                               \n",
       "HISTORY Fri May 27 14:46:26 2011  HISTORY calibrater::correct [] Beginning corre\n",
       "HISTORY >ct---------------------------                                          \n",
       "HISTORY Fri May 27 14:49:55 2011  HISTORY applycal [] taskname = applycal       \n",
       "HISTORY Fri May 27 14:49:55 2011  HISTORY applycal [] vis         = \"TWHydra_cor\n",
       "HISTORY >rected.ms\"                                                             \n",
       "HISTORY Fri May 27 14:49:55 2011  HISTORY applycal [] msselect    = \"\"          \n",
       "HISTORY Fri May 27 14:49:55 2011  HISTORY applycal [] gaintable   = \"['self_2.pc\n",
       "HISTORY >al', 'self_ap.cal']\"                                                   \n",
       "HISTORY Fri May 27 14:49:55 2011  HISTORY applycal [] gainfield   = \"['']\"      \n",
       "HISTORY Fri May 27 14:49:55 2011  HISTORY applycal [] interp      = \"['linear']\"\n",
       "HISTORY Fri May 27 14:49:55 2011  HISTORY applycal [] spwmap      = []          \n",
       "HISTORY Fri May 27 14:49:55 2011  HISTORY applycal [] calwt       = False       \n",
       "HISTORY Fri May 27 14:49:55 2011  HISTORY applycal [] gaincurve   = False       \n",
       "HISTORY Fri May 27 14:49:55 2011  HISTORY applycal [] opacity     = 0.0         \n",
       "HISTORY Fri May 27 14:55:23 2011  HISTORY ms::split() [fieldids= spwids=2 step=[\n",
       "HISTORY >1] which='corrected'] TWHydra_CO3_2.ms split from /export/data_1/data_2\n",
       "HISTORY >SV_data/test_TWHydra_may24/TWHydra_corrected.ms                        \n",
       "HISTORY Fri May 27 14:55:23 2011  HISTORY split [] taskname=split               \n",
       "HISTORY Fri May 27 14:55:23 2011  HISTORY split [] vis         = \"TWHydra_correc\n",
       "HISTORY >ted.ms\"                                                                \n",
       "HISTORY Fri May 27 14:55:23 2011  HISTORY split [] outputvis   = \"TWHydra_CO3_2.\n",
       "HISTORY >ms\"                                                                    \n",
       "HISTORY Fri May 27 14:55:24 2011  HISTORY split [] datacolumn  = \"corrected\"    \n",
       "HISTORY Fri May 27 14:55:24 2011  HISTORY split [] field       = \"\"             \n",
       "HISTORY Fri May 27 14:55:24 2011  HISTORY split [] spw         = \"2\"            \n",
       "HISTORY Fri May 27 14:55:24 2011  HISTORY split [] width       = 1              \n",
       "HISTORY Fri May 27 14:55:24 2011  HISTORY split [] antenna     = \"\"             \n",
       "HISTORY Fri May 27 14:55:24 2011  HISTORY split [] timebin     = \"0.0s\"         \n",
       "HISTORY Fri May 27 14:55:24 2011  HISTORY split [] timerange   = \"\"             \n",
       "HISTORY Fri May 27 14:55:24 2011  HISTORY split [] scan        = \"\"             \n",
       "HISTORY Fri May 27 14:55:24 2011  HISTORY split [] array       = \"\"             \n",
       "HISTORY Fri May 27 14:55:24 2011  HISTORY split [] uvrange     = \"\"             \n",
       "HISTORY Fri May 27 14:55:24 2011  HISTORY split [] correlation = \"\"             \n",
       "HISTORY Fri May 27 14:55:24 2011  HISTORY split [] combine     = \"\"             \n",
       "HISTORY Fri May 27 14:55:24 2011  HISTORY split [] keepflags   = True           \n",
       "HISTORY Fri May 27 15:28:58 2011  HISTORY calibrater::setdata [Beginning selectv\n",
       "HISTORY >is--(MSSelection version)-------, chanmode=none nchan=1 start=0 step=1 \n",
       "HISTORY >Start='0km/s' mStep='0km/s' msSelect='']                               \n",
       "HISTORY Fri May 27 15:29:02 2011  HISTORY calibrater::solve [] Beginning solve--\n",
       "HISTORY >---------------------------                                            \n",
       "HISTORY Fri May 27 15:31:11 2011  HISTORY calibrater::setdata [Beginning selectv\n",
       "HISTORY >is--(MSSelection version)-------, chanmode=none nchan=1 start=0 step=1 \n",
       "HISTORY >Start='0km/s' mStep='0km/s' msSelect='']                               \n",
       "HISTORY Fri May 27 15:31:12 2011  HISTORY calibrater::correct [] Beginning corre\n",
       "HISTORY >ct---------------------------                                          \n",
       "HISTORY Fri May 27 15:37:15 2011  HISTORY ms::split() [fieldids= spwids=* step=[\n",
       "HISTORY >1] which='corrected'] TWHydra_CO3_2.ms.contsub split from /export/data_\n",
       "HISTORY >/data_2/SV_data/test_TWHydra_may24/TWHydra_CO3_2.ms.contsubxS1huJ      \n",
       "HISTORY Fri May 27 15:37:15 2011  HISTORY uvcontsub2 [] taskname = uvcontsub2   \n",
       "HISTORY Fri May 27 15:37:15 2011  HISTORY uvcontsub2 [] vis       = TWHydra_CO3_\n",
       "HISTORY >2.ms                                                                   \n",
       "HISTORY Fri May 27 15:37:15 2011  HISTORY uvcontsub2 [] field     = \"\"          \n",
       "HISTORY Fri May 27 15:37:15 2011  HISTORY uvcontsub2 [] fitspw    = \"0:20~2000,0\n",
       "HISTORY >:2400~3800\"                                                            \n",
       "HISTORY Fri May 27 15:37:15 2011  HISTORY uvcontsub2 [] solint    = int         \n",
       "HISTORY Fri May 27 15:37:15 2011  HISTORY uvcontsub2 [] fitorder  = 1           \n",
       "HISTORY Fri May 27 15:37:16 2011  HISTORY uvcontsub2 [] spw       = \"\"          \n",
       "HISTORY Fri May 27 15:37:16 2011  HISTORY uvcontsub2 [] want_cont = False       \n",
       "HISTORY Fri May 27 16:15:09 2011  HISTORY imager::data selection [mode=none ncha\n",
       "HISTORY >n=[-1] start=[0] step=[1] mstart='Radialvelocity: 0' mstep='Radialveloc\n",
       "HISTORY >ty: 0' spectralwindowids=[] fieldids=[] msselect=]                     \n",
       "HISTORY Fri May 27 16:15:13 2011  HISTORY imager::defineimage() [Defining image \n",
       "HISTORY > properties:nx=100 ny=100 cellx='0.3arcsec' celly='0.3arcsec' stokes=I'\n",
       "HISTORY > mode=RADIOVELOCITY nchan=118 start=-1 step=0 spwids=[-1] fieldid=0 fac\n",
       "HISTORY >ts=1 frame=1 distance='0',  phaseCenter='field-0 ' mStart='Radialveloci\n",
       "HISTORY >y: -4000' qStep='0.12 km/s'' mFreqStart='Frequency: 0]                 \n",
       "HISTORY Fri May 27 16:15:15 2011  HISTORY imager::data selection [mode=none ncha\n",
       "HISTORY >n=[-1] start=[0] step=[1] mstart='Radialvelocity: 0' mstep='Radialveloc\n",
       "HISTORY >ty: 0' spectralwindowids=[] fieldids=[] msselect=]                     \n",
       "HISTORY Fri May 27 16:15:16 2011  HISTORY imager::data selection [mode=none ncha\n",
       "HISTORY >n=[-1] start=[0] step=[1] mstart='Radialvelocity: 0' mstep='Radialveloc\n",
       "HISTORY >ty: 0' spectralwindowids=[] fieldids=[] msselect=]                     \n",
       "HISTORY Fri May 27 16:15:16 2011  HISTORY imager::weight() [] Weighting MS: Imag\n",
       "HISTORY >ing weights will be changed                                            \n",
       "HISTORY Fri May 27 16:15:16 2011  HISTORY imager::weight() [] Briggs weighting: \n",
       "HISTORY > sidelobes will be suppressed over full image                          \n",
       "HISTORY Fri May 27 16:15:23 2011  HISTORY imager::clean() [] Using multifield Cl\n",
       "HISTORY >ark clean                                                              \n",
       "HISTORY Fri May 27 16:15:23 2011  HISTORY imager::clean() [] Clean gain = 0.1, N\n",
       "HISTORY >iter = 0, Threshold = 1 mJy                                            \n",
       "HISTORY Fri May 27 16:15:23 2011  HISTORY imager::clean() [] Continuing deconvol\n",
       "HISTORY >ution                                                                  \n",
       "HISTORY Fri May 27 16:16:48 2011  HISTORY imager::clean() [] Threshhold not reac\n",
       "HISTORY >hed yet.                                                               \n",
       "HISTORY Fri May 27 16:16:48 2011  HISTORY imager::clean() [] Fitted beam used in\n",
       "HISTORY > restoration: 1.68065 by 1.53193 (arcsec) at pa 22.3015 (deg)          \n",
       "HISTORY Fri May 27 16:17:45 2011  HISTORY imager::clean() [] Clean gain = 0.1, N\n",
       "HISTORY >iter = 500, Threshold = 1 mJy                                          \n",
       "HISTORY Fri May 27 16:17:45 2011  HISTORY imager::clean() [] Starting deconvolut\n",
       "HISTORY >ion                                                                    \n",
       "HISTORY Fri May 27 16:23:21 2011  HISTORY imager::clean() [] Threshhold not reac\n",
       "HISTORY >hed yet.                                                               \n",
       "HISTORY Fri May 27 16:23:21 2011  HISTORY imager::clean() [] Beam used in restor\n",
       "HISTORY >ation: 1.68065 by 1.53193 (arcsec) at pa 22.3015 (deg)                 \n",
       "HISTORY Fri May 27 16:26:42 2011  HISTORY imager::clean() [] Clean gain = 0.1, N\n",
       "HISTORY >iter = 300, Threshold = 1 mJy                                          \n",
       "HISTORY Fri May 27 16:26:42 2011  HISTORY imager::clean() [] Continuing deconvol\n",
       "HISTORY >ution                                                                  \n",
       "HISTORY Fri May 27 16:28:52 2011  HISTORY imager::clean() [] Threshhold not reac\n",
       "HISTORY >hed yet.                                                               \n",
       "HISTORY Fri May 27 17:35:52 2011  HISTORY imager::clean() [] Clean gain = 0.1, N\n",
       "HISTORY >iter = 300, Threshold = 1 mJy                                          \n",
       "HISTORY Fri May 27 17:35:52 2011  HISTORY imager::clean() [] Continuing deconvol\n",
       "HISTORY >ution                                                                  \n",
       "HISTORY Fri May 27 17:37:10 2011  HISTORY imager::clean() [] Threshhold not reac\n",
       "HISTORY >hed yet.                                                               \n",
       "HISTORY CASA END LOGTABLE                                                       "
      ]
     },
     "execution_count": 5,
     "metadata": {},
     "output_type": "execute_result"
    }
   ],
   "source": [
    "twhydra_cube.meta"
   ]
  },
  {
   "cell_type": "markdown",
   "metadata": {},
   "source": [
    "### Quick Look\n",
    "You can take a quick look to the data by computing the zeroth moment:\n",
    "$$ M_0 = \\sum_i I_i $$\n",
    "and its integrated spectra."
   ]
  },
  {
   "cell_type": "code",
   "execution_count": 6,
   "metadata": {
    "collapsed": false
   },
   "outputs": [
    {
     "data": {
      "image/png": "[encoded data removed]",
      "text/plain": [
       "<matplotlib.figure.Figure at 0x7f8b04639780>"
      ]
     },
     "metadata": {},
     "output_type": "display_data"
    }
   ],
   "source": [
    "twhydra_m0 = aca.moment0(twhydra_cube)\n",
    "aca.visualize(twhydra_m0)\n",
    "plt.show()"
   ]
  },
  {
   "cell_type": "code",
   "execution_count": 9,
   "metadata": {
    "collapsed": false,
    "scrolled": false
   },
   "outputs": [
    {
     "data": {
      "image/png": "[encoded data removed]",
      "text/plain": [
       "<matplotlib.figure.Figure at 0x7f8b04637080>"
      ]
     },
     "metadata": {},
     "output_type": "display_data"
    }
   ],
   "source": [
    "def show_spectra(cube):\n",
    "    spec = aca.spectra(cube)\n",
    "    vels = aca.spectral_velocities(cube)\n",
    "    plt.plot(spec)\n",
    "    plt.ylabel('Flux ['+str(cube.unit)+']')\n",
    "    plt.xlabel('Velocity [Km/s] ')\n",
    "\n",
    "    \n",
    "    \n",
    "show_spectra(twhydra_cube)\n",
    "plt.show()"
   ]
  },
  {
   "cell_type": "markdown",
   "metadata": {},
   "source": [
    "## Interactivity"
   ]
  },
  {
   "cell_type": "code",
   "execution_count": 10,
   "metadata": {
    "collapsed": false
   },
   "outputs": [
    {
     "ename": "AttributeError",
     "evalue": "'float' object has no attribute 'value'",
     "output_type": "error",
     "traceback": [
      "\u001b[0;31m---------------------------------------------------------------------------\u001b[0m",
      "\u001b[0;31mAttributeError\u001b[0m                            Traceback (most recent call last)",
      "\u001b[0;32m<ipython-input-10-0c63edd1482b>\u001b[0m in \u001b[0;36minteractive_denoising\u001b[0;34m(threshold)\u001b[0m\n\u001b[1;32m      2\u001b[0m \u001b[0;34m\u001b[0m\u001b[0m\n\u001b[1;32m      3\u001b[0m \u001b[0;32mdef\u001b[0m \u001b[0minteractive_denoising\u001b[0m\u001b[0;34m(\u001b[0m\u001b[0mthreshold\u001b[0m\u001b[0;34m=\u001b[0m\u001b[0;36m0.0\u001b[0m\u001b[0;34m)\u001b[0m\u001b[0;34m:\u001b[0m\u001b[0;34m\u001b[0m\u001b[0m\n\u001b[0;32m----> 4\u001b[0;31m     \u001b[0mdencube\u001b[0m\u001b[0;34m=\u001b[0m\u001b[0maca\u001b[0m\u001b[0;34m.\u001b[0m\u001b[0mdenoise\u001b[0m\u001b[0;34m(\u001b[0m\u001b[0mtwhydra_cube\u001b[0m\u001b[0;34m,\u001b[0m\u001b[0mthreshold\u001b[0m\u001b[0;34m=\u001b[0m\u001b[0mthreshold\u001b[0m\u001b[0;34m)\u001b[0m\u001b[0;34m\u001b[0m\u001b[0m\n\u001b[0m\u001b[1;32m      5\u001b[0m     \u001b[0mshow_spectra\u001b[0m\u001b[0;34m(\u001b[0m\u001b[0mdencube\u001b[0m\u001b[0;34m)\u001b[0m\u001b[0;34m\u001b[0m\u001b[0m\n\u001b[1;32m      6\u001b[0m     \u001b[0mplt\u001b[0m\u001b[0;34m.\u001b[0m\u001b[0mshow\u001b[0m\u001b[0;34m(\u001b[0m\u001b[0;34m)\u001b[0m\u001b[0;34m\u001b[0m\u001b[0m\n",
      "\u001b[0;32m/home/mauricio/anaconda3/envs/astro3.5/lib/python3.5/site-packages/astropy/utils/decorators.py\u001b[0m in \u001b[0;36mdenoise\u001b[0;34m(data, wcs, mask, unit, threshold)\u001b[0m\n\u001b[1;32m    634\u001b[0m             \u001b[0mname\u001b[0m \u001b[0;34m=\u001b[0m \u001b[0mfunc\u001b[0m\u001b[0;34m.\u001b[0m\u001b[0m__name__\u001b[0m\u001b[0;34m\u001b[0m\u001b[0m\n\u001b[1;32m    635\u001b[0m \u001b[0;34m\u001b[0m\u001b[0m\n\u001b[0;32m--> 636\u001b[0;31m         \u001b[0mfunc\u001b[0m \u001b[0;34m=\u001b[0m \u001b[0mmake_function_with_signature\u001b[0m\u001b[0;34m(\u001b[0m\u001b[0mfunc\u001b[0m\u001b[0;34m,\u001b[0m \u001b[0mname\u001b[0m\u001b[0;34m=\u001b[0m\u001b[0mname\u001b[0m\u001b[0;34m,\u001b[0m \u001b[0;34m**\u001b[0m\u001b[0mwrapped_args\u001b[0m\u001b[0;34m)\u001b[0m\u001b[0;34m\u001b[0m\u001b[0m\n\u001b[0m\u001b[1;32m    637\u001b[0m         func = functools.update_wrapper(func, wrapped, assigned=assigned,\n\u001b[1;32m    638\u001b[0m                                         updated=updated)\n",
      "\u001b[0;32m/home/mauricio/anaconda3/envs/astro3.5/lib/python3.5/site-packages/astropy/nddata/decorators.py\u001b[0m in \u001b[0;36mwrapper\u001b[0;34m(data, *args, **kwargs)\u001b[0m\n\u001b[1;32m    136\u001b[0m                 \u001b[0mdata\u001b[0m \u001b[0;34m=\u001b[0m \u001b[0mdata\u001b[0m\u001b[0;34m.\u001b[0m\u001b[0mdata\u001b[0m\u001b[0;34m\u001b[0m\u001b[0m\n\u001b[1;32m    137\u001b[0m \u001b[0;34m\u001b[0m\u001b[0m\n\u001b[0;32m--> 138\u001b[0;31m             \u001b[0mresult\u001b[0m \u001b[0;34m=\u001b[0m \u001b[0mfunc\u001b[0m\u001b[0;34m(\u001b[0m\u001b[0mdata\u001b[0m\u001b[0;34m,\u001b[0m \u001b[0;34m*\u001b[0m\u001b[0margs\u001b[0m\u001b[0;34m,\u001b[0m \u001b[0;34m**\u001b[0m\u001b[0mkwargs\u001b[0m\u001b[0;34m)\u001b[0m\u001b[0;34m\u001b[0m\u001b[0m\n\u001b[0m\u001b[1;32m    139\u001b[0m \u001b[0;34m\u001b[0m\u001b[0m\n\u001b[1;32m    140\u001b[0m             \u001b[0;32mif\u001b[0m \u001b[0munpack\u001b[0m\u001b[0;34m:\u001b[0m\u001b[0;34m\u001b[0m\u001b[0m\n",
      "\u001b[0;32m/home/mauricio/anaconda3/envs/astro3.5/lib/python3.5/site-packages/acalib-0.1.0-py3.5.egg/acalib/upi/flux.py\u001b[0m in \u001b[0;36mdenoise\u001b[0;34m(data, wcs, mask, unit, threshold)\u001b[0m\n\u001b[1;32m    142\u001b[0m         \u001b[0;34m-\u001b[0m\u001b[0;34m-\u001b[0m\u001b[0;34m-\u001b[0m\u001b[0;34m-\u001b[0m\u001b[0;34m-\u001b[0m\u001b[0;34m-\u001b[0m\u001b[0;34m-\u001b[0m\u001b[0;34m\u001b[0m\u001b[0m\n\u001b[1;32m    143\u001b[0m     \"\"\"\n\u001b[0;32m--> 144\u001b[0;31m     \u001b[0mnewdata\u001b[0m \u001b[0;34m=\u001b[0m \u001b[0mcore\u001b[0m\u001b[0;34m.\u001b[0m\u001b[0mdenoise\u001b[0m\u001b[0;34m(\u001b[0m\u001b[0mdata\u001b[0m\u001b[0;34m,\u001b[0m \u001b[0mthreshold\u001b[0m\u001b[0;34m.\u001b[0m\u001b[0mvalue\u001b[0m\u001b[0;34m)\u001b[0m\u001b[0;34m\u001b[0m\u001b[0m\n\u001b[0m\u001b[1;32m    145\u001b[0m     \u001b[0;32mreturn\u001b[0m \u001b[0mNDData\u001b[0m\u001b[0;34m(\u001b[0m\u001b[0mnewdata\u001b[0m\u001b[0;34m,\u001b[0m \u001b[0muncertainty\u001b[0m\u001b[0;34m=\u001b[0m\u001b[0;32mNone\u001b[0m\u001b[0;34m,\u001b[0m \u001b[0mmask\u001b[0m\u001b[0;34m=\u001b[0m\u001b[0mmask\u001b[0m\u001b[0;34m,\u001b[0m \u001b[0mwcs\u001b[0m\u001b[0;34m=\u001b[0m\u001b[0mwcs\u001b[0m\u001b[0;34m,\u001b[0m \u001b[0mmeta\u001b[0m\u001b[0;34m=\u001b[0m\u001b[0;32mNone\u001b[0m\u001b[0;34m,\u001b[0m \u001b[0munit\u001b[0m\u001b[0;34m=\u001b[0m\u001b[0munit\u001b[0m\u001b[0;34m)\u001b[0m\u001b[0;34m\u001b[0m\u001b[0m\n\u001b[1;32m    146\u001b[0m \u001b[0;34m\u001b[0m\u001b[0m\n",
      "\u001b[0;31mAttributeError\u001b[0m: 'float' object has no attribute 'value'"
     ]
    },
    {
     "data": {
      "text/plain": [
       "<function __main__.interactive_denoising>"
      ]
     },
     "execution_count": 10,
     "metadata": {},
     "output_type": "execute_result"
    }
   ],
   "source": [
    "from ipywidgets import interact\n",
    "\n",
    "def interactive_denoising(threshold=0.0):\n",
    "    dencube=aca.denoise(twhydra_cube,threshold=threshold)\n",
    "    show_spectra(dencube)\n",
    "    plt.show()\n",
    "\n",
    "mmax = twhydra_cube.data.max()\n",
    "mmin = twhydra_cube.data.min()\n",
    "print(mmax,mmin)\n",
    "interact(interactive_denoising,threshold=(mmin,mmax))"
   ]
  },
  {
   "cell_type": "code",
   "execution_count": null,
   "metadata": {
    "collapsed": false
   },
   "outputs": [],
   "source": [
    "ra_max   = twhydra_cube.meta['NAXIS1']\n",
    "dec_max  = twhydra_cube.meta['NAXIS2']\n",
    "spec_max = twhydra_cube.meta['NAXIS3']\n",
    "\n",
    "def cut_and_show(rlow=0,rhigh=ra_max,\n",
    "                 dlow=0,dhigh=dec_max,\n",
    "                 slow=0,shigh=spec_max,\n",
    "                 threshold=0.0):\n",
    "    # Cut the cube\n",
    "    lower       = [slow,dlow,rlow]\n",
    "    upper       = [shigh,dhigh,rhigh]\n",
    "    tcube       = aca.cut(twhydra_cube,lower=lower,upper=upper)\n",
    "    tcube       = aca.denoise(tcube,threshold=threshold)\n",
    "    # Diplay\n",
    "    plt.figure()\n",
    "    plt.subplot(2,3,1)\n",
    "    plt.imshow(tcube.data.sum(axis=(0)),origin='lower')\n",
    "    plt.subplot(2,3,2)\n",
    "    plt.imshow(tcube.data.sum(axis=(1)),origin='lower')\n",
    "    plt.subplot(2,3,3)\n",
    "    plt.imshow(tcube.data.sum(axis=(2)),origin='lower')\n",
    "    plt.subplot(2,1,2)\n",
    "    show_spectra(tcube)\n",
    "    plt.show()\n",
    "\n",
    "res=interact(cut_and_show,\n",
    "             rlow=(0,ra_max), rhigh=(0,ra_max),\n",
    "             dlow=(0,dec_max),dhigh=(0,dec_max),\n",
    "             slow=(0,spec_max),shigh=(0,spec_max),\n",
    "             threshold=(mmin,mmax))"
   ]
  },
  {
   "cell_type": "code",
   "execution_count": null,
   "metadata": {
    "collapsed": false
   },
   "outputs": [],
   "source": [
    "limits = res.widget.kwargs\n",
    "limits"
   ]
  },
  {
   "cell_type": "code",
   "execution_count": null,
   "metadata": {
    "collapsed": false,
    "scrolled": true
   },
   "outputs": [],
   "source": [
    "lower        = [limits['slow'],limits['dlow'],limits['rlow']]\n",
    "upper       = [limits['shigh'],limits['dhigh'],limits['rhigh']]\n",
    "twhydra_crop = aca.cut(twhydra_cube,lower=lower,upper=upper)\n",
    "print(\"MOMENT 0\")\n",
    "aca.visualize(aca.moment0(twhydra_crop),contour=True)\n",
    "plt.show()\n",
    "print(\"MOMENT 1\")\n",
    "(stcrop,a,b) = aca.standarize(twhydra_crop)\n",
    "aca.visualize(aca.moment1(stcrop),contour=True)\n",
    "plt.show()"
   ]
  },
  {
   "cell_type": "markdown",
   "metadata": {},
   "source": [
    "## 3.- Analysis\n",
    "First let us standarize the data"
   ]
  },
  {
   "cell_type": "code",
   "execution_count": null,
   "metadata": {
    "collapsed": false
   },
   "outputs": [],
   "source": [
    "(twhydra_cube,a,b) = aca.standarize(twhydra_cube)\n",
    "lower        = [limits['slow'],limits['dlow'],limits['rlow']]\n",
    "upper       = [limits['shigh'],limits['dhigh'],limits['rhigh']]\n",
    "twhydra_crop = aca.cut(twhydra_cube,lower=lower,upper=upper)\n",
    "mmax = twhydra_cube.data.max()\n",
    "mmin = twhydra_cube.data.min()\n",
    "(a,b)"
   ]
  },
  {
   "cell_type": "code",
   "execution_count": null,
   "metadata": {
    "collapsed": false
   },
   "outputs": [],
   "source": [
    "res_noise=interact(cut_and_show,\n",
    "             rlow=(0,ra_max), rhigh=(0,ra_max),\n",
    "             dlow=(0,dec_max),dhigh=(0,dec_max),\n",
    "             slow=(0,spec_max),shigh=(0,spec_max), \n",
    "             threshold=(mmin,mmax))"
   ]
  },
  {
   "cell_type": "code",
   "execution_count": null,
   "metadata": {
    "collapsed": false
   },
   "outputs": [],
   "source": [
    "limits = res_noise.widget.kwargs\n",
    "lower        = [limits['slow'],limits['dlow'],limits['rlow']]\n",
    "upper       = [limits['shigh'],limits['dhigh'],limits['rhigh']]\n",
    "noise_crop = aca.cut(twhydra_cube,lower=lower,upper=upper)\n",
    "myrms=aca.rms(noise_crop.data)\n",
    "myrms"
   ]
  },
  {
   "cell_type": "markdown",
   "metadata": {},
   "source": [
    "## Obtain the PHR!"
   ]
  },
  {
   "cell_type": "code",
   "execution_count": null,
   "metadata": {
    "collapsed": false
   },
   "outputs": [],
   "source": [
    "(rep,syn,res)=aca.core.scatpix_detect(twhydra_crop.data,threshold=3.0*myrms,noise=myrms,full_output=True)\n",
    "print(len(rep))\n",
    "print(res.size)"
   ]
  },
  {
   "cell_type": "code",
   "execution_count": null,
   "metadata": {
    "collapsed": false
   },
   "outputs": [],
   "source": [
    "plt.figure()\n",
    "syn2D=syn.sum(axis=(0))\n",
    "vm=syn2D.max()\n",
    "plt.subplot(121)\n",
    "plt.imshow(syn2D,vmin=0,vmax=vm,origin='lower')\n",
    "plt.subplot(122)\n",
    "plt.imshow(res.sum(axis=(0)),vmin=0,vmax=vm,origin='lower')\n",
    "plt.colorbar()\n",
    "plt.show()"
   ]
  },
  {
   "cell_type": "code",
   "execution_count": null,
   "metadata": {
    "collapsed": false
   },
   "outputs": [],
   "source": [
    "from sompy.sompy import SOMFactory\n",
    "newRep=rep['center'].data\n",
    "sm = SOMFactory().build(newRep, normalization = 'var', initialization='pca')\n",
    "sm.train(n_job=1, verbose=False, train_rough_len=30, train_finetune_len=30)"
   ]
  },
  {
   "cell_type": "code",
   "execution_count": null,
   "metadata": {
    "collapsed": false
   },
   "outputs": [],
   "source": [
    "sm.codebook.matrix"
   ]
  },
  {
   "cell_type": "code",
   "execution_count": null,
   "metadata": {
    "collapsed": false
   },
   "outputs": [],
   "source": [
    "%matplotlib notebook\n",
    "from mpl_toolkits.mplot3d import Axes3D\n",
    "def show_manifold(sm):\n",
    "    cbook=sm.codebook.matrix\n",
    "    fig=plt.figure()\n",
    "    ax = fig.add_subplot(111, projection='3d')\n",
    "    ax.scatter(cbook[:,0],cbook[:,1], cbook[:,2],c=cbook[:,0])#, c=c, marker=m)\n",
    "    for cb,dm_elm in zip(cbook,sm._distance_matrix):\n",
    "        conn=(dm_elm==1).nonzero()\n",
    "        for idx in conn[0]:\n",
    "            ot=cbook[idx]\n",
    "            ax.plot([cb[0],ot[0]],[cb[1],ot[1]],[cb[2],ot[2]],color = 'Grey',alpha=0.5)\n",
    "    plt.show()\n",
    "show_manifold(sm)"
   ]
  },
  {
   "cell_type": "markdown",
   "metadata": {},
   "source": [
    "## 4.- M100"
   ]
  },
  {
   "cell_type": "code",
   "execution_count": null,
   "metadata": {
    "collapsed": true
   },
   "outputs": [],
   "source": [
    "%matplotlib inline\n",
    "# Extract File\n",
    "download_extract_and_move(m100_url,m100_file)\n",
    "# Load Fileinline\n",
    "hdulist = fits.open(DOWNLOADS_DIR+'/'+m100_file)\n",
    "m100_cube    = aca.HDU_to_NDData(hdulist[0])"
   ]
  },
  {
   "cell_type": "code",
   "execution_count": null,
   "metadata": {
    "collapsed": false
   },
   "outputs": [],
   "source": [
    "m100_cube.meta"
   ]
  },
  {
   "cell_type": "code",
   "execution_count": null,
   "metadata": {
    "collapsed": false
   },
   "outputs": [],
   "source": [
    "(ext1,ext2)=aca.extent(m100_cube)\n",
    "ext1"
   ]
  },
  {
   "cell_type": "code",
   "execution_count": null,
   "metadata": {
    "collapsed": false
   },
   "outputs": [],
   "source": [
    "ext2"
   ]
  },
  {
   "cell_type": "code",
   "execution_count": null,
   "metadata": {
    "collapsed": false
   },
   "outputs": [],
   "source": [
    "cent=aca.center(m100_cube)\n",
    "cent"
   ]
  },
  {
   "cell_type": "code",
   "execution_count": null,
   "metadata": {
    "collapsed": false
   },
   "outputs": [],
   "source": [
    "max_radius=(ext1[2]-cent[2])\n",
    "max_radius.value"
   ]
  },
  {
   "cell_type": "code",
   "execution_count": null,
   "metadata": {
    "collapsed": false
   },
   "outputs": [],
   "source": [
    "%matplotlib inline\n",
    "import aplpy\n",
    "from astropy import units as u\n",
    "from matplotlib.patches import Circle, Rectangle\n",
    "(m100_cube,a,b) = aca.standarize(m100_cube)\n",
    "m100_m0 = aca.moment0(m100_cube)\n",
    "\n",
    "\n",
    "def select_radius(radius=max_radius.value):\n",
    "    ax=plt.subplot(111,projection=m100_m0.wcs)\n",
    "    ax.imshow(m100_m0.data,origin='lower',cmap='Greys')\n",
    "    cc = Circle((cent[2].value,cent[1].value), radius=radius, edgecolor='green', facecolor='none',transform=ax.get_transform('fk5'))\n",
    "    ax.add_patch(cc)\n",
    "\n",
    "mycirc=interact(select_radius,radius=(0.0,max_radius.value,max_radius.value/1000))"
   ]
  },
  {
   "cell_type": "code",
   "execution_count": null,
   "metadata": {
    "collapsed": false
   },
   "outputs": [],
   "source": [
    "rad=mycirc.widget.kwargs['radius']\n",
    "rad=(rad*u.deg).to('arcsec')\n",
    "rad"
   ]
  },
  {
   "cell_type": "code",
   "execution_count": null,
   "metadata": {
    "collapsed": false
   },
   "outputs": [],
   "source": [
    "from astroquery import *\n",
    "from astropy import coordinates\n",
    "from astroquery.vizier import Vizier\n",
    "catalog_list = Vizier.find_catalogs(keywords=['allWISE'])\n",
    "for key,item in catalog_list.items():\n",
    "    print(key+\" : \"+item.description)"
   ]
  },
  {
   "cell_type": "code",
   "execution_count": null,
   "metadata": {
    "collapsed": false
   },
   "outputs": [],
   "source": [
    "pos=coordinates.SkyCoord(cent[2],cent[1])\n",
    "#print (fov*u.deg).to('arcsec')\n",
    "#print cen*u.deg\n",
    "tablist=Vizier.query_region(coordinates=pos,radius=rad)"
   ]
  },
  {
   "cell_type": "code",
   "execution_count": null,
   "metadata": {
    "collapsed": false
   },
   "outputs": [],
   "source": [
    "tablist"
   ]
  },
  {
   "cell_type": "code",
   "execution_count": null,
   "metadata": {
    "collapsed": false
   },
   "outputs": [],
   "source": [
    "atable=tablist['I/337/gaia']\n",
    "atable"
   ]
  },
  {
   "cell_type": "code",
   "execution_count": null,
   "metadata": {
    "collapsed": false
   },
   "outputs": [],
   "source": [
    "fig = aplpy.FITSFigure(aca.NDData_to_HDU(m100_m0))\n",
    "fig.show_grayscale()\n",
    "fig.show_markers(atable['_RAJ2000'],atable['_DEJ2000'])"
   ]
  },
  {
   "cell_type": "code",
   "execution_count": null,
   "metadata": {
    "collapsed": false
   },
   "outputs": [],
   "source": [
    "%matplotlib inline\n",
    "mside=(ext1[2] - ext2[2]).value\n",
    "oside=(ext2[1] - ext1[1]).value\n",
    "\n",
    "\n",
    "\n",
    "def select_noise(rside=mside/10.0,dside=oside/10.0,ra=cent[2].value,dec=cent[1].value,vini=ext1[0].value,vfin=ext2[0].value):\n",
    "    ax=plt.subplot(121,projection=m100_m0.wcs)\n",
    "    ax.imshow(m100_m0.data,origin='lower',cmap='Greys')\n",
    "    cc = Rectangle((ra-rside,dec-dside),2*rside,2*dside,edgecolor='green', facecolor='none',transform=ax.get_transform('fk5'))\n",
    "    ax.add_patch(cc)\n",
    "    ax2=plt.subplot(122)\n",
    "    ld=np.rint(m100_cube.wcs.wcs_world2pix([[ra-rside,dec-dside,vini]],0))\n",
    "    lu=np.rint(m100_cube.wcs.wcs_world2pix([[ra+rside,dec+dside,vfin]],0))\n",
    "    lower=np.array([ld,lu]).min(axis=0)[0]\n",
    "    upper=np.array([ld,lu]).max(axis=0)[0]\n",
    "    newcube=aca.cut(m100_cube,lower=lower[::-1],upper=upper[::-1])\n",
    "    show_spectra(newcube)\n",
    "    plt.show()\n",
    "\n",
    "\n",
    "myrect=interact(select_noise,\n",
    "                rside=(0.0,mside,mside/1000.0),\n",
    "                dside=(0.0,oside,oside/1000.0),\n",
    "                ra=(ext2[2].value,ext1[2].value,mside/1000.0),\n",
    "                dec=(ext1[1].value,ext2[1].value,oside/1000.0),\n",
    "                vini=(ext1[0].value,ext2[0].value),\n",
    "                vfin=(ext1[0].value,ext2[0].value))"
   ]
  },
  {
   "cell_type": "code",
   "execution_count": null,
   "metadata": {
    "collapsed": false
   },
   "outputs": [],
   "source": [
    "print(oside)\n"
   ]
  },
  {
   "cell_type": "code",
   "execution_count": null,
   "metadata": {
    "collapsed": true
   },
   "outputs": [],
   "source": []
  }
 ],
 "metadata": {
  "anaconda-cloud": {},
  "kernelspec": {
   "display_name": "Python [conda env:astro3.5]",
   "language": "python",
   "name": "conda-env-astro3.5-py"
  },
  "language_info": {
   "codemirror_mode": {
    "name": "ipython",
    "version": 3
   },
   "file_extension": ".py",
   "mimetype": "text/x-python",
   "name": "python",
   "nbconvert_exporter": "python",
   "pygments_lexer": "ipython3",
   "version": "3.5.1"
  },
  "widgets": {
   "state": {
    "4027924738524db19bbe9f4cb5109870": {
     "views": [
      {
       "cell_index": 20
      }
     ]
    },
    "4cb50c26de844f4e84398575bdd54f72": {
     "views": [
      {
       "cell_index": 14
      }
     ]
    },
    "7f780aaca4264602853fe5271e63dd1a": {
     "views": [
      {
       "cell_index": 15
      }
     ]
    }
   },
   "version": "1.2.0"
  }
 },
 "nbformat": 4,
 "nbformat_minor": 1
}

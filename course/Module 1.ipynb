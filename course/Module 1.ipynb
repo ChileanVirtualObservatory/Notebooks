{
 "cells": [
  {
   "cell_type": "markdown",
   "metadata": {},
   "source": [
    "# Module One: \n",
    "\n",
    "## 1.- Installation and Configuration\n",
    "\n",
    "The main idea of Jovial is to use Jupyter + Astropython as a web-service, not as an stand alone application.\n",
    "- \n",
    "\n",
    "\n",
    "* Download Anaconda (2.7)\n",
    "* Create a new environment\n",
    "``conda create --name sochias python``\n",
    "* Change to the environment\n",
    "``source activate sochias``\n",
    "* Install the required packages\n",
    "\n",
    "\n",
    "\n",
    "## 2.- Quick Dive into Python and Jupyter\n",
    "\n",
    "First of all, we asume that you know\n",
    "* Data types and structures\n",
    "* Object-oriented programming\n",
    "* Loops and conditionals in Python\n",
    "\n",
    "**Basic Python Facts**\n",
    "* Python is an interpreted programming language --> no need compilation\n",
    "* Python uses indentation blocks --> no brackets, good readability\n",
    "* Python is multi-paradigm --> imperative, object-oriented or functional programming\n",
    "\n",
    "**Basic Jupyter Facts**\n",
    "* IPython is an interactive Python console --> autocompletion, history, etc.\n",
    "* IPython Notebooks is the evolution of IPython --> embedded figures, markdown, latex code, etc.\n",
    "* Is the evolution of IPython Notebooks --> Web-based server\n",
    "\n",
    "### 2.1.- Markdown and Code Cells"
   ]
  },
  {
   "cell_type": "markdown",
   "metadata": {},
   "source": [
    "This is a markdown cell:\n",
    "* Bullets\n",
    "* Latex formulas: $\\int_a^b x dx$\n",
    "* [Links](http://www.google.cl)\n",
    "* Code: ``python setup.py``\n",
    "* Tables\n",
    "\n",
    "| **X** | **Y** |\n",
    "|-------|-------|\n",
    "| 3.145 | 2.34  |\n",
    "| 0.32  | 3     |"
   ]
  },
  {
   "cell_type": "code",
   "execution_count": 4,
   "metadata": {
    "collapsed": false
   },
   "outputs": [
    {
     "name": "stdout",
     "output_type": "stream",
     "text": [
      "[1, 2, 3, 4, 5]\n"
     ]
    },
    {
     "data": {
      "text/plain": [
       "[1, 4, 9, 16, 25]"
      ]
     },
     "execution_count": 4,
     "metadata": {},
     "output_type": "execute_result"
    }
   ],
   "source": [
    "# This is a code cell (python code)\n",
    "import math\n",
    "a = [1,2,3,4,5]\n",
    "b = []\n",
    "for i in a:\n",
    "    b.append(i*i)\n",
    "print(a)\n",
    "# The last line is returned as output of the cell\n",
    "b"
   ]
  },
  {
   "cell_type": "markdown",
   "metadata": {},
   "source": [
    "### 2.2.- Pythonic Stuff to Remember\n",
    "#### Types\n",
    "* __primitives__: built-in basic data type, like int, float, string, etc.\n",
    "* __objects__: everything that has attributes and methods."
   ]
  },
  {
   "cell_type": "markdown",
   "metadata": {},
   "source": [
    "#### Lists\n",
    "A collection of elements in an array __of any type__!"
   ]
  },
  {
   "cell_type": "code",
   "execution_count": 6,
   "metadata": {
    "collapsed": false
   },
   "outputs": [
    {
     "data": {
      "text/plain": [
       "[42, 42.0, '42']"
      ]
     },
     "execution_count": 6,
     "metadata": {},
     "output_type": "execute_result"
    }
   ],
   "source": [
    "lst = [42,42.0,\"42\"]\n",
    "lst"
   ]
  },
  {
   "cell_type": "markdown",
   "metadata": {},
   "source": [
    "#### Tuples\n",
    "like lists, but inmutables (i.e., cannot be changed). Any operation over tuples __creates a new tuple__"
   ]
  },
  {
   "cell_type": "code",
   "execution_count": 7,
   "metadata": {
    "collapsed": false
   },
   "outputs": [
    {
     "data": {
      "text/plain": [
       "(42, 42.0, 42)"
      ]
     },
     "execution_count": 7,
     "metadata": {},
     "output_type": "execute_result"
    }
   ],
   "source": [
    "tup = (42,42.0,42)\n",
    "tup"
   ]
  },
  {
   "cell_type": "code",
   "execution_count": 8,
   "metadata": {
    "collapsed": false
   },
   "outputs": [
    {
     "data": {
      "text/plain": [
       "[32, 42.0, '42']"
      ]
     },
     "execution_count": 8,
     "metadata": {},
     "output_type": "execute_result"
    }
   ],
   "source": [
    "lst[0]=32\n",
    "lst"
   ]
  },
  {
   "cell_type": "code",
   "execution_count": 9,
   "metadata": {
    "collapsed": false,
    "scrolled": true
   },
   "outputs": [
    {
     "ename": "TypeError",
     "evalue": "'tuple' object does not support item assignment",
     "output_type": "error",
     "traceback": [
      "\u001b[0;31m---------------------------------------------------------------------------\u001b[0m",
      "\u001b[0;31mTypeError\u001b[0m                                 Traceback (most recent call last)",
      "\u001b[0;32m<ipython-input-9-d3aaf690ddc6>\u001b[0m in \u001b[0;36m<module>\u001b[0;34m()\u001b[0m\n\u001b[0;32m----> 1\u001b[0;31m \u001b[0mtup\u001b[0m\u001b[0;34m[\u001b[0m\u001b[0;36m0\u001b[0m\u001b[0;34m]\u001b[0m\u001b[0;34m=\u001b[0m\u001b[0;36m32\u001b[0m\u001b[0;34m\u001b[0m\u001b[0m\n\u001b[0m\u001b[1;32m      2\u001b[0m \u001b[0mtup\u001b[0m\u001b[0;34m\u001b[0m\u001b[0m\n",
      "\u001b[0;31mTypeError\u001b[0m: 'tuple' object does not support item assignment"
     ]
    }
   ],
   "source": [
    "tup[0]=32\n",
    "tup"
   ]
  },
  {
   "cell_type": "markdown",
   "metadata": {},
   "source": [
    "#### Dictionaries\n",
    "Also known as keymaps, hashmaps, associative arrays or similar. Is a list, where every element has a __key__ associated with it"
   ]
  },
  {
   "cell_type": "code",
   "execution_count": 67,
   "metadata": {
    "collapsed": false
   },
   "outputs": [
    {
     "name": "stdout",
     "output_type": "stream",
     "text": [
      "1\n",
      "2.5\n"
     ]
    }
   ],
   "source": [
    "dt ={'uno':1,'dos':2,'dos y medio':2.5,'tres':3}\n",
    "print(dt['uno'])\n",
    "print(dt['dos y medio'])"
   ]
  },
  {
   "cell_type": "markdown",
   "metadata": {},
   "source": [
    "### 2.3.- Imports\n",
    "Imports do not import the code of a library, but the namespace of it and a few initialization."
   ]
  },
  {
   "cell_type": "code",
   "execution_count": 72,
   "metadata": {
    "collapsed": false
   },
   "outputs": [
    {
     "name": "stdout",
     "output_type": "stream",
     "text": [
      "True\n"
     ]
    },
    {
     "data": {
      "text/plain": [
       "True"
      ]
     },
     "execution_count": 72,
     "metadata": {},
     "output_type": "execute_result"
    }
   ],
   "source": [
    "# Original Namespace Import\n",
    "import numpy\n",
    "a = numpy.array([1,2,3,4])\n",
    "\n",
    "# Renaming Namespace Import\n",
    "import numpy as np\n",
    "b = np.array([1,2,3,4])\n",
    "\n",
    "# Namespace Inclusion Import\n",
    "from numpy import *\n",
    "c = array([1,2,3,4])\n",
    "\n",
    "print(np.array_equal(a,b))\n",
    "np.array_equal(a,c)\n"
   ]
  },
  {
   "cell_type": "code",
   "execution_count": 1,
   "metadata": {
    "collapsed": false
   },
   "outputs": [
    {
     "name": "stdout",
     "output_type": "stream",
     "text": [
      "/home/mauricio/anaconda3/bin/jupyter\r\n"
     ]
    }
   ],
   "source": []
  },
  {
   "cell_type": "code",
   "execution_count": null,
   "metadata": {
    "collapsed": true
   },
   "outputs": [],
   "source": []
  }
 ],
 "metadata": {
  "anaconda-cloud": {},
  "kernelspec": {
   "display_name": "Python [default]",
   "language": "python",
   "name": "python3"
  },
  "language_info": {
   "codemirror_mode": {
    "name": "ipython",
    "version": 3
   },
   "file_extension": ".py",
   "mimetype": "text/x-python",
   "name": "python",
   "nbconvert_exporter": "python",
   "pygments_lexer": "ipython3",
   "version": "3.5.2"
  }
 },
 "nbformat": 4,
 "nbformat_minor": 1
}

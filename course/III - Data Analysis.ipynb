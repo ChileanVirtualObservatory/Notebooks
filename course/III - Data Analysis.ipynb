{
 "cells": [
  {
   "cell_type": "markdown",
   "metadata": {},
   "source": [
    "# III - Data Analysis"
   ]
  },
  {
   "cell_type": "code",
   "execution_count": 9,
   "metadata": {
    "collapsed": false
   },
   "outputs": [
    {
     "ename": "AttributeError",
     "evalue": "'PrimaryHDU' object has no attribute 'meta'",
     "output_type": "error",
     "traceback": [
      "\u001b[0;31m---------------------------------------------------------------------------\u001b[0m",
      "\u001b[0;31mAttributeError\u001b[0m                            Traceback (most recent call last)",
      "\u001b[0;32m<ipython-input-9-d7ab53fc597e>\u001b[0m in \u001b[0;36m<module>\u001b[0;34m()\u001b[0m\n\u001b[0;32m----> 1\u001b[0;31m \u001b[0mra_max\u001b[0m   \u001b[0;34m=\u001b[0m \u001b[0mtwhydra_cube\u001b[0m\u001b[0;34m.\u001b[0m\u001b[0mmeta\u001b[0m\u001b[0;34m[\u001b[0m\u001b[0;34m'NAXIS1'\u001b[0m\u001b[0;34m]\u001b[0m\u001b[0;34m\u001b[0m\u001b[0m\n\u001b[0m\u001b[1;32m      2\u001b[0m \u001b[0mdec_max\u001b[0m  \u001b[0;34m=\u001b[0m \u001b[0mtwhydra_cube\u001b[0m\u001b[0;34m.\u001b[0m\u001b[0mmeta\u001b[0m\u001b[0;34m[\u001b[0m\u001b[0;34m'NAXIS2'\u001b[0m\u001b[0;34m]\u001b[0m\u001b[0;34m\u001b[0m\u001b[0m\n\u001b[1;32m      3\u001b[0m \u001b[0mspec_max\u001b[0m \u001b[0;34m=\u001b[0m \u001b[0mtwhydra_cube\u001b[0m\u001b[0;34m.\u001b[0m\u001b[0mmeta\u001b[0m\u001b[0;34m[\u001b[0m\u001b[0;34m'NAXIS3'\u001b[0m\u001b[0;34m]\u001b[0m\u001b[0;34m\u001b[0m\u001b[0m\n\u001b[1;32m      4\u001b[0m \u001b[0;34m\u001b[0m\u001b[0m\n\u001b[1;32m      5\u001b[0m def cut_and_show(rlow=0,rhigh=ra_max,\n",
      "\u001b[0;31mAttributeError\u001b[0m: 'PrimaryHDU' object has no attribute 'meta'"
     ]
    }
   ],
   "source": [
    "ra_max   = twhydra_cube.meta['NAXIS1']\n",
    "dec_max  = twhydra_cube.meta['NAXIS2']\n",
    "spec_max = twhydra_cube.meta['NAXIS3']\n",
    "\n",
    "def cut_and_show(rlow=0,rhigh=ra_max,\n",
    "                 dlow=0,dhigh=dec_max,\n",
    "                 slow=0,shigh=spec_max,\n",
    "                 threshold=0.0):\n",
    "    # Cut the cube\n",
    "    lower       = [slow,dlow,rlow]\n",
    "    upper       = [shigh,dhigh,rhigh]\n",
    "    tcube       = aca.cut(twhydra_cube,lower=lower,upper=upper)\n",
    "    tcube       = aca.denoise(tcube,threshold=threshold)\n",
    "    # Diplay\n",
    "    plt.figure()\n",
    "    plt.subplot(2,3,1)\n",
    "    plt.imshow(tcube.data.sum(axis=(0)),origin='lower')\n",
    "    plt.subplot(2,3,2)\n",
    "    plt.imshow(tcube.data.sum(axis=(1)),origin='lower')\n",
    "    plt.subplot(2,3,3)\n",
    "    plt.imshow(tcube.data.sum(axis=(2)),origin='lower')\n",
    "    plt.subplot(2,1,2)\n",
    "    show_spectra(tcube)\n",
    "    plt.show()\n",
    "\n",
    "res=interact(cut_and_show,\n",
    "             rlow=(0,ra_max), rhigh=(0,ra_max),\n",
    "             dlow=(0,dec_max),dhigh=(0,dec_max),\n",
    "             slow=(0,spec_max),shigh=(0,spec_max),\n",
    "             threshold=(mmin,mmax))"
   ]
  },
  {
   "cell_type": "code",
   "execution_count": null,
   "metadata": {
    "collapsed": false,
    "scrolled": true
   },
   "outputs": [],
   "source": [
    "lower        = [limits['slow'],limits['dlow'],limits['rlow']]\n",
    "upper       = [limits['shigh'],limits['dhigh'],limits['rhigh']]\n",
    "twhydra_crop = aca.cut(twhydra_cube,lower=lower,upper=upper)\n",
    "print(\"MOMENT 0\")\n",
    "aca.visualize(aca.moment0(twhydra_crop),contour=True)\n",
    "plt.show()\n",
    "print(\"MOMENT 1\")\n",
    "(stcrop,a,b) = aca.standarize(twhydra_crop)\n",
    "aca.visualize(aca.moment1(stcrop),contour=True)\n",
    "plt.show()"
   ]
  },
  {
   "cell_type": "markdown",
   "metadata": {},
   "source": [
    "## 3.- Analysis\n",
    "First let us standarize the data"
   ]
  },
  {
   "cell_type": "code",
   "execution_count": null,
   "metadata": {
    "collapsed": false
   },
   "outputs": [],
   "source": [
    "(twhydra_cube,a,b) = aca.standarize(twhydra_cube)\n",
    "lower        = [limits['slow'],limits['dlow'],limits['rlow']]\n",
    "upper       = [limits['shigh'],limits['dhigh'],limits['rhigh']]\n",
    "twhydra_crop = aca.cut(twhydra_cube,lower=lower,upper=upper)\n",
    "mmax = twhydra_cube.data.max()\n",
    "mmin = twhydra_cube.data.min()\n",
    "(a,b)"
   ]
  },
  {
   "cell_type": "code",
   "execution_count": null,
   "metadata": {
    "collapsed": false
   },
   "outputs": [],
   "source": [
    "res_noise=interact(cut_and_show,\n",
    "             rlow=(0,ra_max), rhigh=(0,ra_max),\n",
    "             dlow=(0,dec_max),dhigh=(0,dec_max),\n",
    "             slow=(0,spec_max),shigh=(0,spec_max), \n",
    "             threshold=(mmin,mmax))"
   ]
  },
  {
   "cell_type": "code",
   "execution_count": null,
   "metadata": {
    "collapsed": false
   },
   "outputs": [],
   "source": [
    "limits = res_noise.widget.kwargs\n",
    "lower        = [limits['slow'],limits['dlow'],limits['rlow']]\n",
    "upper       = [limits['shigh'],limits['dhigh'],limits['rhigh']]\n",
    "noise_crop = aca.cut(twhydra_cube,lower=lower,upper=upper)\n",
    "myrms=aca.rms(noise_crop.data)\n",
    "myrms"
   ]
  },
  {
   "cell_type": "markdown",
   "metadata": {},
   "source": [
    "## Obtain the PHR!"
   ]
  },
  {
   "cell_type": "code",
   "execution_count": null,
   "metadata": {
    "collapsed": false
   },
   "outputs": [],
   "source": [
    "(rep,syn,res)=aca.core.scatpix_detect(twhydra_crop.data,threshold=3.0*myrms,noise=myrms,full_output=True)\n",
    "print(len(rep))\n",
    "print(res.size)"
   ]
  },
  {
   "cell_type": "code",
   "execution_count": null,
   "metadata": {
    "collapsed": false
   },
   "outputs": [],
   "source": [
    "plt.figure()\n",
    "syn2D=syn.sum(axis=(0))\n",
    "vm=syn2D.max()\n",
    "plt.subplot(121)\n",
    "plt.imshow(syn2D,vmin=0,vmax=vm,origin='lower')\n",
    "plt.subplot(122)\n",
    "plt.imshow(res.sum(axis=(0)),vmin=0,vmax=vm,origin='lower')\n",
    "plt.colorbar()\n",
    "plt.show()"
   ]
  },
  {
   "cell_type": "code",
   "execution_count": null,
   "metadata": {
    "collapsed": false
   },
   "outputs": [],
   "source": [
    "from sompy.sompy import SOMFactory\n",
    "newRep=rep['center'].data\n",
    "sm = SOMFactory().build(newRep, normalization = 'var', initialization='pca')\n",
    "sm.train(n_job=1, verbose=False, train_rough_len=30, train_finetune_len=30)"
   ]
  },
  {
   "cell_type": "code",
   "execution_count": null,
   "metadata": {
    "collapsed": false
   },
   "outputs": [],
   "source": [
    "sm.codebook.matrix"
   ]
  },
  {
   "cell_type": "code",
   "execution_count": null,
   "metadata": {
    "collapsed": false
   },
   "outputs": [],
   "source": [
    "%matplotlib notebook\n",
    "from mpl_toolkits.mplot3d import Axes3D\n",
    "def show_manifold(sm):\n",
    "    cbook=sm.codebook.matrix\n",
    "    fig=plt.figure()\n",
    "    ax = fig.add_subplot(111, projection='3d')\n",
    "    ax.scatter(cbook[:,0],cbook[:,1], cbook[:,2],c=cbook[:,0])#, c=c, marker=m)\n",
    "    for cb,dm_elm in zip(cbook,sm._distance_matrix):\n",
    "        conn=(dm_elm==1).nonzero()\n",
    "        for idx in conn[0]:\n",
    "            ot=cbook[idx]\n",
    "            ax.plot([cb[0],ot[0]],[cb[1],ot[1]],[cb[2],ot[2]],color = 'Grey',alpha=0.5)\n",
    "    plt.show()\n",
    "show_manifold(sm)"
   ]
  },
  {
   "cell_type": "markdown",
   "metadata": {},
   "source": [
    "## 4.- M100"
   ]
  },
  {
   "cell_type": "code",
   "execution_count": null,
   "metadata": {
    "collapsed": true
   },
   "outputs": [],
   "source": [
    "%matplotlib inline\n",
    "# Extract File\n",
    "download_extract_and_move(m100_url,m100_file)\n",
    "# Load Fileinline\n",
    "hdulist = fits.open(DOWNLOADS_DIR+'/'+m100_file)\n",
    "m100_cube    = aca.HDU_to_NDData(hdulist[0])"
   ]
  },
  {
   "cell_type": "code",
   "execution_count": null,
   "metadata": {
    "collapsed": false
   },
   "outputs": [],
   "source": [
    "m100_cube.meta"
   ]
  },
  {
   "cell_type": "code",
   "execution_count": null,
   "metadata": {
    "collapsed": false
   },
   "outputs": [],
   "source": [
    "(ext1,ext2)=aca.extent(m100_cube)\n",
    "ext1"
   ]
  },
  {
   "cell_type": "code",
   "execution_count": null,
   "metadata": {
    "collapsed": false
   },
   "outputs": [],
   "source": [
    "ext2"
   ]
  },
  {
   "cell_type": "code",
   "execution_count": null,
   "metadata": {
    "collapsed": false
   },
   "outputs": [],
   "source": [
    "cent=aca.center(m100_cube)\n",
    "cent"
   ]
  },
  {
   "cell_type": "code",
   "execution_count": null,
   "metadata": {
    "collapsed": false
   },
   "outputs": [],
   "source": [
    "max_radius=(ext1[2]-cent[2])\n",
    "max_radius.value"
   ]
  },
  {
   "cell_type": "code",
   "execution_count": null,
   "metadata": {
    "collapsed": false
   },
   "outputs": [],
   "source": [
    "%matplotlib inline\n",
    "import aplpy\n",
    "from astropy import units as u\n",
    "from matplotlib.patches import Circle, Rectangle\n",
    "(m100_cube,a,b) = aca.standarize(m100_cube)\n",
    "m100_m0 = aca.moment0(m100_cube)\n",
    "\n",
    "\n",
    "def select_radius(radius=max_radius.value):\n",
    "    ax=plt.subplot(111,projection=m100_m0.wcs)\n",
    "    ax.imshow(m100_m0.data,origin='lower',cmap='Greys')\n",
    "    cc = Circle((cent[2].value,cent[1].value), radius=radius, edgecolor='green', facecolor='none',transform=ax.get_transform('fk5'))\n",
    "    ax.add_patch(cc)\n",
    "\n",
    "mycirc=interact(select_radius,radius=(0.0,max_radius.value,max_radius.value/1000))"
   ]
  },
  {
   "cell_type": "code",
   "execution_count": null,
   "metadata": {
    "collapsed": false
   },
   "outputs": [],
   "source": [
    "rad=mycirc.widget.kwargs['radius']\n",
    "rad=(rad*u.deg).to('arcsec')\n",
    "rad"
   ]
  },
  {
   "cell_type": "code",
   "execution_count": null,
   "metadata": {
    "collapsed": false
   },
   "outputs": [],
   "source": [
    "from astroquery import *\n",
    "from astropy import coordinates\n",
    "from astroquery.vizier import Vizier\n",
    "catalog_list = Vizier.find_catalogs(keywords=['allWISE'])\n",
    "for key,item in catalog_list.items():\n",
    "    print(key+\" : \"+item.description)"
   ]
  },
  {
   "cell_type": "code",
   "execution_count": null,
   "metadata": {
    "collapsed": false
   },
   "outputs": [],
   "source": [
    "pos=coordinates.SkyCoord(cent[2],cent[1])\n",
    "#print (fov*u.deg).to('arcsec')\n",
    "#print cen*u.deg\n",
    "tablist=Vizier.query_region(coordinates=pos,radius=rad)"
   ]
  },
  {
   "cell_type": "code",
   "execution_count": null,
   "metadata": {
    "collapsed": false
   },
   "outputs": [],
   "source": [
    "tablist"
   ]
  },
  {
   "cell_type": "code",
   "execution_count": null,
   "metadata": {
    "collapsed": false
   },
   "outputs": [],
   "source": [
    "atable=tablist['I/337/gaia']\n",
    "atable"
   ]
  },
  {
   "cell_type": "code",
   "execution_count": null,
   "metadata": {
    "collapsed": false
   },
   "outputs": [],
   "source": [
    "fig = aplpy.FITSFigure(aca.NDData_to_HDU(m100_m0))\n",
    "fig.show_grayscale()\n",
    "fig.show_markers(atable['_RAJ2000'],atable['_DEJ2000'])"
   ]
  },
  {
   "cell_type": "code",
   "execution_count": null,
   "metadata": {
    "collapsed": false
   },
   "outputs": [],
   "source": [
    "%matplotlib inline\n",
    "mside=(ext1[2] - ext2[2]).value\n",
    "oside=(ext2[1] - ext1[1]).value\n",
    "\n",
    "\n",
    "\n",
    "def select_noise(rside=mside/10.0,dside=oside/10.0,ra=cent[2].value,dec=cent[1].value,vini=ext1[0].value,vfin=ext2[0].value):\n",
    "    ax=plt.subplot(121,projection=m100_m0.wcs)\n",
    "    ax.imshow(m100_m0.data,origin='lower',cmap='Greys')\n",
    "    cc = Rectangle((ra-rside,dec-dside),2*rside,2*dside,edgecolor='green', facecolor='none',transform=ax.get_transform('fk5'))\n",
    "    ax.add_patch(cc)\n",
    "    ax2=plt.subplot(122)\n",
    "    ld=np.rint(m100_cube.wcs.wcs_world2pix([[ra-rside,dec-dside,vini]],0))\n",
    "    lu=np.rint(m100_cube.wcs.wcs_world2pix([[ra+rside,dec+dside,vfin]],0))\n",
    "    lower=np.array([ld,lu]).min(axis=0)[0]\n",
    "    upper=np.array([ld,lu]).max(axis=0)[0]\n",
    "    newcube=aca.cut(m100_cube,lower=lower[::-1],upper=upper[::-1])\n",
    "    show_spectra(newcube)\n",
    "    plt.show()\n",
    "\n",
    "\n",
    "myrect=interact(select_noise,\n",
    "                rside=(0.0,mside,mside/1000.0),\n",
    "                dside=(0.0,oside,oside/1000.0),\n",
    "                ra=(ext2[2].value,ext1[2].value,mside/1000.0),\n",
    "                dec=(ext1[1].value,ext2[1].value,oside/1000.0),\n",
    "                vini=(ext1[0].value,ext2[0].value),\n",
    "                vfin=(ext1[0].value,ext2[0].value))"
   ]
  },
  {
   "cell_type": "code",
   "execution_count": null,
   "metadata": {
    "collapsed": false
   },
   "outputs": [],
   "source": [
    "print(oside)\n"
   ]
  },
  {
   "cell_type": "code",
   "execution_count": null,
   "metadata": {
    "collapsed": true
   },
   "outputs": [],
   "source": [
    "twhydra_cube    = aca.HDU_to_NDData(hdulist[0])"
   ]
  }
 ],
 "metadata": {
  "anaconda-cloud": {},
  "kernelspec": {
   "display_name": "Python [conda env:jupyter]",
   "language": "python",
   "name": "conda-env-jupyter-py"
  },
  "language_info": {
   "codemirror_mode": {
    "name": "ipython",
    "version": 3
   },
   "file_extension": ".py",
   "mimetype": "text/x-python",
   "name": "python",
   "nbconvert_exporter": "python",
   "pygments_lexer": "ipython3",
   "version": "3.5.1"
  }
 },
 "nbformat": 4,
 "nbformat_minor": 1
}
